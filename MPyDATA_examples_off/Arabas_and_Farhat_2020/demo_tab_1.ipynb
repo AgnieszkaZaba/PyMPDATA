{
 "cells": [
  {
   "cell_type": "code",
   "execution_count": 6,
   "metadata": {},
   "outputs": [],
   "source": [
    "# license: GPL v3\n",
    "# authors: Sylwester Arabas, Michael Olesik, Piotr Bartman\n",
    "# copyright: Jagiellonian University\n",
    "# based on Tab. 1 from Arabas & Farhat 2020 (https://doi.org/10.1016/j.cam.2019.05.023)"
   ]
  },
  {
   "cell_type": "code",
   "execution_count": 1,
   "metadata": {},
   "outputs": [],
   "source": [
    "%run _demo_common.ipynb"
   ]
  },
  {
   "cell_type": "code",
   "execution_count": 2,
   "metadata": {},
   "outputs": [],
   "source": [
    "from MPyDATA_examples.Arabas_and_Farhat_2020.analysis_table_1 import table_1_data\n",
    "from IPython.core.display import display, HTML"
   ]
  },
  {
   "cell_type": "code",
   "execution_count": 3,
   "metadata": {},
   "outputs": [],
   "source": [
    "data = table_1_data()"
   ]
  },
  {
   "cell_type": "code",
   "execution_count": 4,
   "metadata": {},
   "outputs": [],
   "source": [
    "br = \"style='border-right: thin solid;'\"\n",
    "html = \"<table>\"\n",
    "html += \"<tr>\"\n",
    "html += f\"  <td colspan=2 {br}></td>\"\n",
    "html += \"  <td>C≈0.02</td>\"\n",
    "html += \"  <td>C≈0.01</td>\"\n",
    "html += f\"  <td {br} colspan=2>C≈0.005</td>\"\n",
    "html += \"  <td colspan=2></td>\"\n",
    "html += \"</tr>\"\n",
    "html += \"<tr style='border-bottom: thin solid;'>\"\n",
    "html += \"  <td>T</td>\"\n",
    "html += f\"  <td {br}>S<sub>0</sub></td>\"\n",
    "html += \"  <td>log<sub>2</sub>(E)</td>\" * 3\n",
    "html += f\"  <td {br}>f(S<sub>0</sub>,0)</td>\"\n",
    "html += \"  <td>BS93</td>\"\n",
    "html += \"  <td>European</td>\"\n",
    "html += \"</tr>\"\n",
    "last_T = None\n",
    "for row in data:\n",
    "    html += \"<tr>\"\n",
    "    for col in range(len(row)):\n",
    "        html += f\"<td {br if col in (1, 5) else ''}>\"\n",
    "        if col == 0:\n",
    "            if last_T != row[0]:\n",
    "                html += f\"{row[col]:.2f}\"\n",
    "                last_T = row[0]\n",
    "        elif col == 1:\n",
    "            html += f\"{row[col]}\"\n",
    "        elif col < 5:\n",
    "            html += f\"{row[col]:.1f}\"\n",
    "        else:\n",
    "            html += f\"{row[col]:.3f}\"\n",
    "        html += \"</td>\"\n",
    "    html += \"</tr>\"\n",
    "html += \"</table>\""
   ]
  },
  {
   "cell_type": "code",
   "execution_count": 5,
   "metadata": {},
   "outputs": [
    {
     "data": {
      "text/html": [
       "<table><tr>  <td colspan=2 style='border-right: thin solid;'></td>  <td>C≈0.02</td>  <td>C≈0.01</td>  <td style='border-right: thin solid;' colspan=2>C≈0.005</td>  <td colspan=2></td></tr><tr style='border-bottom: thin solid;'>  <td>T</td>  <td style='border-right: thin solid;'>S<sub>0</sub></td>  <td>log<sub>2</sub>(E)</td>  <td>log<sub>2</sub>(E)</td>  <td>log<sub>2</sub>(E)</td>  <td style='border-right: thin solid;'>f(S<sub>0</sub>,0)</td>  <td>BS93</td>  <td>European</td></tr><tr><td >0.25</td><td style='border-right: thin solid;'>80</td><td >-9.3</td><td >-10.3</td><td >-11.3</td><td style='border-right: thin solid;'>20.000</td><td >20.000</td><td >18.089</td></tr><tr><td ></td><td style='border-right: thin solid;'>90</td><td >-8.9</td><td >-10.2</td><td >-11.3</td><td style='border-right: thin solid;'>10.037</td><td >10.011</td><td >9.045</td></tr><tr><td ></td><td style='border-right: thin solid;'>100</td><td >-8.9</td><td >-10.2</td><td >-11.3</td><td style='border-right: thin solid;'>3.226</td><td >3.162</td><td >3.037</td></tr><tr><td ></td><td style='border-right: thin solid;'>110</td><td >-9.1</td><td >-10.3</td><td >-11.3</td><td style='border-right: thin solid;'>0.665</td><td >0.649</td><td >0.640</td></tr><tr><td ></td><td style='border-right: thin solid;'>120</td><td >-9.3</td><td >-10.3</td><td >-11.3</td><td style='border-right: thin solid;'>0.088</td><td >0.087</td><td >0.086</td></tr><tr><td >0.50</td><td style='border-right: thin solid;'>80</td><td >-9.5</td><td >-10.4</td><td >-11.4</td><td style='border-right: thin solid;'>20.000</td><td >20.000</td><td >16.648</td></tr><tr><td ></td><td style='border-right: thin solid;'>90</td><td >-9.2</td><td >-10.4</td><td >-11.4</td><td style='border-right: thin solid;'>10.291</td><td >10.240</td><td >8.834</td></tr><tr><td ></td><td style='border-right: thin solid;'>100</td><td >-9.2</td><td >-10.3</td><td >-11.4</td><td style='border-right: thin solid;'>4.192</td><td >4.109</td><td >3.785</td></tr><tr><td ></td><td style='border-right: thin solid;'>110</td><td >-9.3</td><td >-10.4</td><td >-11.4</td><td style='border-right: thin solid;'>1.411</td><td >1.372</td><td >1.312</td></tr><tr><td ></td><td style='border-right: thin solid;'>120</td><td >-9.4</td><td >-10.4</td><td >-11.4</td><td style='border-right: thin solid;'>0.397</td><td >0.385</td><td >0.376</td></tr><tr><td >3.00</td><td style='border-right: thin solid;'>80</td><td >-11.6</td><td >-12.3</td><td >-13.2</td><td style='border-right: thin solid;'>20.000</td><td >20.000</td><td >10.253</td></tr><tr><td ></td><td style='border-right: thin solid;'>90</td><td >-11.7</td><td >-12.3</td><td >-13.2</td><td style='border-right: thin solid;'>11.697</td><td >11.668</td><td >6.783</td></tr><tr><td ></td><td style='border-right: thin solid;'>100</td><td >-11.6</td><td >-12.3</td><td >-13.2</td><td style='border-right: thin solid;'>6.932</td><td >6.896</td><td >4.406</td></tr><tr><td ></td><td style='border-right: thin solid;'>110</td><td >-11.7</td><td >-12.3</td><td >-13.2</td><td style='border-right: thin solid;'>4.154</td><td >4.118</td><td >2.826</td></tr><tr><td ></td><td style='border-right: thin solid;'>120</td><td >-11.6</td><td >-12.3</td><td >-13.2</td><td style='border-right: thin solid;'>2.510</td><td >2.478</td><td >1.797</td></tr></table>"
      ],
      "text/plain": [
       "<IPython.core.display.HTML object>"
      ]
     },
     "metadata": {},
     "output_type": "display_data"
    }
   ],
   "source": [
    "display(HTML(html))"
   ]
  },
  {
   "cell_type": "code",
   "execution_count": null,
   "metadata": {},
   "outputs": [],
   "source": []
  }
 ],
 "metadata": {
  "kernelspec": {
   "display_name": "Python 3",
   "language": "python",
   "name": "python3"
  },
  "language_info": {
   "codemirror_mode": {
    "name": "ipython",
    "version": 3
   },
   "file_extension": ".py",
   "mimetype": "text/x-python",
   "name": "python",
   "nbconvert_exporter": "python",
   "pygments_lexer": "ipython3",
   "version": "3.7.6"
  },
  "pycharm": {
   "stem_cell": {
    "cell_type": "raw",
    "metadata": {
     "collapsed": false
    },
    "source": []
   }
  }
 },
 "nbformat": 4,
 "nbformat_minor": 2
}
