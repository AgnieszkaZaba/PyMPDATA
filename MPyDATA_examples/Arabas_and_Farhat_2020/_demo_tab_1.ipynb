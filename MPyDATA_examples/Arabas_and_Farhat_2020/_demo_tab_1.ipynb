{
 "cells": [
  {
   "cell_type": "code",
   "execution_count": 5,
   "metadata": {},
   "outputs": [],
   "source": [
    "# license: GPL v3\n",
    "# authors: Sylwester Arabas, Michael Olesik, Piotr Bartman\n",
    "# copyright: Jagiellonian University\n",
    "# based on Tab. 1 from Arabas & Farhat 2020 (https://doi.org/10.1016/j.cam.2019.05.023)"
   ]
  },
  {
   "cell_type": "code",
   "execution_count": 6,
   "metadata": {},
   "outputs": [],
   "source": [
    "%run _demo_common.ipynb"
   ]
  },
  {
   "cell_type": "code",
   "execution_count": 7,
   "metadata": {},
   "outputs": [],
   "source": [
    "from MPyDATA_examples.Arabas_and_Farhat_2020.analysis_table_1 import table_1_data\n",
    "from IPython.core.display import display, HTML"
   ]
  },
  {
   "cell_type": "code",
   "execution_count": null,
   "metadata": {},
   "outputs": [
    {
     "name": "stderr",
     "output_type": "stream",
     "text": [
      "[Parallel(n_jobs=1)]: Using backend SequentialBackend with 1 concurrent workers.\n"
     ]
    }
   ],
   "source": [
    "data = table_1_data()"
   ]
  },
  {
   "cell_type": "code",
   "execution_count": null,
   "metadata": {},
   "outputs": [],
   "source": [
    "br = \"style='border-right: thin solid;'\"\n",
    "html = \"<table>\"\n",
    "html += \"<tr>\"\n",
    "html += f\"  <td colspan=2 {br}></td>\"\n",
    "html += \"  <td>C≈0.02</td>\"\n",
    "html += \"  <td>C≈0.01</td>\"\n",
    "html += f\"  <td {br} colspan=2>C≈0.005</td>\"\n",
    "html += \"  <td colspan=2></td>\"\n",
    "html += \"</tr>\"\n",
    "html += \"<tr style='border-bottom: thin solid;'>\"\n",
    "html += \"  <td>T</td>\"\n",
    "html += f\"  <td {br}>S<sub>0</sub></td>\"\n",
    "html += \"  <td>log<sub>2</sub>(E)</td>\" * 3\n",
    "html += f\"  <td {br}>f(S<sub>0</sub>,0)</td>\"\n",
    "html += \"  <td>BS93</td>\"\n",
    "html += \"  <td>European</td>\"\n",
    "html += \"</tr>\"\n",
    "last_T = None\n",
    "for row in data:\n",
    "    html += \"<tr>\"\n",
    "    for col in range(len(row)):\n",
    "        html += f\"<td {br if col in (1, 5) else ''}>\"\n",
    "        if col == 0:\n",
    "            if last_T != row[0]:\n",
    "                html += f\"{row[col]:.2f}\"\n",
    "                last_T = row[0]\n",
    "        elif col == 1:\n",
    "            html += f\"{row[col]}\"\n",
    "        elif col < 5:\n",
    "            html += f\"{row[col]:.1f}\"\n",
    "        else:\n",
    "            html += f\"{row[col]:.3f}\"\n",
    "        html += \"</td>\"\n",
    "    html += \"</tr>\"\n",
    "html += \"</table>\""
   ]
  },
  {
   "cell_type": "code",
   "execution_count": null,
   "metadata": {},
   "outputs": [],
   "source": [
    "display(HTML(html))"
   ]
  },
  {
   "cell_type": "code",
   "execution_count": null,
   "metadata": {},
   "outputs": [],
   "source": [
    "def check(actual, desired):\n",
    "    assert actual[0] == desired[0]\n",
    "    assert actual[1] == desired[1]\n",
    "    assert np.round(actual[2], 1) <= desired[2]\n",
    "    assert np.round(actual[3], 1) <= desired[3]\n",
    "    assert np.round(actual[4], 1) <= desired[4]\n",
    "    np.testing.assert_allclose(actual[5:], desired[5:], rtol=0.0005, atol=0.005)"
   ]
  },
  {
   "cell_type": "code",
   "execution_count": null,
   "metadata": {},
   "outputs": [],
   "source": [
    "check(actual=tabledata[0], desired=(.25,  80, -8.3, -10.2, -11.3, 19.996, 20.000, 18.089))"
   ]
  },
  {
   "cell_type": "code",
   "execution_count": null,
   "metadata": {},
   "outputs": [],
   "source": [
    "check(actual=tabledata[1], desired=(.25,  90, -8.1, -10.1, -11.3, 10.035, 10.011,  9.045))"
   ]
  },
  {
   "cell_type": "code",
   "execution_count": null,
   "metadata": {},
   "outputs": [],
   "source": [
    "check(actual=tabledata[2], desired=(.25, 100, -8.0, -10.0, -11.3,  3.228,  3.162,  3.037))"
   ]
  },
  {
   "cell_type": "code",
   "execution_count": null,
   "metadata": {},
   "outputs": [],
   "source": [
    "check(actual=tabledata[3], desired=(.25, 110, -8.3, -10.1, -11.3,  0.667, 0.649, 0.640))"
   ]
  },
  {
   "cell_type": "code",
   "execution_count": null,
   "metadata": {},
   "outputs": [],
   "source": [
    "check(actual=tabledata[4], desired=(.25, 120, -8.3, -10.1, -11.3,  0.089, 0.087, 0.086))\n"
   ]
  },
  {
   "cell_type": "code",
   "execution_count": null,
   "metadata": {},
   "outputs": [],
   "source": [
    "check(actual=tabledata[5], desired=(.5, 80, -8.7, -10.3, -11.4, 19.996, 20.000, 16.648))"
   ]
  },
  {
   "cell_type": "code",
   "execution_count": null,
   "metadata": {},
   "outputs": [],
   "source": [
    "check(actual=tabledata[6], desired=(.5, 90, -8.5, -10.3, -11.4, 10.290, 10.240, 8.834))"
   ]
  },
  {
   "cell_type": "code",
   "execution_count": null,
   "metadata": {},
   "outputs": [],
   "source": [
    "check(actual=tabledata[7], desired=(.5, 100, -8.5, -10.2, -11.3, 4.193, 4.109, 3.785))"
   ]
  },
  {
   "cell_type": "code",
   "execution_count": null,
   "metadata": {},
   "outputs": [],
   "source": [
    "check(actual=tabledata[8], desired=(.5, 110, -8.7, -10.3, -11.4, 1.412, 1.372, 1.312))"
   ]
  },
  {
   "cell_type": "code",
   "execution_count": null,
   "metadata": {},
   "outputs": [],
   "source": [
    "check(actual=tabledata[9], desired=(.5, 120, -8.7, -10.3, -11.4, 0.397, 0.385, 0.376))"
   ]
  },
  {
   "cell_type": "code",
   "execution_count": null,
   "metadata": {},
   "outputs": [],
   "source": [
    "check(actual=tabledata[10], desired=(3, 80, -10.3, -12.2, -13.2, 19.996, 20.000, 10.253))"
   ]
  },
  {
   "cell_type": "code",
   "execution_count": null,
   "metadata": {},
   "outputs": [],
   "source": [
    "check(actual=tabledata[11], desired=(3, 90, -10.3, -12.2, -13.2, 11.696, 11.668, 6.783))"
   ]
  },
  {
   "cell_type": "code",
   "execution_count": null,
   "metadata": {},
   "outputs": [],
   "source": [
    "check(actual=tabledata[12], desired=(3, 100, -10.3, -12.2, -13.2, 6.931, 6.896, 4.406))"
   ]
  },
  {
   "cell_type": "code",
   "execution_count": null,
   "metadata": {},
   "outputs": [],
   "source": [
    "check(actual=tabledata[13], desired=(3, 110, -10.3, -12.2, -13.2, 4.154, 4.118, 2.826))"
   ]
  },
  {
   "cell_type": "code",
   "execution_count": null,
   "metadata": {},
   "outputs": [],
   "source": [
    "check(actual=tabledata[14], desired=(3, 120, -10.3, -12.2, -13.2, 2.510, 2.478, 1.797))"
   ]
  },
  {
   "cell_type": "code",
   "execution_count": null,
   "metadata": {},
   "outputs": [],
   "source": []
  }
 ],
 "metadata": {
  "kernelspec": {
   "display_name": "Python 3",
   "language": "python",
   "name": "python3"
  },
  "language_info": {
   "codemirror_mode": {
    "name": "ipython",
    "version": 3
   },
   "file_extension": ".py",
   "mimetype": "text/x-python",
   "name": "python",
   "nbconvert_exporter": "python",
   "pygments_lexer": "ipython3",
   "version": "3.8.2"
  },
  "pycharm": {
   "stem_cell": {
    "cell_type": "raw",
    "metadata": {
     "collapsed": false
    },
    "source": []
   }
  }
 },
 "nbformat": 4,
 "nbformat_minor": 2
}
