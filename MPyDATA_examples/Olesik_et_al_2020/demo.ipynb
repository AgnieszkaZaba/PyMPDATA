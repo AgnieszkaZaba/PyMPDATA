{
 "cells": [
  {
   "cell_type": "code",
   "execution_count": 1,
   "metadata": {},
   "outputs": [],
   "source": [
    "import sys\n",
    "sys.path.insert(0, \"../..\")"
   ]
  },
  {
   "cell_type": "code",
   "execution_count": 2,
   "metadata": {},
   "outputs": [],
   "source": [
    "from MPyDATA_examples.Olesik_et_al_2020.analysis import compute_figure_data\n",
    "from MPyDATA_examples.Olesik_et_al_2020.physics.equilibrium_drop_growth import PdfEvolver\n",
    "from MPyDATA_examples.Olesik_et_al_2020.plotter import Plotter\n",
    "from MPyDATA_examples.Olesik_et_al_2020.convergence import convergence_in_time, convergence_in_space\n",
    "from MPyDATA_examples.Olesik_et_al_2020.coord import n_n, n_s\n",
    "from MPyDATA_examples.utils.error_norms import L2\n",
    "from MPyDATA_examples.utils.show_plot import show_plot\n",
    "\n",
    "import matplotlib.pyplot as plt\n",
    "import numpy as np"
   ]
  },
  {
   "cell_type": "code",
   "execution_count": 3,
   "metadata": {},
   "outputs": [
    {
     "name": "stdout",
     "output_type": "stream",
     "text": [
      "0.002000000000000076 0.0500000000000019\n",
      "7.692307692307984e-05 0.001923076923076996\n",
      "0.014912038429431252 0.37280096073578123\n"
     ]
    }
   ],
   "source": [
    "results, setup = compute_figure_data()"
   ]
  },
  {
   "cell_type": "code",
   "execution_count": 5,
   "metadata": {},
   "outputs": [
    {
     "name": "stdout",
     "output_type": "stream",
     "text": [
      "coord: x_id\n"
     ]
    },
    {
     "data": {
      "application/vnd.jupyter.widget-view+json": {
       "model_id": "44909ef2be3d4fccb3bfbb57d077e7a0",
       "version_major": 2,
       "version_minor": 0
      },
      "text/plain": [
       "VBox(children=(Output(), HTML(value=\"<a href='../utils/output\\\\tmpestuo95b.pdf' target='_blank'>../utils/outpu…"
      ]
     },
     "metadata": {},
     "output_type": "display_data"
    },
    {
     "name": "stdout",
     "output_type": "stream",
     "text": [
      "coord: x_p2\n"
     ]
    },
    {
     "data": {
      "application/vnd.jupyter.widget-view+json": {
       "model_id": "bbd73ca669954754a0605a0a8a923b10",
       "version_major": 2,
       "version_minor": 0
      },
      "text/plain": [
       "VBox(children=(Output(), HTML(value=\"<a href='../utils/output\\\\tmpk31pk33j.pdf' target='_blank'>../utils/outpu…"
      ]
     },
     "metadata": {},
     "output_type": "display_data"
    },
    {
     "name": "stdout",
     "output_type": "stream",
     "text": [
      "coord: x_ln\n"
     ]
    },
    {
     "data": {
      "application/vnd.jupyter.widget-view+json": {
       "model_id": "ded3bb2512c0494f86ac9b5a1dab0880",
       "version_major": 2,
       "version_minor": 0
      },
      "text/plain": [
       "VBox(children=(Output(), HTML(value=\"<a href='../utils/output\\\\tmpokz2csrb.pdf' target='_blank'>../utils/outpu…"
      ]
     },
     "metadata": {},
     "output_type": "display_data"
    }
   ],
   "source": [
    "for coord in results.keys():\n",
    "    plotter = Plotter(setup)\n",
    "    for opt_i, opts in enumerate(results[coord]['numerical'].keys()): \n",
    "        plot_data = results[coord]['numerical'][opts]\n",
    "        for i in range(len(setup.nt)):\n",
    "            mnorm = setup.mixing_ratios[i]\n",
    "            t = setup.nt[i] * setup.dt\n",
    "            if opt_i == 0:\n",
    "                pass\n",
    "                plotter.pdf_curve(PdfEvolver(setup.pdf, setup.drdt, t), mnorm)\n",
    "                plotter.pdf_histogram(\n",
    "                    results[coord]['grid']['r'], \n",
    "                    results[coord]['analytical'][i], \n",
    "                    bin_boundaries = results[coord]['grid']['rh'], \n",
    "                    label='discretised', \n",
    "                    mnorm=mnorm,\n",
    "                    psi_coord=n_n(),\n",
    "                    color='red'\n",
    "                )\n",
    "            plotter.pdf_histogram(\n",
    "                results[coord]['grid']['r'], \n",
    "                plot_data[i], \n",
    "                label=opts, \n",
    "                bin_boundaries=results[coord]['grid']['rh'], \n",
    "                mnorm=mnorm,\n",
    "                psi_coord=setup.psi_coord\n",
    "            )\n",
    "    print(f\"coord: {coord}\")\n",
    "    show_plot()"
   ]
  },
  {
   "cell_type": "code",
   "execution_count": null,
   "metadata": {},
   "outputs": [],
   "source": [
    "def convergence_in_space(nr: list, results):\n",
    "    err_data = {}\n",
    "    for coord in results.keys():\n",
    "        err_data[coord] = {}\n",
    "        for opts in results[coord][\"error_L2\"].keys():\n",
    "            err_data[coord][opts] = {'dx':[], 'error_L2':[]} \n",
    "\n",
    "    for nri, nr in enumerate(nrs):\n",
    "        data, setup = compute_figure_data(nr=nr)\n",
    "        for coord in data.keys():\n",
    "            for opts in data[coord][\"error_L2\"].keys():\n",
    "                err_data[coord][opts]['dx'].append(data[coord][\"grid\"]['dx'])\n",
    "                err_data[coord][opts]['error_L2'].append(data[coord][\"error_L2\"][opts])\n",
    "    return err_data"
   ]
  },
  {
   "cell_type": "code",
   "execution_count": null,
   "metadata": {},
   "outputs": [],
   "source": [
    "nrs = [32, 64, 128, 256]  #TODO: do not repeat calc. for default nr!\n",
    "err_data_nr = convergence_in_space(nr=nrs, results=results)"
   ]
  },
  {
   "cell_type": "code",
   "execution_count": null,
   "metadata": {},
   "outputs": [],
   "source": [
    "for coord in results.keys():\n",
    "    for i, opts in enumerate(err_data_nr[coord].keys()):\n",
    "        x = np.log2(err_data_nr[coord][opts]['dx'])\n",
    "        y = err_data_nr[coord][opts]['error_L2']\n",
    "        plt.plot(x, y, label=opts, linestyle=':')\n",
    "        plt.scatter(x, y)\n",
    "    plt.title(coord)\n",
    "    \n",
    "    plt.plot(x, 1*x+0, '--', label=\"error ∝ $Δx^1$\", color='black')\n",
    "    plt.plot(x, 2*x+0, label=\"error ∝ $Δx^2$\", color='black')\n",
    "    \n",
    "    plt.legend()\n",
    "    plt.gca().set_xlabel('log$_2$(dx)')\n",
    "    plt.gca().set_ylabel('log$_2(err_{L2})$')\n",
    "    plt.grid()\n",
    "    show_plot()"
   ]
  },
  {
   "cell_type": "code",
   "execution_count": null,
   "metadata": {},
   "outputs": [],
   "source": [
    "def convergence_in_time(dt: list, results):\n",
    "    err_data = {}\n",
    "    for coord in results.keys():\n",
    "        err_data[coord] = {}\n",
    "        for opts in results[coord][\"error_L2\"].keys():\n",
    "            err_data[coord][opts] = []\n",
    "\n",
    "    for dti, dt in enumerate(dts):\n",
    "        data, setup = compute_figure_data(dt=dt)\n",
    "        for coord in data.keys():\n",
    "            for opts in data[coord][\"error_L2\"].keys():\n",
    "                err_data[coord][opts].append(data[coord][\"error_L2\"][opts])\n",
    "    return err_data"
   ]
  },
  {
   "cell_type": "code",
   "execution_count": null,
   "metadata": {},
   "outputs": [],
   "source": [
    "dts = [1 , 0.5, .25, .125]\n",
    "err_data_dt = convergence_in_time(dt = dts, results = results)"
   ]
  },
  {
   "cell_type": "code",
   "execution_count": null,
   "metadata": {
    "scrolled": true
   },
   "outputs": [],
   "source": [
    "x = np.log2(dts)\n",
    "for coord in results.keys():\n",
    "    for i, opts in enumerate(err_data_dt[coord].keys()):\n",
    "        plt.plot(x, err_data_dt[coord][opts], label=opts, linestyle=':')\n",
    "        plt.scatter(x, err_data_dt[coord][opts])\n",
    "    plt.title(coord)\n",
    "    plt.legend()\n",
    "    \n",
    "    plt.plot(x, .5*x-0.5, ':', label=\"error ∝ $Δx^{1/2}$\", color='black')\n",
    "    plt.plot(x, 1*x-0.5, '--', label=\"error ∝ $Δx^1$\", color='black')\n",
    "    \n",
    "    plt.gca().set_xlabel('log$_2$(dt)')\n",
    "    plt.gca().set_ylabel('log$_2(err_{L2})$')\n",
    "    plt.grid()\n",
    "\n",
    "    show_plot()"
   ]
  },
  {
   "cell_type": "code",
   "execution_count": null,
   "metadata": {},
   "outputs": [],
   "source": []
  },
  {
   "cell_type": "code",
   "execution_count": null,
   "metadata": {},
   "outputs": [],
   "source": []
  }
 ],
 "metadata": {
  "kernelspec": {
   "display_name": "Python 3",
   "language": "python",
   "name": "python3"
  },
  "language_info": {
   "codemirror_mode": {
    "name": "ipython",
    "version": 3
   },
   "file_extension": ".py",
   "mimetype": "text/x-python",
   "name": "python",
   "nbconvert_exporter": "python",
   "pygments_lexer": "ipython3",
   "version": "3.7.1"
  }
 },
 "nbformat": 4,
 "nbformat_minor": 1
}
