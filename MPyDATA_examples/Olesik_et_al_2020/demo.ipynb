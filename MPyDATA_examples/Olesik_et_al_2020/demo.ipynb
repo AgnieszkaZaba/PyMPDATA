{
 "cells": [
  {
   "cell_type": "code",
   "execution_count": 1,
   "metadata": {},
   "outputs": [],
   "source": [
    "import sys\n",
    "sys.path.insert(0, \"../..\")"
   ]
  },
  {
   "cell_type": "code",
   "execution_count": 2,
   "metadata": {},
   "outputs": [],
   "source": [
    "from MPyDATA_examples.Olesik_et_al_2020.analysis import compute_figure_data\n",
    "from MPyDATA_examples.Olesik_et_al_2020.physics.equilibrium_drop_growth import PdfEvolver\n",
    "from MPyDATA_examples.Olesik_et_al_2020.plotter import Plotter\n",
    "from MPyDATA_examples.Olesik_et_al_2020.convergence import convergence_in_time, convergence_in_space\n",
    "from MPyDATA_examples.Olesik_et_al_2020.distributions import n_n, n_s\n",
    "from MPyDATA_examples.Olesik_et_al_2020.coordinates import x_id, x_p2\n",
    "from MPyDATA_examples.utils.error_norms import L2\n",
    "from MPyDATA_examples.utils.show_plot import show_plot\n",
    "\n",
    "import matplotlib.pyplot as plt\n",
    "import matplotlib\n",
    "\n",
    "import numpy as np"
   ]
  },
  {
   "cell_type": "code",
   "execution_count": 3,
   "metadata": {
    "scrolled": true
   },
   "outputs": [
    {
     "name": "stderr",
     "output_type": "stream",
     "text": [
      "../../MPyDATA_examples/utils/error_norms.py:8: RuntimeWarning: divide by zero encountered in double_scalars\n",
      "  sum(pow(numerical - analytical, 2)) / nt / nx\n"
     ]
    }
   ],
   "source": [
    "psi_coord = x_p2() \n",
    "results, setup = compute_figure_data(psi_coord=psi_coord)"
   ]
  },
  {
   "cell_type": "code",
   "execution_count": null,
   "metadata": {
    "scrolled": false
   },
   "outputs": [],
   "source": []
  },
  {
   "cell_type": "code",
   "execution_count": null,
   "metadata": {},
   "outputs": [],
   "source": [
    "def convergence_in_space(nr: list, results):\n",
    "    err_data = {}\n",
    "    for coord in results.keys():\n",
    "        err_data[coord] = {}\n",
    "        for opts in results[coord][\"error_L2\"].keys():\n",
    "            err_data[coord][opts] = {'dx':[], 'error_L2':[]} \n",
    "\n",
    "    for nri, nr in enumerate(nrs):\n",
    "        data, setup = compute_figure_data(nr=nr, psi_coord=psi_coord)\n",
    "        for coord in data.keys():\n",
    "            for opts in data[coord][\"error_L2\"].keys():\n",
    "                err_data[coord][opts]['dx'].append(data[coord][\"grid\"]['dx'])\n",
    "                err_data[coord][opts]['error_L2'].append(data[coord][\"error_L2\"][opts])\n",
    "    return err_data"
   ]
  },
  {
   "cell_type": "code",
   "execution_count": null,
   "metadata": {},
   "outputs": [],
   "source": [
    "nrs = [32, 64]  #TODO: do not repeat calc. for default nr!\n",
    "err_data_nr = convergence_in_space(nr=nrs, results=results)"
   ]
  },
  {
   "cell_type": "code",
   "execution_count": null,
   "metadata": {},
   "outputs": [],
   "source": [
    "for coord in results.keys():\n",
    "    for i, opts in enumerate(err_data_nr[coord].keys()):\n",
    "        x = np.log2(err_data_nr[coord][opts]['dx'])\n",
    "        y = err_data_nr[coord][opts]['error_L2']\n",
    "        plt.plot(x, y, label=opts, linestyle=':')\n",
    "        plt.scatter(x, y)\n",
    "    plt.title(f\"grid layout: {coord}\")\n",
    "    \n",
    "    for k in [2,3]:\n",
    "        plt.plot(x, k*x+0, '--', label=f\"error ∝ $Δx^{k}$\", color='black')\n",
    "    \n",
    "    plt.legend()\n",
    "    plt.gca().set_xlabel('log$_2$(dx)')\n",
    "    plt.gca().set_ylabel('log$_2(err_{L2})$')\n",
    "    plt.grid()\n",
    "    show_plot()"
   ]
  },
  {
   "cell_type": "code",
   "execution_count": null,
   "metadata": {},
   "outputs": [],
   "source": [
    "def convergence_in_time(dt: list, results):\n",
    "    err_data = {}\n",
    "    for coord in results.keys():\n",
    "        err_data[coord] = {}\n",
    "        for opts in results[coord][\"error_L2\"].keys():\n",
    "            err_data[coord][opts] = []\n",
    "\n",
    "    for dti, dt in enumerate(dts):\n",
    "        data, setup = compute_figure_data(dt=dt, psi_coord=psi_coord)\n",
    "        for coord in data.keys():\n",
    "            for opts in data[coord][\"error_L2\"].keys():\n",
    "                err_data[coord][opts].append(data[coord][\"error_L2\"][opts])\n",
    "    return err_data"
   ]
  },
  {
   "cell_type": "code",
   "execution_count": null,
   "metadata": {},
   "outputs": [],
   "source": [
    "dts = [.25, .125]\n",
    "err_data_dt = convergence_in_time(dt = dts, results = results)"
   ]
  },
  {
   "cell_type": "code",
   "execution_count": null,
   "metadata": {
    "scrolled": false
   },
   "outputs": [],
   "source": [
    "x = np.log2(dts)\n",
    "for coord in results.keys():\n",
    "    for i, opts in enumerate(err_data_dt[coord].keys()):\n",
    "        plt.plot(x, err_data_dt[coord][opts], label=opts, linestyle=':')\n",
    "        plt.scatter(x, err_data_dt[coord][opts])\n",
    "    plt.title(coord)\n",
    "    plt.legend()\n",
    "    \n",
    "    for k in [2,3]:\n",
    "        plt.plot(x, k*x-0.5, ':', label=f\"error ∝ $Δx^{k}$\", color='black')\n",
    "    \n",
    "    plt.gca().set_xlabel('log$_2$(dt)')\n",
    "    plt.gca().set_ylabel('log$_2(err_{L2})$')\n",
    "    plt.grid()\n",
    "\n",
    "    show_plot()"
   ]
  },
  {
   "cell_type": "code",
   "execution_count": null,
   "metadata": {},
   "outputs": [],
   "source": []
  },
  {
   "cell_type": "code",
   "execution_count": null,
   "metadata": {},
   "outputs": [],
   "source": []
  },
  {
   "cell_type": "code",
   "execution_count": null,
   "metadata": {},
   "outputs": [],
   "source": []
  },
  {
   "cell_type": "code",
   "execution_count": null,
   "metadata": {},
   "outputs": [],
   "source": []
  }
 ],
 "metadata": {
  "kernelspec": {
   "display_name": "Python 3",
   "language": "python",
   "name": "python3"
  },
  "language_info": {
   "codemirror_mode": {
    "name": "ipython",
    "version": 3
   },
   "file_extension": ".py",
   "mimetype": "text/x-python",
   "name": "python",
   "nbconvert_exporter": "python",
   "pygments_lexer": "ipython3",
   "version": "3.7.6"
  }
 },
 "nbformat": 4,
 "nbformat_minor": 1
}
