{
 "cells": [
  {
   "cell_type": "code",
   "execution_count": 1,
   "metadata": {},
   "outputs": [],
   "source": [
    "import sys\n",
    "sys.path.insert(0, \"../..\")"
   ]
  },
  {
   "cell_type": "code",
   "execution_count": 2,
   "metadata": {},
   "outputs": [],
   "source": [
    "from MPyDATA_examples.Olesik_et_al_2020.analysis import compute_figure_data\n",
    "from MPyDATA_examples.Olesik_et_al_2020.physics.equilibrium_drop_growth import PdfEvolver\n",
    "from MPyDATA_examples.Olesik_et_al_2020.plotter import Plotter\n",
    "from MPyDATA_examples.Olesik_et_al_2020.convergence import convergence_in_time, convergence_in_space\n",
    "from MPyDATA_examples.Olesik_et_al_2020.distributions import n_n, n_s\n",
    "from MPyDATA_examples.Olesik_et_al_2020.coordinates import x_id, x_p2\n",
    "from MPyDATA_examples.utils.error_norms import L2\n",
    "from MPyDATA_examples.utils.show_plot import show_plot\n",
    "\n",
    "import matplotlib.pyplot as plt\n",
    "import numpy as np"
   ]
  },
  {
   "cell_type": "code",
   "execution_count": 3,
   "metadata": {},
   "outputs": [],
   "source": [
    "psi_coord = x_p2()  # TODO: automate repetition over x_p2, x_ln, ....\n",
    "results, setup = compute_figure_data(psi_coord=psi_coord)"
   ]
  },
  {
   "cell_type": "code",
   "execution_count": 4,
   "metadata": {},
   "outputs": [
    {
     "name": "stdout",
     "output_type": "stream",
     "text": [
      "grid_layout: x_id\n"
     ]
    },
    {
     "data": {
      "application/vnd.jupyter.widget-view+json": {
       "model_id": "a150b554562f457b8131ae1481b747f2",
       "version_major": 2,
       "version_minor": 0
      },
      "text/plain": [
       "VBox(children=(Output(), HTML(value=\"<a href='../utils/output/tmpnrs16xis.pdf' target='_blank'>../utils/output…"
      ]
     },
     "metadata": {},
     "output_type": "display_data"
    },
    {
     "name": "stdout",
     "output_type": "stream",
     "text": [
      "grid_layout: x_p2\n"
     ]
    },
    {
     "data": {
      "application/vnd.jupyter.widget-view+json": {
       "model_id": "b1e4f8fc0785403990ad4d463a85bc00",
       "version_major": 2,
       "version_minor": 0
      },
      "text/plain": [
       "VBox(children=(Output(), HTML(value=\"<a href='../utils/output/tmpyi1iq40j.pdf' target='_blank'>../utils/output…"
      ]
     },
     "metadata": {},
     "output_type": "display_data"
    },
    {
     "name": "stdout",
     "output_type": "stream",
     "text": [
      "grid_layout: x_ln\n"
     ]
    },
    {
     "data": {
      "application/vnd.jupyter.widget-view+json": {
       "model_id": "18e4ee19320a47ec936499c1f55eb951",
       "version_major": 2,
       "version_minor": 0
      },
      "text/plain": [
       "VBox(children=(Output(), HTML(value=\"<a href='../utils/output/tmpvd6cen6h.pdf' target='_blank'>../utils/output…"
      ]
     },
     "metadata": {},
     "output_type": "display_data"
    }
   ],
   "source": [
    "for coord in results.keys():\n",
    "    plotter = Plotter(setup)\n",
    "    for opt_i, opts in enumerate(results[coord]['numerical'].keys()): \n",
    "        plot_data = results[coord]['numerical'][opts]\n",
    "        for i in range(len(setup.nt)):\n",
    "            mnorm = setup.mixing_ratios[i]\n",
    "            t = setup.nt[i] * setup.dt\n",
    "            if opt_i == 0:\n",
    "                plotter.pdf_curve(PdfEvolver(setup.pdf, setup.drdt, t), mnorm)\n",
    "                plotter.pdf_histogram(\n",
    "                    results[coord]['grid']['r'], \n",
    "                    results[coord]['analytical'][i], \n",
    "                    bin_boundaries = results[coord]['grid']['rh'], \n",
    "                    label='discretised', \n",
    "                    mnorm=mnorm,\n",
    "                    color='red'\n",
    "                )\n",
    "            plotter.pdf_histogram(\n",
    "                results[coord]['grid']['r'], \n",
    "                plot_data[i], \n",
    "                label=opts, \n",
    "                bin_boundaries=results[coord]['grid']['rh'], \n",
    "                mnorm=mnorm\n",
    "            )\n",
    "    print(f\"grid_layout: {coord}\")\n",
    "    show_plot()"
   ]
  },
  {
   "cell_type": "code",
   "execution_count": 5,
   "metadata": {},
   "outputs": [],
   "source": [
    "def convergence_in_space(nr: list, results):\n",
    "    err_data = {}\n",
    "    for coord in results.keys():\n",
    "        err_data[coord] = {}\n",
    "        for opts in results[coord][\"error_L2\"].keys():\n",
    "            err_data[coord][opts] = {'dx':[], 'error_L2':[]} \n",
    "\n",
    "    for nri, nr in enumerate(nrs):\n",
    "        data, setup = compute_figure_data(nr=nr, psi_coord=psi_coord)\n",
    "        for coord in data.keys():\n",
    "            for opts in data[coord][\"error_L2\"].keys():\n",
    "                err_data[coord][opts]['dx'].append(data[coord][\"grid\"]['dx'])\n",
    "                err_data[coord][opts]['error_L2'].append(data[coord][\"error_L2\"][opts])\n",
    "    return err_data"
   ]
  },
  {
   "cell_type": "code",
   "execution_count": 6,
   "metadata": {},
   "outputs": [],
   "source": [
    "nrs = [32, 64]  #TODO: do not repeat calc. for default nr!\n",
    "err_data_nr = convergence_in_space(nr=nrs, results=results)"
   ]
  },
  {
   "cell_type": "code",
   "execution_count": 7,
   "metadata": {},
   "outputs": [
    {
     "data": {
      "application/vnd.jupyter.widget-view+json": {
       "model_id": "5d05d0fd5f6c491d8c4a05ff3e918d2a",
       "version_major": 2,
       "version_minor": 0
      },
      "text/plain": [
       "VBox(children=(Output(), HTML(value=\"<a href='../utils/output/tmpeytl13t7.pdf' target='_blank'>../utils/output…"
      ]
     },
     "metadata": {},
     "output_type": "display_data"
    },
    {
     "data": {
      "application/vnd.jupyter.widget-view+json": {
       "model_id": "97c515bc30e04e6c9ecf069add7b9b89",
       "version_major": 2,
       "version_minor": 0
      },
      "text/plain": [
       "VBox(children=(Output(), HTML(value=\"<a href='../utils/output/tmpttbouz45.pdf' target='_blank'>../utils/output…"
      ]
     },
     "metadata": {},
     "output_type": "display_data"
    },
    {
     "data": {
      "application/vnd.jupyter.widget-view+json": {
       "model_id": "b68f936d51854396a5575f417fe63d1c",
       "version_major": 2,
       "version_minor": 0
      },
      "text/plain": [
       "VBox(children=(Output(), HTML(value=\"<a href='../utils/output/tmp664npjqf.pdf' target='_blank'>../utils/output…"
      ]
     },
     "metadata": {},
     "output_type": "display_data"
    }
   ],
   "source": [
    "for coord in results.keys():\n",
    "    for i, opts in enumerate(err_data_nr[coord].keys()):\n",
    "        x = np.log2(err_data_nr[coord][opts]['dx'])\n",
    "        y = err_data_nr[coord][opts]['error_L2']\n",
    "        plt.plot(x, y, label=opts, linestyle=':')\n",
    "        plt.scatter(x, y)\n",
    "    plt.title(f\"grid layout: {coord}\")\n",
    "    \n",
    "    for k in [2,3]:\n",
    "        plt.plot(x, k*x+0, '--', label=f\"error ∝ $Δx^{k}$\", color='black')\n",
    "    \n",
    "    plt.legend()\n",
    "    plt.gca().set_xlabel('log$_2$(dx)')\n",
    "    plt.gca().set_ylabel('log$_2(err_{L2})$')\n",
    "    plt.grid()\n",
    "    show_plot()"
   ]
  },
  {
   "cell_type": "code",
   "execution_count": 8,
   "metadata": {},
   "outputs": [],
   "source": [
    "def convergence_in_time(dt: list, results):\n",
    "    err_data = {}\n",
    "    for coord in results.keys():\n",
    "        err_data[coord] = {}\n",
    "        for opts in results[coord][\"error_L2\"].keys():\n",
    "            err_data[coord][opts] = []\n",
    "\n",
    "    for dti, dt in enumerate(dts):\n",
    "        data, setup = compute_figure_data(dt=dt, psi_coord=psi_coord)\n",
    "        for coord in data.keys():\n",
    "            for opts in data[coord][\"error_L2\"].keys():\n",
    "                err_data[coord][opts].append(data[coord][\"error_L2\"][opts])\n",
    "    return err_data"
   ]
  },
  {
   "cell_type": "code",
   "execution_count": null,
   "metadata": {},
   "outputs": [],
   "source": [
    "dts = [.25, .125]\n",
    "err_data_dt = convergence_in_time(dt = dts, results = results)"
   ]
  },
  {
   "cell_type": "code",
   "execution_count": null,
   "metadata": {},
   "outputs": [],
   "source": [
    "x = np.log2(dts)\n",
    "for coord in results.keys():\n",
    "    for i, opts in enumerate(err_data_dt[coord].keys()):\n",
    "        plt.plot(x, err_data_dt[coord][opts], label=opts, linestyle=':')\n",
    "        plt.scatter(x, err_data_dt[coord][opts])\n",
    "    plt.title(coord)\n",
    "    plt.legend()\n",
    "    \n",
    "    for k in [2,3]:\n",
    "        plt.plot(x, k*x-0.5, ':', label=f\"error ∝ $Δx^{k}$\", color='black')\n",
    "    \n",
    "    plt.gca().set_xlabel('log$_2$(dt)')\n",
    "    plt.gca().set_ylabel('log$_2(err_{L2})$')\n",
    "    plt.grid()\n",
    "\n",
    "    show_plot()"
   ]
  },
  {
   "cell_type": "code",
   "execution_count": null,
   "metadata": {},
   "outputs": [],
   "source": []
  }
 ],
 "metadata": {
  "kernelspec": {
   "display_name": "Python 3",
   "language": "python",
   "name": "python3"
  },
  "language_info": {
   "codemirror_mode": {
    "name": "ipython",
    "version": 3
   },
   "file_extension": ".py",
   "mimetype": "text/x-python",
   "name": "python",
   "nbconvert_exporter": "python",
   "pygments_lexer": "ipython3",
   "version": "3.7.6"
  }
 },
 "nbformat": 4,
 "nbformat_minor": 4
}
