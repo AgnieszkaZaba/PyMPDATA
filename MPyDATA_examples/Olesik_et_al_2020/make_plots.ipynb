{
 "cells": [
  {
   "cell_type": "code",
   "execution_count": 1,
   "metadata": {},
   "outputs": [],
   "source": [
    "import sys\n",
    "sys.path.insert(0, \"../..\")\n",
    "\n",
    "from MPyDATA_examples.Olesik_et_al_2020.analysis import compute_figure_data\n",
    "from MPyDATA_examples.Olesik_et_al_2020.physics.equilibrium_drop_growth import PdfEvolver\n",
    "from MPyDATA_examples.Olesik_et_al_2020.plotter import Plotter\n",
    "from MPyDATA_examples.Olesik_et_al_2020.convergence import convergence_in_time, convergence_in_space\n",
    "from MPyDATA_examples.Olesik_et_al_2020.distributions import n_n, n_s\n",
    "from MPyDATA_examples.Olesik_et_al_2020.coordinates import x_id, x_p2\n",
    "from MPyDATA_examples.utils.error_norms import L2\n",
    "from MPyDATA_examples.utils.show_plot import show_plot\n",
    "\n",
    "import matplotlib.pyplot as plt\n",
    "import matplotlib\n",
    "\n",
    "import numpy as np"
   ]
  },
  {
   "cell_type": "code",
   "execution_count": 2,
   "metadata": {},
   "outputs": [],
   "source": [
    "opt_set = [({'n_iters': 1},), \n",
    "           ({'n_iters': 1},{'n_iters':2},{'n_iters':3}),\n",
    "           ({'n_iters': 1},{'n_iters':2},{'n_iters':2, 'iga':True}),\n",
    "          ({'n_iters': 1},{'n_iters':2},{'n_iters':2, 'iga':True, 'fct': True}),\n",
    "          ({'n_iters': 1},{'n_iters':2},{'n_iters':2, 'iga':True, 'fct': True, 'tot': True})]"
   ]
  },
  {
   "cell_type": "code",
   "execution_count": null,
   "metadata": {},
   "outputs": [],
   "source": []
  }
 ],
 "metadata": {
  "kernelspec": {
   "display_name": "Python 3",
   "language": "python",
   "name": "python3"
  },
  "language_info": {
   "codemirror_mode": {
    "name": "ipython",
    "version": 3
   },
   "file_extension": ".py",
   "mimetype": "text/x-python",
   "name": "python",
   "nbconvert_exporter": "python",
   "pygments_lexer": "ipython3",
   "version": "3.7.1"
  }
 },
 "nbformat": 4,
 "nbformat_minor": 2
}
