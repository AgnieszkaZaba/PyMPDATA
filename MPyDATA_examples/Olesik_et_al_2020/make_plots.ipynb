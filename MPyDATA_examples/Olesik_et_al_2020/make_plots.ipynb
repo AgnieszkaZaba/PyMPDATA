{
 "cells": [
  {
   "cell_type": "code",
   "execution_count": 1,
   "metadata": {},
   "outputs": [],
   "source": [
    "import sys\n",
    "sys.path.insert(0, \"../..\")\n",
    "\n",
    "from MPyDATA_examples.Olesik_et_al_2020.analysis import compute_figure_data\n",
    "from MPyDATA_examples.Olesik_et_al_2020.physics.equilibrium_drop_growth import PdfEvolver\n",
    "from MPyDATA_examples.Olesik_et_al_2020.plotter import Plotter\n",
    "from MPyDATA_examples.Olesik_et_al_2020.convergence import convergence_in_time, convergence_in_space\n",
    "from MPyDATA_examples.Olesik_et_al_2020.distributions import n_n, n_s\n",
    "from MPyDATA_examples.Olesik_et_al_2020.coordinates import x_id, x_p2, x_p3, x_ln, x_log_of_p3\n",
    "from MPyDATA_examples.utils.error_norms import L2\n",
    "from MPyDATA_examples.utils.show_plot import show_plot\n",
    "\n",
    "import matplotlib.pyplot as plt\n",
    "import matplotlib\n",
    "\n",
    "import numpy as np"
   ]
  },
  {
   "cell_type": "code",
   "execution_count": 2,
   "metadata": {},
   "outputs": [],
   "source": [
    "def compute_and_plot(psi_coord, grid_layout, n_bins, dt, opt_set, plots, filename):\n",
    "    results, setup = compute_figure_data(\n",
    "        psi_coord=psi_coord, \n",
    "        grid_layouts=(grid_layout,),\n",
    "        nr=n_bins,\n",
    "        dt=dt,\n",
    "        opt_set=opt_set\n",
    "    )\n",
    "    \n",
    "    colors = ['red', 'green', 'purple', 'blue', 'orange']\n",
    "    matplotlib.rcParams.update({'font.size': 16})\n",
    "    for coord in results.keys():\n",
    "        plotter = Plotter(setup, plots=plots)\n",
    "        for opt_i, opts in enumerate(results[coord]['numerical'].keys()): \n",
    "            plot_data = results[coord]['numerical'][opts]\n",
    "            for i in range(len(setup.nt)):\n",
    "                mnorm = setup.mixing_ratios[i]\n",
    "                t = setup.nt[i] * setup.dt\n",
    "                linewidth = 1+1.5*i/len(setup.nt)\n",
    "                if opt_i == 0:\n",
    "                    plotter.pdf_curve(PdfEvolver(setup.pdf, setup.drdt, t), mnorm)\n",
    "                    plotter.pdf_histogram(\n",
    "                        results[coord]['grid']['r'], \n",
    "                        results[coord]['analytical'][i], \n",
    "                        bin_boundaries = results[coord]['grid']['rh'], \n",
    "                        label='analytical', \n",
    "                        mnorm=mnorm,\n",
    "                        color='black',\n",
    "                        linewidth = linewidth\n",
    "                    )\n",
    "                str_repl = [[\"'n_iters': 1\",\"upwind\"],\n",
    "                            [\"'n_iters': 2\",\"MPDATA 2 iterations\"],\n",
    "                            [\"'n_iters': 3\",\"MPDATA 3 iterations\"],\n",
    "                            [\"'fct': True\",\"+ fct\"],\n",
    "                            [\"'iga': True\",\"+ iga\"],\n",
    "                            [\"'tot': True\",\"+ tot\"],\n",
    "                            [\"{\",\"\"],[\"}\",\"\"],[\",\",\" \"]]\n",
    "                            \n",
    "                for repl in str_repl:\n",
    "                    opts = opts.replace(repl[0], repl[1])\n",
    "                plotter.pdf_histogram(\n",
    "                    results[coord]['grid']['r'], \n",
    "                    plot_data[i], \n",
    "                    label=opts, \n",
    "                    bin_boundaries=results[coord]['grid']['rh'], \n",
    "                    linewidth = linewidth,\n",
    "                    mnorm=mnorm, color = colors[opt_i]\n",
    "                )\n",
    "        print(f\"grid_layout: {coord}\")\n",
    "        show_plot(filename)\n",
    "        "
   ]
  },
  {
   "cell_type": "code",
   "execution_count": 3,
   "metadata": {},
   "outputs": [],
   "source": [
    "plot_setup = {\"psi_coord\":x_p2(), \"grid_layout\":x_log_of_p3(base=2), \"dt\":.33,\"n_bins\":75}\n",
    "plot_setup2 = {\"psi_coord\":x_id(), \"grid_layout\":x_id(), \"dt\":.33,\"n_bins\":75}"
   ]
  },
  {
   "cell_type": "code",
   "execution_count": 4,
   "metadata": {},
   "outputs": [
    {
     "name": "stdout",
     "output_type": "stream",
     "text": [
      "grid_layout: x_log_of_p3\n"
     ]
    },
    {
     "data": {
      "application/vnd.jupyter.widget-view+json": {
       "model_id": "67eb952405e048a1aa9d8da190b7378f",
       "version_major": 2,
       "version_minor": 0
      },
      "text/plain": [
       "VBox(children=(Output(), HTML(value=\"<a href='../utils/output\\\\fig_upwinda.pdf' target='_blank'>../utils/outpu…"
      ]
     },
     "metadata": {},
     "output_type": "display_data"
    }
   ],
   "source": [
    "compute_and_plot(**plot_setup, opt_set=({\"n_iters\":1},), plots=('n','m'), filename = 'fig_upwinda.pdf')"
   ]
  },
  {
   "cell_type": "code",
   "execution_count": 5,
   "metadata": {},
   "outputs": [
    {
     "name": "stdout",
     "output_type": "stream",
     "text": [
      "grid_layout: x_id\n"
     ]
    },
    {
     "data": {
      "application/vnd.jupyter.widget-view+json": {
       "model_id": "e586a5f6df9145d08b3e968a8c9a1622",
       "version_major": 2,
       "version_minor": 0
      },
      "text/plain": [
       "VBox(children=(Output(), HTML(value=\"<a href='../utils/output\\\\fig_upwindb.pdf' target='_blank'>../utils/outpu…"
      ]
     },
     "metadata": {},
     "output_type": "display_data"
    }
   ],
   "source": [
    "compute_and_plot(**plot_setup2, opt_set=({\"n_iters\":1},), plots=['n','m'],  filename = 'fig_upwindb.pdf')"
   ]
  },
  {
   "cell_type": "code",
   "execution_count": 6,
   "metadata": {},
   "outputs": [
    {
     "name": "stdout",
     "output_type": "stream",
     "text": [
      "grid_layout: x_log_of_p3\n"
     ]
    },
    {
     "data": {
      "application/vnd.jupyter.widget-view+json": {
       "model_id": "3a7465ccc76b4ab9b77148443fdeb5b8",
       "version_major": 2,
       "version_minor": 0
      },
      "text/plain": [
       "VBox(children=(Output(), HTML(value=\"<a href='../utils/output\\\\fig_mpdatas.pdf' target='_blank'>../utils/outpu…"
      ]
     },
     "metadata": {},
     "output_type": "display_data"
    }
   ],
   "source": [
    "compute_and_plot(**plot_setup, opt_set=({'n_iters': 1},{'n_iters':2},{'n_iters':3}), plots=['n'], filename = 'fig_mpdatas.pdf')"
   ]
  },
  {
   "cell_type": "code",
   "execution_count": 7,
   "metadata": {},
   "outputs": [
    {
     "name": "stdout",
     "output_type": "stream",
     "text": [
      "grid_layout: x_log_of_p3\n"
     ]
    },
    {
     "data": {
      "application/vnd.jupyter.widget-view+json": {
       "model_id": "f48602ee4f914e80ac2fa2eaf778cd0a",
       "version_major": 2,
       "version_minor": 0
      },
      "text/plain": [
       "VBox(children=(Output(), HTML(value=\"<a href='../utils/output\\\\fig_iga.pdf' target='_blank'>../utils/output\\\\f…"
      ]
     },
     "metadata": {},
     "output_type": "display_data"
    }
   ],
   "source": [
    "compute_and_plot(**plot_setup, opt_set=({'n_iters': 1},{'n_iters':2},{'n_iters':2,'infinite_gauge':True}), plots=['n'], filename = 'fig_iga.pdf')"
   ]
  },
  {
   "cell_type": "code",
   "execution_count": 4,
   "metadata": {},
   "outputs": [
    {
     "name": "stdout",
     "output_type": "stream",
     "text": [
      "grid_layout: x_log_of_p3\n"
     ]
    },
    {
     "data": {
      "application/vnd.jupyter.widget-view+json": {
       "model_id": "0fbd9cff274743f38bb9a449b075204a",
       "version_major": 2,
       "version_minor": 0
      },
      "text/plain": [
       "VBox(children=(Output(), HTML(value=\"<a href='../utils/output\\\\fig_fct.pdf' target='_blank'>../utils/output\\\\f…"
      ]
     },
     "metadata": {},
     "output_type": "display_data"
    }
   ],
   "source": [
    "compute_and_plot(**plot_setup, opt_set=({'n_iters': 1},{'n_iters':2},{'n_iters':2,'infinite_gauge':True,'flux_corrected_transport':True}), plots=['n'], filename = 'fig_fct.pdf')"
   ]
  },
  {
   "cell_type": "code",
   "execution_count": 5,
   "metadata": {},
   "outputs": [
    {
     "name": "stdout",
     "output_type": "stream",
     "text": [
      "grid_layout: x_log_of_p3\n"
     ]
    },
    {
     "data": {
      "application/vnd.jupyter.widget-view+json": {
       "model_id": "259f40283d8c403b921f241106ac36c0",
       "version_major": 2,
       "version_minor": 0
      },
      "text/plain": [
       "VBox(children=(Output(), HTML(value=\"<a href='../utils/output\\\\fig_tot.pdf' target='_blank'>../utils/output\\\\f…"
      ]
     },
     "metadata": {},
     "output_type": "display_data"
    }
   ],
   "source": [
    "compute_and_plot(**plot_setup, opt_set=({'n_iters': 1},{'n_iters':2},{'n_iters':2,'third_order_terms':True}), plots=['n'], filename = 'fig_tot.pdf')"
   ]
  },
  {
   "cell_type": "code",
   "execution_count": 6,
   "metadata": {},
   "outputs": [
    {
     "name": "stdout",
     "output_type": "stream",
     "text": [
      "grid_layout: x_log_of_p3\n"
     ]
    },
    {
     "data": {
      "application/vnd.jupyter.widget-view+json": {
       "model_id": "85b3311320634397927609cc24ef724f",
       "version_major": 2,
       "version_minor": 0
      },
      "text/plain": [
       "VBox(children=(Output(), HTML(value=\"<a href='../utils/output\\\\fig_multiopt.pdf' target='_blank'>../utils/outp…"
      ]
     },
     "metadata": {},
     "output_type": "display_data"
    }
   ],
   "source": [
    "compute_and_plot(**plot_setup, opt_set=(\n",
    "    {'n_iters':1},\n",
    "    {'n_iters':2},\n",
    "    {'n_iters':3,'infinite_gauge':True, 'flux_corrected_transport':True,'third_order_terms':True},\n",
    "), plots=['n'], filename='fig_multiopt.pdf')"
   ]
  },
  {
   "cell_type": "code",
   "execution_count": null,
   "metadata": {},
   "outputs": [],
   "source": []
  },
  {
   "cell_type": "code",
   "execution_count": null,
   "metadata": {},
   "outputs": [],
   "source": []
  }
 ],
 "metadata": {
  "kernelspec": {
   "display_name": "Python 3",
   "language": "python",
   "name": "python3"
  },
  "language_info": {
   "codemirror_mode": {
    "name": "ipython",
    "version": 3
   },
   "file_extension": ".py",
   "mimetype": "text/x-python",
   "name": "python",
   "nbconvert_exporter": "python",
   "pygments_lexer": "ipython3",
   "version": "3.7.6"
  },
  "pycharm": {
   "stem_cell": {
    "cell_type": "raw",
    "metadata": {
     "collapsed": false
    },
    "source": []
   }
  }
 },
 "nbformat": 4,
 "nbformat_minor": 2
}
