{
 "cells": [
  {
   "cell_type": "code",
   "execution_count": 1,
   "metadata": {},
   "outputs": [],
   "source": [
    "import sys, os\n",
    "if 'google.colab' in sys.modules:\n",
    "    %cd\n",
    "    % rm -rf MPyDATA\n",
    "    ! git clone --recurse-submodules -j8 https://github.com/Michaeldz36/MPyDATA.git\n",
    "    %cd MPyDATA\n",
    "    ! git checkout develop\n",
    "    ! pip install -U $(cat requirements.txt | cut -d '=' -f 1)\n",
    "else:\n",
    "    sys.path.append(os.path.join(os.getcwd(), '../..'))"
   ]
  },
  {
   "cell_type": "code",
   "execution_count": 2,
   "metadata": {},
   "outputs": [],
   "source": [
    "from MPyDATA_tests.smoke_tests.Olesik_et_al_2020.test_wall_time import test_wall_time"
   ]
  },
  {
   "cell_type": "code",
   "execution_count": 3,
   "metadata": {},
   "outputs": [
    {
     "name": "stdout",
     "output_type": "stream",
     "text": [
      "[0.0]\n"
     ]
    },
    {
     "name": "stderr",
     "output_type": "stream",
     "text": [
      "C:\\Users\\Michael\\PycharmProjects\\MPyDATA\\MPyDATA_examples\\Olesik_et_al_2020\\../..\\MPyDATA_tests\\smoke_tests\\Olesik_et_al_2020\\test_wall_time.py:46: RuntimeWarning: invalid value encountered in double_scalars\n",
      "  table_data[\"values\"].append(round(selected_value/norm[0],2))\n"
     ]
    },
    {
     "name": "stdout",
     "output_type": "stream",
     "text": [
      "[0.0]\n"
     ]
    },
    {
     "name": "stderr",
     "output_type": "stream",
     "text": [
      "C:\\Users\\Michael\\PycharmProjects\\MPyDATA\\MPyDATA_examples\\Olesik_et_al_2020\\../..\\MPyDATA_tests\\smoke_tests\\Olesik_et_al_2020\\test_wall_time.py:46: RuntimeWarning: invalid value encountered in double_scalars\n",
      "  table_data[\"values\"].append(round(selected_value/norm[0],2))\n"
     ]
    },
    {
     "name": "stdout",
     "output_type": "stream",
     "text": [
      "[0.009174311926605505]\n"
     ]
    },
    {
     "name": "stderr",
     "output_type": "stream",
     "text": [
      "C:\\Users\\Michael\\PycharmProjects\\MPyDATA\\MPyDATA_examples\\Olesik_et_al_2020\\../..\\MPyDATA_tests\\smoke_tests\\Olesik_et_al_2020\\test_wall_time.py:46: RuntimeWarning: divide by zero encountered in double_scalars\n",
      "  table_data[\"values\"].append(round(selected_value/norm[0],2))\n"
     ]
    },
    {
     "name": "stdout",
     "output_type": "stream",
     "text": [
      "[0.009174311926605505]\n"
     ]
    },
    {
     "name": "stderr",
     "output_type": "stream",
     "text": [
      "C:\\Users\\Michael\\PycharmProjects\\MPyDATA\\MPyDATA_examples\\Olesik_et_al_2020\\../..\\MPyDATA_tests\\smoke_tests\\Olesik_et_al_2020\\test_wall_time.py:46: RuntimeWarning: divide by zero encountered in double_scalars\n",
      "  table_data[\"values\"].append(round(selected_value/norm[0],2))\n"
     ]
    },
    {
     "name": "stdout",
     "output_type": "stream",
     "text": [
      "[0.0]\n"
     ]
    },
    {
     "name": "stderr",
     "output_type": "stream",
     "text": [
      "C:\\Users\\Michael\\PycharmProjects\\MPyDATA\\MPyDATA_examples\\Olesik_et_al_2020\\../..\\MPyDATA_tests\\smoke_tests\\Olesik_et_al_2020\\test_wall_time.py:46: RuntimeWarning: invalid value encountered in double_scalars\n",
      "  table_data[\"values\"].append(round(selected_value/norm[0],2))\n"
     ]
    },
    {
     "name": "stdout",
     "output_type": "stream",
     "text": [
      "[0.009174311926605505]\n"
     ]
    },
    {
     "name": "stderr",
     "output_type": "stream",
     "text": [
      "C:\\Users\\Michael\\PycharmProjects\\MPyDATA\\MPyDATA_examples\\Olesik_et_al_2020\\../..\\MPyDATA_tests\\smoke_tests\\Olesik_et_al_2020\\test_wall_time.py:46: RuntimeWarning: divide by zero encountered in double_scalars\n",
      "  table_data[\"values\"].append(round(selected_value/norm[0],2))\n"
     ]
    },
    {
     "name": "stdout",
     "output_type": "stream",
     "text": [
      "[0.01834862385321101]\n",
      "\\begin\n",
      "{table}[]\n",
      "\\begin\n",
      "{tabular}\n",
      "{| l | l |}\n",
      "\\hline Variant  & Elapsed Real Time (wrt upwind) \\\\ \\hline\n",
      "\\hline {'n_iters': 1}(x_log_of_pn) & nan \\\\ \\hline\n",
      "\\hline {'n_iters': 2}(x_log_of_pn) & nan \\\\ \\hline\n",
      "\\hline {'n_iters': 2, 'infinite_gauge': True}(x_log_of_pn) & inf \\\\ \\hline\n",
      "\\hline {'n_iters': 2, 'infinite_gauge': True, 'flux_corrected_transport': True}(x_log_of_pn) & inf \\\\ \\hline\n",
      "\\hline {'n_iters': 2, 'third_order_terms': True}(x_log_of_pn) & nan \\\\ \\hline\n",
      "\\hline {'n_iters': 3}(x_log_of_pn) & inf \\\\ \\hline\n",
      "\\hline {'n_iters': 3, 'third_order_terms': True, 'infinite_gauge': True, 'flux_corrected_transport': True}(x_log_of_pn) & inf \\\\ \\hline\n",
      "\\end \n",
      " {tabular} \n",
      " \\end \n",
      " {table}\n"
     ]
    },
    {
     "name": "stderr",
     "output_type": "stream",
     "text": [
      "C:\\Users\\Michael\\PycharmProjects\\MPyDATA\\MPyDATA_examples\\Olesik_et_al_2020\\../..\\MPyDATA_tests\\smoke_tests\\Olesik_et_al_2020\\test_wall_time.py:46: RuntimeWarning: divide by zero encountered in double_scalars\n",
      "  table_data[\"values\"].append(round(selected_value/norm[0],2))\n"
     ]
    }
   ],
   "source": [
    "test_wall_time(n_runs=2, mrats=[5,], generate=True, print_tab=True, rtol=.9)"
   ]
  },
  {
   "cell_type": "code",
   "execution_count": null,
   "metadata": {},
   "outputs": [],
   "source": []
  }
 ],
 "metadata": {
  "kernelspec": {
   "display_name": "Python 3",
   "language": "python",
   "name": "python3"
  },
  "language_info": {
   "codemirror_mode": {
    "name": "ipython",
    "version": 3
   },
   "file_extension": ".py",
   "mimetype": "text/x-python",
   "name": "python",
   "nbconvert_exporter": "python",
   "pygments_lexer": "ipython3",
   "version": "3.7.6"
  }
 },
 "nbformat": 4,
 "nbformat_minor": 4
}
