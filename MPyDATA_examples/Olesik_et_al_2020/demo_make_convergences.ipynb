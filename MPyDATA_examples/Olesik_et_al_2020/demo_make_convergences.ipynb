{
 "cells": [
  {
   "cell_type": "code",
   "execution_count": 1,
   "metadata": {},
   "outputs": [],
   "source": [
    "import os\n",
    "os.environ[\"NUMBA_DISABLE_JIT\"] = \"1\""
   ]
  },
  {
   "cell_type": "code",
   "execution_count": 2,
   "metadata": {},
   "outputs": [],
   "source": [
    "import sys, os\n",
    "if 'google.colab' in sys.modules:\n",
    "    %cd\n",
    "    % rm -rf MPyDATA\n",
    "    ! git clone --recurse-submodules -j8 https://github.com/Michaeldz36/MPyDATA.git\n",
    "    %cd MPyDATA\n",
    "    ! git checkout develop\n",
    "    ! pip install -U $(cat requirements.txt | cut -d '=' -f 1)\n",
    "else:\n",
    "    sys.path.append(os.path.join(os.getcwd(), '../..'))"
   ]
  },
  {
   "cell_type": "code",
   "execution_count": 3,
   "metadata": {},
   "outputs": [],
   "source": [
    "import numpy as np\n",
    "import matplotlib.pyplot as plt\n",
    "from MPyDATA_examples.Olesik_et_al_2020.setup import Setup\n",
    "from MPyDATA_examples.Olesik_et_al_2020.convergence_plotter  import plot\n",
    "from MPyDATA_examples.Olesik_et_al_2020.coordinates import x_id, x_p2, x_p3, x_log_of_pn\n",
    "from MPyDATA.options import Options\n",
    "from MPyDATA_examples.Olesik_et_al_2020.simulation import Simulation\n",
    "from MPyDATA_examples.utils.show_plot import show_plot\n",
    "from joblib import Parallel, parallel_backend, delayed\n",
    "from MPyDATA_examples.Olesik_et_al_2020.physics.equilibrium_drop_growth import PdfEvolver\n",
    "from MPyDATA.arakawa_c.discretisation import discretised_analytical_solution\n",
    "from MPyDATA_examples.utils.error_norms import L2, Smolarkiewicz_Grabowski_1990_eq21"
   ]
  },
  {
   "cell_type": "code",
   "execution_count": 4,
   "metadata": {},
   "outputs": [],
   "source": [
    "GCs = np.linspace(.05,.95, 5)\n",
    "nrs = np.linspace(16, 512, 5, dtype = int)"
   ]
  },
  {
   "cell_type": "code",
   "execution_count": 5,
   "metadata": {},
   "outputs": [],
   "source": [
    "grid_layout = x_p2()\n",
    "psi_coord = x_p2()\n",
    "setup = Setup()"
   ]
  },
  {
   "cell_type": "code",
   "execution_count": 6,
   "metadata": {},
   "outputs": [],
   "source": [
    "def analysis(setup, GC, opt):\n",
    "    options = Options(**opt)\n",
    "    simulation = Simulation(setup, grid_layout,  psi_coord, options, GC)\n",
    "    simulation.step(simulation.out_steps[-1])\n",
    "    t = simulation.out_steps[-1] * simulation.dt\n",
    "    rh = simulation.rh\n",
    "    pdf_t = PdfEvolver(setup.pdf, setup.drdt, t)\n",
    "    analytical = discretised_analytical_solution(\n",
    "                simulation.rh.magnitude,\n",
    "                lambda r: pdf_t(r * rh.units).magnitude\n",
    "            ) * pdf_t(rh[0]).units\n",
    "    numerical = simulation.n\n",
    "    error = np.log(Smolarkiewicz_Grabowski_1990_eq21(numerical.magnitude, analytical.magnitude, t.magnitude)) / np.log(2)\n",
    "    return setup.nr, GC, error"
   ]
  },
  {
   "cell_type": "code",
   "execution_count": 7,
   "metadata": {},
   "outputs": [],
   "source": [
    "opt_set = (\n",
    "    {'n_iters': 1},\n",
    "     {'n_iters': 2},\n",
    "     {'n_iters': 2,'infinite_gauge':True},\n",
    "     {'n_iters': 2, 'infinite_gauge': True, 'flux_corrected_transport': True},\n",
    "     {'n_iters': 2, 'third_order_terms':True},\n",
    "     {'n_iters': 3},\n",
    "     {'n_iters': 3, 'third_order_terms': True, 'infinite_gauge': True, 'flux_corrected_transport': True}\n",
    ")\n"
   ]
  },
  {
   "cell_type": "code",
   "execution_count": null,
   "metadata": {
    "scrolled": false
   },
   "outputs": [
    {
     "name": "stderr",
     "output_type": "stream",
     "text": [
      "[Parallel(n_jobs=-2)]: Using backend ThreadingBackend with 7 concurrent workers.\n",
      "[Parallel(n_jobs=-2)]: Done   1 tasks      | elapsed:   10.6s\n",
      "[Parallel(n_jobs=-2)]: Done   4 tasks      | elapsed:   47.8s\n",
      "[Parallel(n_jobs=-2)]: Done  11 tasks      | elapsed:  1.4min\n",
      "[Parallel(n_jobs=-2)]: Done  15 out of  25 | elapsed:  1.4min remaining:   56.2s\n",
      "[Parallel(n_jobs=-2)]: Done  18 out of  25 | elapsed:  1.4min remaining:   32.7s\n",
      "[Parallel(n_jobs=-2)]: Done  21 out of  25 | elapsed:  1.4min remaining:   16.4s\n",
      "[Parallel(n_jobs=-2)]: Done  25 out of  25 | elapsed:  1.8min finished\n",
      "No handles with labels found to put in legend.\n"
     ]
    },
    {
     "data": {
      "application/vnd.jupyter.widget-view+json": {
       "model_id": "b22976c41ae9498aafb6cd2db780b5d6",
       "version_major": 2,
       "version_minor": 0
      },
      "text/plain": [
       "VBox(children=(Output(), HTML(value=\"<a href='../utils/output\\\\convergence_log$_2$(err).pdf' target='_blank'>.…"
      ]
     },
     "metadata": {},
     "output_type": "display_data"
    },
    {
     "name": "stderr",
     "output_type": "stream",
     "text": [
      "[Parallel(n_jobs=-2)]: Using backend ThreadingBackend with 7 concurrent workers.\n",
      "[Parallel(n_jobs=-2)]: Done   1 tasks      | elapsed:    9.9s\n",
      "[Parallel(n_jobs=-2)]: Done   4 tasks      | elapsed:   48.5s\n",
      "[Parallel(n_jobs=-2)]: Done  11 tasks      | elapsed:  1.3min\n",
      "[Parallel(n_jobs=-2)]: Done  15 out of  25 | elapsed:  1.3min remaining:   53.7s\n",
      "[Parallel(n_jobs=-2)]: Done  18 out of  25 | elapsed:  1.4min remaining:   32.4s\n",
      "[Parallel(n_jobs=-2)]: Done  21 out of  25 | elapsed:  1.8min remaining:   20.0s\n",
      "[Parallel(n_jobs=-2)]: Done  25 out of  25 | elapsed:  1.9min finished\n",
      "No handles with labels found to put in legend.\n"
     ]
    },
    {
     "data": {
      "application/vnd.jupyter.widget-view+json": {
       "model_id": "b878864827ce4f598c051c4e17553e7d",
       "version_major": 2,
       "version_minor": 0
      },
      "text/plain": [
       "VBox(children=(Output(), HTML(value=\"<a href='../utils/output\\\\convergence_log$_2$(err).pdf' target='_blank'>.…"
      ]
     },
     "metadata": {},
     "output_type": "display_data"
    },
    {
     "name": "stderr",
     "output_type": "stream",
     "text": [
      "[Parallel(n_jobs=-2)]: Using backend ThreadingBackend with 7 concurrent workers.\n",
      "[Parallel(n_jobs=-2)]: Done   1 tasks      | elapsed:    9.7s\n",
      "[Parallel(n_jobs=-2)]: Done   4 tasks      | elapsed:   48.8s\n",
      "[Parallel(n_jobs=-2)]: Done  11 tasks      | elapsed:  1.4min\n",
      "[Parallel(n_jobs=-2)]: Done  15 out of  25 | elapsed:  1.4min remaining:   55.2s\n",
      "[Parallel(n_jobs=-2)]: Done  18 out of  25 | elapsed:  1.4min remaining:   32.1s\n",
      "[Parallel(n_jobs=-2)]: Done  21 out of  25 | elapsed:  1.6min remaining:   18.5s\n",
      "[Parallel(n_jobs=-2)]: Done  25 out of  25 | elapsed:  1.8min finished\n",
      "No handles with labels found to put in legend.\n"
     ]
    },
    {
     "data": {
      "application/vnd.jupyter.widget-view+json": {
       "model_id": "2f792e65bba644b380d18959f399feb7",
       "version_major": 2,
       "version_minor": 0
      },
      "text/plain": [
       "VBox(children=(Output(), HTML(value=\"<a href='../utils/output\\\\convergence_log$_2$(err).pdf' target='_blank'>.…"
      ]
     },
     "metadata": {},
     "output_type": "display_data"
    },
    {
     "name": "stderr",
     "output_type": "stream",
     "text": [
      "[Parallel(n_jobs=-2)]: Using backend ThreadingBackend with 7 concurrent workers.\n",
      "[Parallel(n_jobs=-2)]: Done   1 tasks      | elapsed:   10.1s\n",
      "[Parallel(n_jobs=-2)]: Done   4 tasks      | elapsed:   49.3s\n",
      "[Parallel(n_jobs=-2)]: Done  11 tasks      | elapsed:  1.5min\n",
      "[Parallel(n_jobs=-2)]: Done  15 out of  25 | elapsed:  1.5min remaining:   58.1s\n",
      "[Parallel(n_jobs=-2)]: Done  18 out of  25 | elapsed:  1.5min remaining:   33.9s\n",
      "[Parallel(n_jobs=-2)]: Done  21 out of  25 | elapsed:  1.8min remaining:   20.3s\n",
      "[Parallel(n_jobs=-2)]: Done  25 out of  25 | elapsed:  1.9min finished\n",
      "No handles with labels found to put in legend.\n"
     ]
    },
    {
     "data": {
      "application/vnd.jupyter.widget-view+json": {
       "model_id": "8e2cc535c2e643ea8602bc3b77617549",
       "version_major": 2,
       "version_minor": 0
      },
      "text/plain": [
       "VBox(children=(Output(), HTML(value=\"<a href='../utils/output\\\\convergence_log$_2$(err).pdf' target='_blank'>.…"
      ]
     },
     "metadata": {},
     "output_type": "display_data"
    },
    {
     "name": "stderr",
     "output_type": "stream",
     "text": [
      "[Parallel(n_jobs=-2)]: Using backend ThreadingBackend with 7 concurrent workers.\n",
      "[Parallel(n_jobs=-2)]: Done   1 tasks      | elapsed:   10.2s\n"
     ]
    }
   ],
   "source": [
    "for opt in opt_set:\n",
    "    with parallel_backend('threading', n_jobs=-2):\n",
    "        results0 = Parallel(verbose=10)(\n",
    "            delayed(analysis)(Setup(nr = nr, mixing_ratios_g_kg = [1.2,]), GC, opt)\n",
    "            for nr in nrs\n",
    "            for GC in GCs\n",
    "        )\n",
    "    results = [list(i) for i in zip(*results0)]\n",
    "    plot_setup = np.array(results[0:2])\n",
    "    measures = {'log$_2$(err)':results[2]}\n",
    "    for measure in measures.keys():\n",
    "        plot(plot_setup[0], plot_setup[1], measures[measure], name = measure)\n",
    "        show_plot(filename = f'convergence_{measure}.pdf')"
   ]
  },
  {
   "cell_type": "code",
   "execution_count": null,
   "metadata": {},
   "outputs": [],
   "source": []
  },
  {
   "cell_type": "code",
   "execution_count": null,
   "metadata": {},
   "outputs": [],
   "source": []
  }
 ],
 "metadata": {
  "kernelspec": {
   "display_name": "Python 3",
   "language": "python",
   "name": "python3"
  },
  "language_info": {
   "codemirror_mode": {
    "name": "ipython",
    "version": 3
   },
   "file_extension": ".py",
   "mimetype": "text/x-python",
   "name": "python",
   "nbconvert_exporter": "python",
   "pygments_lexer": "ipython3",
   "version": "3.7.6"
  },
  "pycharm": {
   "stem_cell": {
    "cell_type": "raw",
    "metadata": {
     "collapsed": false
    },
    "source": []
   }
  }
 },
 "nbformat": 4,
 "nbformat_minor": 4
}
