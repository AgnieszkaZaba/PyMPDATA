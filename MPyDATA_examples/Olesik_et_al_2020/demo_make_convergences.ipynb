{
 "cells": [
  {
   "cell_type": "code",
   "execution_count": 1,
   "metadata": {},
   "outputs": [],
   "source": [
    "import sys\n",
    "sys.path.insert(0, \"../..\")"
   ]
  },
  {
   "cell_type": "code",
   "execution_count": 2,
   "metadata": {},
   "outputs": [],
   "source": [
    "import numpy as np\n",
    "import matplotlib.pyplot as plt\n",
    "from MPyDATA_examples.Olesik_et_al_2020.setup import Setup\n",
    "from MPyDATA_examples.Olesik_et_al_2020.demo_plot_convergence  import plot\n",
    "from MPyDATA_examples.Olesik_et_al_2020.coordinates import x_id, x_p2, x_p3, x_log_of_pn\n",
    "from MPyDATA.options import Options\n",
    "from MPyDATA_examples.Olesik_et_al_2020.simulation import Simulation\n",
    "from MPyDATA_examples.utils.show_plot import show_plot\n",
    "from joblib import Parallel, parallel_backend, delayed\n",
    "from MPyDATA_examples.Olesik_et_al_2020.physics.equilibrium_drop_growth import PdfEvolver\n",
    "from MPyDATA.arakawa_c.discretisation import discretised_analytical_solution\n",
    "from MPyDATA_examples.utils.error_norms import L2, GMD"
   ]
  },
  {
   "cell_type": "code",
   "execution_count": 3,
   "metadata": {},
   "outputs": [],
   "source": [
    "GCs = np.linspace(.15,.85, 7)\n",
    "nrs = np.linspace(64,256, 7, dtype = int)"
   ]
  },
  {
   "cell_type": "code",
   "execution_count": 4,
   "metadata": {},
   "outputs": [],
   "source": [
    "grid_layout = x_p2()\n",
    "psi_coord = x_p2()\n",
    "setup = Setup()"
   ]
  },
  {
   "cell_type": "code",
   "execution_count": 5,
   "metadata": {},
   "outputs": [],
   "source": [
    "def analysis(nr, GC, opt):\n",
    "    setup = Setup(nr = nr, mixing_ratios_g_kg = [1,4])\n",
    "    options = Options(**opt)\n",
    "    simulation = Simulation(setup, grid_layout,  psi_coord, options, GC)\n",
    "    simulation.step(simulation.out_steps[-1])\n",
    "    t = simulation.out_steps[-1] * simulation.dt\n",
    "    rh = simulation.rh\n",
    "    pdf_t = PdfEvolver(setup.pdf, setup.drdt, t)\n",
    "    analytical = discretised_analytical_solution(\n",
    "                simulation.rh.magnitude,\n",
    "                lambda r: pdf_t(r * rh.units).magnitude\n",
    "            ) * pdf_t(rh[0]).units\n",
    "    numerical = simulation.n\n",
    "    loc_of_maximum_num = simulation.r[np.argmax(numerical)]\n",
    "    loc_of_maximum_anal = simulation.r[np.argmax(analytical)]\n",
    "    maximum_num = np.max(numerical)\n",
    "    maximum_anal = np.max(analytical)\n",
    "    measure_location = (loc_of_maximum_num / loc_of_maximum_anal).magnitude\n",
    "    measure_height = (maximum_num / maximum_anal).magnitude\n",
    "    error_L2 = L2(numerical.magnitude, analytical.magnitude, simulation.out_steps[-1])\n",
    "    error_GMD = np.log(GMD(numerical.magnitude, analytical.magnitude, t.magnitude)) / np.log(2)\n",
    "    return nr, GC, error_GMD, measure_location, measure_height"
   ]
  },
  {
   "cell_type": "code",
   "execution_count": 6,
   "metadata": {},
   "outputs": [],
   "source": [
    "opt_set = (\n",
    "    {'n_iters': 1},\n",
    "     {'n_iters': 2},\n",
    "     {'n_iters': 2,'infinite_gauge':True},\n",
    "     {'n_iters': 2, 'infinite_gauge': True, 'flux_corrected_transport': True},\n",
    "     {'n_iters': 2, 'third_order_terms':True},\n",
    "     {'n_iters': 3},\n",
    "     {'n_iters': 3, 'third_order_terms': True, 'infinite_gauge': True, 'flux_corrected_transport': True}\n",
    ")\n"
   ]
  },
  {
   "cell_type": "code",
   "execution_count": 7,
   "metadata": {
    "scrolled": false
   },
   "outputs": [
    {
     "name": "stderr",
     "output_type": "stream",
     "text": [
      "[Parallel(n_jobs=-2)]: Using backend ThreadingBackend with 7 concurrent workers.\n",
      "[Parallel(n_jobs=-2)]: Done   4 tasks      | elapsed:   52.3s\n",
      "[Parallel(n_jobs=-2)]: Done  11 tasks      | elapsed:  1.9min\n",
      "[Parallel(n_jobs=-2)]: Done  18 tasks      | elapsed:  3.0min\n",
      "[Parallel(n_jobs=-2)]: Done  27 tasks      | elapsed:  4.5min\n",
      "[Parallel(n_jobs=-2)]: Done  36 tasks      | elapsed:  6.1min\n",
      "[Parallel(n_jobs=-2)]: Done  41 out of  49 | elapsed:  7.1min remaining:  1.4min\n",
      "[Parallel(n_jobs=-2)]: Done  46 out of  49 | elapsed:  7.9min remaining:   30.7s\n",
      "[Parallel(n_jobs=-2)]: Done  49 out of  49 | elapsed:  8.3min finished\n",
      "No handles with labels found to put in legend.\n"
     ]
    },
    {
     "data": {
      "application/vnd.jupyter.widget-view+json": {
       "model_id": "16848973fb76465da2ab714b38366a59",
       "version_major": 2,
       "version_minor": 0
      },
      "text/plain": [
       "VBox(children=(Output(), HTML(value=\"<a href='../utils/output\\\\convergence_log$_2$(err).pdf' target='_blank'>.…"
      ]
     },
     "metadata": {},
     "output_type": "display_data"
    },
    {
     "name": "stderr",
     "output_type": "stream",
     "text": [
      "../..\\MPyDATA_examples\\Olesik_et_al_2020\\demo_plot_convergence.py:75: UserWarning: No contour levels were found within the data range.\n",
      "  fig.gca().contour(xi, yi, zi, levels, linewidths=1, colors='k')\n",
      "No handles with labels found to put in legend.\n"
     ]
    },
    {
     "data": {
      "application/vnd.jupyter.widget-view+json": {
       "model_id": "66683985da51424389337c306edec9d5",
       "version_major": 2,
       "version_minor": 0
      },
      "text/plain": [
       "VBox(children=(Output(), HTML(value=\"<a href='../utils/output\\\\convergence_location ratio.pdf' target='_blank'…"
      ]
     },
     "metadata": {},
     "output_type": "display_data"
    },
    {
     "name": "stderr",
     "output_type": "stream",
     "text": [
      "No handles with labels found to put in legend.\n"
     ]
    },
    {
     "data": {
      "application/vnd.jupyter.widget-view+json": {
       "model_id": "f1117082c5334d36bbf0e1191e608303",
       "version_major": 2,
       "version_minor": 0
      },
      "text/plain": [
       "VBox(children=(Output(), HTML(value=\"<a href='../utils/output\\\\convergence_height ratio.pdf' target='_blank'>.…"
      ]
     },
     "metadata": {},
     "output_type": "display_data"
    },
    {
     "name": "stderr",
     "output_type": "stream",
     "text": [
      "[Parallel(n_jobs=-2)]: Using backend ThreadingBackend with 7 concurrent workers.\n",
      "[Parallel(n_jobs=-2)]: Done   4 tasks      | elapsed:   59.1s\n",
      "[Parallel(n_jobs=-2)]: Done  11 tasks      | elapsed:  2.2min\n",
      "[Parallel(n_jobs=-2)]: Done  18 tasks      | elapsed:  3.5min\n",
      "[Parallel(n_jobs=-2)]: Done  27 tasks      | elapsed:  5.3min\n",
      "[Parallel(n_jobs=-2)]: Done  36 tasks      | elapsed:  7.2min\n",
      "[Parallel(n_jobs=-2)]: Done  41 out of  49 | elapsed:  8.3min remaining:  1.6min\n",
      "[Parallel(n_jobs=-2)]: Done  46 out of  49 | elapsed:  9.2min remaining:   35.8s\n",
      "[Parallel(n_jobs=-2)]: Done  49 out of  49 | elapsed:  9.7min finished\n",
      "No handles with labels found to put in legend.\n"
     ]
    },
    {
     "data": {
      "application/vnd.jupyter.widget-view+json": {
       "model_id": "504ce0064dc44a9b8b5298a1cff40844",
       "version_major": 2,
       "version_minor": 0
      },
      "text/plain": [
       "VBox(children=(Output(), HTML(value=\"<a href='../utils/output\\\\convergence_log$_2$(err).pdf' target='_blank'>.…"
      ]
     },
     "metadata": {},
     "output_type": "display_data"
    },
    {
     "name": "stderr",
     "output_type": "stream",
     "text": [
      "../..\\MPyDATA_examples\\Olesik_et_al_2020\\demo_plot_convergence.py:75: UserWarning: No contour levels were found within the data range.\n",
      "  fig.gca().contour(xi, yi, zi, levels, linewidths=1, colors='k')\n",
      "No handles with labels found to put in legend.\n"
     ]
    },
    {
     "data": {
      "application/vnd.jupyter.widget-view+json": {
       "model_id": "1cde2702c8f7436db9c1e345dd087025",
       "version_major": 2,
       "version_minor": 0
      },
      "text/plain": [
       "VBox(children=(Output(), HTML(value=\"<a href='../utils/output\\\\convergence_location ratio.pdf' target='_blank'…"
      ]
     },
     "metadata": {},
     "output_type": "display_data"
    },
    {
     "name": "stderr",
     "output_type": "stream",
     "text": [
      "No handles with labels found to put in legend.\n"
     ]
    },
    {
     "data": {
      "application/vnd.jupyter.widget-view+json": {
       "model_id": "ab1be491d81a4f9daf1eff93252e84a0",
       "version_major": 2,
       "version_minor": 0
      },
      "text/plain": [
       "VBox(children=(Output(), HTML(value=\"<a href='../utils/output\\\\convergence_height ratio.pdf' target='_blank'>.…"
      ]
     },
     "metadata": {},
     "output_type": "display_data"
    },
    {
     "name": "stderr",
     "output_type": "stream",
     "text": [
      "[Parallel(n_jobs=-2)]: Using backend ThreadingBackend with 7 concurrent workers.\n",
      "[Parallel(n_jobs=-2)]: Done   4 tasks      | elapsed:  1.0min\n",
      "[Parallel(n_jobs=-2)]: Done  11 tasks      | elapsed:  2.3min\n",
      "[Parallel(n_jobs=-2)]: Done  18 tasks      | elapsed:  3.6min\n",
      "[Parallel(n_jobs=-2)]: Done  27 tasks      | elapsed:  5.4min\n",
      "[Parallel(n_jobs=-2)]: Done  36 tasks      | elapsed:  7.4min\n",
      "[Parallel(n_jobs=-2)]: Done  41 out of  49 | elapsed:  8.5min remaining:  1.7min\n",
      "[Parallel(n_jobs=-2)]: Done  46 out of  49 | elapsed:  9.4min remaining:   36.9s\n",
      "[Parallel(n_jobs=-2)]: Done  49 out of  49 | elapsed:  9.9min finished\n",
      "No handles with labels found to put in legend.\n"
     ]
    },
    {
     "data": {
      "application/vnd.jupyter.widget-view+json": {
       "model_id": "38f047ef4e7d49e79d0dd0fc816d541d",
       "version_major": 2,
       "version_minor": 0
      },
      "text/plain": [
       "VBox(children=(Output(), HTML(value=\"<a href='../utils/output\\\\convergence_log$_2$(err).pdf' target='_blank'>.…"
      ]
     },
     "metadata": {},
     "output_type": "display_data"
    },
    {
     "name": "stderr",
     "output_type": "stream",
     "text": [
      "../..\\MPyDATA_examples\\Olesik_et_al_2020\\demo_plot_convergence.py:75: UserWarning: No contour levels were found within the data range.\n",
      "  fig.gca().contour(xi, yi, zi, levels, linewidths=1, colors='k')\n",
      "No handles with labels found to put in legend.\n"
     ]
    },
    {
     "data": {
      "application/vnd.jupyter.widget-view+json": {
       "model_id": "e854c0cd5da64518b38a72d273d3f0c6",
       "version_major": 2,
       "version_minor": 0
      },
      "text/plain": [
       "VBox(children=(Output(), HTML(value=\"<a href='../utils/output\\\\convergence_location ratio.pdf' target='_blank'…"
      ]
     },
     "metadata": {},
     "output_type": "display_data"
    },
    {
     "name": "stderr",
     "output_type": "stream",
     "text": [
      "No handles with labels found to put in legend.\n"
     ]
    },
    {
     "data": {
      "application/vnd.jupyter.widget-view+json": {
       "model_id": "72c5d05cc8b84736a54e800452b427a5",
       "version_major": 2,
       "version_minor": 0
      },
      "text/plain": [
       "VBox(children=(Output(), HTML(value=\"<a href='../utils/output\\\\convergence_height ratio.pdf' target='_blank'>.…"
      ]
     },
     "metadata": {},
     "output_type": "display_data"
    },
    {
     "name": "stderr",
     "output_type": "stream",
     "text": [
      "[Parallel(n_jobs=-2)]: Using backend ThreadingBackend with 7 concurrent workers.\n",
      "[Parallel(n_jobs=-2)]: Done   4 tasks      | elapsed:  1.6min\n",
      "[Parallel(n_jobs=-2)]: Done  11 tasks      | elapsed:  7.3min\n",
      "[Parallel(n_jobs=-2)]: Done  18 tasks      | elapsed:  9.6min\n",
      "[Parallel(n_jobs=-2)]: Done  27 tasks      | elapsed: 12.9min\n",
      "[Parallel(n_jobs=-2)]: Done  36 tasks      | elapsed: 20.2min\n",
      "[Parallel(n_jobs=-2)]: Done  41 out of  49 | elapsed: 24.4min remaining:  4.8min\n",
      "[Parallel(n_jobs=-2)]: Done  46 out of  49 | elapsed: 28.1min remaining:  1.8min\n",
      "[Parallel(n_jobs=-2)]: Done  49 out of  49 | elapsed: 30.2min finished\n",
      "No handles with labels found to put in legend.\n"
     ]
    },
    {
     "data": {
      "application/vnd.jupyter.widget-view+json": {
       "model_id": "c7bcbc6bec394663a1e682218410f579",
       "version_major": 2,
       "version_minor": 0
      },
      "text/plain": [
       "VBox(children=(Output(), HTML(value=\"<a href='../utils/output\\\\convergence_log$_2$(err).pdf' target='_blank'>.…"
      ]
     },
     "metadata": {},
     "output_type": "display_data"
    },
    {
     "name": "stderr",
     "output_type": "stream",
     "text": [
      "No handles with labels found to put in legend.\n"
     ]
    },
    {
     "data": {
      "application/vnd.jupyter.widget-view+json": {
       "model_id": "354b5e54c24241129227704b7abb5b8c",
       "version_major": 2,
       "version_minor": 0
      },
      "text/plain": [
       "VBox(children=(Output(), HTML(value=\"<a href='../utils/output\\\\convergence_location ratio.pdf' target='_blank'…"
      ]
     },
     "metadata": {},
     "output_type": "display_data"
    },
    {
     "name": "stderr",
     "output_type": "stream",
     "text": [
      "No handles with labels found to put in legend.\n"
     ]
    },
    {
     "data": {
      "application/vnd.jupyter.widget-view+json": {
       "model_id": "31fd15660e464862a90b1194c0a83847",
       "version_major": 2,
       "version_minor": 0
      },
      "text/plain": [
       "VBox(children=(Output(), HTML(value=\"<a href='../utils/output\\\\convergence_height ratio.pdf' target='_blank'>.…"
      ]
     },
     "metadata": {},
     "output_type": "display_data"
    },
    {
     "name": "stderr",
     "output_type": "stream",
     "text": [
      "[Parallel(n_jobs=-2)]: Using backend ThreadingBackend with 7 concurrent workers.\n",
      "[Parallel(n_jobs=-2)]: Done   4 tasks      | elapsed:  2.6min\n",
      "[Parallel(n_jobs=-2)]: Done  11 tasks      | elapsed:  5.8min\n",
      "[Parallel(n_jobs=-2)]: Done  18 tasks      | elapsed:  9.1min\n",
      "[Parallel(n_jobs=-2)]: Done  27 tasks      | elapsed: 13.6min\n",
      "[Parallel(n_jobs=-2)]: Done  36 tasks      | elapsed: 18.5min\n",
      "[Parallel(n_jobs=-2)]: Done  41 out of  49 | elapsed: 21.4min remaining:  4.2min\n",
      "[Parallel(n_jobs=-2)]: Done  46 out of  49 | elapsed: 23.8min remaining:  1.5min\n",
      "[Parallel(n_jobs=-2)]: Done  49 out of  49 | elapsed: 24.9min finished\n",
      "No handles with labels found to put in legend.\n"
     ]
    },
    {
     "data": {
      "application/vnd.jupyter.widget-view+json": {
       "model_id": "2e2abccd09bd42c7af99dc4078b6d83f",
       "version_major": 2,
       "version_minor": 0
      },
      "text/plain": [
       "VBox(children=(Output(), HTML(value=\"<a href='../utils/output\\\\convergence_log$_2$(err).pdf' target='_blank'>.…"
      ]
     },
     "metadata": {},
     "output_type": "display_data"
    },
    {
     "name": "stderr",
     "output_type": "stream",
     "text": [
      "No handles with labels found to put in legend.\n"
     ]
    },
    {
     "data": {
      "application/vnd.jupyter.widget-view+json": {
       "model_id": "bfd15419b61044b0969268a2b9218d4b",
       "version_major": 2,
       "version_minor": 0
      },
      "text/plain": [
       "VBox(children=(Output(), HTML(value=\"<a href='../utils/output\\\\convergence_location ratio.pdf' target='_blank'…"
      ]
     },
     "metadata": {},
     "output_type": "display_data"
    },
    {
     "name": "stderr",
     "output_type": "stream",
     "text": [
      "No handles with labels found to put in legend.\n"
     ]
    },
    {
     "data": {
      "application/vnd.jupyter.widget-view+json": {
       "model_id": "a7507650283b40b1828c02ea68a5d076",
       "version_major": 2,
       "version_minor": 0
      },
      "text/plain": [
       "VBox(children=(Output(), HTML(value=\"<a href='../utils/output\\\\convergence_height ratio.pdf' target='_blank'>.…"
      ]
     },
     "metadata": {},
     "output_type": "display_data"
    },
    {
     "name": "stderr",
     "output_type": "stream",
     "text": [
      "[Parallel(n_jobs=-2)]: Using backend ThreadingBackend with 7 concurrent workers.\n",
      "../..\\MPyDATA_examples\\Olesik_et_al_2020\\setup.py:49: IntegrationWarning: The integral is probably divergent, or slowly convergent.\n",
      "  )[0] * yunit * xunit ** 4\n",
      "[Parallel(n_jobs=-2)]: Done   4 tasks      | elapsed:  2.9min\n",
      "[Parallel(n_jobs=-2)]: Done  11 tasks      | elapsed:  6.2min\n",
      "[Parallel(n_jobs=-2)]: Done  18 tasks      | elapsed:  9.8min\n",
      "[Parallel(n_jobs=-2)]: Done  27 tasks      | elapsed: 14.6min\n",
      "[Parallel(n_jobs=-2)]: Done  36 tasks      | elapsed: 19.9min\n",
      "[Parallel(n_jobs=-2)]: Done  41 out of  49 | elapsed: 22.5min remaining:  4.4min\n",
      "[Parallel(n_jobs=-2)]: Done  46 out of  49 | elapsed: 25.2min remaining:  1.6min\n",
      "[Parallel(n_jobs=-2)]: Done  49 out of  49 | elapsed: 26.4min finished\n",
      "No handles with labels found to put in legend.\n"
     ]
    },
    {
     "data": {
      "application/vnd.jupyter.widget-view+json": {
       "model_id": "e97930193ed64ef2b58e885e0769d2c3",
       "version_major": 2,
       "version_minor": 0
      },
      "text/plain": [
       "VBox(children=(Output(), HTML(value=\"<a href='../utils/output\\\\convergence_log$_2$(err).pdf' target='_blank'>.…"
      ]
     },
     "metadata": {},
     "output_type": "display_data"
    },
    {
     "name": "stderr",
     "output_type": "stream",
     "text": [
      "../..\\MPyDATA_examples\\Olesik_et_al_2020\\demo_plot_convergence.py:75: UserWarning: No contour levels were found within the data range.\n",
      "  fig.gca().contour(xi, yi, zi, levels, linewidths=1, colors='k')\n",
      "No handles with labels found to put in legend.\n"
     ]
    },
    {
     "data": {
      "application/vnd.jupyter.widget-view+json": {
       "model_id": "7b5f379d6696479087be4469803affb6",
       "version_major": 2,
       "version_minor": 0
      },
      "text/plain": [
       "VBox(children=(Output(), HTML(value=\"<a href='../utils/output\\\\convergence_location ratio.pdf' target='_blank'…"
      ]
     },
     "metadata": {},
     "output_type": "display_data"
    },
    {
     "name": "stderr",
     "output_type": "stream",
     "text": [
      "No handles with labels found to put in legend.\n"
     ]
    },
    {
     "data": {
      "application/vnd.jupyter.widget-view+json": {
       "model_id": "e90eb76201a841e9b4cd7d05b5b02871",
       "version_major": 2,
       "version_minor": 0
      },
      "text/plain": [
       "VBox(children=(Output(), HTML(value=\"<a href='../utils/output\\\\convergence_height ratio.pdf' target='_blank'>.…"
      ]
     },
     "metadata": {},
     "output_type": "display_data"
    },
    {
     "name": "stderr",
     "output_type": "stream",
     "text": [
      "[Parallel(n_jobs=-2)]: Using backend ThreadingBackend with 7 concurrent workers.\n",
      "../..\\MPyDATA_examples\\Olesik_et_al_2020\\setup.py:49: IntegrationWarning: The integral is probably divergent, or slowly convergent.\n",
      "  )[0] * yunit * xunit ** 4\n",
      "[Parallel(n_jobs=-2)]: Done   4 tasks      | elapsed:  4.2min\n",
      "[Parallel(n_jobs=-2)]: Done  11 tasks      | elapsed: 10.8min\n",
      "[Parallel(n_jobs=-2)]: Done  18 tasks      | elapsed: 17.2min\n",
      "[Parallel(n_jobs=-2)]: Done  27 tasks      | elapsed: 25.3min\n",
      "[Parallel(n_jobs=-2)]: Done  36 tasks      | elapsed: 33.9min\n",
      "[Parallel(n_jobs=-2)]: Done  41 out of  49 | elapsed: 38.6min remaining:  7.5min\n",
      "[Parallel(n_jobs=-2)]: Done  46 out of  49 | elapsed: 43.1min remaining:  2.8min\n",
      "[Parallel(n_jobs=-2)]: Done  49 out of  49 | elapsed: 45.7min finished\n",
      "No handles with labels found to put in legend.\n"
     ]
    },
    {
     "data": {
      "application/vnd.jupyter.widget-view+json": {
       "model_id": "5c457f6b7a134ef8b3f341fc69e4059b",
       "version_major": 2,
       "version_minor": 0
      },
      "text/plain": [
       "VBox(children=(Output(), HTML(value=\"<a href='../utils/output\\\\convergence_log$_2$(err).pdf' target='_blank'>.…"
      ]
     },
     "metadata": {},
     "output_type": "display_data"
    },
    {
     "name": "stderr",
     "output_type": "stream",
     "text": [
      "../..\\MPyDATA_examples\\Olesik_et_al_2020\\demo_plot_convergence.py:75: UserWarning: No contour levels were found within the data range.\n",
      "  fig.gca().contour(xi, yi, zi, levels, linewidths=1, colors='k')\n",
      "No handles with labels found to put in legend.\n"
     ]
    },
    {
     "data": {
      "application/vnd.jupyter.widget-view+json": {
       "model_id": "6fff508767ab41bab01d0d0bcdf46c6d",
       "version_major": 2,
       "version_minor": 0
      },
      "text/plain": [
       "VBox(children=(Output(), HTML(value=\"<a href='../utils/output\\\\convergence_location ratio.pdf' target='_blank'…"
      ]
     },
     "metadata": {},
     "output_type": "display_data"
    },
    {
     "name": "stderr",
     "output_type": "stream",
     "text": [
      "../..\\MPyDATA_examples\\Olesik_et_al_2020\\demo_plot_convergence.py:75: UserWarning: No contour levels were found within the data range.\n",
      "  fig.gca().contour(xi, yi, zi, levels, linewidths=1, colors='k')\n",
      "No handles with labels found to put in legend.\n"
     ]
    },
    {
     "data": {
      "application/vnd.jupyter.widget-view+json": {
       "model_id": "13ea526007494c2eaec5058c9f21eb9b",
       "version_major": 2,
       "version_minor": 0
      },
      "text/plain": [
       "VBox(children=(Output(), HTML(value=\"<a href='../utils/output\\\\convergence_height ratio.pdf' target='_blank'>.…"
      ]
     },
     "metadata": {},
     "output_type": "display_data"
    }
   ],
   "source": [
    "for opt in opt_set:\n",
    "    with parallel_backend('threading', n_jobs=-2):\n",
    "        results0 = Parallel(verbose=10)(\n",
    "            delayed(analysis)(nr, GC, opt)\n",
    "            for nr in nrs\n",
    "            for GC in GCs\n",
    "        )\n",
    "    results = [list(i) for i in zip(*results0)]\n",
    "    plot_setup = np.array(results[0:2])\n",
    "    measures = {'log$_2$(err)':results[2], 'location ratio':results[3], 'height ratio':results[4]}\n",
    "    for measure in measures.keys():\n",
    "        plot(plot_setup[0], plot_setup[1], measures[measure], name = measure, n_levels = 10)\n",
    "        show_plot(filename = f'convergence_{measure}.pdf')"
   ]
  },
  {
   "cell_type": "code",
   "execution_count": null,
   "metadata": {},
   "outputs": [],
   "source": []
  },
  {
   "cell_type": "code",
   "execution_count": null,
   "metadata": {},
   "outputs": [],
   "source": []
  }
 ],
 "metadata": {
  "kernelspec": {
   "display_name": "Python 3",
   "language": "python",
   "name": "python3"
  },
  "language_info": {
   "codemirror_mode": {
    "name": "ipython",
    "version": 3
   },
   "file_extension": ".py",
   "mimetype": "text/x-python",
   "name": "python",
   "nbconvert_exporter": "python",
   "pygments_lexer": "ipython3",
   "version": "3.7.6"
  }
 },
 "nbformat": 4,
 "nbformat_minor": 4
}
