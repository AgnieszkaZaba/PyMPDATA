{
 "cells": [
  {
   "cell_type": "code",
   "execution_count": 1,
   "metadata": {},
   "outputs": [],
   "source": [
    "import sys, os\n",
    "if 'google.colab' in sys.modules:\n",
    "    %cd\n",
    "    % rm -rf MPyDATA\n",
    "    ! git clone --recurse-submodules -j8 https://github.com/Michaeldz36/MPyDATA.git\n",
    "    %cd MPyDATA\n",
    "    ! git checkout develop\n",
    "    ! pip install -U $(cat requirements.txt | cut -d '=' -f 1)\n",
    "else:\n",
    "    sys.path.append(os.path.join(os.getcwd(), '../..'))"
   ]
  },
  {
   "cell_type": "code",
   "execution_count": 2,
   "metadata": {},
   "outputs": [],
   "source": [
    "import numpy as np\n",
    "import matplotlib.pyplot as plt\n",
    "from MPyDATA_examples.Olesik_et_al_2020.setup import Setup, default_opt_set\n",
    "from MPyDATA_examples.Olesik_et_al_2020.coordinates import x_id, x_p2, x_p3, x_log_of_pn\n",
    "from MPyDATA.options import Options\n",
    "from MPyDATA_examples.Olesik_et_al_2020.simulation import Simulation\n",
    "from MPyDATA_examples.utils.show_plot import show_plot\n",
    "from joblib import Parallel, parallel_backend, delayed\n",
    "from MPyDATA_examples.Olesik_et_al_2020.physics.equilibrium_drop_growth import PdfEvolver\n",
    "from MPyDATA.arakawa_c.discretisation import discretised_analytical_solution\n",
    "from MPyDATA_examples.utils.error_norms import L2, Smolarkiewicz_Grabowski_1990_eq21, modified_Smolarkiewicz_Rasch_r0\n",
    "from MPyDATA_examples.Olesik_et_al_2020.convergence_plotter  import polar_plot\n",
    "from MPyDATA_examples.Olesik_et_al_2020.analysis  import rel_disp"
   ]
  },
  {
   "cell_type": "code",
   "execution_count": 3,
   "metadata": {},
   "outputs": [],
   "source": [
    "GCs = np.linspace(.05,.95, 2)\n",
    "nrs = np.array([2**n for n in range(10, 12)], dtype=int)"
   ]
  },
  {
   "cell_type": "code",
   "execution_count": 4,
   "metadata": {},
   "outputs": [],
   "source": [
    "grid_layout = x_p2()\n",
    "psi_coord = x_p2()\n",
    "setup = Setup()"
   ]
  },
  {
   "cell_type": "code",
   "execution_count": 5,
   "metadata": {},
   "outputs": [],
   "source": [
    "def analysis(setup, GC, opt):\n",
    "    options = Options(**opt)\n",
    "    simulation = Simulation(setup, grid_layout,  psi_coord, options, GC)\n",
    "    simulation.step(simulation.out_steps[-1])\n",
    "    t = simulation.out_steps[-1] * simulation.dt\n",
    "    rh = simulation.rh\n",
    "    pdf_t = PdfEvolver(setup.pdf, setup.drdt, t)\n",
    "    def pdf_arg(r):\n",
    "        return pdf_t(r* rh.units).magnitude\n",
    "    analytical = discretised_analytical_solution(\n",
    "                simulation.rh.magnitude,\n",
    "                pdf_arg, midpoint_value = True\n",
    "            ) * pdf_t(rh[0]).units\n",
    "    numerical = simulation.n_of_r\n",
    "    psi = simulation.psi\n",
    "    g_factor = simulation.g_factor\n",
    "    dp_dr = simulation.dp_dr\n",
    "\n",
    "    \n",
    "    maximum_numeric = np.max(numerical)\n",
    "    maximum_analytic = np.max(analytical)\n",
    "    measure_height = (maximum_numeric / maximum_analytic).magnitude\n",
    "    \n",
    "    dif = analytical-numerical\n",
    "    measure_h_2 =  (1/t * np.sqrt( 1/len(dif) * dif.dot(dif))).magnitude\n",
    "  \n",
    "    numeric_rel_d = rel_disp(rh, numerical/dp_dr, psi_coord)\n",
    "    analytic_rel_d = rel_disp(rh, analytical/dp_dr, psi_coord)\n",
    "    print(\"analytic rd\", analytic_rel_d)\n",
    "    print(\"numeric rd\", numeric_rel_d)\n",
    "    dispersion_ratio = numeric_rel_d / analytic_rel_d\n",
    "    print(\"dispersion ratio\", dispersion_ratio)\n",
    "    print(\"\\n\")\n",
    "\n",
    "    error = np.log2(Smolarkiewicz_Grabowski_1990_eq21(numerical.magnitude, analytical.magnitude, t.magnitude))\n",
    "    error_g = np.log2(Smolarkiewicz_Grabowski_1990_eq21(g_factor * psi.magnitude, g_factor * analytical.magnitude / dp_dr, t.magnitude))\n",
    "    error_r0 = np.log2(modified_Smolarkiewicz_Rasch_r0(psi.magnitude, analytical.magnitude /dp_dr, t.magnitude, g_factor))\n",
    "    \n",
    "    return setup.nr, GC, error, error_g, error_r0, measure_height, measure_h_2"
   ]
  },
  {
   "cell_type": "code",
   "execution_count": 6,
   "metadata": {},
   "outputs": [],
   "source": [
    "opts = default_opt_set\n",
    "def replace_names(opt):\n",
    "    str_repl = [[\"'n_iters': 1\",\"upwind\"],\n",
    "                [\"'n_iters': 2\",\"MPDATA 2 iterations\"],\n",
    "                [\"'n_iters': 3\",\"MPDATA 3 iterations\"],\n",
    "                [\"'\",\"\"],\n",
    "                [\": True\",\"\"],\n",
    "                [\"_\", \" \"],\n",
    "                [\"{\",\"\"],[\"}\",\"\"],[\",\",\" \"]]                            \n",
    "    for repl in str_repl:\n",
    "        opt = str(opt).replace(repl[0], repl[1])\n",
    "    return opt"
   ]
  },
  {
   "cell_type": "code",
   "execution_count": null,
   "metadata": {
    "scrolled": false
   },
   "outputs": [
    {
     "name": "stderr",
     "output_type": "stream",
     "text": [
      "[Parallel(n_jobs=-2)]: Using backend ThreadingBackend with 7 concurrent workers.\n"
     ]
    },
    {
     "name": "stdout",
     "output_type": "stream",
     "text": [
      "analytic rd 0.33887085624835805 dimensionless\n",
      "numeric rd 0.3390012615660498 dimensionless\n",
      "dispersion ratio 1.000384823053642 dimensionless\n",
      "\n",
      "\n",
      "analytic rd 0.33887085624835805 dimensionless\n",
      "numeric rd 0.3391131081258542 dimensionless\n",
      "dispersion ratio 1.0007148796452374 dimensionless\n",
      "\n",
      "\n",
      "analytic rd 0.33979386972283987 dimensionless\n",
      "numeric rd 0.34013006087753955 dimensionless\n",
      "dispersion ratio 1.0009893973513233 dimensionless\n",
      "\n",
      "\n",
      "analytic rd 0.3381369516142046 dimensionless\n",
      "numeric rd 0.33815461286260456 dimensionless\n",
      "dispersion ratio 1.0000522310511042 dimensionless\n",
      "\n",
      "\n",
      "analytic rd 0.3395197324738302 dimensionless\n",
      "numeric rd 0.339637489363135 dimensionless\n",
      "dispersion ratio 1.0003468337125703 dimensionless\n",
      "\n",
      "\n"
     ]
    },
    {
     "name": "stderr",
     "output_type": "stream",
     "text": [
      "[Parallel(n_jobs=-2)]: Done   5 out of  16 | elapsed:  1.1min remaining:  2.5min\n"
     ]
    },
    {
     "name": "stdout",
     "output_type": "stream",
     "text": [
      "analytic rd 0.3388741836071025 dimensionless\n",
      "numeric rd 0.33893971306620396 dimensionless\n",
      "dispersion ratio 1.0001933740080284 dimensionless\n",
      "\n",
      "\n",
      "analytic rd 0.33979734211502066 dimensionless\n",
      "numeric rd 0.3399665968204824 dimensionless\n",
      "dispersion ratio 1.0004981048539352 dimensionless\n",
      "\n",
      "\n"
     ]
    },
    {
     "name": "stderr",
     "output_type": "stream",
     "text": [
      "[Parallel(n_jobs=-2)]: Done   7 out of  16 | elapsed:  1.5min remaining:  1.9min\n"
     ]
    },
    {
     "name": "stdout",
     "output_type": "stream",
     "text": [
      "analytic rd 0.33814016720523987 dimensionless\n",
      "numeric rd 0.33814945375746097 dimensionless\n",
      "dispersion ratio 1.0000274636175224 dimensionless\n",
      "\n",
      "\n",
      "analytic rd 0.3398445358450252 dimensionless\n",
      "numeric rd 0.3399292384175626 dimensionless\n",
      "dispersion ratio 1.0002492391773397 dimensionless\n",
      "\n",
      "\n"
     ]
    },
    {
     "name": "stderr",
     "output_type": "stream",
     "text": [
      "[Parallel(n_jobs=-2)]: Done   9 out of  16 | elapsed:  1.9min remaining:  1.5min\n"
     ]
    },
    {
     "name": "stdout",
     "output_type": "stream",
     "text": [
      "analytic rd 0.3398445358450252 dimensionless\n",
      "numeric rd 0.3399025477313718 dimensionless\n",
      "dispersion ratio 1.0001707012478582 dimensionless\n",
      "\n",
      "\n",
      "analytic rd 0.33947437483406295 dimensionless\n",
      "numeric rd 0.3395062243091492 dimensionless\n",
      "dispersion ratio 1.0000938199683018 dimensionless\n",
      "\n",
      "\n"
     ]
    },
    {
     "name": "stderr",
     "output_type": "stream",
     "text": [
      "[Parallel(n_jobs=-2)]: Done  11 out of  16 | elapsed:  2.3min remaining:  1.1min\n"
     ]
    },
    {
     "name": "stdout",
     "output_type": "stream",
     "text": [
      "analytic rd 0.33901309361260157 dimensionless\n",
      "numeric rd 0.3390176495619824 dimensionless\n",
      "dispersion ratio 1.000013438859639 dimensionless\n",
      "\n",
      "\n",
      "analytic rd 0.3398447533568122 dimensionless\n",
      "numeric rd 0.3398871720785524 dimensionless\n",
      "dispersion ratio 1.000124817939136 dimensionless\n",
      "\n",
      "\n"
     ]
    },
    {
     "name": "stderr",
     "output_type": "stream",
     "text": [
      "[Parallel(n_jobs=-2)]: Done  13 out of  16 | elapsed:  2.8min remaining:   39.0s\n"
     ]
    },
    {
     "name": "stdout",
     "output_type": "stream",
     "text": [
      "analytic rd 0.3398447533568122 dimensionless\n",
      "numeric rd 0.3398737888464361 dimensionless\n",
      "dispersion ratio 1.0000854375103252 dimensionless\n",
      "\n",
      "\n",
      "analytic rd 0.3397752702739703 dimensionless\n",
      "numeric rd 0.33979095855662655 dimensionless\n",
      "dispersion ratio 1.0000461725264573 dimensionless\n",
      "\n",
      "\n",
      "analytic rd 0.33945148697184196 dimensionless\n",
      "numeric rd 0.3394537357608237 dimensionless\n",
      "dispersion ratio 1.0000066247728117 dimensionless\n",
      "\n",
      "\n",
      "upwind\n"
     ]
    },
    {
     "name": "stderr",
     "output_type": "stream",
     "text": [
      "[Parallel(n_jobs=-2)]: Done  16 out of  16 | elapsed:  3.6min finished\n",
      "C:\\Users\\Michael\\PycharmProjects\\MPyDATA\\MPyDATA_examples\\Olesik_et_al_2020\\../..\\MPyDATA_examples\\Olesik_et_al_2020\\convergence_plotter.py:30: UserWarning: The following kwargs were not used by contour: 'linewidth'\n",
      "  plt.contour(X, Y, Z, levels, colors='black', linewidth=.3)\n",
      "No handles with labels found to put in legend.\n"
     ]
    },
    {
     "data": {
      "application/vnd.jupyter.widget-view+json": {
       "model_id": "87bd473af82b4b8280d17911cdc15d1f",
       "version_major": 2,
       "version_minor": 0
      },
      "text/plain": [
       "VBox(children=(Output(), HTML(value=\"<a href='../utils/output\\\\convergence_log$_2$(err)_upwind.pdf' target='_b…"
      ]
     },
     "metadata": {},
     "output_type": "display_data"
    },
    {
     "name": "stderr",
     "output_type": "stream",
     "text": [
      "C:\\Users\\Michael\\PycharmProjects\\MPyDATA\\MPyDATA_examples\\Olesik_et_al_2020\\../..\\MPyDATA_examples\\Olesik_et_al_2020\\convergence_plotter.py:30: UserWarning: The following kwargs were not used by contour: 'linewidth'\n",
      "  plt.contour(X, Y, Z, levels, colors='black', linewidth=.3)\n",
      "No handles with labels found to put in legend.\n"
     ]
    },
    {
     "data": {
      "application/vnd.jupyter.widget-view+json": {
       "model_id": "1607ccd0d0974160ab724341d0bbbfe5",
       "version_major": 2,
       "version_minor": 0
      },
      "text/plain": [
       "VBox(children=(Output(), HTML(value=\"<a href='../utils/output\\\\convergence_log$_2$(err_g)_upwind.pdf' target='…"
      ]
     },
     "metadata": {},
     "output_type": "display_data"
    },
    {
     "name": "stderr",
     "output_type": "stream",
     "text": [
      "C:\\Users\\Michael\\PycharmProjects\\MPyDATA\\MPyDATA_examples\\Olesik_et_al_2020\\../..\\MPyDATA_examples\\Olesik_et_al_2020\\convergence_plotter.py:30: UserWarning: The following kwargs were not used by contour: 'linewidth'\n",
      "  plt.contour(X, Y, Z, levels, colors='black', linewidth=.3)\n",
      "No handles with labels found to put in legend.\n"
     ]
    },
    {
     "data": {
      "application/vnd.jupyter.widget-view+json": {
       "model_id": "5cb6b210427b4eabb1d0953d982518fe",
       "version_major": 2,
       "version_minor": 0
      },
      "text/plain": [
       "VBox(children=(Output(), HTML(value=\"<a href='../utils/output\\\\convergence_log$_2$(err_r0)_upwind.pdf' target=…"
      ]
     },
     "metadata": {},
     "output_type": "display_data"
    },
    {
     "name": "stderr",
     "output_type": "stream",
     "text": [
      "C:\\Users\\Michael\\PycharmProjects\\MPyDATA\\MPyDATA_examples\\Olesik_et_al_2020\\../..\\MPyDATA_examples\\Olesik_et_al_2020\\convergence_plotter.py:30: UserWarning: The following kwargs were not used by contour: 'linewidth'\n",
      "  plt.contour(X, Y, Z, levels, colors='black', linewidth=.3)\n",
      "No handles with labels found to put in legend.\n"
     ]
    },
    {
     "data": {
      "application/vnd.jupyter.widget-view+json": {
       "model_id": "dcc0ea958d734c8ca47e42f5e80f5cd6",
       "version_major": 2,
       "version_minor": 0
      },
      "text/plain": [
       "VBox(children=(Output(), HTML(value=\"<a href='../utils/output\\\\convergence_height difference_upwind.pdf' targe…"
      ]
     },
     "metadata": {},
     "output_type": "display_data"
    },
    {
     "name": "stderr",
     "output_type": "stream",
     "text": [
      "C:\\Users\\Michael\\PycharmProjects\\MPyDATA\\MPyDATA_examples\\Olesik_et_al_2020\\../..\\MPyDATA_examples\\Olesik_et_al_2020\\convergence_plotter.py:30: UserWarning: The following kwargs were not used by contour: 'linewidth'\n",
      "  plt.contour(X, Y, Z, levels, colors='black', linewidth=.3)\n",
      "No handles with labels found to put in legend.\n"
     ]
    },
    {
     "data": {
      "application/vnd.jupyter.widget-view+json": {
       "model_id": "11083964b0af4316bb0d75dead95ef92",
       "version_major": 2,
       "version_minor": 0
      },
      "text/plain": [
       "VBox(children=(Output(), HTML(value=\"<a href='../utils/output\\\\convergence_h_2_upwind.pdf' target='_blank'>../…"
      ]
     },
     "metadata": {},
     "output_type": "display_data"
    },
    {
     "name": "stderr",
     "output_type": "stream",
     "text": [
      "[Parallel(n_jobs=-2)]: Using backend ThreadingBackend with 7 concurrent workers.\n"
     ]
    },
    {
     "name": "stdout",
     "output_type": "stream",
     "text": [
      "analytic rd 0.33887085624835805 dimensionless\n",
      "numeric rd 0.3388802329056988 dimensionless\n",
      "dispersion ratio 1.000027670297306 dimensionless\n",
      "\n",
      "\n",
      "analytic rd 0.3381369516142046 dimensionless\n",
      "numeric rd 0.3381367200561091 dimensionless\n",
      "dispersion ratio 0.9999993151943484 dimensionless\n",
      "\n",
      "\n",
      "analytic rd 0.33887085624835805 dimensionless\n",
      "numeric rd 0.3388880892582839 dimensionless\n",
      "dispersion ratio 1.0000508542107063 dimensionless\n",
      "\n",
      "\n",
      "analytic rd 0.3388741836071025 dimensionless\n",
      "numeric rd 0.3388765851117941 dimensionless\n",
      "dispersion ratio 1.0000070867147979 dimensionless\n",
      "\n",
      "\n",
      "analytic rd 0.33979386972283987 dimensionless\n",
      "numeric rd 0.3398165395009408 dimensionless\n",
      "dispersion ratio 1.0000667162657155 dimensionless\n",
      "\n",
      "\n"
     ]
    },
    {
     "name": "stderr",
     "output_type": "stream",
     "text": [
      "[Parallel(n_jobs=-2)]: Done   5 out of  16 | elapsed:  1.2min remaining:  2.7min\n"
     ]
    },
    {
     "name": "stdout",
     "output_type": "stream",
     "text": [
      "analytic rd 0.3395197324738302 dimensionless\n",
      "numeric rd 0.33952403321062513 dimensionless\n",
      "dispersion ratio 1.0000126671188256 dimensionless\n",
      "\n",
      "\n",
      "analytic rd 0.33979734211502066 dimensionless\n",
      "numeric rd 0.3398031450542056 dimensionless\n",
      "dispersion ratio 1.0000170776473671 dimensionless\n",
      "\n",
      "\n"
     ]
    },
    {
     "name": "stderr",
     "output_type": "stream",
     "text": [
      "[Parallel(n_jobs=-2)]: Done   7 out of  16 | elapsed:  1.6min remaining:  2.1min\n"
     ]
    },
    {
     "name": "stdout",
     "output_type": "stream",
     "text": [
      "analytic rd 0.33814016720523987 dimensionless\n",
      "numeric rd 0.3381401088951171 dimensionless\n",
      "dispersion ratio 0.9999998275563555 dimensionless\n",
      "\n",
      "\n",
      "analytic rd 0.3398445358450252 dimensionless\n",
      "numeric rd 0.33984598936805743 dimensionless\n",
      "dispersion ratio 1.0000042770234001 dimensionless\n",
      "\n",
      "\n"
     ]
    },
    {
     "name": "stderr",
     "output_type": "stream",
     "text": [
      "[Parallel(n_jobs=-2)]: Done   9 out of  16 | elapsed:  2.1min remaining:  1.7min\n"
     ]
    },
    {
     "name": "stdout",
     "output_type": "stream",
     "text": [
      "analytic rd 0.3398445358450252 dimensionless\n",
      "numeric rd 0.33984559958076005 dimensionless\n",
      "dispersion ratio 1.000003130065729 dimensionless\n",
      "\n",
      "\n",
      "analytic rd 0.33947437483406295 dimensionless\n",
      "numeric rd 0.33947495993200105 dimensionless\n",
      "dispersion ratio 1.0000017235408074 dimensionless\n",
      "\n",
      "\n"
     ]
    },
    {
     "name": "stderr",
     "output_type": "stream",
     "text": [
      "[Parallel(n_jobs=-2)]: Done  11 out of  16 | elapsed:  2.6min remaining:  1.2min\n"
     ]
    },
    {
     "name": "stdout",
     "output_type": "stream",
     "text": [
      "analytic rd 0.33901309361260157 dimensionless\n",
      "numeric rd 0.3390130768775628 dimensionless\n",
      "dispersion ratio 0.9999999506360107 dimensionless\n",
      "\n",
      "\n"
     ]
    }
   ],
   "source": [
    "for opt in opts:\n",
    "    with parallel_backend('threading', n_jobs=-2):\n",
    "        results0 = Parallel(verbose=10)(\n",
    "            delayed(analysis)(Setup(nr = nr, mixing_ratios_g_kg = [1.05,]), GC, opt)\n",
    "            for nr in nrs\n",
    "            for GC in GCs\n",
    "        )\n",
    "    results = tuple(tuple(i) for i in zip(*results0))\n",
    "    plot_setup = np.array(results[0:2])\n",
    "    measures = {'log$_2$(err)':results[2] , 'log$_2$(err_g)':results[3] , 'log$_2$(err_r0)':results[4], 'height difference':results[5], 'h_2': results[6]}\n",
    "    opt = replace_names(opt)\n",
    "    print(opt)\n",
    "    for measure in measures.keys():\n",
    "        polar_plot(nrs, GCs, measures[measure], name = measure)\n",
    "        show_plot(filename = f'convergence_{measure}_{opt}.pdf')   #TODO: dont show plot name when savingfig (for masters)"
   ]
  },
  {
   "cell_type": "code",
   "execution_count": null,
   "metadata": {},
   "outputs": [],
   "source": []
  },
  {
   "cell_type": "code",
   "execution_count": null,
   "metadata": {},
   "outputs": [],
   "source": []
  }
 ],
 "metadata": {
  "kernelspec": {
   "display_name": "Python 3",
   "language": "python",
   "name": "python3"
  },
  "language_info": {
   "codemirror_mode": {
    "name": "ipython",
    "version": 3
   },
   "file_extension": ".py",
   "mimetype": "text/x-python",
   "name": "python",
   "nbconvert_exporter": "python",
   "pygments_lexer": "ipython3",
   "version": "3.7.6"
  },
  "pycharm": {
   "stem_cell": {
    "cell_type": "raw",
    "metadata": {
     "collapsed": false
    },
    "source": []
   }
  }
 },
 "nbformat": 4,
 "nbformat_minor": 4
}
