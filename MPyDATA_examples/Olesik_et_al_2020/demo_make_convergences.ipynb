{
 "cells": [
  {
   "cell_type": "code",
   "execution_count": 1,
   "metadata": {},
   "outputs": [],
   "source": [
    "import sys, os\n",
    "if 'google.colab' in sys.modules:\n",
    "    %cd\n",
    "    % rm -rf MPyDATA\n",
    "    ! git clone --recurse-submodules -j8 https://github.com/Michaeldz36/MPyDATA.git\n",
    "    %cd MPyDATA\n",
    "    ! git checkout develop\n",
    "    ! pip install -U $(cat requirements.txt | cut -d '=' -f 1)\n",
    "else:\n",
    "    sys.path.append(os.path.join(os.getcwd(), '../..'))"
   ]
  },
  {
   "cell_type": "code",
   "execution_count": 2,
   "metadata": {},
   "outputs": [],
   "source": [
    "import numpy as np\n",
    "import matplotlib.pyplot as plt\n",
    "from MPyDATA_examples.Olesik_et_al_2020.setup import Setup, default_opt_set\n",
    "from MPyDATA_examples.Olesik_et_al_2020.coordinates import x_id, x_p2, x_p3, x_log_of_pn\n",
    "from MPyDATA.options import Options\n",
    "from MPyDATA_examples.Olesik_et_al_2020.simulation import Simulation\n",
    "from MPyDATA_examples.utils.show_plot import show_plot\n",
    "from joblib import Parallel, parallel_backend, delayed\n",
    "from MPyDATA_examples.Olesik_et_al_2020.physics.equilibrium_drop_growth import PdfEvolver\n",
    "from MPyDATA.arakawa_c.discretisation import discretised_analytical_solution\n",
    "from MPyDATA_examples.utils.error_norms import L2, Smolarkiewicz_Grabowski_1990_eq21\n",
    "from MPyDATA_examples.Olesik_et_al_2020.convergence_plotter  import polar_plot"
   ]
  },
  {
   "cell_type": "code",
   "execution_count": 3,
   "metadata": {},
   "outputs": [],
   "source": [
    "GCs = np.linspace(.05,.95, 4)\n",
    "nrs = np.array([2**n for n in range(10, 4)], dtype=int)"
   ]
  },
  {
   "cell_type": "code",
   "execution_count": 4,
   "metadata": {},
   "outputs": [],
   "source": [
    "grid_layout = x_p2()\n",
    "psi_coord = x_p2()\n",
    "setup = Setup()"
   ]
  },
  {
   "cell_type": "code",
   "execution_count": 5,
   "metadata": {},
   "outputs": [],
   "source": [
    "def analysis(setup, GC, opt):\n",
    "    options = Options(**opt)\n",
    "    simulation = Simulation(setup, grid_layout,  psi_coord, options, GC)\n",
    "    simulation.step(simulation.out_steps[-1])\n",
    "    t = simulation.out_steps[-1] * simulation.dt\n",
    "    rh = simulation.rh\n",
    "    pdf_t = PdfEvolver(setup.pdf, setup.drdt, t)\n",
    "    def pdf_arg(r):\n",
    "        return pdf_t(r* rh.units).magnitude\n",
    "    analytical = discretised_analytical_solution(\n",
    "                simulation.rh.magnitude,\n",
    "                pdf_arg, midpoint_value = True\n",
    "            ) * pdf_t(rh[0]).units\n",
    "    numerical = simulation.n\n",
    "    \n",
    "    maximum_numeric = np.max(numerical)\n",
    "    maximum_analytic = np.max(analytical)\n",
    "    measure_height = (maximum_numeric / maximum_analytic).magnitude\n",
    "    \n",
    "    #TODO: proportion of rel dispersion\n",
    "    \n",
    "    error = np.log2(Smolarkiewicz_Grabowski_1990_eq21(numerical.magnitude, analytical.magnitude, t.magnitude))\n",
    "    return setup.nr, GC, error, measure_height"
   ]
  },
  {
   "cell_type": "code",
   "execution_count": 6,
   "metadata": {},
   "outputs": [],
   "source": [
    "opts = default_opt_set\n",
    "def replace_names(opt):\n",
    "    str_repl = [[\"'n_iters': 1\",\"upwind\"],\n",
    "                [\"'n_iters': 2\",\"MPDATA 2 iterations\"],\n",
    "                [\"'n_iters': 3\",\"MPDATA 3 iterations\"],\n",
    "                [\"'\",\"\"],\n",
    "                [\": True\",\"\"],\n",
    "                [\"_\", \" \"],\n",
    "                [\"{\",\"\"],[\"}\",\"\"],[\",\",\" \"]]                            \n",
    "    for repl in str_repl:\n",
    "        opt = str(opt).replace(repl[0], repl[1])\n",
    "    return opt"
   ]
  },
  {
   "cell_type": "code",
   "execution_count": null,
   "metadata": {
    "scrolled": false
   },
   "outputs": [
    {
     "name": "stderr",
     "output_type": "stream",
     "text": [
      "[Parallel(n_jobs=-2)]: Using backend ThreadingBackend with 7 concurrent workers.\n",
      "[Parallel(n_jobs=-2)]: Done   4 tasks      | elapsed:  2.1min\n",
      "[Parallel(n_jobs=-2)]: Done  11 tasks      | elapsed:  4.6min\n",
      "[Parallel(n_jobs=-2)]: Done  18 tasks      | elapsed:  7.9min\n",
      "[Parallel(n_jobs=-2)]: Done  27 tasks      | elapsed: 13.0min\n",
      "[Parallel(n_jobs=-2)]: Done  36 tasks      | elapsed: 21.5min\n",
      "[Parallel(n_jobs=-2)]: Done  49 out of  56 | elapsed: 57.7min remaining:  8.2min\n"
     ]
    }
   ],
   "source": [
    "for opt in opts:\n",
    "    with parallel_backend('threading', n_jobs=-2):\n",
    "        results0 = Parallel(verbose=10)(\n",
    "            delayed(analysis)(Setup(nr = nr, mixing_ratios_g_kg = [1.05,]), GC, opt)\n",
    "            for nr in nrs\n",
    "            for GC in GCs\n",
    "        )\n",
    "    results = tuple(tuple(i) for i in zip(*results0))\n",
    "    plot_setup = np.array(results[0:2])\n",
    "    measures = {'log$_2$(err)':results[2] , 'height difference':results[3]}\n",
    "    opt = replace_names(opt)\n",
    "    print(opt)\n",
    "    for measure in measures.keys():\n",
    "        polar_plot(nrs, GCs, measures[measure], name = measure)\n",
    "        show_plot(filename = f'convergence_{measure}_{opt}.pdf')   #TODO: dont show plot name when savingfig (for masters)"
   ]
  },
  {
   "cell_type": "code",
   "execution_count": null,
   "metadata": {},
   "outputs": [],
   "source": []
  },
  {
   "cell_type": "code",
   "execution_count": null,
   "metadata": {},
   "outputs": [],
   "source": []
  },
  {
   "cell_type": "code",
   "execution_count": null,
   "metadata": {},
   "outputs": [],
   "source": []
  },
  {
   "cell_type": "code",
   "execution_count": null,
   "metadata": {},
   "outputs": [],
   "source": []
  },
  {
   "cell_type": "code",
   "execution_count": null,
   "metadata": {},
   "outputs": [],
   "source": []
  }
 ],
 "metadata": {
  "kernelspec": {
   "display_name": "Python 3",
   "language": "python",
   "name": "python3"
  },
  "language_info": {
   "codemirror_mode": {
    "name": "ipython",
    "version": 3
   },
   "file_extension": ".py",
   "mimetype": "text/x-python",
   "name": "python",
   "nbconvert_exporter": "python",
   "pygments_lexer": "ipython3",
   "version": "3.7.6"
  },
  "pycharm": {
   "stem_cell": {
    "cell_type": "raw",
    "metadata": {
     "collapsed": false
    },
    "source": []
   }
  }
 },
 "nbformat": 4,
 "nbformat_minor": 4
}
