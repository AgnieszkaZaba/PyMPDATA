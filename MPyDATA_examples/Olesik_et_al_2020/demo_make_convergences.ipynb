{
 "cells": [
  {
   "cell_type": "code",
   "execution_count": 1,
   "metadata": {},
   "outputs": [],
   "source": [
    "import sys, os\n",
    "if 'google.colab' in sys.modules:\n",
    "    %cd\n",
    "    % rm -rf MPyDATA\n",
    "    ! git clone --recurse-submodules -j8 https://github.com/Michaeldz36/MPyDATA.git\n",
    "    %cd MPyDATA\n",
    "    ! git checkout develop\n",
    "    ! pip install -U $(cat requirements.txt | cut -d '=' -f 1)\n",
    "else:\n",
    "    sys.path.append(os.path.join(os.getcwd(), '../..'))"
   ]
  },
  {
   "cell_type": "code",
   "execution_count": 2,
   "metadata": {},
   "outputs": [],
   "source": [
    "import numpy as np\n",
    "import matplotlib.pyplot as plt\n",
    "from MPyDATA_examples.Olesik_et_al_2020.setup import Setup\n",
    "from MPyDATA_examples.Olesik_et_al_2020.demo_plot_convergence  import plot\n",
    "from MPyDATA_examples.Olesik_et_al_2020.coordinates import x_id, x_p2, x_p3, x_log_of_pn\n",
    "from MPyDATA.options import Options\n",
    "from MPyDATA_examples.Olesik_et_al_2020.simulation import Simulation\n",
    "from MPyDATA_examples.utils.show_plot import show_plot\n",
    "from joblib import Parallel, parallel_backend, delayed\n",
    "from MPyDATA_examples.Olesik_et_al_2020.physics.equilibrium_drop_growth import PdfEvolver\n",
    "from MPyDATA.arakawa_c.discretisation import discretised_analytical_solution\n",
    "from MPyDATA_examples.utils.error_norms import L2, Smolarkiewicz_Grabowski_1990_eq21"
   ]
  },
  {
   "cell_type": "code",
   "execution_count": 3,
   "metadata": {},
   "outputs": [],
   "source": [
    "GCs = np.linspace(.05,.95, 7)\n",
    "nrs = np.linspace(64,256, 7, dtype = int)"
   ]
  },
  {
   "cell_type": "code",
   "execution_count": 4,
   "metadata": {},
   "outputs": [],
   "source": [
    "grid_layout = x_p2()\n",
    "psi_coord = x_p2()\n",
    "setup = Setup()"
   ]
  },
  {
   "cell_type": "code",
   "execution_count": 5,
   "metadata": {},
   "outputs": [],
   "source": [
    "def analysis(nr, GC, opt):\n",
    "    setup = Setup(nr = nr, mixing_ratios_g_kg = [1.2,])\n",
    "    options = Options(**opt)\n",
    "    simulation = Simulation(setup, grid_layout,  psi_coord, options, GC)\n",
    "    simulation.step(simulation.out_steps[-1])\n",
    "    t = simulation.out_steps[-1] * simulation.dt\n",
    "    rh = simulation.rh\n",
    "    pdf_t = PdfEvolver(setup.pdf, setup.drdt, t)\n",
    "    analytical = discretised_analytical_solution(\n",
    "                simulation.rh.magnitude,\n",
    "                lambda r: pdf_t(r * rh.units).magnitude\n",
    "            ) * pdf_t(rh[0]).units\n",
    "    numerical = simulation.n\n",
    "    error = np.log(Smolarkiewicz_Grabowski_1990_eq21(numerical.magnitude, analytical.magnitude, t.magnitude)) / np.log(2)\n",
    "    return nr, GC, error"
   ]
  },
  {
   "cell_type": "code",
   "execution_count": 6,
   "metadata": {},
   "outputs": [],
   "source": [
    "opt_set = (\n",
    "    {'n_iters': 1},\n",
    "     {'n_iters': 2},\n",
    "     {'n_iters': 2,'infinite_gauge':True},\n",
    "     {'n_iters': 2, 'infinite_gauge': True, 'flux_corrected_transport': True},\n",
    "     {'n_iters': 2, 'third_order_terms':True},\n",
    "     {'n_iters': 3},\n",
    "     {'n_iters': 3, 'third_order_terms': True, 'infinite_gauge': True, 'flux_corrected_transport': True}\n",
    ")\n"
   ]
  },
  {
   "cell_type": "code",
   "execution_count": 7,
   "metadata": {
    "scrolled": false
   },
   "outputs": [
    {
     "name": "stderr",
     "output_type": "stream",
     "text": [
      "[Parallel(n_jobs=-2)]: Using backend ThreadingBackend with 7 concurrent workers.\n",
      "[Parallel(n_jobs=-2)]: Done   4 tasks      | elapsed:   37.2s\n",
      "[Parallel(n_jobs=-2)]: Done  11 tasks      | elapsed:  1.5min\n",
      "[Parallel(n_jobs=-2)]: Done  18 tasks      | elapsed:  2.4min\n",
      "[Parallel(n_jobs=-2)]: Done  27 tasks      | elapsed:  3.6min\n",
      "[Parallel(n_jobs=-2)]: Done  36 tasks      | elapsed:  5.0min\n",
      "[Parallel(n_jobs=-2)]: Done  41 out of  49 | elapsed:  5.9min remaining:  1.1min\n",
      "[Parallel(n_jobs=-2)]: Done  46 out of  49 | elapsed:  6.6min remaining:   25.7s\n",
      "[Parallel(n_jobs=-2)]: Done  49 out of  49 | elapsed:  7.0min finished\n",
      "No handles with labels found to put in legend.\n"
     ]
    },
    {
     "data": {
      "application/vnd.jupyter.widget-view+json": {
       "model_id": "9c8c8fec28014b189af59b63f4269f3b",
       "version_major": 2,
       "version_minor": 0
      },
      "text/plain": [
       "VBox(children=(Output(), HTML(value=\"<a href='../utils/output\\\\convergence_log$_2$(err).pdf' target='_blank'>.…"
      ]
     },
     "metadata": {},
     "output_type": "display_data"
    },
    {
     "name": "stderr",
     "output_type": "stream",
     "text": [
      "[Parallel(n_jobs=-2)]: Using backend ThreadingBackend with 7 concurrent workers.\n",
      "[Parallel(n_jobs=-2)]: Done   4 tasks      | elapsed:   42.3s\n",
      "[Parallel(n_jobs=-2)]: Done  11 tasks      | elapsed:  1.8min\n",
      "[Parallel(n_jobs=-2)]: Done  18 tasks      | elapsed:  2.9min\n",
      "[Parallel(n_jobs=-2)]: Done  27 tasks      | elapsed:  4.6min\n",
      "[Parallel(n_jobs=-2)]: Done  36 tasks      | elapsed:  6.3min\n",
      "[Parallel(n_jobs=-2)]: Done  41 out of  49 | elapsed:  7.3min remaining:  1.4min\n",
      "[Parallel(n_jobs=-2)]: Done  46 out of  49 | elapsed:  8.3min remaining:   32.3s\n",
      "[Parallel(n_jobs=-2)]: Done  49 out of  49 | elapsed:  8.8min finished\n",
      "No handles with labels found to put in legend.\n"
     ]
    },
    {
     "data": {
      "application/vnd.jupyter.widget-view+json": {
       "model_id": "70766fda128b48fb915cb4c5fd5b75c7",
       "version_major": 2,
       "version_minor": 0
      },
      "text/plain": [
       "VBox(children=(Output(), HTML(value=\"<a href='../utils/output\\\\convergence_log$_2$(err).pdf' target='_blank'>.…"
      ]
     },
     "metadata": {},
     "output_type": "display_data"
    },
    {
     "name": "stderr",
     "output_type": "stream",
     "text": [
      "[Parallel(n_jobs=-2)]: Using backend ThreadingBackend with 7 concurrent workers.\n",
      "[Parallel(n_jobs=-2)]: Done   4 tasks      | elapsed:   47.6s\n",
      "[Parallel(n_jobs=-2)]: Done  11 tasks      | elapsed:  2.0min\n",
      "[Parallel(n_jobs=-2)]: Done  18 tasks      | elapsed:  3.2min\n",
      "[Parallel(n_jobs=-2)]: Done  27 tasks      | elapsed:  4.9min\n",
      "[Parallel(n_jobs=-2)]: Done  36 tasks      | elapsed:  6.8min\n",
      "[Parallel(n_jobs=-2)]: Done  41 out of  49 | elapsed:  7.9min remaining:  1.5min\n",
      "[Parallel(n_jobs=-2)]: Done  46 out of  49 | elapsed:  8.8min remaining:   34.5s\n",
      "[Parallel(n_jobs=-2)]: Done  49 out of  49 | elapsed:  9.4min finished\n",
      "No handles with labels found to put in legend.\n"
     ]
    },
    {
     "data": {
      "application/vnd.jupyter.widget-view+json": {
       "model_id": "1498b2311c6d4deb8b381f6919d296c7",
       "version_major": 2,
       "version_minor": 0
      },
      "text/plain": [
       "VBox(children=(Output(), HTML(value=\"<a href='../utils/output\\\\convergence_log$_2$(err).pdf' target='_blank'>.…"
      ]
     },
     "metadata": {},
     "output_type": "display_data"
    },
    {
     "name": "stderr",
     "output_type": "stream",
     "text": [
      "[Parallel(n_jobs=-2)]: Using backend ThreadingBackend with 7 concurrent workers.\n",
      "[Parallel(n_jobs=-2)]: Done   4 tasks      | elapsed:  1.3min\n",
      "[Parallel(n_jobs=-2)]: Done  11 tasks      | elapsed:  3.4min\n",
      "[Parallel(n_jobs=-2)]: Done  18 tasks      | elapsed:  5.5min\n",
      "[Parallel(n_jobs=-2)]: Done  27 tasks      | elapsed:  8.3min\n",
      "[Parallel(n_jobs=-2)]: Done  36 tasks      | elapsed: 11.2min\n",
      "[Parallel(n_jobs=-2)]: Done  41 out of  49 | elapsed: 12.9min remaining:  2.5min\n",
      "[Parallel(n_jobs=-2)]: Done  46 out of  49 | elapsed: 14.5min remaining:   56.6s\n",
      "[Parallel(n_jobs=-2)]: Done  49 out of  49 | elapsed: 15.4min finished\n",
      "No handles with labels found to put in legend.\n"
     ]
    },
    {
     "data": {
      "application/vnd.jupyter.widget-view+json": {
       "model_id": "6b6bc63b47364afbaac7f1ee00e304db",
       "version_major": 2,
       "version_minor": 0
      },
      "text/plain": [
       "VBox(children=(Output(), HTML(value=\"<a href='../utils/output\\\\convergence_log$_2$(err).pdf' target='_blank'>.…"
      ]
     },
     "metadata": {},
     "output_type": "display_data"
    },
    {
     "name": "stderr",
     "output_type": "stream",
     "text": [
      "[Parallel(n_jobs=-2)]: Using backend ThreadingBackend with 7 concurrent workers.\n",
      "[Parallel(n_jobs=-2)]: Done   4 tasks      | elapsed:   45.7s\n",
      "[Parallel(n_jobs=-2)]: Done  11 tasks      | elapsed:  1.9min\n",
      "[Parallel(n_jobs=-2)]: Done  18 tasks      | elapsed:  3.1min\n",
      "[Parallel(n_jobs=-2)]: Done  27 tasks      | elapsed:  4.8min\n",
      "[Parallel(n_jobs=-2)]: Done  36 tasks      | elapsed:  6.6min\n",
      "[Parallel(n_jobs=-2)]: Done  41 out of  49 | elapsed:  7.6min remaining:  1.5min\n",
      "[Parallel(n_jobs=-2)]: Done  46 out of  49 | elapsed:  8.6min remaining:   33.5s\n",
      "[Parallel(n_jobs=-2)]: Done  49 out of  49 | elapsed:  9.1min finished\n",
      "No handles with labels found to put in legend.\n"
     ]
    },
    {
     "data": {
      "application/vnd.jupyter.widget-view+json": {
       "model_id": "f5c58427fd9240719039c7e236ee90c5",
       "version_major": 2,
       "version_minor": 0
      },
      "text/plain": [
       "VBox(children=(Output(), HTML(value=\"<a href='../utils/output\\\\convergence_log$_2$(err).pdf' target='_blank'>.…"
      ]
     },
     "metadata": {},
     "output_type": "display_data"
    },
    {
     "name": "stderr",
     "output_type": "stream",
     "text": [
      "[Parallel(n_jobs=-2)]: Using backend ThreadingBackend with 7 concurrent workers.\n",
      "[Parallel(n_jobs=-2)]: Done   4 tasks      | elapsed:  1.3min\n",
      "[Parallel(n_jobs=-2)]: Done  11 tasks      | elapsed:  2.5min\n",
      "[Parallel(n_jobs=-2)]: Done  18 tasks      | elapsed:  3.9min\n",
      "[Parallel(n_jobs=-2)]: Done  27 tasks      | elapsed:  5.9min\n",
      "[Parallel(n_jobs=-2)]: Done  36 tasks      | elapsed:  7.9min\n",
      "[Parallel(n_jobs=-2)]: Done  41 out of  49 | elapsed:  9.0min remaining:  1.8min\n",
      "[Parallel(n_jobs=-2)]: Done  46 out of  49 | elapsed: 10.1min remaining:   39.5s\n",
      "[Parallel(n_jobs=-2)]: Done  49 out of  49 | elapsed: 10.8min finished\n",
      "No handles with labels found to put in legend.\n"
     ]
    },
    {
     "data": {
      "application/vnd.jupyter.widget-view+json": {
       "model_id": "a2a5cfbc7ad14df98e378009c18dbb5c",
       "version_major": 2,
       "version_minor": 0
      },
      "text/plain": [
       "VBox(children=(Output(), HTML(value=\"<a href='../utils/output\\\\convergence_log$_2$(err).pdf' target='_blank'>.…"
      ]
     },
     "metadata": {},
     "output_type": "display_data"
    },
    {
     "name": "stderr",
     "output_type": "stream",
     "text": [
      "[Parallel(n_jobs=-2)]: Using backend ThreadingBackend with 7 concurrent workers.\n",
      "[Parallel(n_jobs=-2)]: Done   4 tasks      | elapsed:  1.5min\n",
      "[Parallel(n_jobs=-2)]: Done  11 tasks      | elapsed:  4.1min\n",
      "[Parallel(n_jobs=-2)]: Done  18 tasks      | elapsed:  6.7min\n",
      "[Parallel(n_jobs=-2)]: Done  27 tasks      | elapsed: 10.1min\n",
      "[Parallel(n_jobs=-2)]: Done  36 tasks      | elapsed: 13.5min\n",
      "[Parallel(n_jobs=-2)]: Done  41 out of  49 | elapsed: 15.5min remaining:  3.0min\n",
      "[Parallel(n_jobs=-2)]: Done  46 out of  49 | elapsed: 17.8min remaining:  1.2min\n",
      "[Parallel(n_jobs=-2)]: Done  49 out of  49 | elapsed: 19.0min finished\n",
      "No handles with labels found to put in legend.\n"
     ]
    },
    {
     "data": {
      "application/vnd.jupyter.widget-view+json": {
       "model_id": "dee622d197984b8a9bda5e70cd613835",
       "version_major": 2,
       "version_minor": 0
      },
      "text/plain": [
       "VBox(children=(Output(), HTML(value=\"<a href='../utils/output\\\\convergence_log$_2$(err).pdf' target='_blank'>.…"
      ]
     },
     "metadata": {},
     "output_type": "display_data"
    }
   ],
   "source": [
    "for opt in opt_set:\n",
    "    with parallel_backend('threading', n_jobs=-2):\n",
    "        results0 = Parallel(verbose=10)(\n",
    "            delayed(analysis)(nr, GC, opt)\n",
    "            for nr in nrs\n",
    "            for GC in GCs\n",
    "        )\n",
    "    results = [list(i) for i in zip(*results0)]\n",
    "    plot_setup = np.array(results[0:2])\n",
    "    measures = {'log$_2$(err)':results[2]}\n",
    "    for measure in measures.keys():\n",
    "        plot(plot_setup[0], plot_setup[1], measures[measure], name = measure)\n",
    "        show_plot(filename = f'convergence_{measure}.pdf')"
   ]
  },
  {
   "cell_type": "code",
   "execution_count": null,
   "metadata": {},
   "outputs": [],
   "source": []
  },
  {
   "cell_type": "code",
   "execution_count": null,
   "metadata": {},
   "outputs": [],
   "source": []
  }
 ],
 "metadata": {
  "kernelspec": {
   "display_name": "Python 3",
   "language": "python",
   "name": "python3"
  },
  "language_info": {
   "codemirror_mode": {
    "name": "ipython",
    "version": 3
   },
   "file_extension": ".py",
   "mimetype": "text/x-python",
   "name": "python",
   "nbconvert_exporter": "python",
   "pygments_lexer": "ipython3",
   "version": "3.7.6"
  },
  "pycharm": {
   "stem_cell": {
    "cell_type": "raw",
    "metadata": {
     "collapsed": false
    },
    "source": []
   }
  }
 },
 "nbformat": 4,
 "nbformat_minor": 4
}
