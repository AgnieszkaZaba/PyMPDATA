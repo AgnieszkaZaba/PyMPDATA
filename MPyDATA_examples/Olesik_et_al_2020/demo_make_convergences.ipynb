{
 "cells": [
  {
   "cell_type": "code",
   "execution_count": 1,
   "metadata": {},
   "outputs": [],
   "source": [
    "import sys, os\n",
    "if 'google.colab' in sys.modules:\n",
    "    %cd\n",
    "    % rm -rf MPyDATA\n",
    "    ! git clone --recurse-submodules -j8 https://github.com/Michaeldz36/MPyDATA.git\n",
    "    %cd MPyDATA\n",
    "    ! git checkout develop\n",
    "    ! pip install -U $(cat requirements.txt | cut -d '=' -f 1)\n",
    "else:\n",
    "    sys.path.append(os.path.join(os.getcwd(), '../..'))"
   ]
  },
  {
   "cell_type": "code",
   "execution_count": 2,
   "metadata": {},
   "outputs": [],
   "source": [
    "import numpy as np\n",
    "import matplotlib.pyplot as plt\n",
    "from MPyDATA_examples.Olesik_et_al_2020.setup import Setup, default_opt_set\n",
    "from MPyDATA_examples.Olesik_et_al_2020.coordinates import x_id, x_p2, x_p3, x_log_of_pn\n",
    "from MPyDATA.options import Options\n",
    "from MPyDATA_examples.Olesik_et_al_2020.simulation import Simulation\n",
    "from MPyDATA_examples.utils.show_plot import show_plot\n",
    "from joblib import Parallel, parallel_backend, delayed\n",
    "from MPyDATA_examples.Olesik_et_al_2020.physics.equilibrium_drop_growth import PdfEvolver\n",
    "from MPyDATA.arakawa_c.discretisation import discretised_analytical_solution\n",
    "from MPyDATA_examples.utils.error_norms import L2, Smolarkiewicz_Grabowski_1990_eq21, modified_Smolarkiewicz_Rasch_r0\n",
    "from MPyDATA_examples.Olesik_et_al_2020.convergence_plotter  import polar_plot"
   ]
  },
  {
   "cell_type": "code",
   "execution_count": 3,
   "metadata": {},
   "outputs": [],
   "source": [
    "GCs = np.linspace(.05,.95, 5)\n",
    "nrs = np.array([2**n for n in range(10, 14)], dtype=int)"
   ]
  },
  {
   "cell_type": "code",
   "execution_count": 4,
   "metadata": {},
   "outputs": [],
   "source": [
    "grid_layout = x_p2()\n",
    "psi_coord = x_p2()\n",
    "setup = Setup()"
   ]
  },
  {
   "cell_type": "code",
   "execution_count": 5,
   "metadata": {},
   "outputs": [],
   "source": [
    "def analysis(setup, GC, opt):\n",
    "    options = Options(**opt)\n",
    "    simulation = Simulation(setup, grid_layout,  psi_coord, options, GC)\n",
    "    simulation.step(simulation.out_steps[-1])\n",
    "    t = simulation.out_steps[-1] * simulation.dt\n",
    "    rh = simulation.rh\n",
    "    pdf_t = PdfEvolver(setup.pdf, setup.drdt, t)\n",
    "    def pdf_arg(r):\n",
    "        return pdf_t(r* rh.units).magnitude\n",
    "    analytical = discretised_analytical_solution(\n",
    "                simulation.rh.magnitude,\n",
    "                pdf_arg, midpoint_value = True\n",
    "            ) * pdf_t(rh[0]).units\n",
    "    numerical = simulation.n_of_r\n",
    "    psi = simulation.psi\n",
    "    g_factor = simulation.g_factor\n",
    "    dp_dr = simulation.dp_dr\n",
    "\n",
    "    \n",
    "    maximum_numeric = np.max(numerical)\n",
    "    maximum_analytic = np.max(analytical)\n",
    "    measure_height = (maximum_numeric / maximum_analytic).magnitude\n",
    "    \n",
    "    dif = analytical-numerical\n",
    "    measure_h_inf = ((maximum_numeric - maximum_analytic) / maximum_analytic).magnitude\n",
    "    measure_h_2 =  (1/t * np.sqrt( 1/len(dif) * dif.dot(dif))).magnitude\n",
    "    \n",
    "    def moment_integral(x, k):\n",
    "        if psi_coord.__class__.__name__ == 'x_id':\n",
    "            return 1 / (k + 1) * x**(k+1)\n",
    "        elif psi_coord.__class__.__name__ == 'x_p2':\n",
    "            return 2 / (k + 2) * x**((k+2)/2)\n",
    "        elif psi_coord.__class__.__name__ == 'x_p3':\n",
    "            return 3 / (k + 3) * x**((k+3)/3)\n",
    "        elif psi_coord.__class__.__name__ == 'x_log_of_pn':\n",
    "            return 1 / k * np.exp(k * x)  #TODO: not properly implemented because it's not natural log usually\n",
    "    \n",
    "    def rel_disp(r, psi, g_factor):\n",
    "        #TODO: move to analysis/simulation and write over simulation plots\n",
    "        mom0 = 0\n",
    "        mom1 = 0\n",
    "        mom2 = 0\n",
    "        for i in range(len(psi)):\n",
    "            psi_i = psi[i] \n",
    "            dp_i = moment_integral(psi_coord.x(r[i+1]),0) - moment_integral(psi_coord.x(r[i]),0)\n",
    "            A_i = moment_integral(psi_coord.x(r[i+1]),1) - moment_integral(psi_coord.x(r[i]),1)\n",
    "            B_i = moment_integral(psi_coord.x(r[i+1]),2) - moment_integral(psi_coord.x(r[i]),2)\n",
    "            bin_mom0= psi_i * dp_i\n",
    "            bin_mom1 = psi_i * A_i\n",
    "            bin_mom2 = psi_i * B_i\n",
    "            mom0+=bin_mom0\n",
    "            mom1+=bin_mom1\n",
    "            mom2+=bin_mom2\n",
    "        mu = mom1 / mom0\n",
    "        normalised_mom2 = mom2 / mom0\n",
    "        print(normalised_mom2)\n",
    "        print(mu)\n",
    "        std = np.sqrt(normalised_mom2 - mu**2)\n",
    "        d = std/mu\n",
    "        return d\n",
    "    numeric_rel_d = rel_disp(rh, numerical/dp_dr, g_factor)\n",
    "    analytic_rel_d = rel_disp(rh, analytical/dp_dr, g_factor)\n",
    "    rel_dispersion = numeric_rel_d / analytic_rel_d \n",
    "    print(\"analytic rd\", analytic_rel_d)\n",
    "    print(\"numeric rd\", numeric_rel_d)\n",
    "\n",
    "    \n",
    "    \n",
    "    error = np.log2(Smolarkiewicz_Grabowski_1990_eq21(numerical.magnitude, analytical.magnitude, t.magnitude))\n",
    "    error_g = np.log2(Smolarkiewicz_Grabowski_1990_eq21(g_factor * psi.magnitude, g_factor * analytical.magnitude / dp_dr, t.magnitude))\n",
    "    error_r0 = np.log2(modified_Smolarkiewicz_Rasch_r0(psi.magnitude, analytical.magnitude /dp_dr, t.magnitude, g_factor))\n",
    "    print(\"error old\", error)\n",
    "    print(\"new error (including G)\", error_g)\n",
    "    print(\"new error S&R(including G), r0\", error_r0)\n",
    "    print(\"\\n\")\n",
    "\n",
    "\n",
    "    return setup.nr, GC, error, error_g, error_r0, measure_height #, measure_h_inf, measure_h_2 #, rel_dispersion"
   ]
  },
  {
   "cell_type": "code",
   "execution_count": 6,
   "metadata": {},
   "outputs": [],
   "source": [
    "opts = default_opt_set\n",
    "def replace_names(opt):\n",
    "    str_repl = [[\"'n_iters': 1\",\"upwind\"],\n",
    "                [\"'n_iters': 2\",\"MPDATA 2 iterations\"],\n",
    "                [\"'n_iters': 3\",\"MPDATA 3 iterations\"],\n",
    "                [\"'\",\"\"],\n",
    "                [\": True\",\"\"],\n",
    "                [\"_\", \" \"],\n",
    "                [\"{\",\"\"],[\"}\",\"\"],[\",\",\" \"]]                            \n",
    "    for repl in str_repl:\n",
    "        opt = str(opt).replace(repl[0], repl[1])\n",
    "    return opt"
   ]
  },
  {
   "cell_type": "code",
   "execution_count": null,
   "metadata": {
    "scrolled": false
   },
   "outputs": [
    {
     "name": "stderr",
     "output_type": "stream",
     "text": [
      "[Parallel(n_jobs=-2)]: Using backend ThreadingBackend with 7 concurrent workers.\n"
     ]
    },
    {
     "name": "stdout",
     "output_type": "stream",
     "text": [
      "64.88914049454355 micrometer ** 2\n",
      "7.626311506839877 micrometer\n",
      "64.88912948426676 micrometer ** 2\n",
      "7.627092226565027 micrometer\n",
      "analytic rd 0.33979386972283987 dimensionless\n",
      "numeric rd 0.34013006087753955 dimensionless\n",
      "error old -8.817775273584529\n",
      "new error (including G) -11.727990546322511\n",
      "new error S&R(including G), r0 -14.32232514349311\n",
      "\n",
      "\n",
      "64.95004051540064 micrometer ** 2\n",
      "7.6309209920523715 micrometer\n",
      "64.95001979167338 micrometer ** 2\n",
      "7.631529563006289 micrometer\n",
      "analytic rd 0.3394239087225427 dimensionless\n",
      "numeric rd 0.33968637009278685 dimensionless\n",
      "error old -9.204697509995727\n",
      "new error (including G) -12.110536918104115\n",
      "new error S&R(including G), r0 -14.704887506744546\n",
      "\n",
      "\n"
     ]
    }
   ],
   "source": [
    "for opt in opts:\n",
    "    with parallel_backend('threading', n_jobs=-2):\n",
    "        results0 = Parallel(verbose=10)(\n",
    "            delayed(analysis)(Setup(nr = nr, mixing_ratios_g_kg = [1.05,]), GC, opt)\n",
    "            for nr in nrs\n",
    "            for GC in GCs\n",
    "        )\n",
    "    results = tuple(tuple(i) for i in zip(*results0))\n",
    "    plot_setup = np.array(results[0:2])\n",
    "    measures = {'log$_2$(err)':results[2] , 'log$_2$(err_g)':results[3] , 'log$_2$(err_r0)':results[4]} # , 'height difference':results[3], 'h_inf':results[4], 'h_2': results[5]} #,'rel_disp':results[6]}\n",
    "    opt = replace_names(opt)\n",
    "    print(opt)\n",
    "    for measure in measures.keys():\n",
    "        polar_plot(nrs, GCs, measures[measure], name = measure)\n",
    "        show_plot(filename = f'convergence_{measure}_{opt}.pdf')   #TODO: dont show plot name when savingfig (for masters)"
   ]
  },
  {
   "cell_type": "code",
   "execution_count": null,
   "metadata": {},
   "outputs": [],
   "source": []
  },
  {
   "cell_type": "code",
   "execution_count": null,
   "metadata": {},
   "outputs": [],
   "source": []
  }
 ],
 "metadata": {
  "kernelspec": {
   "display_name": "Python 3",
   "language": "python",
   "name": "python3"
  },
  "language_info": {
   "codemirror_mode": {
    "name": "ipython",
    "version": 3
   },
   "file_extension": ".py",
   "mimetype": "text/x-python",
   "name": "python",
   "nbconvert_exporter": "python",
   "pygments_lexer": "ipython3",
   "version": "3.7.6"
  },
  "pycharm": {
   "stem_cell": {
    "cell_type": "raw",
    "metadata": {
     "collapsed": false
    },
    "source": []
   }
  }
 },
 "nbformat": 4,
 "nbformat_minor": 4
}
