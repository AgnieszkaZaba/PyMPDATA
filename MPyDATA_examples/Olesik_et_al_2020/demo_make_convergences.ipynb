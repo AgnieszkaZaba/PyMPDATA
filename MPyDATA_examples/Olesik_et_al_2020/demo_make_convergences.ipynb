{
 "cells": [
  {
   "cell_type": "code",
   "execution_count": 1,
   "metadata": {},
   "outputs": [],
   "source": [
    "import sys, os\n",
    "if 'google.colab' in sys.modules:\n",
    "    %cd\n",
    "    % rm -rf MPyDATA\n",
    "    ! git clone --recurse-submodules -j8 https://github.com/Michaeldz36/MPyDATA.git\n",
    "    %cd MPyDATA\n",
    "    ! git checkout develop\n",
    "    ! pip install -U $(cat requirements.txt | cut -d '=' -f 1)\n",
    "else:\n",
    "    sys.path.append(os.path.join(os.getcwd(), '../..'))"
   ]
  },
  {
   "cell_type": "code",
   "execution_count": 2,
   "metadata": {},
   "outputs": [],
   "source": [
    "import numpy as np\n",
    "import matplotlib.pyplot as plt\n",
    "from MPyDATA_examples.Olesik_et_al_2020.setup import Setup, default_opt_set\n",
    "from MPyDATA_examples.Olesik_et_al_2020.coordinates import x_id, x_p2, x_p3, x_log_of_pn\n",
    "from MPyDATA.options import Options\n",
    "from MPyDATA_examples.Olesik_et_al_2020.simulation import Simulation\n",
    "from MPyDATA_examples.utils.show_plot import show_plot\n",
    "from joblib import Parallel, parallel_backend, delayed\n",
    "from MPyDATA_examples.Olesik_et_al_2020.physics.equilibrium_drop_growth import PdfEvolver\n",
    "from MPyDATA.arakawa_c.discretisation import discretised_analytical_solution\n",
    "from MPyDATA_examples.utils.error_norms import L2, Smolarkiewicz_Grabowski_1990_eq21, modified_Smolarkiewicz_Rasch_r0\n",
    "from MPyDATA_examples.Olesik_et_al_2020.convergence_plotter  import polar_plot"
   ]
  },
  {
   "cell_type": "code",
   "execution_count": 3,
   "metadata": {},
   "outputs": [],
   "source": [
    "GCs = np.linspace(.05,.95, 2)\n",
    "nrs = np.array([2**n for n in range(10, 12)], dtype=int)"
   ]
  },
  {
   "cell_type": "code",
   "execution_count": 4,
   "metadata": {},
   "outputs": [],
   "source": [
    "grid_layout = x_p2()\n",
    "psi_coord = x_p2()\n",
    "setup = Setup()"
   ]
  },
  {
   "cell_type": "code",
   "execution_count": 5,
   "metadata": {},
   "outputs": [],
   "source": [
    "def analysis(setup, GC, opt):\n",
    "    options = Options(**opt)\n",
    "    simulation = Simulation(setup, grid_layout,  psi_coord, options, GC)\n",
    "    simulation.step(simulation.out_steps[-1])\n",
    "    t = simulation.out_steps[-1] * simulation.dt\n",
    "    rh = simulation.rh\n",
    "    pdf_t = PdfEvolver(setup.pdf, setup.drdt, t)\n",
    "    def pdf_arg(r):\n",
    "        return pdf_t(r* rh.units).magnitude\n",
    "    analytical = discretised_analytical_solution(\n",
    "                simulation.rh.magnitude,\n",
    "                pdf_arg, midpoint_value = True\n",
    "            ) * pdf_t(rh[0]).units\n",
    "    numerical = simulation.n_of_r\n",
    "    psi = simulation.psi\n",
    "    g_factor = simulation.g_factor\n",
    "    dp_dr = simulation.dp_dr\n",
    "\n",
    "    \n",
    "    maximum_numeric = np.max(numerical)\n",
    "    maximum_analytic = np.max(analytical)\n",
    "    measure_height = (maximum_numeric / maximum_analytic).magnitude\n",
    "    \n",
    "    dif = analytical-numerical\n",
    "    measure_h_2 =  (1/t * np.sqrt( 1/len(dif) * dif.dot(dif))).magnitude\n",
    "        \n",
    "    def rel_disp(r, psi, g_factor):\n",
    "        #TODO: move to analysis/simulation and write over simulation plots\n",
    "        mom0 = 0\n",
    "        mom1 = 0\n",
    "        mom2 = 0\n",
    "        for i in range(len(psi)):\n",
    "            psi_i = psi[i] \n",
    "            dp_i = psi_coord.moment_of_r_integral(psi_coord.x(r[i+1]),0) - psi_coord.moment_of_r_integral(psi_coord.x(r[i]),0)\n",
    "            A_i = psi_coord.moment_of_r_integral(psi_coord.x(r[i+1]),1) - psi_coord.moment_of_r_integral(psi_coord.x(r[i]),1)\n",
    "            B_i = psi_coord.moment_of_r_integral(psi_coord.x(r[i+1]),2) - psi_coord.moment_of_r_integral(psi_coord.x(r[i]),2)\n",
    "            bin_mom0= psi_i * dp_i\n",
    "            bin_mom1 = psi_i * A_i\n",
    "            bin_mom2 = psi_i * B_i\n",
    "            mom0+=bin_mom0\n",
    "            mom1+=bin_mom1\n",
    "            mom2+=bin_mom2\n",
    "        mu = mom1 / mom0\n",
    "        std = np.sqrt(mom2/mom0 - (mu)**2)\n",
    "        d = std/mu\n",
    "        return d    \n",
    "    numeric_rel_d = rel_disp(rh, numerical/dp_dr, g_factor)\n",
    "    analytic_rel_d = rel_disp(rh, analytical/dp_dr, g_factor)\n",
    "    print(\"analytic rd\", analytic_rel_d)\n",
    "    print(\"numeric rd\", numeric_rel_d)\n",
    "    dispersion_ratio = numeric_rel_d / analytic_rel_d\n",
    "    print(\"dispersion ratio\", dispersion_ratio)\n",
    "    print(\"\\n\")\n",
    "\n",
    "    error = np.log2(Smolarkiewicz_Grabowski_1990_eq21(numerical.magnitude, analytical.magnitude, t.magnitude))\n",
    "    error_g = np.log2(Smolarkiewicz_Grabowski_1990_eq21(g_factor * psi.magnitude, g_factor * analytical.magnitude / dp_dr, t.magnitude))\n",
    "    error_r0 = np.log2(modified_Smolarkiewicz_Rasch_r0(psi.magnitude, analytical.magnitude /dp_dr, t.magnitude, g_factor))\n",
    "    \n",
    "    return setup.nr, GC, error, error_g, error_r0, measure_height, measure_h_2"
   ]
  },
  {
   "cell_type": "code",
   "execution_count": 6,
   "metadata": {},
   "outputs": [],
   "source": [
    "opts = default_opt_set\n",
    "def replace_names(opt):\n",
    "    str_repl = [[\"'n_iters': 1\",\"upwind\"],\n",
    "                [\"'n_iters': 2\",\"MPDATA 2 iterations\"],\n",
    "                [\"'n_iters': 3\",\"MPDATA 3 iterations\"],\n",
    "                [\"'\",\"\"],\n",
    "                [\": True\",\"\"],\n",
    "                [\"_\", \" \"],\n",
    "                [\"{\",\"\"],[\"}\",\"\"],[\",\",\" \"]]                            \n",
    "    for repl in str_repl:\n",
    "        opt = str(opt).replace(repl[0], repl[1])\n",
    "    return opt"
   ]
  },
  {
   "cell_type": "code",
   "execution_count": null,
   "metadata": {
    "scrolled": false
   },
   "outputs": [
    {
     "name": "stderr",
     "output_type": "stream",
     "text": [
      "[Parallel(n_jobs=-2)]: Using backend ThreadingBackend with 7 concurrent workers.\n"
     ]
    },
    {
     "name": "stdout",
     "output_type": "stream",
     "text": [
      "analytic rd 0.33905495608084285 dimensionless\n",
      "numeric rd 0.33923974435962356 dimensionless\n",
      "dispersion ratio 1.0005450098146822 dimensionless\n",
      "\n",
      "\n",
      "analytic rd 0.3396087628473136 dimensionless\n",
      "numeric rd 0.33970721759729633 dimensionless\n",
      "dispersion ratio 1.0002899063886257 dimensionless\n",
      "\n",
      "\n",
      "analytic rd 0.3394239087225427 dimensionless\n",
      "numeric rd 0.33968637009278685 dimensionless\n",
      "dispersion ratio 1.0007732553998094 dimensionless\n",
      "\n",
      "\n",
      "analytic rd 0.33979386972283987 dimensionless\n",
      "numeric rd 0.34013006087753955 dimensionless\n",
      "dispersion ratio 1.0009893973513233 dimensionless\n",
      "\n",
      "\n"
     ]
    },
    {
     "name": "stderr",
     "output_type": "stream",
     "text": [
      "[Parallel(n_jobs=-2)]: Done   4 tasks      | elapsed:  2.3min\n"
     ]
    },
    {
     "name": "stdout",
     "output_type": "stream",
     "text": [
      "analytic rd 0.3381369516142046 dimensionless\n",
      "numeric rd 0.33815461286260456 dimensionless\n",
      "dispersion ratio 1.0000522310511042 dimensionless\n",
      "\n",
      "\n",
      "analytic rd 0.3394273223708338 dimensionless\n",
      "numeric rd 0.33955924779696167 dimensionless\n",
      "dispersion ratio 1.000388670614983 dimensionless\n",
      "\n",
      "\n",
      "analytic rd 0.33979734211502066 dimensionless\n",
      "numeric rd 0.3399665968204824 dimensionless\n",
      "dispersion ratio 1.0004981048539352 dimensionless\n",
      "\n",
      "\n",
      "analytic rd 0.3390583119639061 dimensionless\n",
      "numeric rd 0.3391511163893536 dimensionless\n",
      "dispersion ratio 1.000273712285388 dimensionless\n",
      "\n",
      "\n",
      "analytic rd 0.3396122057432932 dimensionless\n",
      "numeric rd 0.3396617233619479 dimensionless\n",
      "dispersion ratio 1.0001458063574196 dimensionless\n",
      "\n",
      "\n",
      "analytic rd 0.33814016720523987 dimensionless\n",
      "numeric rd 0.33814945375746097 dimensionless\n",
      "dispersion ratio 1.0000274636175224 dimensionless\n",
      "\n",
      "\n"
     ]
    },
    {
     "name": "stderr",
     "output_type": "stream",
     "text": [
      "[Parallel(n_jobs=-2)]: Done  10 out of  20 | elapsed:  4.6min remaining:  4.6min\n"
     ]
    },
    {
     "name": "stdout",
     "output_type": "stream",
     "text": [
      "analytic rd 0.3398445358450252 dimensionless\n",
      "numeric rd 0.3399292384175626 dimensionless\n",
      "dispersion ratio 1.0002492391773397 dimensionless\n",
      "\n",
      "\n",
      "analytic rd 0.3396824657528255 dimensionless\n",
      "numeric rd 0.3397477190184154 dimensionless\n",
      "dispersion ratio 1.0001921007769572 dimensionless\n",
      "\n",
      "\n",
      "analytic rd 0.3395205896031191 dimensionless\n",
      "numeric rd 0.3395659948040035 dimensionless\n",
      "dispersion ratio 1.0001337332764928 dimensionless\n",
      "\n",
      "\n"
     ]
    },
    {
     "name": "stderr",
     "output_type": "stream",
     "text": [
      "[Parallel(n_jobs=-2)]: Done  13 out of  20 | elapsed:  6.3min remaining:  3.4min\n"
     ]
    },
    {
     "name": "stdout",
     "output_type": "stream",
     "text": [
      "analytic rd 0.33961306653815504 dimensionless\n",
      "numeric rd 0.33963789390309507 dimensionless\n",
      "dispersion ratio 1.000073104857811 dimensionless\n",
      "\n",
      "\n",
      "analytic rd 0.33901309361260157 dimensionless\n",
      "numeric rd 0.3390176495619824 dimensionless\n",
      "dispersion ratio 1.000013438859639 dimensionless\n",
      "\n",
      "\n",
      "analytic rd 0.3398447533568122 dimensionless\n",
      "numeric rd 0.3398871720785524 dimensionless\n",
      "dispersion ratio 1.000124817939136 dimensionless\n",
      "\n",
      "\n"
     ]
    },
    {
     "name": "stderr",
     "output_type": "stream",
     "text": [
      "[Parallel(n_jobs=-2)]: Done  16 out of  20 | elapsed:  8.1min remaining:  2.0min\n"
     ]
    },
    {
     "name": "stdout",
     "output_type": "stream",
     "text": [
      "analytic rd 0.3398100073542661 dimensionless\n",
      "numeric rd 0.3398424509410123 dimensionless\n",
      "dispersion ratio 1.0000954756659428 dimensionless\n",
      "\n",
      "\n",
      "analytic rd 0.3397521171750468 dimensionless\n",
      "numeric rd 0.3397745634596266 dimensionless\n",
      "dispersion ratio 1.000066066651082 dimensionless\n",
      "\n",
      "\n",
      "analytic rd 0.3396132817416431 dimensionless\n",
      "numeric rd 0.33962570894542304 dimensionless\n",
      "dispersion ratio 1.0000365922195864 dimensionless\n",
      "\n",
      "\n",
      "analytic rd 0.33945148697184196 dimensionless\n",
      "numeric rd 0.3394537357608237 dimensionless\n",
      "dispersion ratio 1.0000066247728117 dimensionless\n",
      "\n",
      "\n",
      "upwind\n"
     ]
    },
    {
     "name": "stderr",
     "output_type": "stream",
     "text": [
      "[Parallel(n_jobs=-2)]: Done  20 out of  20 | elapsed:  9.6min finished\n",
      "C:\\Users\\Michael\\PycharmProjects\\MPyDATA\\MPyDATA_examples\\Olesik_et_al_2020\\../..\\MPyDATA_examples\\Olesik_et_al_2020\\convergence_plotter.py:30: UserWarning: The following kwargs were not used by contour: 'linewidth'\n",
      "  plt.contour(X, Y, Z, levels, colors='black', linewidth=.3)\n",
      "No handles with labels found to put in legend.\n"
     ]
    },
    {
     "data": {
      "application/vnd.jupyter.widget-view+json": {
       "model_id": "9c860b3df4354c24afaf9a2f7f50ad68",
       "version_major": 2,
       "version_minor": 0
      },
      "text/plain": [
       "VBox(children=(Output(), HTML(value=\"<a href='../utils/output\\\\convergence_log$_2$(err)_upwind.pdf' target='_b…"
      ]
     },
     "metadata": {},
     "output_type": "display_data"
    },
    {
     "name": "stderr",
     "output_type": "stream",
     "text": [
      "C:\\Users\\Michael\\PycharmProjects\\MPyDATA\\MPyDATA_examples\\Olesik_et_al_2020\\../..\\MPyDATA_examples\\Olesik_et_al_2020\\convergence_plotter.py:30: UserWarning: The following kwargs were not used by contour: 'linewidth'\n",
      "  plt.contour(X, Y, Z, levels, colors='black', linewidth=.3)\n",
      "No handles with labels found to put in legend.\n"
     ]
    },
    {
     "data": {
      "application/vnd.jupyter.widget-view+json": {
       "model_id": "5a2519b2678b4b44aea5521acb4dbfe1",
       "version_major": 2,
       "version_minor": 0
      },
      "text/plain": [
       "VBox(children=(Output(), HTML(value=\"<a href='../utils/output\\\\convergence_log$_2$(err_g)_upwind.pdf' target='…"
      ]
     },
     "metadata": {},
     "output_type": "display_data"
    },
    {
     "name": "stderr",
     "output_type": "stream",
     "text": [
      "C:\\Users\\Michael\\PycharmProjects\\MPyDATA\\MPyDATA_examples\\Olesik_et_al_2020\\../..\\MPyDATA_examples\\Olesik_et_al_2020\\convergence_plotter.py:30: UserWarning: The following kwargs were not used by contour: 'linewidth'\n",
      "  plt.contour(X, Y, Z, levels, colors='black', linewidth=.3)\n",
      "No handles with labels found to put in legend.\n"
     ]
    },
    {
     "data": {
      "application/vnd.jupyter.widget-view+json": {
       "model_id": "0bd1953104fe493897271c0bce0bf77a",
       "version_major": 2,
       "version_minor": 0
      },
      "text/plain": [
       "VBox(children=(Output(), HTML(value=\"<a href='../utils/output\\\\convergence_log$_2$(err_r0)_upwind.pdf' target=…"
      ]
     },
     "metadata": {},
     "output_type": "display_data"
    },
    {
     "name": "stderr",
     "output_type": "stream",
     "text": [
      "C:\\Users\\Michael\\PycharmProjects\\MPyDATA\\MPyDATA_examples\\Olesik_et_al_2020\\../..\\MPyDATA_examples\\Olesik_et_al_2020\\convergence_plotter.py:30: UserWarning: The following kwargs were not used by contour: 'linewidth'\n",
      "  plt.contour(X, Y, Z, levels, colors='black', linewidth=.3)\n",
      "No handles with labels found to put in legend.\n"
     ]
    },
    {
     "data": {
      "application/vnd.jupyter.widget-view+json": {
       "model_id": "6f748f7b23134bcd8cec0a51804ecfcf",
       "version_major": 2,
       "version_minor": 0
      },
      "text/plain": [
       "VBox(children=(Output(), HTML(value=\"<a href='../utils/output\\\\convergence_height difference_upwind.pdf' targe…"
      ]
     },
     "metadata": {},
     "output_type": "display_data"
    },
    {
     "name": "stderr",
     "output_type": "stream",
     "text": [
      "C:\\Users\\Michael\\PycharmProjects\\MPyDATA\\MPyDATA_examples\\Olesik_et_al_2020\\../..\\MPyDATA_examples\\Olesik_et_al_2020\\convergence_plotter.py:30: UserWarning: The following kwargs were not used by contour: 'linewidth'\n",
      "  plt.contour(X, Y, Z, levels, colors='black', linewidth=.3)\n",
      "No handles with labels found to put in legend.\n"
     ]
    },
    {
     "data": {
      "application/vnd.jupyter.widget-view+json": {
       "model_id": "514d05292dcb47e68c245b6209d7ef8f",
       "version_major": 2,
       "version_minor": 0
      },
      "text/plain": [
       "VBox(children=(Output(), HTML(value=\"<a href='../utils/output\\\\convergence_h_2_upwind.pdf' target='_blank'>../…"
      ]
     },
     "metadata": {},
     "output_type": "display_data"
    },
    {
     "name": "stderr",
     "output_type": "stream",
     "text": [
      "[Parallel(n_jobs=-2)]: Using backend ThreadingBackend with 7 concurrent workers.\n"
     ]
    },
    {
     "name": "stdout",
     "output_type": "stream",
     "text": [
      "analytic rd 0.3381369516142046 dimensionless\n",
      "numeric rd 0.3381367200561091 dimensionless\n",
      "dispersion ratio 0.9999993151943484 dimensionless\n",
      "\n",
      "\n",
      "analytic rd 0.33979386972283987 dimensionless\n",
      "numeric rd 0.3398165395009408 dimensionless\n",
      "dispersion ratio 1.0000667162657155 dimensionless\n",
      "\n",
      "\n",
      "analytic rd 0.3396087628473136 dimensionless\n",
      "numeric rd 0.33961573481494245 dimensionless\n",
      "dispersion ratio 1.0000205294102849 dimensionless\n",
      "\n",
      "\n",
      "analytic rd 0.33905495608084285 dimensionless\n",
      "numeric rd 0.33906835160916504 dimensionless\n",
      "dispersion ratio 1.0000395084280054 dimensionless\n",
      "\n",
      "\n"
     ]
    },
    {
     "name": "stderr",
     "output_type": "stream",
     "text": [
      "[Parallel(n_jobs=-2)]: Done   4 tasks      | elapsed:  1.1min\n"
     ]
    },
    {
     "name": "stdout",
     "output_type": "stream",
     "text": [
      "analytic rd 0.3394239087225427 dimensionless\n",
      "numeric rd 0.3394424159744223 dimensionless\n",
      "dispersion ratio 1.0000545254809812 dimensionless\n",
      "\n",
      "\n",
      "analytic rd 0.3394273223708338 dimensionless\n",
      "numeric rd 0.3394320723219091 dimensionless\n",
      "dispersion ratio 1.000013994015102 dimensionless\n",
      "\n",
      "\n",
      "analytic rd 0.33979734211502066 dimensionless\n",
      "numeric rd 0.3398031450542056 dimensionless\n",
      "dispersion ratio 1.0000170776473671 dimensionless\n",
      "\n",
      "\n",
      "analytic rd 0.3390583119639061 dimensionless\n",
      "numeric rd 0.3390617490633955 dimensionless\n",
      "dispersion ratio 1.0000101371928312 dimensionless\n",
      "\n",
      "\n",
      "analytic rd 0.3396122057432932 dimensionless\n",
      "numeric rd 0.3396139879432945 dimensionless\n",
      "dispersion ratio 1.000005247750143 dimensionless\n",
      "\n",
      "\n",
      "analytic rd 0.33814016720523987 dimensionless\n",
      "numeric rd 0.3381401088951171 dimensionless\n",
      "dispersion ratio 0.9999998275563555 dimensionless\n",
      "\n",
      "\n"
     ]
    },
    {
     "name": "stderr",
     "output_type": "stream",
     "text": [
      "[Parallel(n_jobs=-2)]: Done  10 out of  20 | elapsed:  2.3min remaining:  2.3min\n"
     ]
    },
    {
     "name": "stdout",
     "output_type": "stream",
     "text": [
      "analytic rd 0.3398445358450252 dimensionless\n",
      "numeric rd 0.33984598936805743 dimensionless\n",
      "dispersion ratio 1.0000042770234001 dimensionless\n",
      "\n",
      "\n",
      "analytic rd 0.3396824657528255 dimensionless\n",
      "numeric rd 0.33968364482498276 dimensionless\n",
      "dispersion ratio 1.0000034711010315 dimensionless\n",
      "\n",
      "\n",
      "analytic rd 0.3395205896031191 dimensionless\n",
      "numeric rd 0.339521433982693 dimensionless\n",
      "dispersion ratio 1.0000024869760473 dimensionless\n",
      "\n",
      "\n"
     ]
    },
    {
     "name": "stderr",
     "output_type": "stream",
     "text": [
      "[Parallel(n_jobs=-2)]: Done  13 out of  20 | elapsed:  3.1min remaining:  1.7min\n"
     ]
    },
    {
     "name": "stdout",
     "output_type": "stream",
     "text": [
      "analytic rd 0.33961306653815504 dimensionless\n",
      "numeric rd 0.3396135092077854 dimensionless\n",
      "dispersion ratio 1.000001303452882 dimensionless\n",
      "\n",
      "\n",
      "analytic rd 0.33901309361260157 dimensionless\n",
      "numeric rd 0.3390130768775628 dimensionless\n",
      "dispersion ratio 0.9999999506360107 dimensionless\n",
      "\n",
      "\n",
      "analytic rd 0.3398447533568122 dimensionless\n",
      "numeric rd 0.3398451106777294 dimensionless\n",
      "dispersion ratio 1.0000010514239623 dimensionless\n",
      "\n",
      "\n"
     ]
    },
    {
     "name": "stderr",
     "output_type": "stream",
     "text": [
      "[Parallel(n_jobs=-2)]: Done  16 out of  20 | elapsed:  4.0min remaining:  1.0min\n"
     ]
    },
    {
     "name": "stdout",
     "output_type": "stream",
     "text": [
      "analytic rd 0.3398100073542661 dimensionless\n",
      "numeric rd 0.3398102943186351 dimensionless\n",
      "dispersion ratio 1.0000008444847497 dimensionless\n",
      "\n",
      "\n",
      "analytic rd 0.3397521171750468 dimensionless\n",
      "numeric rd 0.3397523197693781 dimensionless\n",
      "dispersion ratio 1.0000005963004233 dimensionless\n",
      "\n",
      "\n",
      "analytic rd 0.3396132817416431 dimensionless\n",
      "numeric rd 0.3396133856278719 dimensionless\n",
      "dispersion ratio 1.0000003058956595 dimensionless\n",
      "\n",
      "\n",
      "analytic rd 0.33945148697184196 dimensionless\n",
      "numeric rd 0.339451476255783 dimensionless\n",
      "dispersion ratio 0.9999999684312504 dimensionless\n",
      "\n",
      "\n",
      "MPDATA 2 iterations\n"
     ]
    },
    {
     "name": "stderr",
     "output_type": "stream",
     "text": [
      "[Parallel(n_jobs=-2)]: Done  20 out of  20 | elapsed:  5.4min finished\n",
      "C:\\Users\\Michael\\PycharmProjects\\MPyDATA\\MPyDATA_examples\\Olesik_et_al_2020\\../..\\MPyDATA_examples\\Olesik_et_al_2020\\convergence_plotter.py:30: UserWarning: The following kwargs were not used by contour: 'linewidth'\n",
      "  plt.contour(X, Y, Z, levels, colors='black', linewidth=.3)\n",
      "No handles with labels found to put in legend.\n"
     ]
    },
    {
     "data": {
      "application/vnd.jupyter.widget-view+json": {
       "model_id": "9677698c29534bf7b812eba01337b87d",
       "version_major": 2,
       "version_minor": 0
      },
      "text/plain": [
       "VBox(children=(Output(), HTML(value=\"<a href='../utils/output\\\\convergence_log$_2$(err)_MPDATA 2 iterations.pd…"
      ]
     },
     "metadata": {},
     "output_type": "display_data"
    },
    {
     "name": "stderr",
     "output_type": "stream",
     "text": [
      "C:\\Users\\Michael\\PycharmProjects\\MPyDATA\\MPyDATA_examples\\Olesik_et_al_2020\\../..\\MPyDATA_examples\\Olesik_et_al_2020\\convergence_plotter.py:30: UserWarning: The following kwargs were not used by contour: 'linewidth'\n",
      "  plt.contour(X, Y, Z, levels, colors='black', linewidth=.3)\n",
      "No handles with labels found to put in legend.\n"
     ]
    },
    {
     "data": {
      "application/vnd.jupyter.widget-view+json": {
       "model_id": "d74648b0893347a88b4109d5c02cb3e8",
       "version_major": 2,
       "version_minor": 0
      },
      "text/plain": [
       "VBox(children=(Output(), HTML(value=\"<a href='../utils/output\\\\convergence_log$_2$(err_g)_MPDATA 2 iterations.…"
      ]
     },
     "metadata": {},
     "output_type": "display_data"
    },
    {
     "name": "stderr",
     "output_type": "stream",
     "text": [
      "C:\\Users\\Michael\\PycharmProjects\\MPyDATA\\MPyDATA_examples\\Olesik_et_al_2020\\../..\\MPyDATA_examples\\Olesik_et_al_2020\\convergence_plotter.py:30: UserWarning: The following kwargs were not used by contour: 'linewidth'\n",
      "  plt.contour(X, Y, Z, levels, colors='black', linewidth=.3)\n",
      "No handles with labels found to put in legend.\n"
     ]
    },
    {
     "data": {
      "application/vnd.jupyter.widget-view+json": {
       "model_id": "2e7e6cf5781d44a8993e5579131af759",
       "version_major": 2,
       "version_minor": 0
      },
      "text/plain": [
       "VBox(children=(Output(), HTML(value=\"<a href='../utils/output\\\\convergence_log$_2$(err_r0)_MPDATA 2 iterations…"
      ]
     },
     "metadata": {},
     "output_type": "display_data"
    },
    {
     "name": "stderr",
     "output_type": "stream",
     "text": [
      "C:\\Users\\Michael\\PycharmProjects\\MPyDATA\\MPyDATA_examples\\Olesik_et_al_2020\\../..\\MPyDATA_examples\\Olesik_et_al_2020\\convergence_plotter.py:30: UserWarning: The following kwargs were not used by contour: 'linewidth'\n",
      "  plt.contour(X, Y, Z, levels, colors='black', linewidth=.3)\n",
      "No handles with labels found to put in legend.\n"
     ]
    },
    {
     "data": {
      "application/vnd.jupyter.widget-view+json": {
       "model_id": "6f544b1a94ee4402a50021d7107f156d",
       "version_major": 2,
       "version_minor": 0
      },
      "text/plain": [
       "VBox(children=(Output(), HTML(value=\"<a href='../utils/output\\\\convergence_height difference_MPDATA 2 iteratio…"
      ]
     },
     "metadata": {},
     "output_type": "display_data"
    },
    {
     "name": "stderr",
     "output_type": "stream",
     "text": [
      "C:\\Users\\Michael\\PycharmProjects\\MPyDATA\\MPyDATA_examples\\Olesik_et_al_2020\\../..\\MPyDATA_examples\\Olesik_et_al_2020\\convergence_plotter.py:30: UserWarning: The following kwargs were not used by contour: 'linewidth'\n",
      "  plt.contour(X, Y, Z, levels, colors='black', linewidth=.3)\n",
      "No handles with labels found to put in legend.\n"
     ]
    },
    {
     "data": {
      "application/vnd.jupyter.widget-view+json": {
       "model_id": "65b4677314c04881aad7c1a329a97663",
       "version_major": 2,
       "version_minor": 0
      },
      "text/plain": [
       "VBox(children=(Output(), HTML(value=\"<a href='../utils/output\\\\convergence_h_2_MPDATA 2 iterations.pdf' target…"
      ]
     },
     "metadata": {},
     "output_type": "display_data"
    },
    {
     "name": "stderr",
     "output_type": "stream",
     "text": [
      "[Parallel(n_jobs=-2)]: Using backend ThreadingBackend with 7 concurrent workers.\n"
     ]
    },
    {
     "name": "stdout",
     "output_type": "stream",
     "text": [
      "analytic rd 0.33905495608084285 dimensionless\n",
      "numeric rd 0.3390540809137564 dimensionless\n",
      "dispersion ratio 0.9999974188046192 dimensionless\n",
      "\n",
      "\n",
      "analytic rd 0.3394273223708338 dimensionless\n",
      "numeric rd 0.33942730593189 dimensionless\n",
      "dispersion ratio 0.9999999515685901 dimensionless\n",
      "\n",
      "\n",
      "analytic rd 0.3394239087225427 dimensionless\n",
      "numeric rd 0.339422103989125 dimensionless\n",
      "dispersion ratio 0.9999946829514028 dimensionless\n",
      "\n",
      "\n",
      "analytic rd 0.33979386972283987 dimensionless\n",
      "numeric rd 0.3397904285451429 dimensionless\n",
      "dispersion ratio 0.9999898727493237 dimensionless\n",
      "\n",
      "\n"
     ]
    },
    {
     "name": "stderr",
     "output_type": "stream",
     "text": [
      "[Parallel(n_jobs=-2)]: Done   4 tasks      | elapsed:  1.2min\n"
     ]
    },
    {
     "name": "stdout",
     "output_type": "stream",
     "text": [
      "analytic rd 0.3396087628473136 dimensionless\n",
      "numeric rd 0.3396080869118634 dimensionless\n",
      "dispersion ratio 0.9999980096642839 dimensionless\n",
      "\n",
      "\n",
      "analytic rd 0.3381369516142046 dimensionless\n",
      "numeric rd 0.33813520737553604 dimensionless\n",
      "dispersion ratio 0.9999948416206503 dimensionless\n",
      "\n",
      "\n",
      "analytic rd 0.33979734211502066 dimensionless\n",
      "numeric rd 0.33979703793981425 dimensionless\n",
      "dispersion ratio 0.9999991048334737 dimensionless\n",
      "\n",
      "\n",
      "analytic rd 0.3390583119639061 dimensionless\n",
      "numeric rd 0.3390583925360655 dimensionless\n",
      "dispersion ratio 1.0000002376351105 dimensionless\n",
      "\n",
      "\n",
      "analytic rd 0.3396122057432932 dimensionless\n",
      "numeric rd 0.33961219553310046 dimensionless\n",
      "dispersion ratio 0.9999999699357309 dimensionless\n",
      "\n",
      "\n",
      "analytic rd 0.33814016720523987 dimensionless\n",
      "numeric rd 0.3381397538762968 dimensionless\n",
      "dispersion ratio 0.999998777640212 dimensionless\n",
      "\n",
      "\n"
     ]
    },
    {
     "name": "stderr",
     "output_type": "stream",
     "text": [
      "[Parallel(n_jobs=-2)]: Done  10 out of  20 | elapsed:  2.4min remaining:  2.4min\n"
     ]
    },
    {
     "name": "stdout",
     "output_type": "stream",
     "text": [
      "analytic rd 0.3398445358450252 dimensionless\n",
      "numeric rd 0.33984472701646795 dimensionless\n",
      "dispersion ratio 1.000000562526163 dimensionless\n",
      "\n",
      "\n",
      "analytic rd 0.3396824657528255 dimensionless\n",
      "numeric rd 0.3396826713935222 dimensionless\n",
      "dispersion ratio 1.0000006053909678 dimensionless\n",
      "\n",
      "\n",
      "analytic rd 0.3395205896031191 dimensionless\n",
      "numeric rd 0.3395207545266375 dimensionless\n",
      "dispersion ratio 1.0000004857540998 dimensionless\n",
      "\n",
      "\n"
     ]
    },
    {
     "name": "stderr",
     "output_type": "stream",
     "text": [
      "[Parallel(n_jobs=-2)]: Done  13 out of  20 | elapsed:  3.2min remaining:  1.7min\n"
     ]
    },
    {
     "name": "stdout",
     "output_type": "stream",
     "text": [
      "analytic rd 0.33961306653815504 dimensionless\n",
      "numeric rd 0.33961313730009474 dimensionless\n",
      "dispersion ratio 1.0000002083604744 dimensionless\n",
      "\n",
      "\n",
      "analytic rd 0.33901309361260157 dimensionless\n",
      "numeric rd 0.3390130062112919 dimensionless\n",
      "dispersion ratio 0.9999997421889852 dimensionless\n",
      "\n",
      "\n",
      "analytic rd 0.3398447533568122 dimensionless\n",
      "numeric rd 0.33984493307656827 dimensionless\n",
      "dispersion ratio 1.0000005288289853 dimensionless\n",
      "\n",
      "\n"
     ]
    },
    {
     "name": "stderr",
     "output_type": "stream",
     "text": [
      "[Parallel(n_jobs=-2)]: Done  16 out of  20 | elapsed:  4.1min remaining:  1.0min\n"
     ]
    },
    {
     "name": "stdout",
     "output_type": "stream",
     "text": [
      "analytic rd 0.3398100073542661 dimensionless\n",
      "numeric rd 0.3398101578247249 dimensionless\n",
      "dispersion ratio 1.0000004428076148 dimensionless\n",
      "\n",
      "\n",
      "analytic rd 0.3397521171750468 dimensionless\n",
      "numeric rd 0.3397522246689794 dimensionless\n",
      "dispersion ratio 1.0000003163892945 dimensionless\n",
      "\n",
      "\n",
      "analytic rd 0.3396132817416431 dimensionless\n",
      "numeric rd 0.3396133322203189 dimensionless\n",
      "dispersion ratio 1.0000001486357528 dimensionless\n",
      "\n",
      "\n",
      "analytic rd 0.33945148697184196 dimensionless\n",
      "numeric rd 0.3394514663028346 dimensionless\n",
      "dispersion ratio 0.9999999391105706 dimensionless\n",
      "\n",
      "\n",
      "MPDATA 2 iterations  infinite gauge\n"
     ]
    },
    {
     "name": "stderr",
     "output_type": "stream",
     "text": [
      "[Parallel(n_jobs=-2)]: Done  20 out of  20 | elapsed:  5.7min finished\n",
      "C:\\Users\\Michael\\PycharmProjects\\MPyDATA\\MPyDATA_examples\\Olesik_et_al_2020\\../..\\MPyDATA_examples\\Olesik_et_al_2020\\convergence_plotter.py:30: UserWarning: The following kwargs were not used by contour: 'linewidth'\n",
      "  plt.contour(X, Y, Z, levels, colors='black', linewidth=.3)\n",
      "No handles with labels found to put in legend.\n"
     ]
    },
    {
     "data": {
      "application/vnd.jupyter.widget-view+json": {
       "model_id": "1e5063d7071a400ba14aa94256437f1e",
       "version_major": 2,
       "version_minor": 0
      },
      "text/plain": [
       "VBox(children=(Output(), HTML(value=\"<a href='../utils/output\\\\convergence_log$_2$(err)_MPDATA 2 iterations  i…"
      ]
     },
     "metadata": {},
     "output_type": "display_data"
    },
    {
     "name": "stderr",
     "output_type": "stream",
     "text": [
      "C:\\Users\\Michael\\PycharmProjects\\MPyDATA\\MPyDATA_examples\\Olesik_et_al_2020\\../..\\MPyDATA_examples\\Olesik_et_al_2020\\convergence_plotter.py:30: UserWarning: The following kwargs were not used by contour: 'linewidth'\n",
      "  plt.contour(X, Y, Z, levels, colors='black', linewidth=.3)\n",
      "No handles with labels found to put in legend.\n"
     ]
    },
    {
     "data": {
      "application/vnd.jupyter.widget-view+json": {
       "model_id": "139ac6189b9c410786de0131540e6271",
       "version_major": 2,
       "version_minor": 0
      },
      "text/plain": [
       "VBox(children=(Output(), HTML(value=\"<a href='../utils/output\\\\convergence_log$_2$(err_g)_MPDATA 2 iterations …"
      ]
     },
     "metadata": {},
     "output_type": "display_data"
    },
    {
     "name": "stderr",
     "output_type": "stream",
     "text": [
      "C:\\Users\\Michael\\PycharmProjects\\MPyDATA\\MPyDATA_examples\\Olesik_et_al_2020\\../..\\MPyDATA_examples\\Olesik_et_al_2020\\convergence_plotter.py:30: UserWarning: The following kwargs were not used by contour: 'linewidth'\n",
      "  plt.contour(X, Y, Z, levels, colors='black', linewidth=.3)\n",
      "No handles with labels found to put in legend.\n"
     ]
    },
    {
     "data": {
      "application/vnd.jupyter.widget-view+json": {
       "model_id": "d79ca9b4cd294890a6d2d7f796ddf0f2",
       "version_major": 2,
       "version_minor": 0
      },
      "text/plain": [
       "VBox(children=(Output(), HTML(value=\"<a href='../utils/output\\\\convergence_log$_2$(err_r0)_MPDATA 2 iterations…"
      ]
     },
     "metadata": {},
     "output_type": "display_data"
    },
    {
     "name": "stderr",
     "output_type": "stream",
     "text": [
      "C:\\Users\\Michael\\PycharmProjects\\MPyDATA\\MPyDATA_examples\\Olesik_et_al_2020\\../..\\MPyDATA_examples\\Olesik_et_al_2020\\convergence_plotter.py:30: UserWarning: The following kwargs were not used by contour: 'linewidth'\n",
      "  plt.contour(X, Y, Z, levels, colors='black', linewidth=.3)\n",
      "No handles with labels found to put in legend.\n"
     ]
    },
    {
     "data": {
      "application/vnd.jupyter.widget-view+json": {
       "model_id": "04ce044a357f4d1fa60c5cb13cf7b5bc",
       "version_major": 2,
       "version_minor": 0
      },
      "text/plain": [
       "VBox(children=(Output(), HTML(value=\"<a href='../utils/output\\\\convergence_height difference_MPDATA 2 iteratio…"
      ]
     },
     "metadata": {},
     "output_type": "display_data"
    },
    {
     "name": "stderr",
     "output_type": "stream",
     "text": [
      "C:\\Users\\Michael\\PycharmProjects\\MPyDATA\\MPyDATA_examples\\Olesik_et_al_2020\\../..\\MPyDATA_examples\\Olesik_et_al_2020\\convergence_plotter.py:30: UserWarning: The following kwargs were not used by contour: 'linewidth'\n",
      "  plt.contour(X, Y, Z, levels, colors='black', linewidth=.3)\n",
      "No handles with labels found to put in legend.\n"
     ]
    },
    {
     "data": {
      "application/vnd.jupyter.widget-view+json": {
       "model_id": "61947b271aeb42948992e0a7f5e66f6f",
       "version_major": 2,
       "version_minor": 0
      },
      "text/plain": [
       "VBox(children=(Output(), HTML(value=\"<a href='../utils/output\\\\convergence_h_2_MPDATA 2 iterations  infinite g…"
      ]
     },
     "metadata": {},
     "output_type": "display_data"
    },
    {
     "name": "stderr",
     "output_type": "stream",
     "text": [
      "[Parallel(n_jobs=-2)]: Using backend ThreadingBackend with 7 concurrent workers.\n"
     ]
    },
    {
     "name": "stdout",
     "output_type": "stream",
     "text": [
      "analytic rd 0.3381369516142046 dimensionless\n",
      "numeric rd 0.33813509468438335 dimensionless\n",
      "dispersion ratio 0.9999945083499086 dimensionless\n",
      "\n",
      "\n",
      "analytic rd 0.33979386972283987 dimensionless\n",
      "numeric rd 0.33978857139076846 dimensionless\n",
      "dispersion ratio 0.9999844072170115 dimensionless\n",
      "\n",
      "\n",
      "analytic rd 0.33905495608084285 dimensionless\n",
      "numeric rd 0.3390529940768277 dimensionless\n",
      "dispersion ratio 0.9999942133156293 dimensionless\n",
      "\n",
      "\n",
      "analytic rd 0.3394239087225427 dimensionless\n",
      "numeric rd 0.3394206454865192 dimensionless\n",
      "dispersion ratio 0.9999903859570889 dimensionless\n",
      "\n",
      "\n"
     ]
    },
    {
     "name": "stderr",
     "output_type": "stream",
     "text": [
      "[Parallel(n_jobs=-2)]: Done   4 tasks      | elapsed:  3.9min\n"
     ]
    },
    {
     "name": "stdout",
     "output_type": "stream",
     "text": [
      "analytic rd 0.3396087628473136 dimensionless\n",
      "numeric rd 0.3396074594341209 dimensionless\n",
      "dispersion ratio 0.9999961620154268 dimensionless\n",
      "\n",
      "\n",
      "analytic rd 0.33979734211502066 dimensionless\n",
      "numeric rd 0.3397959396080679 dimensionless\n",
      "dispersion ratio 0.9999958725193552 dimensionless\n",
      "\n",
      "\n",
      "analytic rd 0.3394273223708338 dimensionless\n",
      "numeric rd 0.3394264705271575 dimensionless\n",
      "dispersion ratio 0.9999974903503044 dimensionless\n",
      "\n",
      "\n",
      "analytic rd 0.3390583119639061 dimensionless\n",
      "numeric rd 0.33905781296590726 dimensionless\n",
      "dispersion ratio 0.9999985282826545 dimensionless\n",
      "\n",
      "\n",
      "analytic rd 0.3396122057432932 dimensionless\n",
      "numeric rd 0.3396118764901423 dimensionless\n",
      "dispersion ratio 0.9999990305025988 dimensionless\n",
      "\n",
      "\n",
      "analytic rd 0.33814016720523987 dimensionless\n",
      "numeric rd 0.3381396961375439 dimensionless\n",
      "dispersion ratio 0.9999986068863104 dimensionless\n",
      "\n",
      "\n"
     ]
    },
    {
     "name": "stderr",
     "output_type": "stream",
     "text": [
      "[Parallel(n_jobs=-2)]: Done  10 out of  20 | elapsed:  8.4min remaining:  8.4min\n"
     ]
    },
    {
     "name": "stdout",
     "output_type": "stream",
     "text": [
      "analytic rd 0.3398445358450252 dimensionless\n",
      "numeric rd 0.3398441750647103 dimensionless\n",
      "dispersion ratio 0.999998938396011 dimensionless\n",
      "\n",
      "\n",
      "analytic rd 0.3396824657528255 dimensionless\n",
      "numeric rd 0.3396822493322606 dimensionless\n",
      "dispersion ratio 0.9999993628738992 dimensionless\n",
      "\n",
      "\n",
      "analytic rd 0.3395205896031191 dimensionless\n",
      "numeric rd 0.33952046376743433 dimensionless\n",
      "dispersion ratio 0.9999996293724487 dimensionless\n",
      "\n",
      "\n"
     ]
    },
    {
     "name": "stderr",
     "output_type": "stream",
     "text": [
      "[Parallel(n_jobs=-2)]: Done  13 out of  20 | elapsed: 11.3min remaining:  6.1min\n"
     ]
    },
    {
     "name": "stdout",
     "output_type": "stream",
     "text": [
      "analytic rd 0.33961306653815504 dimensionless\n",
      "numeric rd 0.3396129776839638 dimensionless\n",
      "dispersion ratio 0.999999738366394 dimensionless\n",
      "\n",
      "\n",
      "analytic rd 0.33901309361260157 dimensionless\n",
      "numeric rd 0.33901297726744184 dimensionless\n",
      "dispersion ratio 0.9999996568121943 dimensionless\n",
      "\n",
      "\n",
      "analytic rd 0.3398447533568122 dimensionless\n",
      "numeric rd 0.33984465595699836 dimensionless\n",
      "dispersion ratio 0.9999997133990951 dimensionless\n",
      "\n",
      "\n"
     ]
    },
    {
     "name": "stderr",
     "output_type": "stream",
     "text": [
      "[Parallel(n_jobs=-2)]: Done  16 out of  20 | elapsed: 14.3min remaining:  3.6min\n"
     ]
    },
    {
     "name": "stdout",
     "output_type": "stream",
     "text": [
      "analytic rd 0.3398100073542661 dimensionless\n",
      "numeric rd 0.3398099467333531 dimensionless\n",
      "dispersion ratio 0.9999998216035088 dimensionless\n",
      "\n",
      "\n",
      "analytic rd 0.3397521171750468 dimensionless\n",
      "numeric rd 0.33975207935290364 dimensionless\n",
      "dispersion ratio 0.9999998886772408 dimensionless\n",
      "\n",
      "\n",
      "analytic rd 0.3396132817416431 dimensionless\n",
      "numeric rd 0.3396132524515438 dimensionless\n",
      "dispersion ratio 0.9999999137545529 dimensionless\n",
      "\n",
      "\n",
      "analytic rd 0.33945148697184196 dimensionless\n",
      "numeric rd 0.3394514518332794 dimensionless\n",
      "dispersion ratio 0.9999998964842874 dimensionless\n",
      "\n",
      "\n",
      "MPDATA 2 iterations  infinite gauge  flux corrected transport\n"
     ]
    },
    {
     "name": "stderr",
     "output_type": "stream",
     "text": [
      "[Parallel(n_jobs=-2)]: Done  20 out of  20 | elapsed: 18.5min finished\n",
      "C:\\Users\\Michael\\PycharmProjects\\MPyDATA\\MPyDATA_examples\\Olesik_et_al_2020\\../..\\MPyDATA_examples\\Olesik_et_al_2020\\convergence_plotter.py:30: UserWarning: The following kwargs were not used by contour: 'linewidth'\n",
      "  plt.contour(X, Y, Z, levels, colors='black', linewidth=.3)\n",
      "No handles with labels found to put in legend.\n"
     ]
    },
    {
     "data": {
      "application/vnd.jupyter.widget-view+json": {
       "model_id": "b1d315e576144f53a53ef41824403344",
       "version_major": 2,
       "version_minor": 0
      },
      "text/plain": [
       "VBox(children=(Output(), HTML(value=\"<a href='../utils/output\\\\convergence_log$_2$(err)_MPDATA 2 iterations  i…"
      ]
     },
     "metadata": {},
     "output_type": "display_data"
    },
    {
     "name": "stderr",
     "output_type": "stream",
     "text": [
      "C:\\Users\\Michael\\PycharmProjects\\MPyDATA\\MPyDATA_examples\\Olesik_et_al_2020\\../..\\MPyDATA_examples\\Olesik_et_al_2020\\convergence_plotter.py:30: UserWarning: The following kwargs were not used by contour: 'linewidth'\n",
      "  plt.contour(X, Y, Z, levels, colors='black', linewidth=.3)\n",
      "No handles with labels found to put in legend.\n"
     ]
    },
    {
     "data": {
      "application/vnd.jupyter.widget-view+json": {
       "model_id": "f9c8ca8be26e4a7d961e05c0e82c305b",
       "version_major": 2,
       "version_minor": 0
      },
      "text/plain": [
       "VBox(children=(Output(), HTML(value=\"<a href='../utils/output\\\\convergence_log$_2$(err_g)_MPDATA 2 iterations …"
      ]
     },
     "metadata": {},
     "output_type": "display_data"
    },
    {
     "name": "stderr",
     "output_type": "stream",
     "text": [
      "C:\\Users\\Michael\\PycharmProjects\\MPyDATA\\MPyDATA_examples\\Olesik_et_al_2020\\../..\\MPyDATA_examples\\Olesik_et_al_2020\\convergence_plotter.py:30: UserWarning: The following kwargs were not used by contour: 'linewidth'\n",
      "  plt.contour(X, Y, Z, levels, colors='black', linewidth=.3)\n",
      "No handles with labels found to put in legend.\n"
     ]
    },
    {
     "data": {
      "application/vnd.jupyter.widget-view+json": {
       "model_id": "769434e67bc54fcd84fbb9758b647a03",
       "version_major": 2,
       "version_minor": 0
      },
      "text/plain": [
       "VBox(children=(Output(), HTML(value=\"<a href='../utils/output\\\\convergence_log$_2$(err_r0)_MPDATA 2 iterations…"
      ]
     },
     "metadata": {},
     "output_type": "display_data"
    },
    {
     "name": "stderr",
     "output_type": "stream",
     "text": [
      "C:\\Users\\Michael\\PycharmProjects\\MPyDATA\\MPyDATA_examples\\Olesik_et_al_2020\\../..\\MPyDATA_examples\\Olesik_et_al_2020\\convergence_plotter.py:30: UserWarning: The following kwargs were not used by contour: 'linewidth'\n",
      "  plt.contour(X, Y, Z, levels, colors='black', linewidth=.3)\n",
      "No handles with labels found to put in legend.\n"
     ]
    },
    {
     "data": {
      "application/vnd.jupyter.widget-view+json": {
       "model_id": "9442e9a9a1a04e60be39b349c89dc73f",
       "version_major": 2,
       "version_minor": 0
      },
      "text/plain": [
       "VBox(children=(Output(), HTML(value=\"<a href='../utils/output\\\\convergence_height difference_MPDATA 2 iteratio…"
      ]
     },
     "metadata": {},
     "output_type": "display_data"
    },
    {
     "name": "stderr",
     "output_type": "stream",
     "text": [
      "C:\\Users\\Michael\\PycharmProjects\\MPyDATA\\MPyDATA_examples\\Olesik_et_al_2020\\../..\\MPyDATA_examples\\Olesik_et_al_2020\\convergence_plotter.py:30: UserWarning: The following kwargs were not used by contour: 'linewidth'\n",
      "  plt.contour(X, Y, Z, levels, colors='black', linewidth=.3)\n",
      "No handles with labels found to put in legend.\n"
     ]
    },
    {
     "data": {
      "application/vnd.jupyter.widget-view+json": {
       "model_id": "b1525b092c054bac9c3169b37fef5a37",
       "version_major": 2,
       "version_minor": 0
      },
      "text/plain": [
       "VBox(children=(Output(), HTML(value=\"<a href='../utils/output\\\\convergence_h_2_MPDATA 2 iterations  infinite g…"
      ]
     },
     "metadata": {},
     "output_type": "display_data"
    },
    {
     "name": "stderr",
     "output_type": "stream",
     "text": [
      "[Parallel(n_jobs=-2)]: Using backend ThreadingBackend with 7 concurrent workers.\n"
     ]
    },
    {
     "name": "stdout",
     "output_type": "stream",
     "text": [
      "analytic rd 0.33905495608084285 dimensionless\n",
      "numeric rd 0.33905656720085264 dimensionless\n",
      "dispersion ratio 1.0000047517960757 dimensionless\n",
      "\n",
      "\n",
      "analytic rd 0.3394239087225427 dimensionless\n",
      "numeric rd 0.33942633216382273 dimensionless\n",
      "dispersion ratio 1.0000071398661607 dimensionless\n",
      "\n",
      "\n",
      "analytic rd 0.3396087628473136 dimensionless\n",
      "numeric rd 0.33960907029843085 dimensionless\n",
      "dispersion ratio 1.0000009053097294 dimensionless\n",
      "\n",
      "\n",
      "analytic rd 0.3381369516142046 dimensionless\n",
      "numeric rd 0.33813533227595277 dimensionless\n",
      "dispersion ratio 0.999995210998845 dimensionless\n",
      "\n",
      "\n"
     ]
    },
    {
     "name": "stderr",
     "output_type": "stream",
     "text": [
      "[Parallel(n_jobs=-2)]: Done   4 tasks      | elapsed:  2.9min\n"
     ]
    },
    {
     "name": "stdout",
     "output_type": "stream",
     "text": [
      "analytic rd 0.33979386972283987 dimensionless\n",
      "numeric rd 0.3397964904532712 dimensionless\n",
      "dispersion ratio 1.0000077127066285 dimensionless\n",
      "\n",
      "\n",
      "analytic rd 0.3394273223708338 dimensionless\n",
      "numeric rd 0.33942745599822854 dimensionless\n",
      "dispersion ratio 1.0000003936848507 dimensionless\n",
      "\n",
      "\n",
      "analytic rd 0.33979734211502066 dimensionless\n",
      "numeric rd 0.33979745457585203 dimensionless\n",
      "dispersion ratio 1.0000003309644232 dimensionless\n",
      "\n",
      "\n",
      "analytic rd 0.3390583119639061 dimensionless\n",
      "numeric rd 0.3390583507996158 dimensionless\n",
      "dispersion ratio 1.0000001145399133 dimensionless\n",
      "\n",
      "\n",
      "analytic rd 0.3396122057432932 dimensionless\n",
      "numeric rd 0.3396120703175878 dimensionless\n",
      "dispersion ratio 0.9999996012342809 dimensionless\n",
      "\n",
      "\n",
      "analytic rd 0.33814016720523987 dimensionless\n",
      "numeric rd 0.3381397129156126 dimensionless\n",
      "dispersion ratio 0.9999986565049902 dimensionless\n",
      "\n",
      "\n"
     ]
    },
    {
     "name": "stderr",
     "output_type": "stream",
     "text": [
      "[Parallel(n_jobs=-2)]: Done  10 out of  20 | elapsed:  5.9min remaining:  5.9min\n"
     ]
    },
    {
     "name": "stdout",
     "output_type": "stream",
     "text": [
      "analytic rd 0.3398445358450252 dimensionless\n",
      "numeric rd 0.339844426039224 dimensionless\n",
      "dispersion ratio 0.9999996768940217 dimensionless\n",
      "\n",
      "\n",
      "analytic rd 0.3396824657528255 dimensionless\n",
      "numeric rd 0.3396823986475847 dimensionless\n",
      "dispersion ratio 0.9999998024471453 dimensionless\n",
      "\n",
      "\n",
      "analytic rd 0.3395205896031191 dimensionless\n",
      "numeric rd 0.33952053608642596 dimensionless\n",
      "dispersion ratio 0.9999998423757063 dimensionless\n",
      "\n",
      "\n"
     ]
    },
    {
     "name": "stderr",
     "output_type": "stream",
     "text": [
      "[Parallel(n_jobs=-2)]: Done  13 out of  20 | elapsed:  8.0min remaining:  4.3min\n"
     ]
    },
    {
     "name": "stdout",
     "output_type": "stream",
     "text": [
      "analytic rd 0.33961306653815504 dimensionless\n",
      "numeric rd 0.33961299886552143 dimensionless\n",
      "dispersion ratio 0.9999998007360721 dimensionless\n",
      "\n",
      "\n",
      "analytic rd 0.33901309361260157 dimensionless\n",
      "numeric rd 0.33901297767840916 dimensionless\n",
      "dispersion ratio 0.9999996580244404 dimensionless\n",
      "\n",
      "\n",
      "analytic rd 0.3398447533568122 dimensionless\n",
      "numeric rd 0.3398446812664566 dimensionless\n",
      "dispersion ratio 0.9999997878726834 dimensionless\n",
      "\n",
      "\n"
     ]
    },
    {
     "name": "stderr",
     "output_type": "stream",
     "text": [
      "[Parallel(n_jobs=-2)]: Done  16 out of  20 | elapsed: 10.1min remaining:  2.5min\n"
     ]
    },
    {
     "name": "stdout",
     "output_type": "stream",
     "text": [
      "analytic rd 0.3398100073542661 dimensionless\n",
      "numeric rd 0.3398099624853796 dimensionless\n",
      "dispersion ratio 0.999999867958902 dimensionless\n",
      "\n",
      "\n",
      "analytic rd 0.3397521171750468 dimensionless\n",
      "numeric rd 0.3397520887246756 dimensionless\n",
      "dispersion ratio 0.9999999162613866 dimensionless\n",
      "\n",
      "\n",
      "analytic rd 0.3396132817416431 dimensionless\n",
      "numeric rd 0.33961325690839234 dimensionless\n",
      "dispersion ratio 0.9999999268778574 dimensionless\n",
      "\n",
      "\n",
      "analytic rd 0.33945148697184196 dimensionless\n",
      "numeric rd 0.3394514526616675 dimensionless\n",
      "dispersion ratio 0.9999998989246599 dimensionless\n",
      "\n",
      "\n",
      "MPDATA 3 iterations  third order terms\n"
     ]
    },
    {
     "name": "stderr",
     "output_type": "stream",
     "text": [
      "[Parallel(n_jobs=-2)]: Done  20 out of  20 | elapsed: 13.2min finished\n",
      "C:\\Users\\Michael\\PycharmProjects\\MPyDATA\\MPyDATA_examples\\Olesik_et_al_2020\\../..\\MPyDATA_examples\\Olesik_et_al_2020\\convergence_plotter.py:30: UserWarning: The following kwargs were not used by contour: 'linewidth'\n",
      "  plt.contour(X, Y, Z, levels, colors='black', linewidth=.3)\n",
      "No handles with labels found to put in legend.\n"
     ]
    },
    {
     "data": {
      "application/vnd.jupyter.widget-view+json": {
       "model_id": "64e068bec9b94dfd9129b9b0bfbeedb7",
       "version_major": 2,
       "version_minor": 0
      },
      "text/plain": [
       "VBox(children=(Output(), HTML(value=\"<a href='../utils/output\\\\convergence_log$_2$(err)_MPDATA 3 iterations  t…"
      ]
     },
     "metadata": {},
     "output_type": "display_data"
    },
    {
     "name": "stderr",
     "output_type": "stream",
     "text": [
      "C:\\Users\\Michael\\PycharmProjects\\MPyDATA\\MPyDATA_examples\\Olesik_et_al_2020\\../..\\MPyDATA_examples\\Olesik_et_al_2020\\convergence_plotter.py:30: UserWarning: The following kwargs were not used by contour: 'linewidth'\n",
      "  plt.contour(X, Y, Z, levels, colors='black', linewidth=.3)\n",
      "No handles with labels found to put in legend.\n"
     ]
    },
    {
     "data": {
      "application/vnd.jupyter.widget-view+json": {
       "model_id": "0274bdc7db60471bb5c080e215ee6d9c",
       "version_major": 2,
       "version_minor": 0
      },
      "text/plain": [
       "VBox(children=(Output(), HTML(value=\"<a href='../utils/output\\\\convergence_log$_2$(err_g)_MPDATA 3 iterations …"
      ]
     },
     "metadata": {},
     "output_type": "display_data"
    },
    {
     "name": "stderr",
     "output_type": "stream",
     "text": [
      "C:\\Users\\Michael\\PycharmProjects\\MPyDATA\\MPyDATA_examples\\Olesik_et_al_2020\\../..\\MPyDATA_examples\\Olesik_et_al_2020\\convergence_plotter.py:30: UserWarning: The following kwargs were not used by contour: 'linewidth'\n",
      "  plt.contour(X, Y, Z, levels, colors='black', linewidth=.3)\n",
      "No handles with labels found to put in legend.\n"
     ]
    },
    {
     "data": {
      "application/vnd.jupyter.widget-view+json": {
       "model_id": "a4c8ecccc7cd4cb880de63ae27e5dd37",
       "version_major": 2,
       "version_minor": 0
      },
      "text/plain": [
       "VBox(children=(Output(), HTML(value=\"<a href='../utils/output\\\\convergence_log$_2$(err_r0)_MPDATA 3 iterations…"
      ]
     },
     "metadata": {},
     "output_type": "display_data"
    },
    {
     "name": "stderr",
     "output_type": "stream",
     "text": [
      "C:\\Users\\Michael\\PycharmProjects\\MPyDATA\\MPyDATA_examples\\Olesik_et_al_2020\\../..\\MPyDATA_examples\\Olesik_et_al_2020\\convergence_plotter.py:30: UserWarning: The following kwargs were not used by contour: 'linewidth'\n",
      "  plt.contour(X, Y, Z, levels, colors='black', linewidth=.3)\n",
      "No handles with labels found to put in legend.\n"
     ]
    },
    {
     "data": {
      "application/vnd.jupyter.widget-view+json": {
       "model_id": "05ed51bb627a488cb73c24d908331afa",
       "version_major": 2,
       "version_minor": 0
      },
      "text/plain": [
       "VBox(children=(Output(), HTML(value=\"<a href='../utils/output\\\\convergence_height difference_MPDATA 3 iteratio…"
      ]
     },
     "metadata": {},
     "output_type": "display_data"
    },
    {
     "name": "stderr",
     "output_type": "stream",
     "text": [
      "C:\\Users\\Michael\\PycharmProjects\\MPyDATA\\MPyDATA_examples\\Olesik_et_al_2020\\../..\\MPyDATA_examples\\Olesik_et_al_2020\\convergence_plotter.py:30: UserWarning: The following kwargs were not used by contour: 'linewidth'\n",
      "  plt.contour(X, Y, Z, levels, colors='black', linewidth=.3)\n",
      "No handles with labels found to put in legend.\n"
     ]
    },
    {
     "data": {
      "application/vnd.jupyter.widget-view+json": {
       "model_id": "f2e4068a57d14e9cbbcd89c364793731",
       "version_major": 2,
       "version_minor": 0
      },
      "text/plain": [
       "VBox(children=(Output(), HTML(value=\"<a href='../utils/output\\\\convergence_h_2_MPDATA 3 iterations  third orde…"
      ]
     },
     "metadata": {},
     "output_type": "display_data"
    },
    {
     "name": "stderr",
     "output_type": "stream",
     "text": [
      "[Parallel(n_jobs=-2)]: Using backend ThreadingBackend with 7 concurrent workers.\n"
     ]
    },
    {
     "name": "stdout",
     "output_type": "stream",
     "text": [
      "analytic rd 0.33979386972283987 dimensionless\n",
      "numeric rd 0.3397934643657182 dimensionless\n",
      "dispersion ratio 0.9999988070499272 dimensionless\n",
      "\n",
      "\n",
      "analytic rd 0.3381369516142046 dimensionless\n",
      "numeric rd 0.3381353894660694 dimensionless\n",
      "dispersion ratio 0.9999953801318439 dimensionless\n",
      "\n",
      "\n",
      "analytic rd 0.3396087628473136 dimensionless\n",
      "numeric rd 0.3396091088035234 dimensionless\n",
      "dispersion ratio 1.0000010186904686 dimensionless\n",
      "\n",
      "\n",
      "analytic rd 0.3394239087225427 dimensionless\n",
      "numeric rd 0.3394248864057933 dimensionless\n",
      "dispersion ratio 1.0000028804195153 dimensionless\n",
      "\n",
      "\n"
     ]
    },
    {
     "name": "stderr",
     "output_type": "stream",
     "text": [
      "[Parallel(n_jobs=-2)]: Done   4 tasks      | elapsed:  2.8min\n"
     ]
    },
    {
     "name": "stdout",
     "output_type": "stream",
     "text": [
      "analytic rd 0.33905495608084285 dimensionless\n",
      "numeric rd 0.3390561141746069 dimensionless\n",
      "dispersion ratio 1.0000034156520743 dimensionless\n",
      "\n",
      "\n",
      "analytic rd 0.33979734211502066 dimensionless\n",
      "numeric rd 0.3397966442123946 dimensionless\n",
      "dispersion ratio 0.9999979461209975 dimensionless\n",
      "\n",
      "\n",
      "analytic rd 0.3394273223708338 dimensionless\n",
      "numeric rd 0.33942708642052916 dimensionless\n",
      "dispersion ratio 0.9999993048576556 dimensionless\n",
      "\n",
      "\n",
      "analytic rd 0.3390583119639061 dimensionless\n",
      "numeric rd 0.3390582612216516 dimensionless\n",
      "dispersion ratio 0.999999850343576 dimensionless\n",
      "\n",
      "\n",
      "analytic rd 0.3396122057432932 dimensionless\n",
      "numeric rd 0.3396121092341999 dimensionless\n",
      "dispersion ratio 0.9999997158256043 dimensionless\n",
      "\n",
      "\n",
      "analytic rd 0.33814016720523987 dimensionless\n",
      "numeric rd 0.33813973661443253 dimensionless\n",
      "dispersion ratio 0.9999987265907777 dimensionless\n",
      "\n",
      "\n"
     ]
    },
    {
     "name": "stderr",
     "output_type": "stream",
     "text": [
      "[Parallel(n_jobs=-2)]: Done  10 out of  20 | elapsed:  5.7min remaining:  5.7min\n"
     ]
    }
   ],
   "source": [
    "for opt in opts:\n",
    "    with parallel_backend('threading', n_jobs=-2):\n",
    "        results0 = Parallel(verbose=10)(\n",
    "            delayed(analysis)(Setup(nr = nr, mixing_ratios_g_kg = [1.05,]), GC, opt)\n",
    "            for nr in nrs\n",
    "            for GC in GCs\n",
    "        )\n",
    "    results = tuple(tuple(i) for i in zip(*results0))\n",
    "    plot_setup = np.array(results[0:2])\n",
    "    measures = {'log$_2$(err)':results[2] , 'log$_2$(err_g)':results[3] , 'log$_2$(err_r0)':results[4], 'height difference':results[5], 'h_2': results[6]}\n",
    "    opt = replace_names(opt)\n",
    "    print(opt)\n",
    "    for measure in measures.keys():\n",
    "        polar_plot(nrs, GCs, measures[measure], name = measure)\n",
    "        show_plot(filename = f'convergence_{measure}_{opt}.pdf')   #TODO: dont show plot name when savingfig (for masters)"
   ]
  },
  {
   "cell_type": "code",
   "execution_count": null,
   "metadata": {},
   "outputs": [],
   "source": []
  },
  {
   "cell_type": "code",
   "execution_count": null,
   "metadata": {},
   "outputs": [],
   "source": []
  }
 ],
 "metadata": {
  "kernelspec": {
   "display_name": "Python 3",
   "language": "python",
   "name": "python3"
  },
  "language_info": {
   "codemirror_mode": {
    "name": "ipython",
    "version": 3
   },
   "file_extension": ".py",
   "mimetype": "text/x-python",
   "name": "python",
   "nbconvert_exporter": "python",
   "pygments_lexer": "ipython3",
   "version": "3.7.6"
  },
  "pycharm": {
   "stem_cell": {
    "cell_type": "raw",
    "metadata": {
     "collapsed": false
    },
    "source": []
   }
  }
 },
 "nbformat": 4,
 "nbformat_minor": 4
}
