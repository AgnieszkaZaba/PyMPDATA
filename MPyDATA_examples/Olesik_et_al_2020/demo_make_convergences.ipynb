{
 "cells": [
  {
   "cell_type": "code",
   "execution_count": 1,
   "metadata": {},
   "outputs": [],
   "source": [
    "import sys, os\n",
    "if 'google.colab' in sys.modules:\n",
    "    %cd\n",
    "    % rm -rf MPyDATA\n",
    "    ! git clone --recurse-submodules -j8 https://github.com/Michaeldz36/MPyDATA.git\n",
    "    %cd MPyDATA\n",
    "    ! git checkout develop\n",
    "    ! pip install -U $(cat requirements.txt | cut -d '=' -f 1)\n",
    "else:\n",
    "    sys.path.append(os.path.join(os.getcwd(), '../..'))"
   ]
  },
  {
   "cell_type": "code",
   "execution_count": 2,
   "metadata": {},
   "outputs": [],
   "source": [
    "import numpy as np\n",
    "import matplotlib.pyplot as plt\n",
    "from MPyDATA_examples.Olesik_et_al_2020.setup import Setup, default_opt_set\n",
    "from MPyDATA_examples.Olesik_et_al_2020.coordinates import x_id, x_p2, x_p3, x_log_of_pn\n",
    "from MPyDATA.options import Options\n",
    "from MPyDATA_examples.Olesik_et_al_2020.simulation import Simulation\n",
    "from MPyDATA_examples.utils.show_plot import show_plot\n",
    "from joblib import Parallel, parallel_backend, delayed\n",
    "from MPyDATA_examples.Olesik_et_al_2020.physics.equilibrium_drop_growth import PdfEvolver\n",
    "from MPyDATA.arakawa_c.discretisation import discretised_analytical_solution\n",
    "from MPyDATA_examples.utils.error_norms import L2, Smolarkiewicz_Grabowski_1990_eq21\n",
    "from MPyDATA_examples.Olesik_et_al_2020.convergence_plotter  import polar_plot"
   ]
  },
  {
   "cell_type": "code",
   "execution_count": 3,
   "metadata": {},
   "outputs": [],
   "source": [
    "GCs = np.linspace(.05,.95, 3)\n",
    "nrs = np.array([2**n for n in range(10, 13)], dtype=int)"
   ]
  },
  {
   "cell_type": "code",
   "execution_count": 4,
   "metadata": {},
   "outputs": [],
   "source": [
    "grid_layout = x_p2()\n",
    "psi_coord = x_p2()\n",
    "setup = Setup()"
   ]
  },
  {
   "cell_type": "code",
   "execution_count": 8,
   "metadata": {},
   "outputs": [],
   "source": [
    "def analysis(setup, GC, opt):\n",
    "    options = Options(**opt)\n",
    "    simulation = Simulation(setup, grid_layout,  psi_coord, options, GC)\n",
    "    simulation.step(simulation.out_steps[-1])\n",
    "    t = simulation.out_steps[-1] * simulation.dt\n",
    "    rh = simulation.rh\n",
    "    pdf_t = PdfEvolver(setup.pdf, setup.drdt, t)\n",
    "    def pdf_arg(r):\n",
    "        return pdf_t(r* rh.units).magnitude\n",
    "    analytical = discretised_analytical_solution(\n",
    "                simulation.rh.magnitude,\n",
    "                pdf_arg, midpoint_value = True\n",
    "            ) * pdf_t(rh[0]).units\n",
    "    numerical = simulation.n\n",
    "    \n",
    "    maximum_numeric = np.max(numerical)\n",
    "    maximum_analytic = np.max(analytical)\n",
    "    measure_height = (maximum_numeric / maximum_analytic).magnitude\n",
    "    \n",
    "    dif = analytical-numerical\n",
    "    measure_h_inf = ((maximum_numeric - maximum_analytic) / maximum_analytic).magnitude\n",
    "    measure_h_2 =  (1/t * np.sqrt( 1/len(dif) * dif.dot(dif))).magnitude\n",
    "    \n",
    "\n",
    "    def rel_disp(r, pdf):\n",
    "        rd = 0\n",
    "        for i in range(len(pdf)):\n",
    "            mean = pdf[i] * (r[i+1] - r[i])\n",
    "            std = pdf[i] * (r[i+1] - r[i])**2\n",
    "            rd += std/mean\n",
    "        return rd\n",
    "    print(\"analytic rd\", rel_disp(rh, analytical))\n",
    "    print(\"numeric rd\", rel_disp(rh, numerical))\n",
    "    #TODO: with this kind of definition pdf cancels out\n",
    "\n",
    "    \n",
    "    error = np.log2(Smolarkiewicz_Grabowski_1990_eq21(numerical.magnitude, analytical.magnitude, t.magnitude))\n",
    "    return setup.nr, GC, error, measure_height, measure_h_inf, measure_h_2 #, rel_dispersion"
   ]
  },
  {
   "cell_type": "code",
   "execution_count": 9,
   "metadata": {},
   "outputs": [],
   "source": [
    "opts = default_opt_set\n",
    "def replace_names(opt):\n",
    "    str_repl = [[\"'n_iters': 1\",\"upwind\"],\n",
    "                [\"'n_iters': 2\",\"MPDATA 2 iterations\"],\n",
    "                [\"'n_iters': 3\",\"MPDATA 3 iterations\"],\n",
    "                [\"'\",\"\"],\n",
    "                [\": True\",\"\"],\n",
    "                [\"_\", \" \"],\n",
    "                [\"{\",\"\"],[\"}\",\"\"],[\",\",\" \"]]                            \n",
    "    for repl in str_repl:\n",
    "        opt = str(opt).replace(repl[0], repl[1])\n",
    "    return opt"
   ]
  },
  {
   "cell_type": "code",
   "execution_count": 10,
   "metadata": {
    "scrolled": false
   },
   "outputs": [
    {
     "name": "stderr",
     "output_type": "stream",
     "text": [
      "[Parallel(n_jobs=-2)]: Using backend ThreadingBackend with 7 concurrent workers.\n"
     ]
    },
    {
     "name": "stdout",
     "output_type": "stream",
     "text": [
      "analytic rd nan micrometer\n",
      "numeric rd 24.0 micrometer\n"
     ]
    },
    {
     "name": "stderr",
     "output_type": "stream",
     "text": [
      "C:\\Users\\Michael\\anaconda3\\lib\\site-packages\\pint\\quantity.py:1160: RuntimeWarning: invalid value encountered in double_scalars\n",
      "  magnitude = magnitude_op(new_self._magnitude, other._magnitude)\n"
     ]
    },
    {
     "name": "stdout",
     "output_type": "stream",
     "text": [
      "analytic rd nan micrometer\n",
      "numeric rd 24.0 micrometer\n"
     ]
    },
    {
     "name": "stderr",
     "output_type": "stream",
     "text": [
      "[Parallel(n_jobs=-2)]: Done   2 out of   9 | elapsed:  2.0min remaining:  6.9min\n",
      "C:\\Users\\Michael\\anaconda3\\lib\\site-packages\\pint\\quantity.py:1160: RuntimeWarning: invalid value encountered in double_scalars\n",
      "  magnitude = magnitude_op(new_self._magnitude, other._magnitude)\n"
     ]
    },
    {
     "name": "stdout",
     "output_type": "stream",
     "text": [
      "analytic rd nan micrometer\n",
      "numeric rd 24.0 micrometer\n"
     ]
    },
    {
     "name": "stderr",
     "output_type": "stream",
     "text": [
      "[Parallel(n_jobs=-2)]: Done   3 out of   9 | elapsed:  2.3min remaining:  4.6min\n",
      "C:\\Users\\Michael\\anaconda3\\lib\\site-packages\\pint\\quantity.py:1160: RuntimeWarning: invalid value encountered in double_scalars\n",
      "  magnitude = magnitude_op(new_self._magnitude, other._magnitude)\n"
     ]
    },
    {
     "name": "stdout",
     "output_type": "stream",
     "text": [
      "analytic rd nan micrometer\n",
      "numeric rd 24.0 micrometer\n"
     ]
    },
    {
     "name": "stderr",
     "output_type": "stream",
     "text": [
      "[Parallel(n_jobs=-2)]: Done   4 out of   9 | elapsed:  2.5min remaining:  3.2min\n",
      "C:\\Users\\Michael\\anaconda3\\lib\\site-packages\\pint\\quantity.py:1160: RuntimeWarning: invalid value encountered in double_scalars\n",
      "  magnitude = magnitude_op(new_self._magnitude, other._magnitude)\n"
     ]
    },
    {
     "name": "stdout",
     "output_type": "stream",
     "text": [
      "analytic rd nan micrometer\n",
      "numeric rd 24.0 micrometer\n"
     ]
    },
    {
     "name": "stderr",
     "output_type": "stream",
     "text": [
      "[Parallel(n_jobs=-2)]: Done   5 out of   9 | elapsed:  2.8min remaining:  2.2min\n",
      "C:\\Users\\Michael\\anaconda3\\lib\\site-packages\\pint\\quantity.py:1160: RuntimeWarning: invalid value encountered in double_scalars\n",
      "  magnitude = magnitude_op(new_self._magnitude, other._magnitude)\n"
     ]
    },
    {
     "name": "stdout",
     "output_type": "stream",
     "text": [
      "analytic rd nan micrometer\n",
      "numeric rd 24.0 micrometer\n"
     ]
    },
    {
     "name": "stderr",
     "output_type": "stream",
     "text": [
      "[Parallel(n_jobs=-2)]: Done   6 out of   9 | elapsed:  3.1min remaining:  1.5min\n",
      "C:\\Users\\Michael\\anaconda3\\lib\\site-packages\\pint\\quantity.py:1160: RuntimeWarning: invalid value encountered in double_scalars\n",
      "  magnitude = magnitude_op(new_self._magnitude, other._magnitude)\n"
     ]
    },
    {
     "name": "stdout",
     "output_type": "stream",
     "text": [
      "analytic rd nan micrometer\n",
      "numeric rd 24.0 micrometer\n"
     ]
    },
    {
     "name": "stderr",
     "output_type": "stream",
     "text": [
      "[Parallel(n_jobs=-2)]: Done   7 out of   9 | elapsed:  3.4min remaining:   58.2s\n",
      "C:\\Users\\Michael\\anaconda3\\lib\\site-packages\\pint\\quantity.py:1160: RuntimeWarning: invalid value encountered in double_scalars\n",
      "  magnitude = magnitude_op(new_self._magnitude, other._magnitude)\n"
     ]
    },
    {
     "name": "stdout",
     "output_type": "stream",
     "text": [
      "analytic rd nan micrometer\n",
      "numeric rd 24.0 micrometer\n"
     ]
    },
    {
     "name": "stderr",
     "output_type": "stream",
     "text": [
      "C:\\Users\\Michael\\anaconda3\\lib\\site-packages\\pint\\quantity.py:1160: RuntimeWarning: invalid value encountered in double_scalars\n",
      "  magnitude = magnitude_op(new_self._magnitude, other._magnitude)\n",
      "C:\\Users\\Michael\\anaconda3\\lib\\site-packages\\pint\\quantity.py:1160: RuntimeWarning: invalid value encountered in double_scalars\n",
      "  magnitude = magnitude_op(new_self._magnitude, other._magnitude)\n"
     ]
    },
    {
     "name": "stdout",
     "output_type": "stream",
     "text": [
      "analytic rd nan micrometer\n",
      "numeric rd 24.0 micrometer\n",
      "upwind\n"
     ]
    },
    {
     "name": "stderr",
     "output_type": "stream",
     "text": [
      "[Parallel(n_jobs=-2)]: Done   9 out of   9 | elapsed:  4.0min remaining:    0.0s\n",
      "[Parallel(n_jobs=-2)]: Done   9 out of   9 | elapsed:  4.0min finished\n",
      "C:\\Users\\Michael\\PycharmProjects\\MPyDATA\\MPyDATA_examples\\Olesik_et_al_2020\\../..\\MPyDATA_examples\\Olesik_et_al_2020\\convergence_plotter.py:30: UserWarning: The following kwargs were not used by contour: 'linewidth'\n",
      "  plt.contour(X, Y, Z, levels, colors='black', linewidth=.3)\n",
      "No handles with labels found to put in legend.\n"
     ]
    },
    {
     "data": {
      "application/vnd.jupyter.widget-view+json": {
       "model_id": "22dffc8a59834eeb81ec9eaa5cbf2e08",
       "version_major": 2,
       "version_minor": 0
      },
      "text/plain": [
       "VBox(children=(Output(), HTML(value=\"<a href='../utils/output\\\\convergence_log$_2$(err)_upwind.pdf' target='_b…"
      ]
     },
     "metadata": {},
     "output_type": "display_data"
    },
    {
     "name": "stderr",
     "output_type": "stream",
     "text": [
      "C:\\Users\\Michael\\PycharmProjects\\MPyDATA\\MPyDATA_examples\\Olesik_et_al_2020\\../..\\MPyDATA_examples\\Olesik_et_al_2020\\convergence_plotter.py:30: UserWarning: The following kwargs were not used by contour: 'linewidth'\n",
      "  plt.contour(X, Y, Z, levels, colors='black', linewidth=.3)\n",
      "No handles with labels found to put in legend.\n"
     ]
    },
    {
     "data": {
      "application/vnd.jupyter.widget-view+json": {
       "model_id": "7868783b57a14fd2bdbeddc2d875d2e2",
       "version_major": 2,
       "version_minor": 0
      },
      "text/plain": [
       "VBox(children=(Output(), HTML(value=\"<a href='../utils/output\\\\convergence_height difference_upwind.pdf' targe…"
      ]
     },
     "metadata": {},
     "output_type": "display_data"
    },
    {
     "name": "stderr",
     "output_type": "stream",
     "text": [
      "C:\\Users\\Michael\\PycharmProjects\\MPyDATA\\MPyDATA_examples\\Olesik_et_al_2020\\../..\\MPyDATA_examples\\Olesik_et_al_2020\\convergence_plotter.py:30: UserWarning: The following kwargs were not used by contour: 'linewidth'\n",
      "  plt.contour(X, Y, Z, levels, colors='black', linewidth=.3)\n",
      "No handles with labels found to put in legend.\n"
     ]
    },
    {
     "data": {
      "application/vnd.jupyter.widget-view+json": {
       "model_id": "9a6a408c8d1e41018805b1663fe1b985",
       "version_major": 2,
       "version_minor": 0
      },
      "text/plain": [
       "VBox(children=(Output(), HTML(value=\"<a href='../utils/output\\\\convergence_h_inf_upwind.pdf' target='_blank'>.…"
      ]
     },
     "metadata": {},
     "output_type": "display_data"
    },
    {
     "name": "stderr",
     "output_type": "stream",
     "text": [
      "C:\\Users\\Michael\\PycharmProjects\\MPyDATA\\MPyDATA_examples\\Olesik_et_al_2020\\../..\\MPyDATA_examples\\Olesik_et_al_2020\\convergence_plotter.py:30: UserWarning: The following kwargs were not used by contour: 'linewidth'\n",
      "  plt.contour(X, Y, Z, levels, colors='black', linewidth=.3)\n",
      "No handles with labels found to put in legend.\n"
     ]
    },
    {
     "data": {
      "application/vnd.jupyter.widget-view+json": {
       "model_id": "5440e572460840e9afa6226c28a6d587",
       "version_major": 2,
       "version_minor": 0
      },
      "text/plain": [
       "VBox(children=(Output(), HTML(value=\"<a href='../utils/output\\\\convergence_h_2_upwind.pdf' target='_blank'>../…"
      ]
     },
     "metadata": {},
     "output_type": "display_data"
    },
    {
     "name": "stderr",
     "output_type": "stream",
     "text": [
      "[Parallel(n_jobs=-2)]: Using backend ThreadingBackend with 7 concurrent workers.\n"
     ]
    },
    {
     "name": "stdout",
     "output_type": "stream",
     "text": [
      "analytic rd nan micrometer\n",
      "numeric rd 24.0 micrometer\n"
     ]
    },
    {
     "name": "stderr",
     "output_type": "stream",
     "text": [
      "C:\\Users\\Michael\\anaconda3\\lib\\site-packages\\pint\\quantity.py:1160: RuntimeWarning: invalid value encountered in double_scalars\n",
      "  magnitude = magnitude_op(new_self._magnitude, other._magnitude)\n"
     ]
    },
    {
     "name": "stdout",
     "output_type": "stream",
     "text": [
      "analytic rd nan micrometer\n",
      "numeric rd 24.0 micrometer\n"
     ]
    },
    {
     "name": "stderr",
     "output_type": "stream",
     "text": [
      "[Parallel(n_jobs=-2)]: Done   2 out of   9 | elapsed:  1.4min remaining:  4.9min\n",
      "C:\\Users\\Michael\\anaconda3\\lib\\site-packages\\pint\\quantity.py:1160: RuntimeWarning: invalid value encountered in double_scalars\n",
      "  magnitude = magnitude_op(new_self._magnitude, other._magnitude)\n"
     ]
    },
    {
     "name": "stdout",
     "output_type": "stream",
     "text": [
      "analytic rd nan micrometer\n",
      "numeric rd 24.0 micrometer\n"
     ]
    },
    {
     "name": "stderr",
     "output_type": "stream",
     "text": [
      "[Parallel(n_jobs=-2)]: Done   3 out of   9 | elapsed:  1.7min remaining:  3.5min\n",
      "C:\\Users\\Michael\\anaconda3\\lib\\site-packages\\pint\\quantity.py:1160: RuntimeWarning: invalid value encountered in double_scalars\n",
      "  magnitude = magnitude_op(new_self._magnitude, other._magnitude)\n"
     ]
    },
    {
     "name": "stdout",
     "output_type": "stream",
     "text": [
      "analytic rd nan micrometer\n",
      "numeric rd 24.0 micrometer\n"
     ]
    },
    {
     "name": "stderr",
     "output_type": "stream",
     "text": [
      "[Parallel(n_jobs=-2)]: Done   4 out of   9 | elapsed:  2.0min remaining:  2.5min\n",
      "C:\\Users\\Michael\\anaconda3\\lib\\site-packages\\pint\\quantity.py:1160: RuntimeWarning: invalid value encountered in double_scalars\n",
      "  magnitude = magnitude_op(new_self._magnitude, other._magnitude)\n"
     ]
    },
    {
     "name": "stdout",
     "output_type": "stream",
     "text": [
      "analytic rd nan micrometer\n",
      "numeric rd 24.0 micrometer\n"
     ]
    },
    {
     "name": "stderr",
     "output_type": "stream",
     "text": [
      "[Parallel(n_jobs=-2)]: Done   5 out of   9 | elapsed:  2.4min remaining:  1.9min\n",
      "C:\\Users\\Michael\\anaconda3\\lib\\site-packages\\pint\\quantity.py:1160: RuntimeWarning: invalid value encountered in double_scalars\n",
      "  magnitude = magnitude_op(new_self._magnitude, other._magnitude)\n"
     ]
    },
    {
     "name": "stdout",
     "output_type": "stream",
     "text": [
      "analytic rd nan micrometer\n",
      "numeric rd 24.0 micrometer\n"
     ]
    },
    {
     "name": "stderr",
     "output_type": "stream",
     "text": [
      "[Parallel(n_jobs=-2)]: Done   6 out of   9 | elapsed:  2.7min remaining:  1.3min\n",
      "C:\\Users\\Michael\\anaconda3\\lib\\site-packages\\pint\\quantity.py:1160: RuntimeWarning: invalid value encountered in double_scalars\n",
      "  magnitude = magnitude_op(new_self._magnitude, other._magnitude)\n"
     ]
    },
    {
     "name": "stdout",
     "output_type": "stream",
     "text": [
      "analytic rd nan micrometer\n",
      "numeric rd 24.0 micrometer\n"
     ]
    },
    {
     "name": "stderr",
     "output_type": "stream",
     "text": [
      "[Parallel(n_jobs=-2)]: Done   7 out of   9 | elapsed:  3.1min remaining:   52.8s\n",
      "C:\\Users\\Michael\\anaconda3\\lib\\site-packages\\pint\\quantity.py:1160: RuntimeWarning: invalid value encountered in double_scalars\n",
      "  magnitude = magnitude_op(new_self._magnitude, other._magnitude)\n"
     ]
    },
    {
     "name": "stdout",
     "output_type": "stream",
     "text": [
      "analytic rd nan micrometer\n",
      "numeric rd 24.0 micrometer\n"
     ]
    },
    {
     "name": "stderr",
     "output_type": "stream",
     "text": [
      "C:\\Users\\Michael\\anaconda3\\lib\\site-packages\\pint\\quantity.py:1160: RuntimeWarning: invalid value encountered in double_scalars\n",
      "  magnitude = magnitude_op(new_self._magnitude, other._magnitude)\n",
      "C:\\Users\\Michael\\anaconda3\\lib\\site-packages\\pint\\quantity.py:1160: RuntimeWarning: invalid value encountered in double_scalars\n",
      "  magnitude = magnitude_op(new_self._magnitude, other._magnitude)\n"
     ]
    },
    {
     "name": "stdout",
     "output_type": "stream",
     "text": [
      "analytic rd nan micrometer\n",
      "numeric rd 24.0 micrometer\n",
      "MPDATA 2 iterations\n"
     ]
    },
    {
     "name": "stderr",
     "output_type": "stream",
     "text": [
      "[Parallel(n_jobs=-2)]: Done   9 out of   9 | elapsed:  3.8min remaining:    0.0s\n",
      "[Parallel(n_jobs=-2)]: Done   9 out of   9 | elapsed:  3.8min finished\n",
      "C:\\Users\\Michael\\PycharmProjects\\MPyDATA\\MPyDATA_examples\\Olesik_et_al_2020\\../..\\MPyDATA_examples\\Olesik_et_al_2020\\convergence_plotter.py:30: UserWarning: The following kwargs were not used by contour: 'linewidth'\n",
      "  plt.contour(X, Y, Z, levels, colors='black', linewidth=.3)\n",
      "No handles with labels found to put in legend.\n"
     ]
    },
    {
     "data": {
      "application/vnd.jupyter.widget-view+json": {
       "model_id": "b87a33d1948c4b4cbd7f58ae50690f52",
       "version_major": 2,
       "version_minor": 0
      },
      "text/plain": [
       "VBox(children=(Output(), HTML(value=\"<a href='../utils/output\\\\convergence_log$_2$(err)_MPDATA 2 iterations.pd…"
      ]
     },
     "metadata": {},
     "output_type": "display_data"
    },
    {
     "name": "stderr",
     "output_type": "stream",
     "text": [
      "C:\\Users\\Michael\\PycharmProjects\\MPyDATA\\MPyDATA_examples\\Olesik_et_al_2020\\../..\\MPyDATA_examples\\Olesik_et_al_2020\\convergence_plotter.py:30: UserWarning: The following kwargs were not used by contour: 'linewidth'\n",
      "  plt.contour(X, Y, Z, levels, colors='black', linewidth=.3)\n",
      "No handles with labels found to put in legend.\n"
     ]
    },
    {
     "data": {
      "application/vnd.jupyter.widget-view+json": {
       "model_id": "105b8317e86d4ab8bb51f2a4af7ad46d",
       "version_major": 2,
       "version_minor": 0
      },
      "text/plain": [
       "VBox(children=(Output(), HTML(value=\"<a href='../utils/output\\\\convergence_height difference_MPDATA 2 iteratio…"
      ]
     },
     "metadata": {},
     "output_type": "display_data"
    },
    {
     "name": "stderr",
     "output_type": "stream",
     "text": [
      "C:\\Users\\Michael\\PycharmProjects\\MPyDATA\\MPyDATA_examples\\Olesik_et_al_2020\\../..\\MPyDATA_examples\\Olesik_et_al_2020\\convergence_plotter.py:30: UserWarning: The following kwargs were not used by contour: 'linewidth'\n",
      "  plt.contour(X, Y, Z, levels, colors='black', linewidth=.3)\n",
      "No handles with labels found to put in legend.\n"
     ]
    },
    {
     "data": {
      "application/vnd.jupyter.widget-view+json": {
       "model_id": "3aade724b1ad418582cca0d8ea40d8aa",
       "version_major": 2,
       "version_minor": 0
      },
      "text/plain": [
       "VBox(children=(Output(), HTML(value=\"<a href='../utils/output\\\\convergence_h_inf_MPDATA 2 iterations.pdf' targ…"
      ]
     },
     "metadata": {},
     "output_type": "display_data"
    },
    {
     "name": "stderr",
     "output_type": "stream",
     "text": [
      "C:\\Users\\Michael\\PycharmProjects\\MPyDATA\\MPyDATA_examples\\Olesik_et_al_2020\\../..\\MPyDATA_examples\\Olesik_et_al_2020\\convergence_plotter.py:30: UserWarning: The following kwargs were not used by contour: 'linewidth'\n",
      "  plt.contour(X, Y, Z, levels, colors='black', linewidth=.3)\n",
      "No handles with labels found to put in legend.\n"
     ]
    },
    {
     "data": {
      "application/vnd.jupyter.widget-view+json": {
       "model_id": "a84ffbbe62e14bcfbcc1ee93eaa511f8",
       "version_major": 2,
       "version_minor": 0
      },
      "text/plain": [
       "VBox(children=(Output(), HTML(value=\"<a href='../utils/output\\\\convergence_h_2_MPDATA 2 iterations.pdf' target…"
      ]
     },
     "metadata": {},
     "output_type": "display_data"
    },
    {
     "name": "stderr",
     "output_type": "stream",
     "text": [
      "[Parallel(n_jobs=-2)]: Using backend ThreadingBackend with 7 concurrent workers.\n"
     ]
    },
    {
     "name": "stdout",
     "output_type": "stream",
     "text": [
      "analytic rd nan micrometer\n",
      "numeric rd 24.0 micrometer\n"
     ]
    },
    {
     "name": "stderr",
     "output_type": "stream",
     "text": [
      "C:\\Users\\Michael\\anaconda3\\lib\\site-packages\\pint\\quantity.py:1160: RuntimeWarning: invalid value encountered in double_scalars\n",
      "  magnitude = magnitude_op(new_self._magnitude, other._magnitude)\n"
     ]
    },
    {
     "name": "stdout",
     "output_type": "stream",
     "text": [
      "analytic rd nan micrometer\n",
      "numeric rd 24.0 micrometer\n"
     ]
    },
    {
     "name": "stderr",
     "output_type": "stream",
     "text": [
      "[Parallel(n_jobs=-2)]: Done   2 out of   9 | elapsed:  1.4min remaining:  4.9min\n",
      "C:\\Users\\Michael\\anaconda3\\lib\\site-packages\\pint\\quantity.py:1160: RuntimeWarning: invalid value encountered in double_scalars\n",
      "  magnitude = magnitude_op(new_self._magnitude, other._magnitude)\n"
     ]
    },
    {
     "name": "stdout",
     "output_type": "stream",
     "text": [
      "analytic rd nan micrometer\n",
      "numeric rd 24.0 micrometer\n"
     ]
    },
    {
     "name": "stderr",
     "output_type": "stream",
     "text": [
      "[Parallel(n_jobs=-2)]: Done   3 out of   9 | elapsed:  1.7min remaining:  3.5min\n",
      "C:\\Users\\Michael\\anaconda3\\lib\\site-packages\\pint\\quantity.py:1160: RuntimeWarning: invalid value encountered in double_scalars\n",
      "  magnitude = magnitude_op(new_self._magnitude, other._magnitude)\n"
     ]
    },
    {
     "name": "stdout",
     "output_type": "stream",
     "text": [
      "analytic rd nan micrometer\n",
      "numeric rd 24.0 micrometer\n"
     ]
    },
    {
     "name": "stderr",
     "output_type": "stream",
     "text": [
      "[Parallel(n_jobs=-2)]: Done   4 out of   9 | elapsed:  2.0min remaining:  2.5min\n",
      "C:\\Users\\Michael\\anaconda3\\lib\\site-packages\\pint\\quantity.py:1160: RuntimeWarning: invalid value encountered in double_scalars\n",
      "  magnitude = magnitude_op(new_self._magnitude, other._magnitude)\n"
     ]
    },
    {
     "name": "stdout",
     "output_type": "stream",
     "text": [
      "analytic rd nan micrometer\n",
      "numeric rd 24.0 micrometer\n"
     ]
    },
    {
     "name": "stderr",
     "output_type": "stream",
     "text": [
      "[Parallel(n_jobs=-2)]: Done   5 out of   9 | elapsed:  2.4min remaining:  1.9min\n",
      "C:\\Users\\Michael\\anaconda3\\lib\\site-packages\\pint\\quantity.py:1160: RuntimeWarning: invalid value encountered in double_scalars\n",
      "  magnitude = magnitude_op(new_self._magnitude, other._magnitude)\n"
     ]
    },
    {
     "name": "stdout",
     "output_type": "stream",
     "text": [
      "analytic rd nan micrometer\n",
      "numeric rd 24.0 micrometer\n"
     ]
    },
    {
     "name": "stderr",
     "output_type": "stream",
     "text": [
      "[Parallel(n_jobs=-2)]: Done   6 out of   9 | elapsed:  2.7min remaining:  1.3min\n",
      "C:\\Users\\Michael\\anaconda3\\lib\\site-packages\\pint\\quantity.py:1160: RuntimeWarning: invalid value encountered in double_scalars\n",
      "  magnitude = magnitude_op(new_self._magnitude, other._magnitude)\n"
     ]
    },
    {
     "name": "stdout",
     "output_type": "stream",
     "text": [
      "analytic rd nan micrometer\n",
      "numeric rd 24.0 micrometer\n"
     ]
    },
    {
     "name": "stderr",
     "output_type": "stream",
     "text": [
      "[Parallel(n_jobs=-2)]: Done   7 out of   9 | elapsed:  3.1min remaining:   53.0s\n",
      "C:\\Users\\Michael\\anaconda3\\lib\\site-packages\\pint\\quantity.py:1160: RuntimeWarning: invalid value encountered in double_scalars\n",
      "  magnitude = magnitude_op(new_self._magnitude, other._magnitude)\n"
     ]
    },
    {
     "name": "stdout",
     "output_type": "stream",
     "text": [
      "analytic rd nan micrometer\n",
      "numeric rd 24.0 micrometer\n"
     ]
    },
    {
     "name": "stderr",
     "output_type": "stream",
     "text": [
      "C:\\Users\\Michael\\anaconda3\\lib\\site-packages\\pint\\quantity.py:1160: RuntimeWarning: invalid value encountered in double_scalars\n",
      "  magnitude = magnitude_op(new_self._magnitude, other._magnitude)\n",
      "C:\\Users\\Michael\\anaconda3\\lib\\site-packages\\pint\\quantity.py:1160: RuntimeWarning: invalid value encountered in double_scalars\n",
      "  magnitude = magnitude_op(new_self._magnitude, other._magnitude)\n"
     ]
    },
    {
     "name": "stdout",
     "output_type": "stream",
     "text": [
      "analytic rd nan micrometer\n",
      "numeric rd 24.0 micrometer\n",
      "MPDATA 2 iterations  infinite gauge\n"
     ]
    },
    {
     "name": "stderr",
     "output_type": "stream",
     "text": [
      "[Parallel(n_jobs=-2)]: Done   9 out of   9 | elapsed:  3.9min remaining:    0.0s\n",
      "[Parallel(n_jobs=-2)]: Done   9 out of   9 | elapsed:  3.9min finished\n",
      "C:\\Users\\Michael\\PycharmProjects\\MPyDATA\\MPyDATA_examples\\Olesik_et_al_2020\\../..\\MPyDATA_examples\\Olesik_et_al_2020\\convergence_plotter.py:30: UserWarning: The following kwargs were not used by contour: 'linewidth'\n",
      "  plt.contour(X, Y, Z, levels, colors='black', linewidth=.3)\n",
      "No handles with labels found to put in legend.\n"
     ]
    },
    {
     "data": {
      "application/vnd.jupyter.widget-view+json": {
       "model_id": "95e6767f241f47dead0887b3f418d197",
       "version_major": 2,
       "version_minor": 0
      },
      "text/plain": [
       "VBox(children=(Output(), HTML(value=\"<a href='../utils/output\\\\convergence_log$_2$(err)_MPDATA 2 iterations  i…"
      ]
     },
     "metadata": {},
     "output_type": "display_data"
    },
    {
     "name": "stderr",
     "output_type": "stream",
     "text": [
      "C:\\Users\\Michael\\PycharmProjects\\MPyDATA\\MPyDATA_examples\\Olesik_et_al_2020\\../..\\MPyDATA_examples\\Olesik_et_al_2020\\convergence_plotter.py:30: UserWarning: The following kwargs were not used by contour: 'linewidth'\n",
      "  plt.contour(X, Y, Z, levels, colors='black', linewidth=.3)\n",
      "No handles with labels found to put in legend.\n"
     ]
    },
    {
     "data": {
      "application/vnd.jupyter.widget-view+json": {
       "model_id": "31bc29a3fee142f0953670ab6a1b27bd",
       "version_major": 2,
       "version_minor": 0
      },
      "text/plain": [
       "VBox(children=(Output(), HTML(value=\"<a href='../utils/output\\\\convergence_height difference_MPDATA 2 iteratio…"
      ]
     },
     "metadata": {},
     "output_type": "display_data"
    },
    {
     "name": "stderr",
     "output_type": "stream",
     "text": [
      "C:\\Users\\Michael\\PycharmProjects\\MPyDATA\\MPyDATA_examples\\Olesik_et_al_2020\\../..\\MPyDATA_examples\\Olesik_et_al_2020\\convergence_plotter.py:30: UserWarning: The following kwargs were not used by contour: 'linewidth'\n",
      "  plt.contour(X, Y, Z, levels, colors='black', linewidth=.3)\n",
      "No handles with labels found to put in legend.\n"
     ]
    },
    {
     "data": {
      "application/vnd.jupyter.widget-view+json": {
       "model_id": "6273b2685b094053bd70c8b136fa7a25",
       "version_major": 2,
       "version_minor": 0
      },
      "text/plain": [
       "VBox(children=(Output(), HTML(value=\"<a href='../utils/output\\\\convergence_h_inf_MPDATA 2 iterations  infinite…"
      ]
     },
     "metadata": {},
     "output_type": "display_data"
    },
    {
     "name": "stderr",
     "output_type": "stream",
     "text": [
      "C:\\Users\\Michael\\PycharmProjects\\MPyDATA\\MPyDATA_examples\\Olesik_et_al_2020\\../..\\MPyDATA_examples\\Olesik_et_al_2020\\convergence_plotter.py:30: UserWarning: The following kwargs were not used by contour: 'linewidth'\n",
      "  plt.contour(X, Y, Z, levels, colors='black', linewidth=.3)\n",
      "No handles with labels found to put in legend.\n"
     ]
    },
    {
     "data": {
      "application/vnd.jupyter.widget-view+json": {
       "model_id": "62dd8d23eede4e95ba60882f910f0c03",
       "version_major": 2,
       "version_minor": 0
      },
      "text/plain": [
       "VBox(children=(Output(), HTML(value=\"<a href='../utils/output\\\\convergence_h_2_MPDATA 2 iterations  infinite g…"
      ]
     },
     "metadata": {},
     "output_type": "display_data"
    },
    {
     "name": "stderr",
     "output_type": "stream",
     "text": [
      "[Parallel(n_jobs=-2)]: Using backend ThreadingBackend with 7 concurrent workers.\n"
     ]
    },
    {
     "name": "stdout",
     "output_type": "stream",
     "text": [
      "analytic rd nan micrometer\n",
      "numeric rd 24.0 micrometer\n"
     ]
    },
    {
     "name": "stderr",
     "output_type": "stream",
     "text": [
      "C:\\Users\\Michael\\anaconda3\\lib\\site-packages\\pint\\quantity.py:1160: RuntimeWarning: invalid value encountered in double_scalars\n",
      "  magnitude = magnitude_op(new_self._magnitude, other._magnitude)\n"
     ]
    },
    {
     "name": "stdout",
     "output_type": "stream",
     "text": [
      "analytic rd nan micrometer\n",
      "numeric rd 24.0 micrometer\n"
     ]
    },
    {
     "name": "stderr",
     "output_type": "stream",
     "text": [
      "[Parallel(n_jobs=-2)]: Done   2 out of   9 | elapsed:  2.0min remaining:  6.8min\n",
      "C:\\Users\\Michael\\anaconda3\\lib\\site-packages\\pint\\quantity.py:1160: RuntimeWarning: invalid value encountered in double_scalars\n",
      "  magnitude = magnitude_op(new_self._magnitude, other._magnitude)\n"
     ]
    },
    {
     "name": "stdout",
     "output_type": "stream",
     "text": [
      "analytic rd nan micrometer\n",
      "numeric rd 24.0 micrometer\n"
     ]
    },
    {
     "name": "stderr",
     "output_type": "stream",
     "text": [
      "[Parallel(n_jobs=-2)]: Done   3 out of   9 | elapsed:  2.6min remaining:  5.2min\n",
      "C:\\Users\\Michael\\anaconda3\\lib\\site-packages\\pint\\quantity.py:1160: RuntimeWarning: invalid value encountered in double_scalars\n",
      "  magnitude = magnitude_op(new_self._magnitude, other._magnitude)\n"
     ]
    },
    {
     "name": "stdout",
     "output_type": "stream",
     "text": [
      "analytic rd nan micrometer\n",
      "numeric rd 24.0 micrometer\n"
     ]
    },
    {
     "name": "stderr",
     "output_type": "stream",
     "text": [
      "[Parallel(n_jobs=-2)]: Done   4 out of   9 | elapsed:  3.1min remaining:  3.9min\n",
      "C:\\Users\\Michael\\anaconda3\\lib\\site-packages\\pint\\quantity.py:1160: RuntimeWarning: invalid value encountered in double_scalars\n",
      "  magnitude = magnitude_op(new_self._magnitude, other._magnitude)\n"
     ]
    },
    {
     "name": "stdout",
     "output_type": "stream",
     "text": [
      "analytic rd nan micrometer\n",
      "numeric rd 24.0 micrometer\n"
     ]
    },
    {
     "name": "stderr",
     "output_type": "stream",
     "text": [
      "[Parallel(n_jobs=-2)]: Done   5 out of   9 | elapsed:  3.7min remaining:  3.0min\n",
      "C:\\Users\\Michael\\anaconda3\\lib\\site-packages\\pint\\quantity.py:1160: RuntimeWarning: invalid value encountered in double_scalars\n",
      "  magnitude = magnitude_op(new_self._magnitude, other._magnitude)\n"
     ]
    },
    {
     "name": "stdout",
     "output_type": "stream",
     "text": [
      "analytic rd nan micrometer\n",
      "numeric rd 24.0 micrometer\n"
     ]
    },
    {
     "name": "stderr",
     "output_type": "stream",
     "text": [
      "[Parallel(n_jobs=-2)]: Done   6 out of   9 | elapsed:  4.3min remaining:  2.2min\n",
      "C:\\Users\\Michael\\anaconda3\\lib\\site-packages\\pint\\quantity.py:1160: RuntimeWarning: invalid value encountered in double_scalars\n",
      "  magnitude = magnitude_op(new_self._magnitude, other._magnitude)\n"
     ]
    },
    {
     "name": "stdout",
     "output_type": "stream",
     "text": [
      "analytic rd nan micrometer\n",
      "numeric rd 24.0 micrometer\n"
     ]
    },
    {
     "name": "stderr",
     "output_type": "stream",
     "text": [
      "[Parallel(n_jobs=-2)]: Done   7 out of   9 | elapsed:  5.0min remaining:  1.4min\n",
      "C:\\Users\\Michael\\anaconda3\\lib\\site-packages\\pint\\quantity.py:1160: RuntimeWarning: invalid value encountered in double_scalars\n",
      "  magnitude = magnitude_op(new_self._magnitude, other._magnitude)\n"
     ]
    },
    {
     "name": "stdout",
     "output_type": "stream",
     "text": [
      "analytic rd nan micrometer\n",
      "numeric rd 24.0 micrometer\n"
     ]
    },
    {
     "name": "stderr",
     "output_type": "stream",
     "text": [
      "C:\\Users\\Michael\\anaconda3\\lib\\site-packages\\pint\\quantity.py:1160: RuntimeWarning: invalid value encountered in double_scalars\n",
      "  magnitude = magnitude_op(new_self._magnitude, other._magnitude)\n",
      "C:\\Users\\Michael\\anaconda3\\lib\\site-packages\\pint\\quantity.py:1160: RuntimeWarning: invalid value encountered in double_scalars\n",
      "  magnitude = magnitude_op(new_self._magnitude, other._magnitude)\n"
     ]
    },
    {
     "name": "stdout",
     "output_type": "stream",
     "text": [
      "analytic rd nan micrometer\n",
      "numeric rd 24.0 micrometer\n",
      "MPDATA 2 iterations  infinite gauge  flux corrected transport\n"
     ]
    },
    {
     "name": "stderr",
     "output_type": "stream",
     "text": [
      "[Parallel(n_jobs=-2)]: Done   9 out of   9 | elapsed:  6.2min remaining:    0.0s\n",
      "[Parallel(n_jobs=-2)]: Done   9 out of   9 | elapsed:  6.2min finished\n",
      "C:\\Users\\Michael\\PycharmProjects\\MPyDATA\\MPyDATA_examples\\Olesik_et_al_2020\\../..\\MPyDATA_examples\\Olesik_et_al_2020\\convergence_plotter.py:30: UserWarning: The following kwargs were not used by contour: 'linewidth'\n",
      "  plt.contour(X, Y, Z, levels, colors='black', linewidth=.3)\n",
      "No handles with labels found to put in legend.\n"
     ]
    },
    {
     "data": {
      "application/vnd.jupyter.widget-view+json": {
       "model_id": "d2d60355d9fc44e7a7892e47a934ecab",
       "version_major": 2,
       "version_minor": 0
      },
      "text/plain": [
       "VBox(children=(Output(), HTML(value=\"<a href='../utils/output\\\\convergence_log$_2$(err)_MPDATA 2 iterations  i…"
      ]
     },
     "metadata": {},
     "output_type": "display_data"
    },
    {
     "name": "stderr",
     "output_type": "stream",
     "text": [
      "C:\\Users\\Michael\\PycharmProjects\\MPyDATA\\MPyDATA_examples\\Olesik_et_al_2020\\../..\\MPyDATA_examples\\Olesik_et_al_2020\\convergence_plotter.py:30: UserWarning: The following kwargs were not used by contour: 'linewidth'\n",
      "  plt.contour(X, Y, Z, levels, colors='black', linewidth=.3)\n",
      "No handles with labels found to put in legend.\n"
     ]
    },
    {
     "data": {
      "application/vnd.jupyter.widget-view+json": {
       "model_id": "4723cc1d445e490fb7bb80509bf4e10f",
       "version_major": 2,
       "version_minor": 0
      },
      "text/plain": [
       "VBox(children=(Output(), HTML(value=\"<a href='../utils/output\\\\convergence_height difference_MPDATA 2 iteratio…"
      ]
     },
     "metadata": {},
     "output_type": "display_data"
    },
    {
     "name": "stderr",
     "output_type": "stream",
     "text": [
      "C:\\Users\\Michael\\PycharmProjects\\MPyDATA\\MPyDATA_examples\\Olesik_et_al_2020\\../..\\MPyDATA_examples\\Olesik_et_al_2020\\convergence_plotter.py:30: UserWarning: The following kwargs were not used by contour: 'linewidth'\n",
      "  plt.contour(X, Y, Z, levels, colors='black', linewidth=.3)\n",
      "No handles with labels found to put in legend.\n"
     ]
    },
    {
     "data": {
      "application/vnd.jupyter.widget-view+json": {
       "model_id": "dacdfab312cb40da8b773efec5517712",
       "version_major": 2,
       "version_minor": 0
      },
      "text/plain": [
       "VBox(children=(Output(), HTML(value=\"<a href='../utils/output\\\\convergence_h_inf_MPDATA 2 iterations  infinite…"
      ]
     },
     "metadata": {},
     "output_type": "display_data"
    },
    {
     "name": "stderr",
     "output_type": "stream",
     "text": [
      "C:\\Users\\Michael\\PycharmProjects\\MPyDATA\\MPyDATA_examples\\Olesik_et_al_2020\\../..\\MPyDATA_examples\\Olesik_et_al_2020\\convergence_plotter.py:30: UserWarning: The following kwargs were not used by contour: 'linewidth'\n",
      "  plt.contour(X, Y, Z, levels, colors='black', linewidth=.3)\n",
      "No handles with labels found to put in legend.\n"
     ]
    },
    {
     "data": {
      "application/vnd.jupyter.widget-view+json": {
       "model_id": "ccf2ca34f3a44d5fb4be92da20b9b17f",
       "version_major": 2,
       "version_minor": 0
      },
      "text/plain": [
       "VBox(children=(Output(), HTML(value=\"<a href='../utils/output\\\\convergence_h_2_MPDATA 2 iterations  infinite g…"
      ]
     },
     "metadata": {},
     "output_type": "display_data"
    },
    {
     "name": "stderr",
     "output_type": "stream",
     "text": [
      "[Parallel(n_jobs=-2)]: Using backend ThreadingBackend with 7 concurrent workers.\n"
     ]
    },
    {
     "name": "stdout",
     "output_type": "stream",
     "text": [
      "analytic rd nan micrometer\n",
      "numeric rd 24.0 micrometer\n"
     ]
    },
    {
     "name": "stderr",
     "output_type": "stream",
     "text": [
      "C:\\Users\\Michael\\anaconda3\\lib\\site-packages\\pint\\quantity.py:1160: RuntimeWarning: invalid value encountered in double_scalars\n",
      "  magnitude = magnitude_op(new_self._magnitude, other._magnitude)\n"
     ]
    },
    {
     "name": "stdout",
     "output_type": "stream",
     "text": [
      "analytic rd nan micrometer\n",
      "numeric rd 24.0 micrometer\n"
     ]
    },
    {
     "name": "stderr",
     "output_type": "stream",
     "text": [
      "[Parallel(n_jobs=-2)]: Done   2 out of   9 | elapsed:  1.4min remaining:  5.0min\n",
      "C:\\Users\\Michael\\anaconda3\\lib\\site-packages\\pint\\quantity.py:1160: RuntimeWarning: invalid value encountered in double_scalars\n",
      "  magnitude = magnitude_op(new_self._magnitude, other._magnitude)\n"
     ]
    },
    {
     "name": "stdout",
     "output_type": "stream",
     "text": [
      "analytic rd nan micrometer\n",
      "numeric rd 24.0 micrometer\n"
     ]
    },
    {
     "name": "stderr",
     "output_type": "stream",
     "text": [
      "[Parallel(n_jobs=-2)]: Done   3 out of   9 | elapsed:  1.8min remaining:  3.6min\n",
      "C:\\Users\\Michael\\anaconda3\\lib\\site-packages\\pint\\quantity.py:1160: RuntimeWarning: invalid value encountered in double_scalars\n",
      "  magnitude = magnitude_op(new_self._magnitude, other._magnitude)\n"
     ]
    },
    {
     "name": "stdout",
     "output_type": "stream",
     "text": [
      "analytic rd nan micrometer\n",
      "numeric rd 24.0 micrometer\n"
     ]
    },
    {
     "name": "stderr",
     "output_type": "stream",
     "text": [
      "[Parallel(n_jobs=-2)]: Done   4 out of   9 | elapsed:  2.1min remaining:  2.6min\n",
      "C:\\Users\\Michael\\anaconda3\\lib\\site-packages\\pint\\quantity.py:1160: RuntimeWarning: invalid value encountered in double_scalars\n",
      "  magnitude = magnitude_op(new_self._magnitude, other._magnitude)\n"
     ]
    },
    {
     "name": "stdout",
     "output_type": "stream",
     "text": [
      "analytic rd nan micrometer\n",
      "numeric rd 24.0 micrometer\n"
     ]
    },
    {
     "name": "stderr",
     "output_type": "stream",
     "text": [
      "[Parallel(n_jobs=-2)]: Done   5 out of   9 | elapsed:  2.4min remaining:  1.9min\n",
      "C:\\Users\\Michael\\anaconda3\\lib\\site-packages\\pint\\quantity.py:1160: RuntimeWarning: invalid value encountered in double_scalars\n",
      "  magnitude = magnitude_op(new_self._magnitude, other._magnitude)\n"
     ]
    },
    {
     "name": "stdout",
     "output_type": "stream",
     "text": [
      "analytic rd nan micrometer\n",
      "numeric rd 24.0 micrometer\n"
     ]
    },
    {
     "name": "stderr",
     "output_type": "stream",
     "text": [
      "[Parallel(n_jobs=-2)]: Done   6 out of   9 | elapsed:  2.8min remaining:  1.4min\n",
      "C:\\Users\\Michael\\anaconda3\\lib\\site-packages\\pint\\quantity.py:1160: RuntimeWarning: invalid value encountered in double_scalars\n",
      "  magnitude = magnitude_op(new_self._magnitude, other._magnitude)\n"
     ]
    },
    {
     "name": "stdout",
     "output_type": "stream",
     "text": [
      "analytic rd nan micrometer\n",
      "numeric rd 24.0 micrometer\n"
     ]
    },
    {
     "name": "stderr",
     "output_type": "stream",
     "text": [
      "[Parallel(n_jobs=-2)]: Done   7 out of   9 | elapsed:  3.2min remaining:   54.4s\n",
      "C:\\Users\\Michael\\anaconda3\\lib\\site-packages\\pint\\quantity.py:1160: RuntimeWarning: invalid value encountered in double_scalars\n",
      "  magnitude = magnitude_op(new_self._magnitude, other._magnitude)\n"
     ]
    },
    {
     "name": "stdout",
     "output_type": "stream",
     "text": [
      "analytic rd nan micrometer\n",
      "numeric rd 24.0 micrometer\n"
     ]
    },
    {
     "name": "stderr",
     "output_type": "stream",
     "text": [
      "C:\\Users\\Michael\\anaconda3\\lib\\site-packages\\pint\\quantity.py:1160: RuntimeWarning: invalid value encountered in double_scalars\n",
      "  magnitude = magnitude_op(new_self._magnitude, other._magnitude)\n",
      "C:\\Users\\Michael\\anaconda3\\lib\\site-packages\\pint\\quantity.py:1160: RuntimeWarning: invalid value encountered in double_scalars\n",
      "  magnitude = magnitude_op(new_self._magnitude, other._magnitude)\n"
     ]
    },
    {
     "name": "stdout",
     "output_type": "stream",
     "text": [
      "analytic rd nan micrometer\n",
      "numeric rd 24.0 micrometer\n",
      "MPDATA 3 iterations  third order terms\n"
     ]
    },
    {
     "name": "stderr",
     "output_type": "stream",
     "text": [
      "[Parallel(n_jobs=-2)]: Done   9 out of   9 | elapsed:  3.9min remaining:    0.0s\n",
      "[Parallel(n_jobs=-2)]: Done   9 out of   9 | elapsed:  3.9min finished\n",
      "C:\\Users\\Michael\\PycharmProjects\\MPyDATA\\MPyDATA_examples\\Olesik_et_al_2020\\../..\\MPyDATA_examples\\Olesik_et_al_2020\\convergence_plotter.py:30: UserWarning: The following kwargs were not used by contour: 'linewidth'\n",
      "  plt.contour(X, Y, Z, levels, colors='black', linewidth=.3)\n",
      "No handles with labels found to put in legend.\n"
     ]
    },
    {
     "data": {
      "application/vnd.jupyter.widget-view+json": {
       "model_id": "6fd2816781734b3299a2a02a8381ed4e",
       "version_major": 2,
       "version_minor": 0
      },
      "text/plain": [
       "VBox(children=(Output(), HTML(value=\"<a href='../utils/output\\\\convergence_log$_2$(err)_MPDATA 3 iterations  t…"
      ]
     },
     "metadata": {},
     "output_type": "display_data"
    },
    {
     "name": "stderr",
     "output_type": "stream",
     "text": [
      "C:\\Users\\Michael\\PycharmProjects\\MPyDATA\\MPyDATA_examples\\Olesik_et_al_2020\\../..\\MPyDATA_examples\\Olesik_et_al_2020\\convergence_plotter.py:30: UserWarning: The following kwargs were not used by contour: 'linewidth'\n",
      "  plt.contour(X, Y, Z, levels, colors='black', linewidth=.3)\n",
      "No handles with labels found to put in legend.\n"
     ]
    },
    {
     "data": {
      "application/vnd.jupyter.widget-view+json": {
       "model_id": "8bdbf5c334b4463b9a1eb4824ce25cfd",
       "version_major": 2,
       "version_minor": 0
      },
      "text/plain": [
       "VBox(children=(Output(), HTML(value=\"<a href='../utils/output\\\\convergence_height difference_MPDATA 3 iteratio…"
      ]
     },
     "metadata": {},
     "output_type": "display_data"
    },
    {
     "name": "stderr",
     "output_type": "stream",
     "text": [
      "C:\\Users\\Michael\\PycharmProjects\\MPyDATA\\MPyDATA_examples\\Olesik_et_al_2020\\../..\\MPyDATA_examples\\Olesik_et_al_2020\\convergence_plotter.py:30: UserWarning: The following kwargs were not used by contour: 'linewidth'\n",
      "  plt.contour(X, Y, Z, levels, colors='black', linewidth=.3)\n",
      "No handles with labels found to put in legend.\n"
     ]
    },
    {
     "data": {
      "application/vnd.jupyter.widget-view+json": {
       "model_id": "a3f2cb7c2830412fa3f5108bb9c07e25",
       "version_major": 2,
       "version_minor": 0
      },
      "text/plain": [
       "VBox(children=(Output(), HTML(value=\"<a href='../utils/output\\\\convergence_h_inf_MPDATA 3 iterations  third or…"
      ]
     },
     "metadata": {},
     "output_type": "display_data"
    },
    {
     "name": "stderr",
     "output_type": "stream",
     "text": [
      "C:\\Users\\Michael\\PycharmProjects\\MPyDATA\\MPyDATA_examples\\Olesik_et_al_2020\\../..\\MPyDATA_examples\\Olesik_et_al_2020\\convergence_plotter.py:30: UserWarning: The following kwargs were not used by contour: 'linewidth'\n",
      "  plt.contour(X, Y, Z, levels, colors='black', linewidth=.3)\n",
      "No handles with labels found to put in legend.\n"
     ]
    },
    {
     "data": {
      "application/vnd.jupyter.widget-view+json": {
       "model_id": "8c2ce18e65d74e8e8f8f1f74217f840c",
       "version_major": 2,
       "version_minor": 0
      },
      "text/plain": [
       "VBox(children=(Output(), HTML(value=\"<a href='../utils/output\\\\convergence_h_2_MPDATA 3 iterations  third orde…"
      ]
     },
     "metadata": {},
     "output_type": "display_data"
    },
    {
     "name": "stderr",
     "output_type": "stream",
     "text": [
      "[Parallel(n_jobs=-2)]: Using backend ThreadingBackend with 7 concurrent workers.\n"
     ]
    },
    {
     "name": "stdout",
     "output_type": "stream",
     "text": [
      "analytic rd nan micrometer\n",
      "numeric rd 24.0 micrometer\n"
     ]
    },
    {
     "name": "stderr",
     "output_type": "stream",
     "text": [
      "C:\\Users\\Michael\\anaconda3\\lib\\site-packages\\pint\\quantity.py:1160: RuntimeWarning: invalid value encountered in double_scalars\n",
      "  magnitude = magnitude_op(new_self._magnitude, other._magnitude)\n"
     ]
    },
    {
     "name": "stdout",
     "output_type": "stream",
     "text": [
      "analytic rd nan micrometer\n",
      "numeric rd 24.0 micrometer\n"
     ]
    },
    {
     "name": "stderr",
     "output_type": "stream",
     "text": [
      "[Parallel(n_jobs=-2)]: Done   2 out of   9 | elapsed:  1.4min remaining:  4.9min\n",
      "C:\\Users\\Michael\\anaconda3\\lib\\site-packages\\pint\\quantity.py:1160: RuntimeWarning: invalid value encountered in double_scalars\n",
      "  magnitude = magnitude_op(new_self._magnitude, other._magnitude)\n"
     ]
    },
    {
     "name": "stdout",
     "output_type": "stream",
     "text": [
      "analytic rd nan micrometer\n",
      "numeric rd 24.0 micrometer\n"
     ]
    },
    {
     "name": "stderr",
     "output_type": "stream",
     "text": [
      "[Parallel(n_jobs=-2)]: Done   3 out of   9 | elapsed:  1.8min remaining:  3.6min\n",
      "C:\\Users\\Michael\\anaconda3\\lib\\site-packages\\pint\\quantity.py:1160: RuntimeWarning: invalid value encountered in double_scalars\n",
      "  magnitude = magnitude_op(new_self._magnitude, other._magnitude)\n"
     ]
    },
    {
     "name": "stdout",
     "output_type": "stream",
     "text": [
      "analytic rd nan micrometer\n",
      "numeric rd 24.0 micrometer\n"
     ]
    },
    {
     "name": "stderr",
     "output_type": "stream",
     "text": [
      "[Parallel(n_jobs=-2)]: Done   4 out of   9 | elapsed:  2.1min remaining:  2.6min\n",
      "C:\\Users\\Michael\\anaconda3\\lib\\site-packages\\pint\\quantity.py:1160: RuntimeWarning: invalid value encountered in double_scalars\n",
      "  magnitude = magnitude_op(new_self._magnitude, other._magnitude)\n"
     ]
    },
    {
     "name": "stdout",
     "output_type": "stream",
     "text": [
      "analytic rd nan micrometer\n",
      "numeric rd 24.0 micrometer\n"
     ]
    },
    {
     "name": "stderr",
     "output_type": "stream",
     "text": [
      "[Parallel(n_jobs=-2)]: Done   5 out of   9 | elapsed:  2.5min remaining:  2.0min\n",
      "C:\\Users\\Michael\\anaconda3\\lib\\site-packages\\pint\\quantity.py:1160: RuntimeWarning: invalid value encountered in double_scalars\n",
      "  magnitude = magnitude_op(new_self._magnitude, other._magnitude)\n"
     ]
    },
    {
     "name": "stdout",
     "output_type": "stream",
     "text": [
      "analytic rd nan micrometer\n",
      "numeric rd 24.0 micrometer\n"
     ]
    },
    {
     "name": "stderr",
     "output_type": "stream",
     "text": [
      "[Parallel(n_jobs=-2)]: Done   6 out of   9 | elapsed:  2.8min remaining:  1.4min\n",
      "C:\\Users\\Michael\\anaconda3\\lib\\site-packages\\pint\\quantity.py:1160: RuntimeWarning: invalid value encountered in double_scalars\n",
      "  magnitude = magnitude_op(new_self._magnitude, other._magnitude)\n"
     ]
    },
    {
     "name": "stdout",
     "output_type": "stream",
     "text": [
      "analytic rd nan micrometer\n",
      "numeric rd 24.0 micrometer\n"
     ]
    },
    {
     "name": "stderr",
     "output_type": "stream",
     "text": [
      "[Parallel(n_jobs=-2)]: Done   7 out of   9 | elapsed:  3.2min remaining:   54.3s\n",
      "C:\\Users\\Michael\\anaconda3\\lib\\site-packages\\pint\\quantity.py:1160: RuntimeWarning: invalid value encountered in double_scalars\n",
      "  magnitude = magnitude_op(new_self._magnitude, other._magnitude)\n"
     ]
    },
    {
     "name": "stdout",
     "output_type": "stream",
     "text": [
      "analytic rd nan micrometer\n",
      "numeric rd 24.0 micrometer\n"
     ]
    },
    {
     "name": "stderr",
     "output_type": "stream",
     "text": [
      "C:\\Users\\Michael\\anaconda3\\lib\\site-packages\\pint\\quantity.py:1160: RuntimeWarning: invalid value encountered in double_scalars\n",
      "  magnitude = magnitude_op(new_self._magnitude, other._magnitude)\n",
      "C:\\Users\\Michael\\anaconda3\\lib\\site-packages\\pint\\quantity.py:1160: RuntimeWarning: invalid value encountered in double_scalars\n",
      "  magnitude = magnitude_op(new_self._magnitude, other._magnitude)\n"
     ]
    },
    {
     "name": "stdout",
     "output_type": "stream",
     "text": [
      "analytic rd nan micrometer\n",
      "numeric rd 24.0 micrometer\n",
      "MPDATA 3 iterations\n"
     ]
    },
    {
     "name": "stderr",
     "output_type": "stream",
     "text": [
      "[Parallel(n_jobs=-2)]: Done   9 out of   9 | elapsed:  4.0min remaining:    0.0s\n",
      "[Parallel(n_jobs=-2)]: Done   9 out of   9 | elapsed:  4.0min finished\n",
      "C:\\Users\\Michael\\PycharmProjects\\MPyDATA\\MPyDATA_examples\\Olesik_et_al_2020\\../..\\MPyDATA_examples\\Olesik_et_al_2020\\convergence_plotter.py:30: UserWarning: The following kwargs were not used by contour: 'linewidth'\n",
      "  plt.contour(X, Y, Z, levels, colors='black', linewidth=.3)\n",
      "No handles with labels found to put in legend.\n"
     ]
    },
    {
     "data": {
      "application/vnd.jupyter.widget-view+json": {
       "model_id": "264a6cf38d774b71948af6b276ea03d6",
       "version_major": 2,
       "version_minor": 0
      },
      "text/plain": [
       "VBox(children=(Output(), HTML(value=\"<a href='../utils/output\\\\convergence_log$_2$(err)_MPDATA 3 iterations.pd…"
      ]
     },
     "metadata": {},
     "output_type": "display_data"
    },
    {
     "name": "stderr",
     "output_type": "stream",
     "text": [
      "C:\\Users\\Michael\\PycharmProjects\\MPyDATA\\MPyDATA_examples\\Olesik_et_al_2020\\../..\\MPyDATA_examples\\Olesik_et_al_2020\\convergence_plotter.py:30: UserWarning: The following kwargs were not used by contour: 'linewidth'\n",
      "  plt.contour(X, Y, Z, levels, colors='black', linewidth=.3)\n",
      "No handles with labels found to put in legend.\n"
     ]
    },
    {
     "data": {
      "application/vnd.jupyter.widget-view+json": {
       "model_id": "4815f6ec1c1a448daf4f1e0b95b83aae",
       "version_major": 2,
       "version_minor": 0
      },
      "text/plain": [
       "VBox(children=(Output(), HTML(value=\"<a href='../utils/output\\\\convergence_height difference_MPDATA 3 iteratio…"
      ]
     },
     "metadata": {},
     "output_type": "display_data"
    },
    {
     "name": "stderr",
     "output_type": "stream",
     "text": [
      "C:\\Users\\Michael\\PycharmProjects\\MPyDATA\\MPyDATA_examples\\Olesik_et_al_2020\\../..\\MPyDATA_examples\\Olesik_et_al_2020\\convergence_plotter.py:30: UserWarning: The following kwargs were not used by contour: 'linewidth'\n",
      "  plt.contour(X, Y, Z, levels, colors='black', linewidth=.3)\n",
      "No handles with labels found to put in legend.\n"
     ]
    },
    {
     "data": {
      "application/vnd.jupyter.widget-view+json": {
       "model_id": "ffb1c358b219421f820348417f9290ad",
       "version_major": 2,
       "version_minor": 0
      },
      "text/plain": [
       "VBox(children=(Output(), HTML(value=\"<a href='../utils/output\\\\convergence_h_inf_MPDATA 3 iterations.pdf' targ…"
      ]
     },
     "metadata": {},
     "output_type": "display_data"
    },
    {
     "name": "stderr",
     "output_type": "stream",
     "text": [
      "C:\\Users\\Michael\\PycharmProjects\\MPyDATA\\MPyDATA_examples\\Olesik_et_al_2020\\../..\\MPyDATA_examples\\Olesik_et_al_2020\\convergence_plotter.py:30: UserWarning: The following kwargs were not used by contour: 'linewidth'\n",
      "  plt.contour(X, Y, Z, levels, colors='black', linewidth=.3)\n",
      "No handles with labels found to put in legend.\n"
     ]
    },
    {
     "data": {
      "application/vnd.jupyter.widget-view+json": {
       "model_id": "cbbb59106c2f4cf3b75c3e7041fa1f15",
       "version_major": 2,
       "version_minor": 0
      },
      "text/plain": [
       "VBox(children=(Output(), HTML(value=\"<a href='../utils/output\\\\convergence_h_2_MPDATA 3 iterations.pdf' target…"
      ]
     },
     "metadata": {},
     "output_type": "display_data"
    },
    {
     "name": "stderr",
     "output_type": "stream",
     "text": [
      "[Parallel(n_jobs=-2)]: Using backend ThreadingBackend with 7 concurrent workers.\n"
     ]
    },
    {
     "name": "stdout",
     "output_type": "stream",
     "text": [
      "analytic rd nan micrometer\n",
      "numeric rd 24.0 micrometer\n"
     ]
    },
    {
     "name": "stderr",
     "output_type": "stream",
     "text": [
      "C:\\Users\\Michael\\anaconda3\\lib\\site-packages\\pint\\quantity.py:1160: RuntimeWarning: invalid value encountered in double_scalars\n",
      "  magnitude = magnitude_op(new_self._magnitude, other._magnitude)\n"
     ]
    },
    {
     "name": "stdout",
     "output_type": "stream",
     "text": [
      "analytic rd nan micrometer\n",
      "numeric rd 24.0 micrometer\n"
     ]
    },
    {
     "name": "stderr",
     "output_type": "stream",
     "text": [
      "[Parallel(n_jobs=-2)]: Done   2 out of   9 | elapsed:  2.1min remaining:  7.3min\n",
      "C:\\Users\\Michael\\anaconda3\\lib\\site-packages\\pint\\quantity.py:1160: RuntimeWarning: invalid value encountered in double_scalars\n",
      "  magnitude = magnitude_op(new_self._magnitude, other._magnitude)\n"
     ]
    },
    {
     "name": "stdout",
     "output_type": "stream",
     "text": [
      "analytic rd nan micrometer\n",
      "numeric rd 24.0 micrometer\n"
     ]
    },
    {
     "name": "stderr",
     "output_type": "stream",
     "text": [
      "[Parallel(n_jobs=-2)]: Done   3 out of   9 | elapsed:  2.7min remaining:  5.4min\n",
      "C:\\Users\\Michael\\anaconda3\\lib\\site-packages\\pint\\quantity.py:1160: RuntimeWarning: invalid value encountered in double_scalars\n",
      "  magnitude = magnitude_op(new_self._magnitude, other._magnitude)\n"
     ]
    },
    {
     "name": "stdout",
     "output_type": "stream",
     "text": [
      "analytic rd nan micrometer\n",
      "numeric rd 24.0 micrometer\n"
     ]
    },
    {
     "name": "stderr",
     "output_type": "stream",
     "text": [
      "[Parallel(n_jobs=-2)]: Done   4 out of   9 | elapsed:  3.3min remaining:  4.1min\n",
      "C:\\Users\\Michael\\anaconda3\\lib\\site-packages\\pint\\quantity.py:1160: RuntimeWarning: invalid value encountered in double_scalars\n",
      "  magnitude = magnitude_op(new_self._magnitude, other._magnitude)\n"
     ]
    },
    {
     "name": "stdout",
     "output_type": "stream",
     "text": [
      "analytic rd nan micrometer\n",
      "numeric rd 24.0 micrometer\n"
     ]
    },
    {
     "name": "stderr",
     "output_type": "stream",
     "text": [
      "[Parallel(n_jobs=-2)]: Done   5 out of   9 | elapsed:  3.9min remaining:  3.1min\n",
      "C:\\Users\\Michael\\anaconda3\\lib\\site-packages\\pint\\quantity.py:1160: RuntimeWarning: invalid value encountered in double_scalars\n",
      "  magnitude = magnitude_op(new_self._magnitude, other._magnitude)\n"
     ]
    },
    {
     "name": "stdout",
     "output_type": "stream",
     "text": [
      "analytic rd nan micrometer\n",
      "numeric rd 24.0 micrometer\n"
     ]
    },
    {
     "name": "stderr",
     "output_type": "stream",
     "text": [
      "[Parallel(n_jobs=-2)]: Done   6 out of   9 | elapsed:  4.5min remaining:  2.2min\n",
      "C:\\Users\\Michael\\anaconda3\\lib\\site-packages\\pint\\quantity.py:1160: RuntimeWarning: invalid value encountered in double_scalars\n",
      "  magnitude = magnitude_op(new_self._magnitude, other._magnitude)\n"
     ]
    },
    {
     "name": "stdout",
     "output_type": "stream",
     "text": [
      "analytic rd nan micrometer\n",
      "numeric rd 24.0 micrometer\n"
     ]
    },
    {
     "name": "stderr",
     "output_type": "stream",
     "text": [
      "[Parallel(n_jobs=-2)]: Done   7 out of   9 | elapsed:  5.2min remaining:  1.5min\n",
      "C:\\Users\\Michael\\anaconda3\\lib\\site-packages\\pint\\quantity.py:1160: RuntimeWarning: invalid value encountered in double_scalars\n",
      "  magnitude = magnitude_op(new_self._magnitude, other._magnitude)\n"
     ]
    },
    {
     "name": "stdout",
     "output_type": "stream",
     "text": [
      "analytic rd nan micrometer\n",
      "numeric rd 24.0 micrometer\n"
     ]
    },
    {
     "name": "stderr",
     "output_type": "stream",
     "text": [
      "C:\\Users\\Michael\\anaconda3\\lib\\site-packages\\pint\\quantity.py:1160: RuntimeWarning: invalid value encountered in double_scalars\n",
      "  magnitude = magnitude_op(new_self._magnitude, other._magnitude)\n",
      "C:\\Users\\Michael\\anaconda3\\lib\\site-packages\\pint\\quantity.py:1160: RuntimeWarning: invalid value encountered in double_scalars\n",
      "  magnitude = magnitude_op(new_self._magnitude, other._magnitude)\n"
     ]
    },
    {
     "name": "stdout",
     "output_type": "stream",
     "text": [
      "analytic rd nan micrometer\n",
      "numeric rd 24.0 micrometer\n",
      "MPDATA 3 iterations  third order terms  infinite gauge  flux corrected transport\n"
     ]
    },
    {
     "name": "stderr",
     "output_type": "stream",
     "text": [
      "[Parallel(n_jobs=-2)]: Done   9 out of   9 | elapsed:  6.5min remaining:    0.0s\n",
      "[Parallel(n_jobs=-2)]: Done   9 out of   9 | elapsed:  6.5min finished\n",
      "C:\\Users\\Michael\\PycharmProjects\\MPyDATA\\MPyDATA_examples\\Olesik_et_al_2020\\../..\\MPyDATA_examples\\Olesik_et_al_2020\\convergence_plotter.py:30: UserWarning: The following kwargs were not used by contour: 'linewidth'\n",
      "  plt.contour(X, Y, Z, levels, colors='black', linewidth=.3)\n",
      "No handles with labels found to put in legend.\n"
     ]
    },
    {
     "data": {
      "application/vnd.jupyter.widget-view+json": {
       "model_id": "7a4fe2b944c24a60b0139636029d3779",
       "version_major": 2,
       "version_minor": 0
      },
      "text/plain": [
       "VBox(children=(Output(), HTML(value=\"<a href='../utils/output\\\\convergence_log$_2$(err)_MPDATA 3 iterations  t…"
      ]
     },
     "metadata": {},
     "output_type": "display_data"
    },
    {
     "name": "stderr",
     "output_type": "stream",
     "text": [
      "C:\\Users\\Michael\\PycharmProjects\\MPyDATA\\MPyDATA_examples\\Olesik_et_al_2020\\../..\\MPyDATA_examples\\Olesik_et_al_2020\\convergence_plotter.py:30: UserWarning: The following kwargs were not used by contour: 'linewidth'\n",
      "  plt.contour(X, Y, Z, levels, colors='black', linewidth=.3)\n",
      "No handles with labels found to put in legend.\n"
     ]
    },
    {
     "data": {
      "application/vnd.jupyter.widget-view+json": {
       "model_id": "61f385bef40543079dddae5571833d07",
       "version_major": 2,
       "version_minor": 0
      },
      "text/plain": [
       "VBox(children=(Output(), HTML(value=\"<a href='../utils/output\\\\convergence_height difference_MPDATA 3 iteratio…"
      ]
     },
     "metadata": {},
     "output_type": "display_data"
    },
    {
     "name": "stderr",
     "output_type": "stream",
     "text": [
      "C:\\Users\\Michael\\PycharmProjects\\MPyDATA\\MPyDATA_examples\\Olesik_et_al_2020\\../..\\MPyDATA_examples\\Olesik_et_al_2020\\convergence_plotter.py:30: UserWarning: The following kwargs were not used by contour: 'linewidth'\n",
      "  plt.contour(X, Y, Z, levels, colors='black', linewidth=.3)\n",
      "No handles with labels found to put in legend.\n"
     ]
    },
    {
     "data": {
      "application/vnd.jupyter.widget-view+json": {
       "model_id": "161414c040f1466ea4102e9e26fa82dd",
       "version_major": 2,
       "version_minor": 0
      },
      "text/plain": [
       "VBox(children=(Output(), HTML(value=\"<a href='../utils/output\\\\convergence_h_inf_MPDATA 3 iterations  third or…"
      ]
     },
     "metadata": {},
     "output_type": "display_data"
    },
    {
     "name": "stderr",
     "output_type": "stream",
     "text": [
      "C:\\Users\\Michael\\PycharmProjects\\MPyDATA\\MPyDATA_examples\\Olesik_et_al_2020\\../..\\MPyDATA_examples\\Olesik_et_al_2020\\convergence_plotter.py:30: UserWarning: The following kwargs were not used by contour: 'linewidth'\n",
      "  plt.contour(X, Y, Z, levels, colors='black', linewidth=.3)\n",
      "No handles with labels found to put in legend.\n"
     ]
    },
    {
     "data": {
      "application/vnd.jupyter.widget-view+json": {
       "model_id": "855985121d594f2bab4cb59ac48ff3de",
       "version_major": 2,
       "version_minor": 0
      },
      "text/plain": [
       "VBox(children=(Output(), HTML(value=\"<a href='../utils/output\\\\convergence_h_2_MPDATA 3 iterations  third orde…"
      ]
     },
     "metadata": {},
     "output_type": "display_data"
    }
   ],
   "source": [
    "for opt in opts:\n",
    "    with parallel_backend('threading', n_jobs=-2):\n",
    "        results0 = Parallel(verbose=10)(\n",
    "            delayed(analysis)(Setup(nr = nr, mixing_ratios_g_kg = [1.05,]), GC, opt)\n",
    "            for nr in nrs\n",
    "            for GC in GCs\n",
    "        )\n",
    "    results = tuple(tuple(i) for i in zip(*results0))\n",
    "    plot_setup = np.array(results[0:2])\n",
    "    measures = {'log$_2$(err)':results[2] , 'height difference':results[3], 'h_inf':results[4], 'h_2': results[5]} #,'rel_disp':results[6]}\n",
    "    opt = replace_names(opt)\n",
    "    print(opt)\n",
    "    for measure in measures.keys():\n",
    "        polar_plot(nrs, GCs, measures[measure], name = measure)\n",
    "        show_plot(filename = f'convergence_{measure}_{opt}.pdf')   #TODO: dont show plot name when savingfig (for masters)"
   ]
  },
  {
   "cell_type": "code",
   "execution_count": null,
   "metadata": {},
   "outputs": [],
   "source": []
  },
  {
   "cell_type": "code",
   "execution_count": null,
   "metadata": {},
   "outputs": [],
   "source": []
  },
  {
   "cell_type": "code",
   "execution_count": null,
   "metadata": {},
   "outputs": [],
   "source": []
  },
  {
   "cell_type": "code",
   "execution_count": null,
   "metadata": {},
   "outputs": [],
   "source": []
  },
  {
   "cell_type": "code",
   "execution_count": null,
   "metadata": {},
   "outputs": [],
   "source": []
  },
  {
   "cell_type": "code",
   "execution_count": null,
   "metadata": {},
   "outputs": [],
   "source": []
  }
 ],
 "metadata": {
  "kernelspec": {
   "display_name": "Python 3",
   "language": "python",
   "name": "python3"
  },
  "language_info": {
   "codemirror_mode": {
    "name": "ipython",
    "version": 3
   },
   "file_extension": ".py",
   "mimetype": "text/x-python",
   "name": "python",
   "nbconvert_exporter": "python",
   "pygments_lexer": "ipython3",
   "version": "3.7.6"
  },
  "pycharm": {
   "stem_cell": {
    "cell_type": "raw",
    "metadata": {
     "collapsed": false
    },
    "source": []
   }
  }
 },
 "nbformat": 4,
 "nbformat_minor": 4
}
