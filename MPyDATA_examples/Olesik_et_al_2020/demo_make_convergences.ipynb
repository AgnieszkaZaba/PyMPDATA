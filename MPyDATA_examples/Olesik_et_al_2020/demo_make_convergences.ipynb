{
 "cells": [
  {
   "cell_type": "code",
   "execution_count": 1,
   "metadata": {},
   "outputs": [],
   "source": [
    "import sys, os\n",
    "if 'google.colab' in sys.modules:\n",
    "    %cd\n",
    "    % rm -rf MPyDATA\n",
    "    ! git clone --recurse-submodules -j8 https://github.com/Michaeldz36/MPyDATA.git\n",
    "    %cd MPyDATA\n",
    "    ! git checkout develop\n",
    "    ! pip install -U $(cat requirements.txt | cut -d '=' -f 1)\n",
    "else:\n",
    "    sys.path.append(os.path.join(os.getcwd(), '../..'))"
   ]
  },
  {
   "cell_type": "code",
   "execution_count": 2,
   "metadata": {},
   "outputs": [],
   "source": [
    "CI = 'TRAVIS' in os.environ\n",
    "if CI:\n",
    "    os.environ[\"NUMBA_DISABLE_JIT\"] = \"1\""
   ]
  },
  {
   "cell_type": "code",
   "execution_count": 3,
   "metadata": {},
   "outputs": [],
   "source": [
    "import numpy as np\n",
    "import matplotlib.pyplot as plt\n",
    "from MPyDATA_examples.Olesik_et_al_2020.setup import Setup, default_opt_set, option_string\n",
    "from MPyDATA_examples.Olesik_et_al_2020.coordinates import x_id, x_p2, x_p3, x_log_of_pn\n",
    "from MPyDATA.options import Options\n",
    "from MPyDATA_examples.Olesik_et_al_2020.simulation import Simulation\n",
    "from MPyDATA_examples.utils.show_plot import show_plot\n",
    "from joblib import Parallel, parallel_backend, delayed\n",
    "from MPyDATA_examples.Olesik_et_al_2020.physics.equilibrium_drop_growth import PdfEvolver\n",
    "from MPyDATA.arakawa_c.discretisation import discretised_analytical_solution\n",
    "from MPyDATA_examples.utils.error_norms import L2, Smolarkiewicz_Grabowski_1990_eq21, modified_Smolarkiewicz_Rasch_r0\n",
    "from MPyDATA_examples.Olesik_et_al_2020.analysis  import rel_disp"
   ]
  },
  {
   "cell_type": "code",
   "execution_count": 4,
   "metadata": {},
   "outputs": [],
   "source": [
    "GCs = np.linspace(.05,.95, 3) if CI else np.linspace(.05,.95, 7)\n",
    "nrs = np.array([2**n for n in (range(7, 10) if CI else range(7,15))], dtype=int)"
   ]
  },
  {
   "cell_type": "code",
   "execution_count": 5,
   "metadata": {},
   "outputs": [],
   "source": [
    "grid_layout = x_p2()\n",
    "psi_coord = x_p2()\n",
    "setup = Setup()"
   ]
  },
  {
   "cell_type": "code",
   "execution_count": 6,
   "metadata": {},
   "outputs": [],
   "source": [
    "const = min(np.log2(1/nrs)) - 1\n",
    "\n",
    "\n",
    "def phi(cour):\n",
    "    return cour * np.pi / 2\n",
    "\n",
    "def rho(n):\n",
    "    return np.log2(1/n) - const\n",
    "\n",
    "\n",
    "def polar_plot(nr, cour, values, name):\n",
    "    theta_array = phi(cour)\n",
    "    r_array = rho(nr)\n",
    "\n",
    "    X, Y = np.meshgrid(theta_array, r_array)\n",
    "    Z = np.array(list(values)).reshape(len(r_array), len(theta_array))\n",
    "\n",
    "    min_val = np.floor(min(values)) if name == 'log$_2$(err)' else min(values)\n",
    "    max_val = np.ceil(max(values)) if name == 'log$_2$(err)' else max(values)\n",
    "\n",
    "    amplitude = max_val - min_val\n",
    "    if name == 'log$_2$(err)':\n",
    "        levels = np.linspace(\n",
    "            -26,\n",
    "            -2,\n",
    "            int(amplitude + 1)\n",
    "        )\n",
    "    else:\n",
    "        levels = 7\n",
    "\n",
    "    ax = plt.subplot(111, projection='polar')\n",
    "    cnt = ax.contourf(X, Y, Z, levels, cmap='jet')\n",
    "    plt.contour(X, Y, Z, levels, colors='black', linewidth=.3)\n",
    "    ax.scatter(X, Y, alpha=.8, s=10)\n",
    "    legend = plt.colorbar(cnt, ax=ax, pad=0.1)\n",
    "    legend.set_label(r'$log_2(Err_{L2})$', rotation=90)\n",
    "    ax.set_thetalim(min(theta_array),max(theta_array))\n",
    "    ax.set_rlim(0, max(r_array))\n",
    "    \n",
    "    ticks = r_array\n",
    "    ax.set_yticks(ticks)\n",
    "    ax.set_yticklabels(\"$2^{\" + f\"{int(-tick - const):d}\" + \"}$\" for tick in ticks)\n",
    "    \n",
    "    ax.set_thetagrids(cour * 90, tuple(f\"{c:.2g}\" for c in cour))\n",
    "    ax.grid(True)\n",
    "    ax.set_xlabel(r\"$nx$\", labelpad=18)\n",
    "    ax.annotate(r'$C$', xy=(.8, .85), xycoords='axes fraction')"
   ]
  },
  {
   "cell_type": "code",
   "execution_count": 7,
   "metadata": {},
   "outputs": [],
   "source": [
    "def analysis(setup, GC, opt):\n",
    "    options = Options(**opt)\n",
    "    simulation = Simulation(setup, grid_layout,  psi_coord, options, GC)\n",
    "    simulation.step(1)\n",
    "    simulation.step(simulation.out_steps[-1]-1)\n",
    "    t = simulation.out_steps[-1] * simulation.dt\n",
    "    rh = simulation.rh\n",
    "    pdf_t = PdfEvolver(setup.pdf, setup.drdt, t)\n",
    "    def pdf_arg(r):\n",
    "        return pdf_t(r* rh.units).magnitude\n",
    "    analytical = discretised_analytical_solution(\n",
    "                simulation.rh.magnitude,\n",
    "                pdf_arg, midpoint_value = True,\n",
    "                r=simulation.r.magnitude\n",
    "            ) * pdf_t(rh[0]).units\n",
    "    numerical = simulation.n_of_r\n",
    "    psi = simulation.psi\n",
    "    g_factor = simulation.g_factor\n",
    "    dp_dr = simulation.dp_dr\n",
    "    \n",
    "    maximum_numeric = np.max(numerical)\n",
    "    maximum_analytic = np.max(analytical)\n",
    "    measure_height = (maximum_numeric / maximum_analytic).magnitude\n",
    "    \n",
    "    dif = analytical-numerical\n",
    "    measure_h_2 =  (1/t * np.sqrt( 1/len(dif) * dif.dot(dif))).magnitude\n",
    "  \n",
    "    error = np.log2(Smolarkiewicz_Grabowski_1990_eq21(numerical.magnitude, analytical.magnitude, t.magnitude))\n",
    "    error_g = np.log2(Smolarkiewicz_Grabowski_1990_eq21(g_factor * psi.magnitude, g_factor * analytical.magnitude / dp_dr, t.magnitude))\n",
    "    error_r0 = np.log2(modified_Smolarkiewicz_Rasch_r0(psi.magnitude, analytical.magnitude /dp_dr, t.magnitude, g_factor))\n",
    "    return setup.nr, GC, error"
   ]
  },
  {
   "cell_type": "code",
   "execution_count": 8,
   "metadata": {
    "scrolled": false
   },
   "outputs": [
    {
     "name": "stderr",
     "output_type": "stream",
     "text": [
      "[Parallel(n_jobs=-2)]: Using backend ThreadingBackend with 7 concurrent workers.\n",
      "[Parallel(n_jobs=-2)]: Done   4 tasks      | elapsed:   36.7s\n",
      "[Parallel(n_jobs=-2)]: Done  11 tasks      | elapsed:   50.9s\n",
      "[Parallel(n_jobs=-2)]: Done  18 tasks      | elapsed:  1.1min\n",
      "[Parallel(n_jobs=-2)]: Done  27 tasks      | elapsed:  1.5min\n",
      "[Parallel(n_jobs=-2)]: Done  36 tasks      | elapsed:  2.2min\n",
      "[Parallel(n_jobs=-2)]: Done  49 out of  56 | elapsed:  3.3min remaining:   28.5s\n"
     ]
    },
    {
     "name": "stdout",
     "output_type": "stream",
     "text": [
      "upwind\n"
     ]
    },
    {
     "name": "stderr",
     "output_type": "stream",
     "text": [
      "[Parallel(n_jobs=-2)]: Done  56 out of  56 | elapsed:  5.1min finished\n",
      "C:\\Users\\Michael\\anaconda3\\lib\\site-packages\\ipykernel_launcher.py:33: UserWarning: The following kwargs were not used by contour: 'linewidth'\n"
     ]
    },
    {
     "data": {
      "application/vnd.jupyter.widget-view+json": {
       "model_id": "27868c8fd8bb41a18fc9fc3428860bb1",
       "version_major": 2,
       "version_minor": 0
      },
      "text/plain": [
       "VBox(children=(Output(), HTML(value=\"<a href='../utils/output\\\\convergence_log$_2$(err)_upwind.pdf' target='_b…"
      ]
     },
     "metadata": {},
     "output_type": "display_data"
    },
    {
     "name": "stderr",
     "output_type": "stream",
     "text": [
      "[Parallel(n_jobs=-2)]: Using backend ThreadingBackend with 7 concurrent workers.\n",
      "[Parallel(n_jobs=-2)]: Done   4 tasks      | elapsed:   36.7s\n",
      "[Parallel(n_jobs=-2)]: Done  11 tasks      | elapsed:   49.1s\n",
      "[Parallel(n_jobs=-2)]: Done  18 tasks      | elapsed:  1.1min\n",
      "[Parallel(n_jobs=-2)]: Done  27 tasks      | elapsed:  1.5min\n",
      "[Parallel(n_jobs=-2)]: Done  36 tasks      | elapsed:  2.1min\n",
      "[Parallel(n_jobs=-2)]: Done  49 out of  56 | elapsed:  3.1min remaining:   26.8s\n"
     ]
    },
    {
     "name": "stdout",
     "output_type": "stream",
     "text": [
      "MPDATA 2 iterations\n"
     ]
    },
    {
     "name": "stderr",
     "output_type": "stream",
     "text": [
      "[Parallel(n_jobs=-2)]: Done  56 out of  56 | elapsed:  5.0min finished\n",
      "C:\\Users\\Michael\\anaconda3\\lib\\site-packages\\ipykernel_launcher.py:33: UserWarning: The following kwargs were not used by contour: 'linewidth'\n"
     ]
    },
    {
     "data": {
      "application/vnd.jupyter.widget-view+json": {
       "model_id": "5e658cd187a645969b2d65674c696cb4",
       "version_major": 2,
       "version_minor": 0
      },
      "text/plain": [
       "VBox(children=(Output(), HTML(value=\"<a href='../utils/output\\\\convergence_log$_2$(err)_MPDATA 2 iterations.pd…"
      ]
     },
     "metadata": {},
     "output_type": "display_data"
    },
    {
     "name": "stderr",
     "output_type": "stream",
     "text": [
      "[Parallel(n_jobs=-2)]: Using backend ThreadingBackend with 7 concurrent workers.\n",
      "[Parallel(n_jobs=-2)]: Done   4 tasks      | elapsed:   37.3s\n",
      "[Parallel(n_jobs=-2)]: Done  11 tasks      | elapsed:   49.2s\n",
      "[Parallel(n_jobs=-2)]: Done  18 tasks      | elapsed:  1.1min\n",
      "[Parallel(n_jobs=-2)]: Done  27 tasks      | elapsed:  1.5min\n",
      "[Parallel(n_jobs=-2)]: Done  36 tasks      | elapsed:  2.1min\n",
      "[Parallel(n_jobs=-2)]: Done  49 out of  56 | elapsed:  3.2min remaining:   27.2s\n"
     ]
    },
    {
     "name": "stdout",
     "output_type": "stream",
     "text": [
      "MPDATA 2 iterations infinite gauge\n"
     ]
    },
    {
     "name": "stderr",
     "output_type": "stream",
     "text": [
      "[Parallel(n_jobs=-2)]: Done  56 out of  56 | elapsed:  5.1min finished\n",
      "C:\\Users\\Michael\\anaconda3\\lib\\site-packages\\ipykernel_launcher.py:33: UserWarning: The following kwargs were not used by contour: 'linewidth'\n"
     ]
    },
    {
     "data": {
      "application/vnd.jupyter.widget-view+json": {
       "model_id": "d1060fa658dc4e98b8e110a19caa0000",
       "version_major": 2,
       "version_minor": 0
      },
      "text/plain": [
       "VBox(children=(Output(), HTML(value=\"<a href='../utils/output\\\\convergence_log$_2$(err)_MPDATA 2 iterations in…"
      ]
     },
     "metadata": {},
     "output_type": "display_data"
    },
    {
     "name": "stderr",
     "output_type": "stream",
     "text": [
      "[Parallel(n_jobs=-2)]: Using backend ThreadingBackend with 7 concurrent workers.\n",
      "[Parallel(n_jobs=-2)]: Done   4 tasks      | elapsed:   47.5s\n",
      "[Parallel(n_jobs=-2)]: Done  11 tasks      | elapsed:   59.7s\n",
      "[Parallel(n_jobs=-2)]: Done  18 tasks      | elapsed:  1.3min\n",
      "[Parallel(n_jobs=-2)]: Done  27 tasks      | elapsed:  1.7min\n",
      "[Parallel(n_jobs=-2)]: Done  36 tasks      | elapsed:  2.3min\n",
      "[Parallel(n_jobs=-2)]: Done  49 out of  56 | elapsed:  3.5min remaining:   29.5s\n"
     ]
    },
    {
     "name": "stdout",
     "output_type": "stream",
     "text": [
      "MPDATA 2 iterations infinite gauge non-oscillatory\n"
     ]
    },
    {
     "name": "stderr",
     "output_type": "stream",
     "text": [
      "[Parallel(n_jobs=-2)]: Done  56 out of  56 | elapsed:  5.4min finished\n",
      "C:\\Users\\Michael\\anaconda3\\lib\\site-packages\\ipykernel_launcher.py:33: UserWarning: The following kwargs were not used by contour: 'linewidth'\n"
     ]
    },
    {
     "data": {
      "application/vnd.jupyter.widget-view+json": {
       "model_id": "e1622a1d4bdb40499a926f47234c9c36",
       "version_major": 2,
       "version_minor": 0
      },
      "text/plain": [
       "VBox(children=(Output(), HTML(value=\"<a href='../utils/output\\\\convergence_log$_2$(err)_MPDATA 2 iterations in…"
      ]
     },
     "metadata": {},
     "output_type": "display_data"
    },
    {
     "name": "stderr",
     "output_type": "stream",
     "text": [
      "[Parallel(n_jobs=-2)]: Using backend ThreadingBackend with 7 concurrent workers.\n",
      "[Parallel(n_jobs=-2)]: Done   4 tasks      | elapsed:   46.8s\n",
      "[Parallel(n_jobs=-2)]: Done  11 tasks      | elapsed:   59.5s\n",
      "[Parallel(n_jobs=-2)]: Done  18 tasks      | elapsed:  1.3min\n",
      "[Parallel(n_jobs=-2)]: Done  27 tasks      | elapsed:  1.7min\n",
      "[Parallel(n_jobs=-2)]: Done  36 tasks      | elapsed:  2.3min\n",
      "[Parallel(n_jobs=-2)]: Done  49 out of  56 | elapsed:  3.4min remaining:   29.0s\n"
     ]
    },
    {
     "name": "stdout",
     "output_type": "stream",
     "text": [
      "MPDATA 2 iterations DPDC infinite gauge non-oscillatory\n"
     ]
    },
    {
     "name": "stderr",
     "output_type": "stream",
     "text": [
      "[Parallel(n_jobs=-2)]: Done  56 out of  56 | elapsed:  5.3min finished\n",
      "C:\\Users\\Michael\\anaconda3\\lib\\site-packages\\ipykernel_launcher.py:33: UserWarning: The following kwargs were not used by contour: 'linewidth'\n"
     ]
    },
    {
     "data": {
      "application/vnd.jupyter.widget-view+json": {
       "model_id": "4ec1c72d660a4850a9eea6ef0b728976",
       "version_major": 2,
       "version_minor": 0
      },
      "text/plain": [
       "VBox(children=(Output(), HTML(value=\"<a href='../utils/output\\\\convergence_log$_2$(err)_MPDATA 2 iterations DP…"
      ]
     },
     "metadata": {},
     "output_type": "display_data"
    },
    {
     "name": "stderr",
     "output_type": "stream",
     "text": [
      "[Parallel(n_jobs=-2)]: Using backend ThreadingBackend with 7 concurrent workers.\n",
      "[Parallel(n_jobs=-2)]: Done   4 tasks      | elapsed:   40.3s\n",
      "[Parallel(n_jobs=-2)]: Done  11 tasks      | elapsed:   52.1s\n",
      "[Parallel(n_jobs=-2)]: Done  18 tasks      | elapsed:  1.1min\n",
      "[Parallel(n_jobs=-2)]: Done  27 tasks      | elapsed:  1.5min\n",
      "[Parallel(n_jobs=-2)]: Done  36 tasks      | elapsed:  2.1min\n",
      "[Parallel(n_jobs=-2)]: Done  49 out of  56 | elapsed:  3.3min remaining:   28.2s\n"
     ]
    },
    {
     "name": "stdout",
     "output_type": "stream",
     "text": [
      "MPDATA 3 iterations third order terms\n"
     ]
    },
    {
     "name": "stderr",
     "output_type": "stream",
     "text": [
      "[Parallel(n_jobs=-2)]: Done  56 out of  56 | elapsed:  5.2min finished\n",
      "C:\\Users\\Michael\\anaconda3\\lib\\site-packages\\ipykernel_launcher.py:33: UserWarning: The following kwargs were not used by contour: 'linewidth'\n"
     ]
    },
    {
     "data": {
      "application/vnd.jupyter.widget-view+json": {
       "model_id": "01eb3baadd764080b6e3edbcf61770f8",
       "version_major": 2,
       "version_minor": 0
      },
      "text/plain": [
       "VBox(children=(Output(), HTML(value=\"<a href='../utils/output\\\\convergence_log$_2$(err)_MPDATA 3 iterations th…"
      ]
     },
     "metadata": {},
     "output_type": "display_data"
    },
    {
     "name": "stderr",
     "output_type": "stream",
     "text": [
      "[Parallel(n_jobs=-2)]: Using backend ThreadingBackend with 7 concurrent workers.\n",
      "[Parallel(n_jobs=-2)]: Done   4 tasks      | elapsed:   39.3s\n",
      "[Parallel(n_jobs=-2)]: Done  11 tasks      | elapsed:   51.5s\n",
      "[Parallel(n_jobs=-2)]: Done  18 tasks      | elapsed:  1.1min\n",
      "[Parallel(n_jobs=-2)]: Done  27 tasks      | elapsed:  1.5min\n",
      "[Parallel(n_jobs=-2)]: Done  36 tasks      | elapsed:  2.1min\n",
      "[Parallel(n_jobs=-2)]: Done  49 out of  56 | elapsed:  3.3min remaining:   28.1s\n"
     ]
    },
    {
     "name": "stdout",
     "output_type": "stream",
     "text": [
      "MPDATA 3 iterations\n"
     ]
    },
    {
     "name": "stderr",
     "output_type": "stream",
     "text": [
      "[Parallel(n_jobs=-2)]: Done  56 out of  56 | elapsed:  5.1min finished\n",
      "C:\\Users\\Michael\\anaconda3\\lib\\site-packages\\ipykernel_launcher.py:33: UserWarning: The following kwargs were not used by contour: 'linewidth'\n"
     ]
    },
    {
     "data": {
      "application/vnd.jupyter.widget-view+json": {
       "model_id": "8f3c1b6bd052499ea5e2d33c9f5b956c",
       "version_major": 2,
       "version_minor": 0
      },
      "text/plain": [
       "VBox(children=(Output(), HTML(value=\"<a href='../utils/output\\\\convergence_log$_2$(err)_MPDATA 3 iterations.pd…"
      ]
     },
     "metadata": {},
     "output_type": "display_data"
    },
    {
     "name": "stderr",
     "output_type": "stream",
     "text": [
      "[Parallel(n_jobs=-2)]: Using backend ThreadingBackend with 7 concurrent workers.\n",
      "[Parallel(n_jobs=-2)]: Done   4 tasks      | elapsed:   47.5s\n",
      "[Parallel(n_jobs=-2)]: Done  11 tasks      | elapsed:   59.4s\n",
      "[Parallel(n_jobs=-2)]: Done  18 tasks      | elapsed:  1.3min\n",
      "[Parallel(n_jobs=-2)]: Done  27 tasks      | elapsed:  1.6min\n",
      "[Parallel(n_jobs=-2)]: Done  36 tasks      | elapsed:  2.2min\n",
      "[Parallel(n_jobs=-2)]: Done  49 out of  56 | elapsed:  3.9min remaining:   33.1s\n"
     ]
    },
    {
     "name": "stdout",
     "output_type": "stream",
     "text": [
      "MPDATA 3 iterations third order terms infinite gauge non-oscillatory\n"
     ]
    },
    {
     "name": "stderr",
     "output_type": "stream",
     "text": [
      "[Parallel(n_jobs=-2)]: Done  56 out of  56 | elapsed:  5.2min finished\n",
      "C:\\Users\\Michael\\anaconda3\\lib\\site-packages\\ipykernel_launcher.py:33: UserWarning: The following kwargs were not used by contour: 'linewidth'\n"
     ]
    },
    {
     "data": {
      "application/vnd.jupyter.widget-view+json": {
       "model_id": "8c87e020591c4dc6b36125215e828154",
       "version_major": 2,
       "version_minor": 0
      },
      "text/plain": [
       "VBox(children=(Output(), HTML(value=\"<a href='../utils/output\\\\convergence_log$_2$(err)_MPDATA 3 iterations th…"
      ]
     },
     "metadata": {},
     "output_type": "display_data"
    }
   ],
   "source": [
    "for opt in default_opt_set.values():\n",
    "    with parallel_backend('threading', n_jobs=-2):\n",
    "        results0 = Parallel(verbose=10)(\n",
    "            delayed(analysis)(Setup(nr = nr, mixing_ratios_g_kg = [1.05,]), GC, opt)\n",
    "            for nr in nrs\n",
    "            for GC in GCs\n",
    "        )\n",
    "    results = tuple(tuple(i) for i in zip(*results0))\n",
    "    plot_setup = np.array(results[0:2])\n",
    "    measures = {'log$_2$(err)':results[2]}\n",
    "    opt=option_string(str(opt))\n",
    "    print(opt)\n",
    "    for measure in measures.keys():\n",
    "        polar_plot(nrs, GCs, measures[measure], name = measure)\n",
    "        show_plot(filename = f'convergence_{measure}_{opt}.pdf')"
   ]
  },
  {
   "cell_type": "code",
   "execution_count": null,
   "metadata": {},
   "outputs": [],
   "source": []
  },
  {
   "cell_type": "code",
   "execution_count": null,
   "metadata": {},
   "outputs": [],
   "source": []
  },
  {
   "cell_type": "code",
   "execution_count": null,
   "metadata": {},
   "outputs": [],
   "source": []
  }
 ],
 "metadata": {
  "kernelspec": {
   "display_name": "Python 3",
   "language": "python",
   "name": "python3"
  },
  "language_info": {
   "codemirror_mode": {
    "name": "ipython",
    "version": 3
   },
   "file_extension": ".py",
   "mimetype": "text/x-python",
   "name": "python",
   "nbconvert_exporter": "python",
   "pygments_lexer": "ipython3",
   "version": "3.7.6"
  },
  "pycharm": {
   "stem_cell": {
    "cell_type": "raw",
    "metadata": {
     "collapsed": false
    },
    "source": []
   }
  }
 },
 "nbformat": 4,
 "nbformat_minor": 4
}
