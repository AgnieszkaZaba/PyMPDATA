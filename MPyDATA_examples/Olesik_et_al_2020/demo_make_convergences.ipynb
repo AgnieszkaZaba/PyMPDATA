{
 "cells": [
  {
   "cell_type": "code",
   "execution_count": 1,
   "metadata": {},
   "outputs": [],
   "source": [
    "# import os\n",
    "# os.environ[\"NUMBA_DISABLE_JIT\"] = \"1\""
   ]
  },
  {
   "cell_type": "code",
   "execution_count": 2,
   "metadata": {},
   "outputs": [],
   "source": [
    "import sys, os\n",
    "if 'google.colab' in sys.modules:\n",
    "    %cd\n",
    "    % rm -rf MPyDATA\n",
    "    ! git clone --recurse-submodules -j8 https://github.com/Michaeldz36/MPyDATA.git\n",
    "    %cd MPyDATA\n",
    "    ! git checkout develop\n",
    "    ! pip install -U $(cat requirements.txt | cut -d '=' -f 1)\n",
    "else:\n",
    "    sys.path.append(os.path.join(os.getcwd(), '../..'))"
   ]
  },
  {
   "cell_type": "code",
   "execution_count": 3,
   "metadata": {},
   "outputs": [],
   "source": [
    "import numpy as np\n",
    "import matplotlib.pyplot as plt\n",
    "from MPyDATA_examples.Olesik_et_al_2020.setup import Setup\n",
    "from MPyDATA_examples.Olesik_et_al_2020.coordinates import x_id, x_p2, x_p3, x_log_of_pn\n",
    "from MPyDATA.options import Options\n",
    "from MPyDATA_examples.Olesik_et_al_2020.simulation import Simulation\n",
    "from MPyDATA_examples.utils.show_plot import show_plot\n",
    "from joblib import Parallel, parallel_backend, delayed\n",
    "from MPyDATA_examples.Olesik_et_al_2020.physics.equilibrium_drop_growth import PdfEvolver\n",
    "from MPyDATA.arakawa_c.discretisation import discretised_analytical_solution\n",
    "from MPyDATA_examples.utils.error_norms import L2, Smolarkiewicz_Grabowski_1990_eq21\n",
    "from MPyDATA_examples.Olesik_et_al_2020.convergence_plotter  import polar_plot"
   ]
  },
  {
   "cell_type": "code",
   "execution_count": 4,
   "metadata": {},
   "outputs": [],
   "source": [
    "GCs = np.linspace(.05,.95, 8)\n",
    "nrs = np.array([2**n for n in range(5, 12)], dtype=int)"
   ]
  },
  {
   "cell_type": "code",
   "execution_count": 5,
   "metadata": {},
   "outputs": [],
   "source": [
    "grid_layout = x_p2()\n",
    "psi_coord = x_p2()\n",
    "setup = Setup()"
   ]
  },
  {
   "cell_type": "code",
   "execution_count": 6,
   "metadata": {},
   "outputs": [],
   "source": [
    "def analysis(setup, GC, opt):\n",
    "    options = Options(**opt)\n",
    "    simulation = Simulation(setup, grid_layout,  psi_coord, options, GC)\n",
    "    simulation.step(simulation.out_steps[-1])\n",
    "    t = simulation.out_steps[-1] * simulation.dt\n",
    "    rh = simulation.rh\n",
    "    pdf_t = PdfEvolver(setup.pdf, setup.drdt, t)\n",
    "    def pdf_arg(r):\n",
    "        return pdf_t(r* rh.units).magnitude\n",
    "    analytical = discretised_analytical_solution(\n",
    "                simulation.rh.magnitude,\n",
    "                pdf_arg, midpoint_value = True\n",
    "            ) * pdf_t(rh[0]).units\n",
    "    numerical = simulation.n\n",
    "    \n",
    "    maximum_numeric = np.max(numerical)\n",
    "    maximum_analytic = np.max(analytical)\n",
    "    measure_height = (maximum_numeric / maximum_analytic).magnitude\n",
    "    \n",
    "    #TODO: proportion of rel dispersion\n",
    "    \n",
    "    error = np.log2(Smolarkiewicz_Grabowski_1990_eq21(numerical.magnitude, analytical.magnitude, t.magnitude))\n",
    "    return setup.nr, GC, error, measure_height"
   ]
  },
  {
   "cell_type": "code",
   "execution_count": 7,
   "metadata": {},
   "outputs": [],
   "source": [
    "opts = (\n",
    "     {'n_iters': 1},\n",
    "     {'n_iters': 2},\n",
    "     {'n_iters': 2,'infinite_gauge':True},\n",
    "     {'n_iters': 2, 'infinite_gauge': True, 'flux_corrected_transport': True},\n",
    "     {'n_iters': 3},\n",
    "     {'n_iters': 3, 'third_order_terms':True},\n",
    "     {'n_iters': 3, 'third_order_terms': True, 'infinite_gauge': True, 'flux_corrected_transport': True}\n",
    ")\n",
    "#TODO: change demo_make_plots according to this"
   ]
  },
  {
   "cell_type": "code",
   "execution_count": null,
   "metadata": {
    "scrolled": false
   },
   "outputs": [
    {
     "name": "stderr",
     "output_type": "stream",
     "text": [
      "[Parallel(n_jobs=-2)]: Using backend ThreadingBackend with 7 concurrent workers.\n",
      "[Parallel(n_jobs=-2)]: Done   4 tasks      | elapsed:  1.1min\n",
      "[Parallel(n_jobs=-2)]: Done  11 tasks      | elapsed:  2.0min\n",
      "[Parallel(n_jobs=-2)]: Done  18 tasks      | elapsed:  2.9min\n",
      "[Parallel(n_jobs=-2)]: Done  27 tasks      | elapsed:  4.0min\n",
      "[Parallel(n_jobs=-2)]: Done  36 tasks      | elapsed:  5.2min\n",
      "[Parallel(n_jobs=-2)]: Done  49 out of  56 | elapsed:  7.1min remaining:  1.0min\n"
     ]
    },
    {
     "name": "stdout",
     "output_type": "stream",
     "text": [
      "{'n_iters': 1}\n"
     ]
    },
    {
     "name": "stderr",
     "output_type": "stream",
     "text": [
      "[Parallel(n_jobs=-2)]: Done  56 out of  56 | elapsed:  7.9min finished\n",
      "C:\\Users\\Michael\\PycharmProjects\\MPyDATA\\MPyDATA_examples\\Olesik_et_al_2020\\../..\\MPyDATA_examples\\Olesik_et_al_2020\\convergence_plotter.py:31: UserWarning: The following kwargs were not used by contour: 'linewidth'\n",
      "  plt.contour(X, Y, Z, levels, colors='black', linewidth=.3)\n",
      "No handles with labels found to put in legend.\n"
     ]
    },
    {
     "data": {
      "application/vnd.jupyter.widget-view+json": {
       "model_id": "691decd2c0164968beb89d519ee55054",
       "version_major": 2,
       "version_minor": 0
      },
      "text/plain": [
       "VBox(children=(Output(), HTML(value=\"<a href='../utils/output\\\\convergence_log$_2$(err).pdf' target='_blank'>.…"
      ]
     },
     "metadata": {},
     "output_type": "display_data"
    },
    {
     "name": "stderr",
     "output_type": "stream",
     "text": [
      "C:\\Users\\Michael\\PycharmProjects\\MPyDATA\\MPyDATA_examples\\Olesik_et_al_2020\\../..\\MPyDATA_examples\\Olesik_et_al_2020\\convergence_plotter.py:31: UserWarning: The following kwargs were not used by contour: 'linewidth'\n",
      "  plt.contour(X, Y, Z, levels, colors='black', linewidth=.3)\n",
      "No handles with labels found to put in legend.\n"
     ]
    },
    {
     "data": {
      "application/vnd.jupyter.widget-view+json": {
       "model_id": "1cfee1f7899a4dcebee62effc97705cb",
       "version_major": 2,
       "version_minor": 0
      },
      "text/plain": [
       "VBox(children=(Output(), HTML(value=\"<a href='../utils/output\\\\convergence_height difference.pdf' target='_bla…"
      ]
     },
     "metadata": {},
     "output_type": "display_data"
    },
    {
     "name": "stderr",
     "output_type": "stream",
     "text": [
      "[Parallel(n_jobs=-2)]: Using backend ThreadingBackend with 7 concurrent workers.\n",
      "[Parallel(n_jobs=-2)]: Done   4 tasks      | elapsed:  1.4min\n",
      "[Parallel(n_jobs=-2)]: Done  11 tasks      | elapsed:  2.5min\n",
      "[Parallel(n_jobs=-2)]: Done  18 tasks      | elapsed:  3.6min\n",
      "[Parallel(n_jobs=-2)]: Done  27 tasks      | elapsed:  5.2min\n",
      "[Parallel(n_jobs=-2)]: Done  36 tasks      | elapsed:  6.6min\n",
      "[Parallel(n_jobs=-2)]: Done  49 out of  56 | elapsed:  8.6min remaining:  1.2min\n"
     ]
    },
    {
     "name": "stdout",
     "output_type": "stream",
     "text": [
      "{'n_iters': 2}\n"
     ]
    },
    {
     "name": "stderr",
     "output_type": "stream",
     "text": [
      "[Parallel(n_jobs=-2)]: Done  56 out of  56 | elapsed:  9.6min finished\n",
      "C:\\Users\\Michael\\PycharmProjects\\MPyDATA\\MPyDATA_examples\\Olesik_et_al_2020\\../..\\MPyDATA_examples\\Olesik_et_al_2020\\convergence_plotter.py:31: UserWarning: The following kwargs were not used by contour: 'linewidth'\n",
      "  plt.contour(X, Y, Z, levels, colors='black', linewidth=.3)\n",
      "No handles with labels found to put in legend.\n"
     ]
    },
    {
     "data": {
      "application/vnd.jupyter.widget-view+json": {
       "model_id": "78e6e629f6d141d28167ef35c395c55c",
       "version_major": 2,
       "version_minor": 0
      },
      "text/plain": [
       "VBox(children=(Output(), HTML(value=\"<a href='../utils/output\\\\convergence_log$_2$(err).pdf' target='_blank'>.…"
      ]
     },
     "metadata": {},
     "output_type": "display_data"
    },
    {
     "name": "stderr",
     "output_type": "stream",
     "text": [
      "C:\\Users\\Michael\\PycharmProjects\\MPyDATA\\MPyDATA_examples\\Olesik_et_al_2020\\../..\\MPyDATA_examples\\Olesik_et_al_2020\\convergence_plotter.py:31: UserWarning: The following kwargs were not used by contour: 'linewidth'\n",
      "  plt.contour(X, Y, Z, levels, colors='black', linewidth=.3)\n",
      "No handles with labels found to put in legend.\n"
     ]
    },
    {
     "data": {
      "application/vnd.jupyter.widget-view+json": {
       "model_id": "d055eb9874f3420e90274aa832656d6e",
       "version_major": 2,
       "version_minor": 0
      },
      "text/plain": [
       "VBox(children=(Output(), HTML(value=\"<a href='../utils/output\\\\convergence_height difference.pdf' target='_bla…"
      ]
     },
     "metadata": {},
     "output_type": "display_data"
    },
    {
     "name": "stderr",
     "output_type": "stream",
     "text": [
      "[Parallel(n_jobs=-2)]: Using backend ThreadingBackend with 7 concurrent workers.\n",
      "[Parallel(n_jobs=-2)]: Done   4 tasks      | elapsed:  1.2min\n",
      "[Parallel(n_jobs=-2)]: Done  11 tasks      | elapsed:  2.3min\n",
      "[Parallel(n_jobs=-2)]: Done  18 tasks      | elapsed:  3.5min\n",
      "[Parallel(n_jobs=-2)]: Done  27 tasks      | elapsed:  5.1min\n",
      "[Parallel(n_jobs=-2)]: Done  36 tasks      | elapsed:  6.8min\n",
      "[Parallel(n_jobs=-2)]: Done  49 out of  56 | elapsed:  9.2min remaining:  1.3min\n"
     ]
    },
    {
     "name": "stdout",
     "output_type": "stream",
     "text": [
      "{'n_iters': 2, 'infinite_gauge': True}\n"
     ]
    },
    {
     "name": "stderr",
     "output_type": "stream",
     "text": [
      "[Parallel(n_jobs=-2)]: Done  56 out of  56 | elapsed: 10.4min finished\n",
      "C:\\Users\\Michael\\PycharmProjects\\MPyDATA\\MPyDATA_examples\\Olesik_et_al_2020\\../..\\MPyDATA_examples\\Olesik_et_al_2020\\convergence_plotter.py:31: UserWarning: The following kwargs were not used by contour: 'linewidth'\n",
      "  plt.contour(X, Y, Z, levels, colors='black', linewidth=.3)\n",
      "No handles with labels found to put in legend.\n"
     ]
    },
    {
     "data": {
      "application/vnd.jupyter.widget-view+json": {
       "model_id": "8a81e710478b4480904e391303d80f20",
       "version_major": 2,
       "version_minor": 0
      },
      "text/plain": [
       "VBox(children=(Output(), HTML(value=\"<a href='../utils/output\\\\convergence_log$_2$(err).pdf' target='_blank'>.…"
      ]
     },
     "metadata": {},
     "output_type": "display_data"
    },
    {
     "name": "stderr",
     "output_type": "stream",
     "text": [
      "C:\\Users\\Michael\\PycharmProjects\\MPyDATA\\MPyDATA_examples\\Olesik_et_al_2020\\../..\\MPyDATA_examples\\Olesik_et_al_2020\\convergence_plotter.py:31: UserWarning: The following kwargs were not used by contour: 'linewidth'\n",
      "  plt.contour(X, Y, Z, levels, colors='black', linewidth=.3)\n",
      "No handles with labels found to put in legend.\n"
     ]
    },
    {
     "data": {
      "application/vnd.jupyter.widget-view+json": {
       "model_id": "f2d22eccf5c84190816059f819976b9a",
       "version_major": 2,
       "version_minor": 0
      },
      "text/plain": [
       "VBox(children=(Output(), HTML(value=\"<a href='../utils/output\\\\convergence_height difference.pdf' target='_bla…"
      ]
     },
     "metadata": {},
     "output_type": "display_data"
    },
    {
     "name": "stderr",
     "output_type": "stream",
     "text": [
      "[Parallel(n_jobs=-2)]: Using backend ThreadingBackend with 7 concurrent workers.\n",
      "[Parallel(n_jobs=-2)]: Done   4 tasks      | elapsed:  2.0min\n",
      "[Parallel(n_jobs=-2)]: Done  11 tasks      | elapsed:  4.4min\n",
      "[Parallel(n_jobs=-2)]: Done  18 tasks      | elapsed:  6.8min\n",
      "[Parallel(n_jobs=-2)]: Done  27 tasks      | elapsed: 49.5min\n",
      "[Parallel(n_jobs=-2)]: Done  36 tasks      | elapsed: 52.2min\n"
     ]
    }
   ],
   "source": [
    "for opt in opts:\n",
    "    with parallel_backend('threading', n_jobs=-2):\n",
    "        results0 = Parallel(verbose=10)(\n",
    "            delayed(analysis)(Setup(nr = nr, mixing_ratios_g_kg = [2,]), GC, opt)\n",
    "            for nr in nrs\n",
    "            for GC in GCs\n",
    "        )\n",
    "    results = tuple(tuple(i) for i in zip(*results0))\n",
    "    plot_setup = np.array(results[0:2])\n",
    "    measures = {'log$_2$(err)':results[2] , 'height difference':results[3]} \n",
    "    print(str(opt))\n",
    "    for measure in measures.keys():\n",
    "        polar_plot(nrs, GCs, measures[measure], name = measure)\n",
    "        show_plot(filename = f'convergence_{measure}.pdf')   #TODO: tell opt in name"
   ]
  },
  {
   "cell_type": "code",
   "execution_count": null,
   "metadata": {},
   "outputs": [],
   "source": []
  },
  {
   "cell_type": "code",
   "execution_count": null,
   "metadata": {},
   "outputs": [],
   "source": []
  },
  {
   "cell_type": "code",
   "execution_count": null,
   "metadata": {},
   "outputs": [],
   "source": []
  },
  {
   "cell_type": "code",
   "execution_count": null,
   "metadata": {},
   "outputs": [],
   "source": []
  },
  {
   "cell_type": "code",
   "execution_count": null,
   "metadata": {},
   "outputs": [],
   "source": []
  }
 ],
 "metadata": {
  "kernelspec": {
   "display_name": "Python 3",
   "language": "python",
   "name": "python3"
  },
  "language_info": {
   "codemirror_mode": {
    "name": "ipython",
    "version": 3
   },
   "file_extension": ".py",
   "mimetype": "text/x-python",
   "name": "python",
   "nbconvert_exporter": "python",
   "pygments_lexer": "ipython3",
   "version": "3.7.6"
  },
  "pycharm": {
   "stem_cell": {
    "cell_type": "raw",
    "metadata": {
     "collapsed": false
    },
    "source": []
   }
  }
 },
 "nbformat": 4,
 "nbformat_minor": 4
}
