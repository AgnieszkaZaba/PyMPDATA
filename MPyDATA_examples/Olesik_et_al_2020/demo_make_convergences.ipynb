{
 "cells": [
  {
   "cell_type": "code",
   "execution_count": 1,
   "metadata": {},
   "outputs": [],
   "source": [
    "import os\n",
    "os.environ[\"NUMBA_DISABLE_JIT\"] = \"1\""
   ]
  },
  {
   "cell_type": "code",
   "execution_count": 2,
   "metadata": {},
   "outputs": [],
   "source": [
    "import sys, os\n",
    "if 'google.colab' in sys.modules:\n",
    "    %cd\n",
    "    % rm -rf MPyDATA\n",
    "    ! git clone --recurse-submodules -j8 https://github.com/Michaeldz36/MPyDATA.git\n",
    "    %cd MPyDATA\n",
    "    ! git checkout develop\n",
    "    ! pip install -U $(cat requirements.txt | cut -d '=' -f 1)\n",
    "else:\n",
    "    sys.path.append(os.path.join(os.getcwd(), '../..'))"
   ]
  },
  {
   "cell_type": "code",
   "execution_count": 3,
   "metadata": {},
   "outputs": [],
   "source": [
    "import numpy as np\n",
    "import matplotlib.pyplot as plt\n",
    "from MPyDATA_examples.Olesik_et_al_2020.setup import Setup\n",
    "from MPyDATA_examples.Olesik_et_al_2020.coordinates import x_id, x_p2, x_p3, x_log_of_pn\n",
    "from MPyDATA.options import Options\n",
    "from MPyDATA_examples.Olesik_et_al_2020.simulation import Simulation\n",
    "from MPyDATA_examples.utils.show_plot import show_plot\n",
    "from joblib import Parallel, parallel_backend, delayed\n",
    "from MPyDATA_examples.Olesik_et_al_2020.physics.equilibrium_drop_growth import PdfEvolver\n",
    "from MPyDATA.arakawa_c.discretisation import discretised_analytical_solution\n",
    "from MPyDATA_examples.utils.error_norms import L2, Smolarkiewicz_Grabowski_1990_eq21\n",
    "from MPyDATA_examples.Olesik_et_al_2020.convergence_plotter  import polar_plot"
   ]
  },
  {
   "cell_type": "code",
   "execution_count": 4,
   "metadata": {},
   "outputs": [],
   "source": [
    "GCs = np.linspace(.05,.95, 5)\n",
    "nrs = np.linspace(16, 1024, 5, dtype = int)"
   ]
  },
  {
   "cell_type": "code",
   "execution_count": 5,
   "metadata": {},
   "outputs": [],
   "source": [
    "grid_layout = x_p2()\n",
    "psi_coord = x_p2()\n",
    "setup = Setup()"
   ]
  },
  {
   "cell_type": "code",
   "execution_count": 6,
   "metadata": {},
   "outputs": [],
   "source": [
    "def analysis(setup, GC, opt):\n",
    "    options = Options(**opt)\n",
    "    simulation = Simulation(setup, grid_layout,  psi_coord, options, GC)\n",
    "    simulation.step(simulation.out_steps[-1])\n",
    "    t = simulation.out_steps[-1] * simulation.dt\n",
    "    rh = simulation.rh\n",
    "    pdf_t = PdfEvolver(setup.pdf, setup.drdt, t)\n",
    "    analytical = discretised_analytical_solution(\n",
    "                simulation.rh.magnitude,\n",
    "                lambda r: pdf_t(r * rh.units).magnitude\n",
    "            ) * pdf_t(rh[0]).units\n",
    "    numerical = simulation.n\n",
    "    \n",
    "    maximum_numeric = np.max(numerical)\n",
    "    maximum_analytic = np.max(analytical)\n",
    "    measure_height = (maximum_numeric / maximum_analytic).magnitude\n",
    "    \n",
    "    #TODO: proportion of rel dispersion\n",
    "    \n",
    "    error = np.log2(Smolarkiewicz_Grabowski_1990_eq21(numerical.magnitude, analytical.magnitude, t.magnitude))\n",
    "    return setup.nr, GC, error, measure_height"
   ]
  },
  {
   "cell_type": "code",
   "execution_count": 7,
   "metadata": {},
   "outputs": [],
   "source": [
    "opt_set = (\n",
    "     {'n_iters': 1},\n",
    "     {'n_iters': 2},\n",
    "     {'n_iters': 2,'infinite_gauge':True},\n",
    "     {'n_iters': 2, 'infinite_gauge': True, 'flux_corrected_transport': True},\n",
    "     {'n_iters': 2, 'third_order_terms':True},\n",
    "     {'n_iters': 3},\n",
    "     {'n_iters': 3, 'third_order_terms': True, 'infinite_gauge': True, 'flux_corrected_transport': True}\n",
    ")\n"
   ]
  },
  {
   "cell_type": "code",
   "execution_count": null,
   "metadata": {
    "scrolled": false
   },
   "outputs": [
    {
     "name": "stderr",
     "output_type": "stream",
     "text": [
      "[Parallel(n_jobs=-2)]: Using backend ThreadingBackend with 7 concurrent workers.\n",
      "[Parallel(n_jobs=-2)]: Done   1 tasks      | elapsed:    9.9s\n",
      "[Parallel(n_jobs=-2)]: Done   4 tasks      | elapsed:  1.1min\n",
      "[Parallel(n_jobs=-2)]: Done  11 tasks      | elapsed:  2.1min\n",
      "[Parallel(n_jobs=-2)]: Done  15 out of  25 | elapsed:  2.1min remaining:  1.4min\n",
      "[Parallel(n_jobs=-2)]: Done  18 out of  25 | elapsed:  2.8min remaining:  1.1min\n",
      "[Parallel(n_jobs=-2)]: Done  21 out of  25 | elapsed:  3.2min remaining:   36.7s\n",
      "[Parallel(n_jobs=-2)]: Done  25 out of  25 | elapsed:  3.6min finished\n",
      "C:\\Users\\Michael\\anaconda3\\lib\\site-packages\\matplotlib\\collections.py:857: RuntimeWarning: invalid value encountered in sqrt\n",
      "  scale = np.sqrt(self._sizes) * dpi / 72.0 * self._factor\n",
      "C:\\Users\\Michael\\anaconda3\\lib\\site-packages\\matplotlib\\projections\\polar.py:142: RuntimeWarning: invalid value encountered in remainder\n",
      "  theta = (np.arctan2(y, x) + 2 * np.pi) % (2 * np.pi)\n",
      "No handles with labels found to put in legend.\n"
     ]
    },
    {
     "name": "stdout",
     "output_type": "stream",
     "text": [
      "log$_2$(err) values (-4.268320705646015, -4.160130640288148, -4.239479676952537, -4.673639640172093, -5.806922877692183, -6.946392915847298, -7.309351694258841, -7.848715450172599, -8.71869633054316, -11.468229551156988, -7.810705704675517, -8.191670843894121, -8.727785037046381, -9.640213564211203, -12.507860650207801, -8.345183853489083, -8.725495578754844, -9.26824458713891, -10.156765120142397, -12.958900419260505, -8.733926513174618, -9.120667062208929, -9.660093415468674, -10.536899613888297, -13.279258885767465)\n"
     ]
    },
    {
     "name": "stderr",
     "output_type": "stream",
     "text": [
      "C:\\Users\\Michael\\anaconda3\\lib\\site-packages\\matplotlib\\collections.py:857: RuntimeWarning: invalid value encountered in sqrt\n",
      "  scale = np.sqrt(self._sizes) * dpi / 72.0 * self._factor\n",
      "C:\\Users\\Michael\\anaconda3\\lib\\site-packages\\matplotlib\\collections.py:857: RuntimeWarning: invalid value encountered in sqrt\n",
      "  scale = np.sqrt(self._sizes) * dpi / 72.0 * self._factor\n"
     ]
    },
    {
     "data": {
      "application/vnd.jupyter.widget-view+json": {
       "model_id": "bdb5977728ec4ac4b1e241248dbbf697",
       "version_major": 2,
       "version_minor": 0
      },
      "text/plain": [
       "VBox(children=(Output(), HTML(value=\"<a href='../utils/output\\\\convergence_log$_2$(err).pdf' target='_blank'>.…"
      ]
     },
     "metadata": {},
     "output_type": "display_data"
    },
    {
     "name": "stderr",
     "output_type": "stream",
     "text": [
      "No handles with labels found to put in legend.\n"
     ]
    },
    {
     "name": "stdout",
     "output_type": "stream",
     "text": [
      "location values (1.0, 1.0, 1.0, 1.2866476537397291, 1.0, 1.0275086586584865, 1.0, 1.0, 1.0, 1.0, 1.0, 1.0, 1.0, 1.0, 1.0, 1.0, 1.0, 1.0, 1.0, 1.0, 1.0, 1.0, 1.0, 1.0, 1.0)\n"
     ]
    },
    {
     "data": {
      "application/vnd.jupyter.widget-view+json": {
       "model_id": "09a234feae81444585dcede7e450b9f7",
       "version_major": 2,
       "version_minor": 0
      },
      "text/plain": [
       "VBox(children=(Output(), HTML(value=\"<a href='../utils/output\\\\convergence_location.pdf' target='_blank'>../ut…"
      ]
     },
     "metadata": {},
     "output_type": "display_data"
    },
    {
     "name": "stderr",
     "output_type": "stream",
     "text": [
      "No handles with labels found to put in legend.\n"
     ]
    },
    {
     "name": "stdout",
     "output_type": "stream",
     "text": [
      "height values (0.8821523567339586, 0.7885250445392323, 0.6714295585381567, 0.8127547434665191, 1.0359694488992082, 0.9938735515735299, 0.9955789005805916, 0.9972152688189049, 0.9982566977145053, 1.0000649023405181, 0.9968124295110596, 0.9975718860581418, 0.9983464068092329, 0.9992214423901674, 0.9999535814726371, 0.9979247932571704, 0.9983769362023053, 0.9989473218817327, 0.9994523787995633, 0.9999420739846543, 0.998462498342064, 0.9988454288492468, 0.9992287096412946, 0.9995784587673616, 0.9999508945687238)\n"
     ]
    },
    {
     "data": {
      "application/vnd.jupyter.widget-view+json": {
       "model_id": "da4de7e0d1094d25a4144ffba231de7e",
       "version_major": 2,
       "version_minor": 0
      },
      "text/plain": [
       "VBox(children=(Output(), HTML(value=\"<a href='../utils/output\\\\convergence_height.pdf' target='_blank'>../util…"
      ]
     },
     "metadata": {},
     "output_type": "display_data"
    },
    {
     "name": "stderr",
     "output_type": "stream",
     "text": [
      "[Parallel(n_jobs=-2)]: Using backend ThreadingBackend with 7 concurrent workers.\n",
      "[Parallel(n_jobs=-2)]: Done   1 tasks      | elapsed:   10.4s\n",
      "[Parallel(n_jobs=-2)]: Done   4 tasks      | elapsed:  1.2min\n",
      "[Parallel(n_jobs=-2)]: Done  11 tasks      | elapsed:  1.9min\n",
      "[Parallel(n_jobs=-2)]: Done  15 out of  25 | elapsed:  2.1min remaining:  1.4min\n",
      "[Parallel(n_jobs=-2)]: Done  18 out of  25 | elapsed:  2.3min remaining:   54.4s\n",
      "[Parallel(n_jobs=-2)]: Done  21 out of  25 | elapsed:  3.0min remaining:   33.6s\n",
      "[Parallel(n_jobs=-2)]: Done  25 out of  25 | elapsed:  3.2min finished\n",
      "C:\\Users\\Michael\\anaconda3\\lib\\site-packages\\matplotlib\\collections.py:857: RuntimeWarning: invalid value encountered in sqrt\n",
      "  scale = np.sqrt(self._sizes) * dpi / 72.0 * self._factor\n",
      "C:\\Users\\Michael\\anaconda3\\lib\\site-packages\\matplotlib\\projections\\polar.py:142: RuntimeWarning: invalid value encountered in remainder\n",
      "  theta = (np.arctan2(y, x) + 2 * np.pi) % (2 * np.pi)\n",
      "No handles with labels found to put in legend.\n"
     ]
    },
    {
     "name": "stdout",
     "output_type": "stream",
     "text": [
      "log$_2$(err) values (-4.810780152584065, -4.540009408840545, -4.447055567065138, -4.73957616774374, -5.783933835480434, -9.305114971803661, -9.279233761465283, -9.430191731890954, -9.858620534613117, -10.89090304893161, -10.921533819556558, -10.919533427019466, -11.092914630955354, -11.555856586685048, -12.613828467358879, -11.967030188087021, -11.966193484715363, -12.155770571834138, -12.633015140487448, -13.686303540150094, -12.741871008280775, -12.749001781794307, -12.938582525997282, -13.420881159682514, -14.467207631689993)\n"
     ]
    },
    {
     "name": "stderr",
     "output_type": "stream",
     "text": [
      "C:\\Users\\Michael\\anaconda3\\lib\\site-packages\\matplotlib\\collections.py:857: RuntimeWarning: invalid value encountered in sqrt\n",
      "  scale = np.sqrt(self._sizes) * dpi / 72.0 * self._factor\n",
      "C:\\Users\\Michael\\anaconda3\\lib\\site-packages\\matplotlib\\collections.py:857: RuntimeWarning: invalid value encountered in sqrt\n",
      "  scale = np.sqrt(self._sizes) * dpi / 72.0 * self._factor\n"
     ]
    },
    {
     "data": {
      "application/vnd.jupyter.widget-view+json": {
       "model_id": "a8c596a613284fe697d05b15bf6923cf",
       "version_major": 2,
       "version_minor": 0
      },
      "text/plain": [
       "VBox(children=(Output(), HTML(value=\"<a href='../utils/output\\\\convergence_log$_2$(err).pdf' target='_blank'>.…"
      ]
     },
     "metadata": {},
     "output_type": "display_data"
    },
    {
     "name": "stderr",
     "output_type": "stream",
     "text": [
      "No handles with labels found to put in legend.\n"
     ]
    },
    {
     "name": "stdout",
     "output_type": "stream",
     "text": [
      "location values (1.0, 1.0, 1.0, 1.2866476537397291, 1.0, 1.0, 1.0, 1.0, 1.0, 1.0, 1.0, 1.0, 1.0, 1.0, 1.0, 1.0, 1.0, 1.0, 1.0, 1.0, 1.0, 1.0, 1.0, 1.0, 1.0)\n"
     ]
    },
    {
     "data": {
      "application/vnd.jupyter.widget-view+json": {
       "model_id": "5fb5fee2942d4fd1988e744f790d7144",
       "version_major": 2,
       "version_minor": 0
      },
      "text/plain": [
       "VBox(children=(Output(), HTML(value=\"<a href='../utils/output\\\\convergence_location.pdf' target='_blank'>../ut…"
      ]
     },
     "metadata": {},
     "output_type": "display_data"
    },
    {
     "name": "stderr",
     "output_type": "stream",
     "text": [
      "No handles with labels found to put in legend.\n"
     ]
    },
    {
     "name": "stdout",
     "output_type": "stream",
     "text": [
      "height values (0.9173370656160282, 0.8362810289244177, 0.7168110152773423, 0.8392755522672704, 1.0484483867586938, 0.999687663586302, 1.0000841273579664, 1.0003478800599395, 1.000492394442728, 1.000453568164948, 0.9999205745962019, 1.0000274106710334, 1.0000977122498858, 1.0001276715870884, 1.0001168848685218, 0.9999638249099755, 1.0000108530751504, 1.0000426766133812, 1.000056931700867, 1.0000551923544454, 0.9999794086944178, 1.0000064030742517, 1.0000238053743993, 1.0000320739614281, 1.0000308285959407)\n"
     ]
    },
    {
     "data": {
      "application/vnd.jupyter.widget-view+json": {
       "model_id": "3f569ec92e6b424ba2020bb11bce88c6",
       "version_major": 2,
       "version_minor": 0
      },
      "text/plain": [
       "VBox(children=(Output(), HTML(value=\"<a href='../utils/output\\\\convergence_height.pdf' target='_blank'>../util…"
      ]
     },
     "metadata": {},
     "output_type": "display_data"
    },
    {
     "name": "stderr",
     "output_type": "stream",
     "text": [
      "[Parallel(n_jobs=-2)]: Using backend ThreadingBackend with 7 concurrent workers.\n",
      "[Parallel(n_jobs=-2)]: Done   1 tasks      | elapsed:    9.8s\n",
      "[Parallel(n_jobs=-2)]: Done   4 tasks      | elapsed:  1.2min\n",
      "[Parallel(n_jobs=-2)]: Done  11 tasks      | elapsed:  2.1min\n",
      "[Parallel(n_jobs=-2)]: Done  15 out of  25 | elapsed:  2.1min remaining:  1.4min\n",
      "[Parallel(n_jobs=-2)]: Done  18 out of  25 | elapsed:  2.3min remaining:   54.0s\n",
      "[Parallel(n_jobs=-2)]: Done  21 out of  25 | elapsed:  3.0min remaining:   34.1s\n",
      "[Parallel(n_jobs=-2)]: Done  25 out of  25 | elapsed:  3.3min finished\n",
      "C:\\Users\\Michael\\anaconda3\\lib\\site-packages\\matplotlib\\collections.py:857: RuntimeWarning: invalid value encountered in sqrt\n",
      "  scale = np.sqrt(self._sizes) * dpi / 72.0 * self._factor\n",
      "C:\\Users\\Michael\\anaconda3\\lib\\site-packages\\matplotlib\\projections\\polar.py:142: RuntimeWarning: invalid value encountered in remainder\n",
      "  theta = (np.arctan2(y, x) + 2 * np.pi) % (2 * np.pi)\n",
      "No handles with labels found to put in legend.\n"
     ]
    },
    {
     "name": "stdout",
     "output_type": "stream",
     "text": [
      "log$_2$(err) values (-5.103081838524764, -4.622616097025849, -4.501461798181207, -4.825058684365513, -5.851538295422129, -9.81279150011987, -11.077417035643803, -11.061095854639829, -10.792382382732296, -10.954380295295987, -11.555702347211366, -12.852991934507964, -12.879774026231864, -12.46854355355737, -12.705261817008015, -12.628108338550506, -13.924486594298026, -13.961185318962945, -13.603270556388406, -13.782127759116431, -13.388139864283216, -14.668662040611222, -14.7307471667368, -14.413271313799529, -14.563346021507817)\n"
     ]
    },
    {
     "name": "stderr",
     "output_type": "stream",
     "text": [
      "C:\\Users\\Michael\\anaconda3\\lib\\site-packages\\matplotlib\\collections.py:857: RuntimeWarning: invalid value encountered in sqrt\n",
      "  scale = np.sqrt(self._sizes) * dpi / 72.0 * self._factor\n",
      "C:\\Users\\Michael\\anaconda3\\lib\\site-packages\\matplotlib\\collections.py:857: RuntimeWarning: invalid value encountered in sqrt\n",
      "  scale = np.sqrt(self._sizes) * dpi / 72.0 * self._factor\n"
     ]
    },
    {
     "data": {
      "application/vnd.jupyter.widget-view+json": {
       "model_id": "368ba6a60788413a8a7cc3bf5a565dec",
       "version_major": 2,
       "version_minor": 0
      },
      "text/plain": [
       "VBox(children=(Output(), HTML(value=\"<a href='../utils/output\\\\convergence_log$_2$(err).pdf' target='_blank'>.…"
      ]
     },
     "metadata": {},
     "output_type": "display_data"
    },
    {
     "name": "stderr",
     "output_type": "stream",
     "text": [
      "No handles with labels found to put in legend.\n"
     ]
    },
    {
     "name": "stdout",
     "output_type": "stream",
     "text": [
      "location values (1.0, 1.0, 1.0, 1.2866476537397291, 1.0, 1.0, 1.0, 1.0, 1.0, 1.0, 1.0, 1.0, 1.0, 1.0, 1.0, 1.0, 1.0, 1.0, 1.0, 1.0, 1.0, 1.0, 1.0, 1.0, 1.0)\n"
     ]
    },
    {
     "data": {
      "application/vnd.jupyter.widget-view+json": {
       "model_id": "13abd2869ffd44248cc653a4727103f5",
       "version_major": 2,
       "version_minor": 0
      },
      "text/plain": [
       "VBox(children=(Output(), HTML(value=\"<a href='../utils/output\\\\convergence_location.pdf' target='_blank'>../ut…"
      ]
     },
     "metadata": {},
     "output_type": "display_data"
    },
    {
     "name": "stderr",
     "output_type": "stream",
     "text": [
      "No handles with labels found to put in legend.\n"
     ]
    },
    {
     "name": "stdout",
     "output_type": "stream",
     "text": [
      "height values (0.936443697469157, 0.8528264069741011, 0.7377297594399939, 0.8622346794326085, 1.0559374238475303, 0.9998574379558637, 1.000227793612557, 1.0004486784576039, 1.0005573160492445, 1.0004651497438741, 0.9999659898988963, 1.0000629653652018, 1.0001228139624183, 1.0001410292443431, 1.000119521308837, 0.9999845230094879, 1.000027172284269, 1.0000537641592322, 1.0000630553913394, 1.000056327445792, 0.999991189632807, 1.0000154267044667, 1.0000300116245007, 1.0000355715097278, 1.0000314531032952)\n"
     ]
    },
    {
     "data": {
      "application/vnd.jupyter.widget-view+json": {
       "model_id": "c474b3d977b74de78de479cefc459685",
       "version_major": 2,
       "version_minor": 0
      },
      "text/plain": [
       "VBox(children=(Output(), HTML(value=\"<a href='../utils/output\\\\convergence_height.pdf' target='_blank'>../util…"
      ]
     },
     "metadata": {},
     "output_type": "display_data"
    },
    {
     "name": "stderr",
     "output_type": "stream",
     "text": [
      "[Parallel(n_jobs=-2)]: Using backend ThreadingBackend with 7 concurrent workers.\n",
      "[Parallel(n_jobs=-2)]: Done   1 tasks      | elapsed:   10.0s\n",
      "[Parallel(n_jobs=-2)]: Done   4 tasks      | elapsed:  1.2min\n",
      "[Parallel(n_jobs=-2)]: Done  11 tasks      | elapsed:  2.0min\n",
      "[Parallel(n_jobs=-2)]: Done  15 out of  25 | elapsed:  2.0min remaining:  1.4min\n",
      "[Parallel(n_jobs=-2)]: Done  18 out of  25 | elapsed:  2.4min remaining:   56.2s\n",
      "[Parallel(n_jobs=-2)]: Done  21 out of  25 | elapsed:  3.2min remaining:   36.8s\n",
      "[Parallel(n_jobs=-2)]: Done  25 out of  25 | elapsed:  3.3min finished\n",
      "C:\\Users\\Michael\\anaconda3\\lib\\site-packages\\matplotlib\\collections.py:857: RuntimeWarning: invalid value encountered in sqrt\n",
      "  scale = np.sqrt(self._sizes) * dpi / 72.0 * self._factor\n",
      "C:\\Users\\Michael\\anaconda3\\lib\\site-packages\\matplotlib\\projections\\polar.py:142: RuntimeWarning: invalid value encountered in remainder\n",
      "  theta = (np.arctan2(y, x) + 2 * np.pi) % (2 * np.pi)\n",
      "No handles with labels found to put in legend.\n"
     ]
    },
    {
     "name": "stdout",
     "output_type": "stream",
     "text": [
      "log$_2$(err) values (-4.774855636702139, -4.535264889799982, -4.522722151198813, -4.831615055284518, -5.8516607000906555, -9.697687140002843, -10.851401855116169, -10.968809210187834, -10.735864989711581, -10.954147904619056, -11.225853139686656, -12.37998853228827, -12.800082055761546, -12.43052448401981, -12.705278288618587, -12.34121346824966, -13.521135468737032, -13.915688226936016, -13.56494372749625, -13.771079211654728, -13.134225805223947, -14.347121373799643, -14.607556291222993, -14.362287947481203, -14.538445799401964)\n"
     ]
    },
    {
     "name": "stderr",
     "output_type": "stream",
     "text": [
      "C:\\Users\\Michael\\anaconda3\\lib\\site-packages\\matplotlib\\collections.py:857: RuntimeWarning: invalid value encountered in sqrt\n",
      "  scale = np.sqrt(self._sizes) * dpi / 72.0 * self._factor\n",
      "C:\\Users\\Michael\\anaconda3\\lib\\site-packages\\matplotlib\\collections.py:857: RuntimeWarning: invalid value encountered in sqrt\n",
      "  scale = np.sqrt(self._sizes) * dpi / 72.0 * self._factor\n"
     ]
    },
    {
     "data": {
      "application/vnd.jupyter.widget-view+json": {
       "model_id": "4670ac9fbe004d25944db3da18428182",
       "version_major": 2,
       "version_minor": 0
      },
      "text/plain": [
       "VBox(children=(Output(), HTML(value=\"<a href='../utils/output\\\\convergence_log$_2$(err).pdf' target='_blank'>.…"
      ]
     },
     "metadata": {},
     "output_type": "display_data"
    },
    {
     "name": "stderr",
     "output_type": "stream",
     "text": [
      "No handles with labels found to put in legend.\n"
     ]
    },
    {
     "name": "stdout",
     "output_type": "stream",
     "text": [
      "location values (1.0, 1.0, 1.0, 1.2866476537397291, 1.0, 1.0, 1.0, 1.0, 1.0, 1.0, 1.0, 1.0, 1.0, 1.0, 1.0, 1.0, 1.0, 1.0, 1.0, 1.0, 1.0, 1.0, 1.0, 1.0, 1.0)\n"
     ]
    },
    {
     "data": {
      "application/vnd.jupyter.widget-view+json": {
       "model_id": "ebc7385bbf3248958475406119470821",
       "version_major": 2,
       "version_minor": 0
      },
      "text/plain": [
       "VBox(children=(Output(), HTML(value=\"<a href='../utils/output\\\\convergence_location.pdf' target='_blank'>../ut…"
      ]
     },
     "metadata": {},
     "output_type": "display_data"
    },
    {
     "name": "stderr",
     "output_type": "stream",
     "text": [
      "No handles with labels found to put in legend.\n"
     ]
    },
    {
     "name": "stdout",
     "output_type": "stream",
     "text": [
      "height values (0.9163308228771953, 0.8397872584108163, 0.7377297594399939, 0.8622346794326085, 1.0559374238475303, 1.000011688397896, 1.0002144649713811, 1.0004194431415163, 1.0005573160492445, 1.000465161214304, 0.9999663105099714, 1.0000622110310384, 1.0001238868588316, 1.0001410294972313, 1.000119521308837, 0.9999845235270186, 1.000027192608104, 1.0000537585405387, 1.0000630554304686, 1.000056327445792, 0.9999911896293006, 1.0000154262731225, 1.0000300117037413, 1.0000355715117266, 1.0000314531032952)\n"
     ]
    },
    {
     "data": {
      "application/vnd.jupyter.widget-view+json": {
       "model_id": "1faaafd6d0c94107a0fa18e30452bd2c",
       "version_major": 2,
       "version_minor": 0
      },
      "text/plain": [
       "VBox(children=(Output(), HTML(value=\"<a href='../utils/output\\\\convergence_height.pdf' target='_blank'>../util…"
      ]
     },
     "metadata": {},
     "output_type": "display_data"
    },
    {
     "name": "stderr",
     "output_type": "stream",
     "text": [
      "[Parallel(n_jobs=-2)]: Using backend ThreadingBackend with 7 concurrent workers.\n",
      "[Parallel(n_jobs=-2)]: Done   1 tasks      | elapsed:   11.0s\n",
      "[Parallel(n_jobs=-2)]: Done   4 tasks      | elapsed:  1.2min\n",
      "[Parallel(n_jobs=-2)]: Done  11 tasks      | elapsed:  2.1min\n",
      "[Parallel(n_jobs=-2)]: Done  15 out of  25 | elapsed:  2.1min remaining:  1.4min\n",
      "[Parallel(n_jobs=-2)]: Done  18 out of  25 | elapsed:  2.4min remaining:   56.6s\n",
      "[Parallel(n_jobs=-2)]: Done  21 out of  25 | elapsed:  3.3min remaining:   37.1s\n",
      "[Parallel(n_jobs=-2)]: Done  25 out of  25 | elapsed:  3.4min finished\n",
      "C:\\Users\\Michael\\anaconda3\\lib\\site-packages\\matplotlib\\collections.py:857: RuntimeWarning: invalid value encountered in sqrt\n",
      "  scale = np.sqrt(self._sizes) * dpi / 72.0 * self._factor\n",
      "C:\\Users\\Michael\\anaconda3\\lib\\site-packages\\matplotlib\\projections\\polar.py:142: RuntimeWarning: invalid value encountered in remainder\n",
      "  theta = (np.arctan2(y, x) + 2 * np.pi) % (2 * np.pi)\n",
      "No handles with labels found to put in legend.\n"
     ]
    },
    {
     "name": "stdout",
     "output_type": "stream",
     "text": [
      "log$_2$(err) values (-4.958585232621719, -4.546656518066825, -4.447055567065138, -4.7873133391867455, -5.829609645178363, -8.88467392698121, -9.087783872147625, -9.430191731890954, -9.99761283004978, -10.950950480410585, -10.421351734952356, -10.692304697775493, -11.092914630955354, -11.719344754131349, -12.692553442526847, -11.419863190597352, -11.717748361091008, -12.155770571834138, -12.817910385540838, -13.776847779155414, -12.16451870152182, -12.485940650303052, -12.938582525997282, -13.619630780789336, -14.564999105624752)\n"
     ]
    },
    {
     "name": "stderr",
     "output_type": "stream",
     "text": [
      "C:\\Users\\Michael\\anaconda3\\lib\\site-packages\\matplotlib\\collections.py:857: RuntimeWarning: invalid value encountered in sqrt\n",
      "  scale = np.sqrt(self._sizes) * dpi / 72.0 * self._factor\n",
      "C:\\Users\\Michael\\anaconda3\\lib\\site-packages\\matplotlib\\collections.py:857: RuntimeWarning: invalid value encountered in sqrt\n",
      "  scale = np.sqrt(self._sizes) * dpi / 72.0 * self._factor\n"
     ]
    },
    {
     "data": {
      "application/vnd.jupyter.widget-view+json": {
       "model_id": "7313cb440b1e4dce889c44dea8c355f5",
       "version_major": 2,
       "version_minor": 0
      },
      "text/plain": [
       "VBox(children=(Output(), HTML(value=\"<a href='../utils/output\\\\convergence_log$_2$(err).pdf' target='_blank'>.…"
      ]
     },
     "metadata": {},
     "output_type": "display_data"
    },
    {
     "name": "stderr",
     "output_type": "stream",
     "text": [
      "No handles with labels found to put in legend.\n"
     ]
    },
    {
     "name": "stdout",
     "output_type": "stream",
     "text": [
      "location values (1.0, 1.0, 1.0, 1.2866476537397291, 1.0, 1.0, 1.0, 1.0, 1.0, 1.0, 1.0, 1.0, 1.0, 1.0, 1.0, 1.0, 1.0, 1.0, 1.0, 1.0, 1.0, 1.0, 1.0, 1.0, 1.0)\n"
     ]
    },
    {
     "data": {
      "application/vnd.jupyter.widget-view+json": {
       "model_id": "cf5afce5c9674625a655284cdbc49644",
       "version_major": 2,
       "version_minor": 0
      },
      "text/plain": [
       "VBox(children=(Output(), HTML(value=\"<a href='../utils/output\\\\convergence_location.pdf' target='_blank'>../ut…"
      ]
     },
     "metadata": {},
     "output_type": "display_data"
    },
    {
     "name": "stderr",
     "output_type": "stream",
     "text": [
      "No handles with labels found to put in legend.\n"
     ]
    },
    {
     "name": "stdout",
     "output_type": "stream",
     "text": [
      "height values (0.9281705521364018, 0.8385751713703838, 0.7168110152773423, 0.8273782381185368, 1.0410775509539338, 1.0003063352622292, 1.0003111230851485, 1.0003478800599395, 1.0003836007819995, 1.0004150435152144, 1.0000725250820164, 1.0000873177373597, 1.0000977122498858, 1.0001052888732949, 1.0001084622082141, 1.0000318163275286, 1.000037938559507, 1.0000426766133812, 1.000046816941173, 1.0000514163438674, 1.0000177897807176, 1.0000211114257964, 1.0000238053743993, 1.000026334749716, 1.0000287914685781)\n"
     ]
    },
    {
     "data": {
      "application/vnd.jupyter.widget-view+json": {
       "model_id": "4f878ab32c034807972f1c996d6fc84f",
       "version_major": 2,
       "version_minor": 0
      },
      "text/plain": [
       "VBox(children=(Output(), HTML(value=\"<a href='../utils/output\\\\convergence_height.pdf' target='_blank'>../util…"
      ]
     },
     "metadata": {},
     "output_type": "display_data"
    },
    {
     "name": "stderr",
     "output_type": "stream",
     "text": [
      "[Parallel(n_jobs=-2)]: Using backend ThreadingBackend with 7 concurrent workers.\n",
      "[Parallel(n_jobs=-2)]: Done   1 tasks      | elapsed:   10.4s\n",
      "[Parallel(n_jobs=-2)]: Done   5 tasks      | elapsed:  1.2min\n",
      "[Parallel(n_jobs=-2)]: Done  12 tasks      | elapsed:  1.8min\n",
      "[Parallel(n_jobs=-2)]: Done  15 out of  25 | elapsed:  2.0min remaining:  1.3min\n",
      "[Parallel(n_jobs=-2)]: Done  18 out of  25 | elapsed:  2.4min remaining:   55.3s\n",
      "[Parallel(n_jobs=-2)]: Done  21 out of  25 | elapsed:  3.1min remaining:   34.9s\n",
      "[Parallel(n_jobs=-2)]: Done  25 out of  25 | elapsed:  3.3min finished\n",
      "C:\\Users\\Michael\\anaconda3\\lib\\site-packages\\matplotlib\\collections.py:857: RuntimeWarning: invalid value encountered in sqrt\n",
      "  scale = np.sqrt(self._sizes) * dpi / 72.0 * self._factor\n",
      "C:\\Users\\Michael\\anaconda3\\lib\\site-packages\\matplotlib\\projections\\polar.py:142: RuntimeWarning: invalid value encountered in remainder\n",
      "  theta = (np.arctan2(y, x) + 2 * np.pi) % (2 * np.pi)\n",
      "No handles with labels found to put in legend.\n"
     ]
    },
    {
     "name": "stdout",
     "output_type": "stream",
     "text": [
      "log$_2$(err) values (-5.0384409162897175, -4.657430565729609, -4.503828104488649, -4.767712756742358, -5.7832826831103885, -11.090197278296369, -10.273604878047855, -9.947299985215594, -10.112117130859248, -10.833379429706996, -12.638603052805001, -12.306874248612699, -11.899495825582722, -11.956861578279213, -12.609505573188576, -13.45279827875813, -13.630711117216574, -13.153705922546123, -13.17444816886592, -13.70986214700243, -14.063456761434747, -14.546119612861931, -14.070352312519576, -14.055566984997554, -14.506647294984052)\n"
     ]
    },
    {
     "name": "stderr",
     "output_type": "stream",
     "text": [
      "C:\\Users\\Michael\\anaconda3\\lib\\site-packages\\matplotlib\\collections.py:857: RuntimeWarning: invalid value encountered in sqrt\n",
      "  scale = np.sqrt(self._sizes) * dpi / 72.0 * self._factor\n",
      "C:\\Users\\Michael\\anaconda3\\lib\\site-packages\\matplotlib\\collections.py:857: RuntimeWarning: invalid value encountered in sqrt\n",
      "  scale = np.sqrt(self._sizes) * dpi / 72.0 * self._factor\n"
     ]
    },
    {
     "data": {
      "application/vnd.jupyter.widget-view+json": {
       "model_id": "07ac98aff6fc4894ab2eec062f20761c",
       "version_major": 2,
       "version_minor": 0
      },
      "text/plain": [
       "VBox(children=(Output(), HTML(value=\"<a href='../utils/output\\\\convergence_log$_2$(err).pdf' target='_blank'>.…"
      ]
     },
     "metadata": {},
     "output_type": "display_data"
    },
    {
     "name": "stderr",
     "output_type": "stream",
     "text": [
      "No handles with labels found to put in legend.\n"
     ]
    },
    {
     "name": "stdout",
     "output_type": "stream",
     "text": [
      "location values (1.0, 1.0, 1.0, 1.2866476537397291, 1.0, 1.0, 1.0, 1.0, 1.0, 1.0, 1.0, 1.0, 1.0, 1.0, 1.0, 1.0, 1.0, 1.0, 1.0, 1.0, 1.0, 1.0, 1.0, 1.0, 1.0)\n"
     ]
    },
    {
     "data": {
      "application/vnd.jupyter.widget-view+json": {
       "model_id": "a9c75be519e04855911cd1d0af624566",
       "version_major": 2,
       "version_minor": 0
      },
      "text/plain": [
       "VBox(children=(Output(), HTML(value=\"<a href='../utils/output\\\\convergence_location.pdf' target='_blank'>../ut…"
      ]
     },
     "metadata": {},
     "output_type": "display_data"
    },
    {
     "name": "stderr",
     "output_type": "stream",
     "text": [
      "No handles with labels found to put in legend.\n"
     ]
    },
    {
     "name": "stdout",
     "output_type": "stream",
     "text": [
      "height values (0.928647074464611, 0.8494267783136397, 0.7301001678466569, 0.8508621328299442, 1.0526630546356663, 0.9998540884522794, 1.000223880524431, 1.0004458351402892, 1.0005557513415617, 1.000464897378928, 0.9999654861879828, 1.000062526451991, 1.0001224975547967, 1.0001408631925914, 1.0001194900166792, 0.9999843646578674, 1.0000270328845027, 1.0000536647143417, 1.0000630027283035, 1.0000563189616387, 0.9999911208808248, 1.000015366745517, 1.0000299686237368, 1.000035548550745, 1.000031449472682)\n"
     ]
    },
    {
     "data": {
      "application/vnd.jupyter.widget-view+json": {
       "model_id": "8bdae17ad06142e19d2f5314d1f39bd7",
       "version_major": 2,
       "version_minor": 0
      },
      "text/plain": [
       "VBox(children=(Output(), HTML(value=\"<a href='../utils/output\\\\convergence_height.pdf' target='_blank'>../util…"
      ]
     },
     "metadata": {},
     "output_type": "display_data"
    },
    {
     "name": "stderr",
     "output_type": "stream",
     "text": [
      "[Parallel(n_jobs=-2)]: Using backend ThreadingBackend with 7 concurrent workers.\n",
      "[Parallel(n_jobs=-2)]: Done   1 tasks      | elapsed:   10.3s\n"
     ]
    }
   ],
   "source": [
    "for opt in opt_set:\n",
    "    with parallel_backend('threading', n_jobs=-2):\n",
    "        results0 = Parallel(verbose=10)(\n",
    "            delayed(analysis)(Setup(nr = nr, mixing_ratios_g_kg = [1.1,]), GC, opt)\n",
    "            for nr in nrs\n",
    "            for GC in GCs\n",
    "        )\n",
    "    results = tuple(tuple(i) for i in zip(*results0))\n",
    "    plot_setup = np.array(results[0:2])\n",
    "    measures = {'log$_2$(err)':results[2] , 'height difference':results[3]} \n",
    "    for measure in measures.keys():\n",
    "        polar_plot(nrs, GCs, measures[measure], name = measure)\n",
    "        show_plot(filename = f'convergence_{measure}.pdf')"
   ]
  },
  {
   "cell_type": "code",
   "execution_count": null,
   "metadata": {},
   "outputs": [],
   "source": []
  },
  {
   "cell_type": "code",
   "execution_count": null,
   "metadata": {},
   "outputs": [],
   "source": []
  },
  {
   "cell_type": "code",
   "execution_count": null,
   "metadata": {},
   "outputs": [],
   "source": []
  },
  {
   "cell_type": "code",
   "execution_count": null,
   "metadata": {},
   "outputs": [],
   "source": []
  },
  {
   "cell_type": "code",
   "execution_count": null,
   "metadata": {},
   "outputs": [],
   "source": []
  },
  {
   "cell_type": "code",
   "execution_count": null,
   "metadata": {},
   "outputs": [],
   "source": []
  }
 ],
 "metadata": {
  "kernelspec": {
   "display_name": "Python 3",
   "language": "python",
   "name": "python3"
  },
  "language_info": {
   "codemirror_mode": {
    "name": "ipython",
    "version": 3
   },
   "file_extension": ".py",
   "mimetype": "text/x-python",
   "name": "python",
   "nbconvert_exporter": "python",
   "pygments_lexer": "ipython3",
   "version": "3.7.6"
  },
  "pycharm": {
   "stem_cell": {
    "cell_type": "raw",
    "metadata": {
     "collapsed": false
    },
    "source": []
   }
  }
 },
 "nbformat": 4,
 "nbformat_minor": 4
}
