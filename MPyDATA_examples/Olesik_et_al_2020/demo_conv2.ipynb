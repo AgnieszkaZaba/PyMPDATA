{
 "cells": [
  {
   "cell_type": "code",
   "execution_count": 1,
   "metadata": {},
   "outputs": [],
   "source": [
    "import sys\n",
    "sys.path.insert(0, \"../..\")"
   ]
  },
  {
   "cell_type": "code",
   "execution_count": 2,
   "metadata": {},
   "outputs": [],
   "source": [
    "import numpy as np\n",
    "import matplotlib.pyplot as plt\n",
    "from MPyDATA_examples.Olesik_et_al_2020.setup import Setup\n",
    "from MPyDATA_examples.Olesik_et_al_2020.demo_plot_convergence  import plot\n",
    "from MPyDATA_examples.Olesik_et_al_2020.coordinates import x_id, x_p2, x_p3, x_log_of_pn\n",
    "from MPyDATA.options import Options\n",
    "from MPyDATA_examples.Olesik_et_al_2020.simulation import Simulation\n",
    "# from MPyDATA_examples.Olesik_et_al_2020.analysis import analysis\n",
    "from MPyDATA_examples.utils.show_plot import show_plot\n",
    "\n"
   ]
  },
  {
   "cell_type": "code",
   "execution_count": 15,
   "metadata": {},
   "outputs": [],
   "source": [
    "GCs = np.linspace(.15,.85, 5)\n",
    "nrs = np.linspace(64,256, 5, dtype = int)"
   ]
  },
  {
   "cell_type": "code",
   "execution_count": 16,
   "metadata": {},
   "outputs": [],
   "source": [
    "from joblib import Parallel, parallel_backend, delayed"
   ]
  },
  {
   "cell_type": "code",
   "execution_count": 17,
   "metadata": {},
   "outputs": [],
   "source": [
    "grid_layout = x_p2()\n",
    "psi_coord = x_p2()\n",
    "options = Options(n_iters=3,infinite_gauge=True, flux_corrected_transport=True,third_order_terms=True)\n",
    "setup = Setup()"
   ]
  },
  {
   "cell_type": "code",
   "execution_count": 18,
   "metadata": {},
   "outputs": [],
   "source": [
    "from MPyDATA_examples.Olesik_et_al_2020.physics.equilibrium_drop_growth import PdfEvolver\n",
    "from MPyDATA.arakawa_c.discretisation import discretised_analytical_solution\n",
    "from MPyDATA_examples.utils.error_norms import L2, GMD"
   ]
  },
  {
   "cell_type": "code",
   "execution_count": 19,
   "metadata": {},
   "outputs": [],
   "source": [
    "def analysis(nr, GC):\n",
    "    setup = Setup(nr = nr, mixing_ratios_g_kg = [1,4])\n",
    "    simulation = Simulation(setup, grid_layout,  psi_coord, options, GC)\n",
    "    simulation.step(simulation.out_steps[-1])\n",
    "    t = simulation.out_steps[-1] * simulation.dt\n",
    "    rh = simulation.rh\n",
    "    pdf_t = PdfEvolver(setup.pdf, setup.drdt, t)\n",
    "    analytical = discretised_analytical_solution(\n",
    "                simulation.rh.magnitude,\n",
    "                lambda r: pdf_t(r * rh.units).magnitude\n",
    "            ) * pdf_t(rh[0]).units\n",
    "    numerical = simulation.n\n",
    "    loc_of_maximum_num = simulation.r[np.argmax(numerical)]\n",
    "    loc_of_maximum_anal = simulation.r[np.argmax(analytical)]\n",
    "    maximum_num = np.max(numerical)\n",
    "    maximum_anal = np.max(analytical)\n",
    "#     mean = np.mean(numerical)\n",
    "#     std = np.std(numerical)\n",
    "    measure_location = (loc_of_maximum_num / loc_of_maximum_anal).magnitude\n",
    "    measure_height = (maximum_num / maximum_anal).magnitude\n",
    "    error_L2 = L2(numerical.magnitude, analytical.magnitude, simulation.out_steps[-1])\n",
    "    error_GMD = np.log(GMD(numerical.magnitude, analytical.magnitude, t.magnitude)) / np.log(2)\n",
    "    return nr, GC, error_GMD, measure_location, measure_height"
   ]
  },
  {
   "cell_type": "code",
   "execution_count": 20,
   "metadata": {
    "scrolled": true
   },
   "outputs": [
    {
     "name": "stderr",
     "output_type": "stream",
     "text": [
      "[Parallel(n_jobs=-2)]: Using backend ThreadingBackend with 7 concurrent workers.\n",
      "[Parallel(n_jobs=-2)]: Done   4 tasks      | elapsed:  3.4min\n",
      "[Parallel(n_jobs=-2)]: Done  11 tasks      | elapsed:  6.5min\n",
      "[Parallel(n_jobs=-2)]: Done  15 out of  25 | elapsed:  8.2min remaining:  5.5min\n",
      "[Parallel(n_jobs=-2)]: Done  18 out of  25 | elapsed:  9.5min remaining:  3.7min\n",
      "[Parallel(n_jobs=-2)]: Done  21 out of  25 | elapsed: 10.5min remaining:  2.0min\n",
      "[Parallel(n_jobs=-2)]: Done  25 out of  25 | elapsed: 11.7min finished\n"
     ]
    }
   ],
   "source": [
    "with parallel_backend('threading', n_jobs=-2):\n",
    "    results0 = Parallel(verbose=10)(\n",
    "        delayed(analysis)(nr, GC)\n",
    "        for nr in nrs\n",
    "        for GC in GCs\n",
    "    )"
   ]
  },
  {
   "cell_type": "code",
   "execution_count": 21,
   "metadata": {},
   "outputs": [],
   "source": [
    "# results = np.array(results).T\n",
    "results = [list(i) for i in zip(*results0)]\n",
    "plot_setup = np.array(results[0:2])\n",
    "measures = {'log$_2$(err)':results[2], 'location ratio':results[3], 'height ratio':results[4]}"
   ]
  },
  {
   "cell_type": "code",
   "execution_count": 22,
   "metadata": {
    "scrolled": false
   },
   "outputs": [
    {
     "name": "stderr",
     "output_type": "stream",
     "text": [
      "No handles with labels found to put in legend.\n"
     ]
    },
    {
     "data": {
      "application/vnd.jupyter.widget-view+json": {
       "model_id": "83be541beafd4f6c9b1de748f19759a9",
       "version_major": 2,
       "version_minor": 0
      },
      "text/plain": [
       "VBox(children=(Output(), HTML(value=\"<a href='../utils/output\\\\convergence_log$_2$(err).pdf' target='_blank'>.…"
      ]
     },
     "metadata": {},
     "output_type": "display_data"
    },
    {
     "name": "stderr",
     "output_type": "stream",
     "text": [
      "../..\\MPyDATA_examples\\Olesik_et_al_2020\\demo_plot_convergence.py:75: UserWarning: No contour levels were found within the data range.\n",
      "  fig.gca().contour(xi, yi, zi, levels, linewidths=1, colors='k')\n",
      "No handles with labels found to put in legend.\n"
     ]
    },
    {
     "data": {
      "application/vnd.jupyter.widget-view+json": {
       "model_id": "3c811e52a46241a2ab2928a84722e525",
       "version_major": 2,
       "version_minor": 0
      },
      "text/plain": [
       "VBox(children=(Output(), HTML(value=\"<a href='../utils/output\\\\convergence_location ratio.pdf' target='_blank'…"
      ]
     },
     "metadata": {},
     "output_type": "display_data"
    },
    {
     "name": "stderr",
     "output_type": "stream",
     "text": [
      "../..\\MPyDATA_examples\\Olesik_et_al_2020\\demo_plot_convergence.py:75: UserWarning: No contour levels were found within the data range.\n",
      "  fig.gca().contour(xi, yi, zi, levels, linewidths=1, colors='k')\n",
      "No handles with labels found to put in legend.\n"
     ]
    },
    {
     "data": {
      "application/vnd.jupyter.widget-view+json": {
       "model_id": "e65ac8a4ccc4451eb825042f615fff63",
       "version_major": 2,
       "version_minor": 0
      },
      "text/plain": [
       "VBox(children=(Output(), HTML(value=\"<a href='../utils/output\\\\convergence_height ratio.pdf' target='_blank'>.…"
      ]
     },
     "metadata": {},
     "output_type": "display_data"
    }
   ],
   "source": [
    "for measure in measures.keys():\n",
    "    plot(plot_setup[0], plot_setup[1], measures[measure], name = measure, n_levels = 10)\n",
    "    show_plot(filename = f'convergence_{measure}.pdf')"
   ]
  },
  {
   "cell_type": "code",
   "execution_count": null,
   "metadata": {},
   "outputs": [],
   "source": []
  },
  {
   "cell_type": "code",
   "execution_count": null,
   "metadata": {},
   "outputs": [],
   "source": []
  }
 ],
 "metadata": {
  "kernelspec": {
   "display_name": "Python 3",
   "language": "python",
   "name": "python3"
  },
  "language_info": {
   "codemirror_mode": {
    "name": "ipython",
    "version": 3
   },
   "file_extension": ".py",
   "mimetype": "text/x-python",
   "name": "python",
   "nbconvert_exporter": "python",
   "pygments_lexer": "ipython3",
   "version": "3.7.6"
  },
  "pycharm": {
   "stem_cell": {
    "cell_type": "raw",
    "metadata": {
     "collapsed": false
    },
    "source": []
   }
  }
 },
 "nbformat": 4,
 "nbformat_minor": 4
}
