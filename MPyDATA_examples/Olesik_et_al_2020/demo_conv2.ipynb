{
 "cells": [
  {
   "cell_type": "code",
   "execution_count": 1,
   "metadata": {},
   "outputs": [],
   "source": [
    "import sys\n",
    "sys.path.insert(0, \"../..\")"
   ]
  },
  {
   "cell_type": "code",
   "execution_count": 2,
   "metadata": {},
   "outputs": [],
   "source": [
    "import numpy as np\n",
    "import matplotlib.pyplot as plt\n",
    "from MPyDATA_examples.Olesik_et_al_2020.setup import Setup\n",
    "from MPyDATA_examples.Olesik_et_al_2020.demo_plot_convergence  import plot\n",
    "from MPyDATA_examples.Olesik_et_al_2020.coordinates import x_id, x_p2, x_p3, x_log_of_pn\n",
    "from MPyDATA.options import Options\n",
    "from MPyDATA_examples.Olesik_et_al_2020.simulation import Simulation\n",
    "# from MPyDATA_examples.Olesik_et_al_2020.analysis import analysis\n",
    "from MPyDATA_examples.utils.show_plot import show_plot\n",
    "\n"
   ]
  },
  {
   "cell_type": "code",
   "execution_count": 19,
   "metadata": {},
   "outputs": [],
   "source": [
    "GCs = np.linspace(.1,.9, 5)\n",
    "nrs = np.linspace(64,256, 5, dtype = int)"
   ]
  },
  {
   "cell_type": "code",
   "execution_count": 20,
   "metadata": {},
   "outputs": [],
   "source": [
    "from joblib import Parallel, parallel_backend, delayed"
   ]
  },
  {
   "cell_type": "code",
   "execution_count": 27,
   "metadata": {},
   "outputs": [],
   "source": [
    "grid_layout = x_p2()\n",
    "psi_coord = x_p2()\n",
    "options = Options(n_iters=2,infinite_gauge=False, flux_corrected_transport=False,third_order_terms=False)\n",
    "setup = Setup()"
   ]
  },
  {
   "cell_type": "code",
   "execution_count": 28,
   "metadata": {},
   "outputs": [],
   "source": [
    "from MPyDATA_examples.Olesik_et_al_2020.physics.equilibrium_drop_growth import PdfEvolver\n",
    "from MPyDATA.arakawa_c.discretisation import discretised_analytical_solution\n",
    "from MPyDATA_examples.utils.error_norms import L2, GMD"
   ]
  },
  {
   "cell_type": "code",
   "execution_count": 29,
   "metadata": {},
   "outputs": [],
   "source": [
    "def analysis(nr, GC):\n",
    "    setup = Setup(nr = nr, mixing_ratios_g_kg = [1,4])\n",
    "    simulation = Simulation(setup, grid_layout,  psi_coord, options, GC)\n",
    "    simulation.step(simulation.out_steps[-1])\n",
    "    t = simulation.out_steps[-1] * simulation.dt\n",
    "    rh = simulation.rh\n",
    "    pdf_t = PdfEvolver(setup.pdf, setup.drdt, t)\n",
    "    analytical = discretised_analytical_solution(\n",
    "                simulation.rh.magnitude,\n",
    "                lambda r: pdf_t(r * rh.units).magnitude\n",
    "            ) * pdf_t(rh[0]).units\n",
    "    numerical = simulation.n\n",
    "    loc_of_maximum_num = simulation.r[np.argmax(numerical)]\n",
    "    loc_of_maximum_anal = simulation.r[np.argmax(analytical)]\n",
    "    maximum_num = np.max(numerical)\n",
    "    maximum_anal = np.max(analytical)\n",
    "#     mean = np.mean(numerical)\n",
    "#     std = np.std(numerical)\n",
    "    measure_location = (loc_of_maximum_num / loc_of_maximum_anal).magnitude\n",
    "    measure_height = (maximum_num / maximum_anal).magnitude\n",
    "    error_L2 = L2(numerical.magnitude, analytical.magnitude, simulation.out_steps[-1])\n",
    "    error_GMD = np.log(GMD(numerical.magnitude, analytical.magnitude, t.magnitude)) / np.log(2)\n",
    "    return nr, GC, error_GMD, measure_location, measure_height"
   ]
  },
  {
   "cell_type": "code",
   "execution_count": null,
   "metadata": {
    "scrolled": true
   },
   "outputs": [
    {
     "name": "stderr",
     "output_type": "stream",
     "text": [
      "[Parallel(n_jobs=-2)]: Using backend ThreadingBackend with 7 concurrent workers.\n",
      "../..\\MPyDATA_examples\\Olesik_et_al_2020\\setup.py:49: IntegrationWarning: The integral is probably divergent, or slowly convergent.\n",
      "  )[0] * yunit * xunit ** 4\n",
      "[Parallel(n_jobs=-2)]: Done   4 tasks      | elapsed:  1.1min\n",
      "[Parallel(n_jobs=-2)]: Done  11 tasks      | elapsed:  2.6min\n",
      "[Parallel(n_jobs=-2)]: Done  15 out of  25 | elapsed:  3.5min remaining:  2.3min\n",
      "[Parallel(n_jobs=-2)]: Done  18 out of  25 | elapsed:  4.2min remaining:  1.6min\n",
      "[Parallel(n_jobs=-2)]: Done  21 out of  25 | elapsed:  4.8min remaining:   54.4s\n"
     ]
    }
   ],
   "source": [
    "with parallel_backend('threading', n_jobs=-2):\n",
    "    results0 = Parallel(verbose=10)(\n",
    "        delayed(analysis)(nr, GC)\n",
    "        for nr in nrs\n",
    "        for GC in GCs\n",
    "    )"
   ]
  },
  {
   "cell_type": "code",
   "execution_count": null,
   "metadata": {},
   "outputs": [],
   "source": [
    "# results = np.array(results).T\n",
    "results = [list(i) for i in zip(*results0)]\n",
    "plot_setup = np.array(results[0:2])\n",
    "measures = {'log$_2$(err)':results[2], 'location ratio':results[3], 'height ratio':results[4]}"
   ]
  },
  {
   "cell_type": "code",
   "execution_count": null,
   "metadata": {
    "scrolled": false
   },
   "outputs": [],
   "source": [
    "for measure in measures.keys():\n",
    "    plot(plot_setup[0], plot_setup[1], measures[measure], name = measure, n_levels = 10)\n",
    "    show_plot(filename = f'convergence_{measure}.pdf')"
   ]
  },
  {
   "cell_type": "code",
   "execution_count": null,
   "metadata": {},
   "outputs": [],
   "source": []
  },
  {
   "cell_type": "code",
   "execution_count": null,
   "metadata": {},
   "outputs": [],
   "source": []
  }
 ],
 "metadata": {
  "kernelspec": {
   "display_name": "Python 3",
   "language": "python",
   "name": "python3"
  },
  "language_info": {
   "codemirror_mode": {
    "name": "ipython",
    "version": 3
   },
   "file_extension": ".py",
   "mimetype": "text/x-python",
   "name": "python",
   "nbconvert_exporter": "python",
   "pygments_lexer": "ipython3",
   "version": "3.7.6"
  },
  "pycharm": {
   "stem_cell": {
    "cell_type": "raw",
    "metadata": {
     "collapsed": false
    },
    "source": []
   }
  }
 },
 "nbformat": 4,
 "nbformat_minor": 4
}
