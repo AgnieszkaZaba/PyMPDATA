{
 "cells": [
  {
   "cell_type": "code",
   "execution_count": 1,
   "metadata": {},
   "outputs": [],
   "source": [
    "import sys\n",
    "sys.path.insert(0, \"../..\")"
   ]
  },
  {
   "cell_type": "code",
   "execution_count": 2,
   "metadata": {},
   "outputs": [],
   "source": [
    "from MPyDATA_examples.Olesik_et_al_2020.analysis import compute_figure_data\n",
    "from MPyDATA_examples.Olesik_et_al_2020.physics.equilibrium_drop_growth import PdfEvolver\n",
    "from MPyDATA_examples.Olesik_et_al_2020.plotter import Plotter\n",
    "from MPyDATA_examples.Olesik_et_al_2020.convergence import convergence_in_time, convergence_in_space\n",
    "from MPyDATA_examples.Olesik_et_al_2020.distributions import n_n, n_s\n",
    "from MPyDATA_examples.Olesik_et_al_2020.coordinates import x_id, x_p2, x_p3, x_ln, x_log_of_p3\n",
    "from MPyDATA_examples.utils.error_norms import L2\n",
    "from MPyDATA_examples.utils.show_plot import show_plot\n",
    "\n",
    "import matplotlib.pyplot as plt\n",
    "import numpy as np"
   ]
  },
  {
   "cell_type": "code",
   "execution_count": 3,
   "metadata": {},
   "outputs": [],
   "source": [
    "opt_set=(\n",
    "    {'n_iters':1},\n",
    "    {'n_iters':2},\n",
    "    {'n_iters':3,'infinite_gauge':True, 'flux_corrected_transport':True,'third_order_terms':True},\n",
    ")"
   ]
  },
  {
   "cell_type": "code",
   "execution_count": 4,
   "metadata": {},
   "outputs": [],
   "source": [
    "plot_setup = {\"psi_coord\":x_p2(), \"grid_layouts\":(x_id(), x_p2(), x_ln()), \"dt\":.33,\"nr\":75}"
   ]
  },
  {
   "cell_type": "code",
   "execution_count": null,
   "metadata": {},
   "outputs": [],
   "source": []
  },
  {
   "cell_type": "code",
   "execution_count": 5,
   "metadata": {},
   "outputs": [],
   "source": [
    "def convergence_in_space(nrs: list, opt_set, plot_setup):\n",
    "    err_data = {}\n",
    "    for grid_layout in plot_setup['grid_layouts']:\n",
    "        grid_layout_str = grid_layout.__class__.__name__\n",
    "        err_data[grid_layout_str] = {}\n",
    "        for opts in opt_set:\n",
    "            err_data[grid_layout_str][str(opts)] = {'dx':[], 'error_L2':[]} \n",
    "\n",
    "    for nri, nr in enumerate(nrs):\n",
    "        data, setup = compute_figure_data(opt_set = opt_set, **{**plot_setup, **{'nr': nr}})\n",
    "        for grid_layout in data.keys():\n",
    "            for opts in data[grid_layout][\"error_L2\"].keys():\n",
    "                err_data[grid_layout][str(opts)]['dx'].append(data[grid_layout][\"grid\"]['dx'])\n",
    "                err_data[grid_layout][str(opts)]['error_L2'].append(data[grid_layout][\"error_L2\"][opts])\n",
    "    return err_data"
   ]
  },
  {
   "cell_type": "code",
   "execution_count": 6,
   "metadata": {},
   "outputs": [],
   "source": [
    "nrs = [32, 64] \n",
    "err_data_nr = convergence_in_space(nrs, opt_set, plot_setup)"
   ]
  },
  {
   "cell_type": "code",
   "execution_count": 7,
   "metadata": {},
   "outputs": [
    {
     "data": {
      "application/vnd.jupyter.widget-view+json": {
       "model_id": "7ff12316270247fb9a7bded3632809ad",
       "version_major": 2,
       "version_minor": 0
      },
      "text/plain": [
       "VBox(children=(Output(), HTML(value=\"<a href='../utils/output\\\\tmp7b_x_p0_.pdf' target='_blank'>../utils/outpu…"
      ]
     },
     "metadata": {},
     "output_type": "display_data"
    },
    {
     "data": {
      "application/vnd.jupyter.widget-view+json": {
       "model_id": "5971b3ffff354acea8ae81f2ba6de02c",
       "version_major": 2,
       "version_minor": 0
      },
      "text/plain": [
       "VBox(children=(Output(), HTML(value=\"<a href='../utils/output\\\\tmp_he2wglc.pdf' target='_blank'>../utils/outpu…"
      ]
     },
     "metadata": {},
     "output_type": "display_data"
    },
    {
     "data": {
      "application/vnd.jupyter.widget-view+json": {
       "model_id": "c379e701d619414381a97436eeeade6d",
       "version_major": 2,
       "version_minor": 0
      },
      "text/plain": [
       "VBox(children=(Output(), HTML(value=\"<a href='../utils/output\\\\tmpz5a9y92f.pdf' target='_blank'>../utils/outpu…"
      ]
     },
     "metadata": {},
     "output_type": "display_data"
    }
   ],
   "source": [
    "for grid_layout in plot_setup['grid_layouts']:\n",
    "    grid_layout_str = grid_layout.__class__.__name__\n",
    "    for i, opts in enumerate(err_data_nr[grid_layout_str].keys()):\n",
    "        x = np.log2(err_data_nr[grid_layout_str][opts]['dx'])\n",
    "        y = err_data_nr[grid_layout_str][opts]['error_L2']\n",
    "        plt.plot(x, y, label=opts, linestyle=':')\n",
    "        plt.scatter(x, y)\n",
    "    plt.title(f\"grid layout: {grid_layout_str}\")\n",
    "    \n",
    "    for k in [2,3]:\n",
    "        plt.plot(x, k*x+0, '--', label=f\"error ∝ $Δx^{k}$\", color='black')\n",
    "        \n",
    "    plt.legend()\n",
    "    plt.gca().set_xlabel('log$_2$(dx)')\n",
    "    plt.gca().set_ylabel('log$_2(err_{L2})$')\n",
    "    plt.grid()\n",
    "    show_plot()"
   ]
  },
  {
   "cell_type": "code",
   "execution_count": 8,
   "metadata": {},
   "outputs": [],
   "source": [
    "def convergence_in_time(dts: list, opt_set, plot_setup):\n",
    "    err_data = {}\n",
    "    for grid_layout in plot_setup['grid_layouts']:\n",
    "        grid_layout_str = grid_layout.__class__.__name__\n",
    "        err_data[grid_layout_str] = {}\n",
    "        for opts in opt_set:\n",
    "            err_data[grid_layout_str][str(opts)] = {'dx':[], 'error_L2':[]} \n",
    "\n",
    "    for dti, dt in enumerate(dts):\n",
    "        data, setup = compute_figure_data(opt_set = opt_set, **{**plot_setup, **{'dt': dt}})\n",
    "        for grid_layout_str in data.keys():\n",
    "            for opts in data[grid_layout_str][\"error_L2\"].keys():\n",
    "                err_data[grid_layout_str][str(opts)]['dx'].append(data[grid_layout_str][\"grid\"]['dx'])\n",
    "                err_data[grid_layout_str][str(opts)]['error_L2'].append(data[grid_layout_str][\"error_L2\"][opts])\n",
    "    return err_data"
   ]
  },
  {
   "cell_type": "code",
   "execution_count": null,
   "metadata": {},
   "outputs": [],
   "source": [
    "dts = [.25, .125]\n",
    "err_data_dt = convergence_in_time(dts, opt_set, plot_setup)"
   ]
  },
  {
   "cell_type": "code",
   "execution_count": null,
   "metadata": {},
   "outputs": [],
   "source": [
    "x = np.log2(dts)\n",
    "for coord in results.keys():\n",
    "    for i, opts in enumerate(err_data_dt[coord].keys()):\n",
    "        plt.plot(x, err_data_dt[coord][opts], label=opts, linestyle=':')\n",
    "        plt.scatter(x, err_data_dt[coord][opts])\n",
    "    plt.title(coord)\n",
    "    plt.legend()\n",
    "    \n",
    "    for k in [2,3]:\n",
    "        plt.plot(x, k*x-0.5, ':', label=f\"error ∝ $Δx^{k}$\", color='black')\n",
    "    \n",
    "    plt.gca().set_xlabel('log$_2$(dt)')\n",
    "    plt.gca().set_ylabel('log$_2(err_{L2})$')\n",
    "    plt.grid()\n",
    "\n",
    "    show_plot()"
   ]
  },
  {
   "cell_type": "code",
   "execution_count": null,
   "metadata": {},
   "outputs": [],
   "source": []
  },
  {
   "cell_type": "code",
   "execution_count": null,
   "metadata": {},
   "outputs": [],
   "source": []
  }
 ],
 "metadata": {
  "kernelspec": {
   "display_name": "Python 3",
   "language": "python",
   "name": "python3"
  },
  "language_info": {
   "codemirror_mode": {
    "name": "ipython",
    "version": 3
   },
   "file_extension": ".py",
   "mimetype": "text/x-python",
   "name": "python",
   "nbconvert_exporter": "python",
   "pygments_lexer": "ipython3",
   "version": "3.7.6"
  }
 },
 "nbformat": 4,
 "nbformat_minor": 4
}
