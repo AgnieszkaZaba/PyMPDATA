{
 "cells": [
  {
   "cell_type": "code",
   "execution_count": 8,
   "metadata": {},
   "outputs": [],
   "source": [
    "import sys\n",
    "sys.path.insert(0, \"../..\")"
   ]
  },
  {
   "cell_type": "code",
   "execution_count": 9,
   "metadata": {},
   "outputs": [],
   "source": [
    "from MPyDATA_examples.Olesik_et_al_2020.analysis import compute_figure_data\n",
    "from MPyDATA_examples.Olesik_et_al_2020.physics.equilibrium_drop_growth import PdfEvolver\n",
    "from MPyDATA_examples.Olesik_et_al_2020.plotter import Plotter\n",
    "from MPyDATA_examples.Olesik_et_al_2020.convergence import convergence_in_time, convergence_in_space\n",
    "from MPyDATA_examples.Olesik_et_al_2020.distributions import n_n, n_s\n",
    "from MPyDATA_examples.Olesik_et_al_2020.coordinates import x_id, x_p2, x_p3, x_log_of_pn\n",
    "from MPyDATA_examples.utils.error_norms import L2\n",
    "from MPyDATA_examples.utils.show_plot import show_plot\n",
    "\n",
    "import matplotlib.pyplot as plt\n",
    "import numpy as np"
   ]
  },
  {
   "cell_type": "code",
   "execution_count": 10,
   "metadata": {},
   "outputs": [],
   "source": [
    "opt_set=(\n",
    "    {'n_iters':1},\n",
    "    {'n_iters':2},\n",
    "    {'n_iters':3,'infinite_gauge':True, 'flux_corrected_transport':True,'third_order_terms':True},\n",
    ")"
   ]
  },
  {
   "cell_type": "code",
   "execution_count": 11,
   "metadata": {},
   "outputs": [],
   "source": [
    "plot_setup = {\"psi_coord\":x_p2(), \"grid_layouts\":(x_id(), x_p2(), x_log_of_pn(n=1)), \"dt\":.33,\"nr\":75}"
   ]
  },
  {
   "cell_type": "code",
   "execution_count": 17,
   "metadata": {},
   "outputs": [],
   "source": [
    "def plot_convergence(data_variable,err_data):\n",
    "    for grid_layout in plot_setup['grid_layouts']:\n",
    "        grid_layout_str = grid_layout.__class__.__name__\n",
    "        for i, opts in enumerate(err_data[grid_layout_str].keys()):\n",
    "            if data_variable == 'x':\n",
    "                x = np.log2(err_data[grid_layout_str][opts]['dx'])\n",
    "            elif data_variable == 't':\n",
    "                x = np.log2(dts)\n",
    "            y = err_data[grid_layout_str][opts]['error_L2']\n",
    "            plt.plot(x, y, label=opts, linestyle=':')\n",
    "            plt.scatter(x, y)\n",
    "        plt.title(f\"grid layout: {grid_layout_str}\")\n",
    "\n",
    "        for k in [2,3]:\n",
    "            plt.plot(x, k*x+0, '--', label=f\"error ∝ $Δ{data_variable}^{k}$\", color='black')\n",
    "\n",
    "        plt.legend()\n",
    "        plt.gca().set_xlabel(f'log$_2$(Δ{data_variable})')\n",
    "        plt.gca().set_ylabel('log$_2(err_{L2})$')\n",
    "        plt.grid()\n",
    "        plt.gcf().set_size_inches(15,9)\n",
    "        show_plot()"
   ]
  },
  {
   "cell_type": "code",
   "execution_count": 6,
   "metadata": {},
   "outputs": [],
   "source": [
    "def convergence_in_space(nrs: list, opt_set, plot_setup):\n",
    "    err_data = {}\n",
    "    for grid_layout in plot_setup['grid_layouts']:\n",
    "        grid_layout_str = grid_layout.__class__.__name__\n",
    "        err_data[grid_layout_str] = {}\n",
    "        for opts in opt_set:\n",
    "            err_data[grid_layout_str][str(opts)] = {'dx':[], 'error_L2':[]} \n",
    "\n",
    "    for nri, nr in enumerate(nrs):\n",
    "        data, setup = compute_figure_data(opt_set = opt_set, **{**plot_setup, **{'nr': nr}})\n",
    "        for grid_layout in data.keys():\n",
    "            for opts in data[grid_layout][\"error_L2\"].keys():\n",
    "                err_data[grid_layout][str(opts)]['dx'].append(data[grid_layout][\"grid\"]['dx'])\n",
    "                err_data[grid_layout][str(opts)]['error_L2'].append(data[grid_layout][\"error_L2\"][opts])\n",
    "    return err_data"
   ]
  },
  {
   "cell_type": "code",
   "execution_count": 7,
   "metadata": {},
   "outputs": [
    {
     "name": "stderr",
     "output_type": "stream",
     "text": [
      "[Parallel(n_jobs=-2)]: Using backend ThreadingBackend with 7 concurrent workers.\n"
     ]
    },
    {
     "name": "stdout",
     "output_type": "stream",
     "text": [
      "CacheInfo(hits=0, misses=2, maxsize=128, currsize=1)\n",
      "CacheInfo(hits=0, misses=3, maxsize=128, currsize=2)\n",
      "CacheInfo(hits=0, misses=3, maxsize=128, currsize=3)\n",
      "CacheInfo(hits=1, misses=3, maxsize=128, currsize=3)CacheInfo(hits=2, misses=3, maxsize=128, currsize=3)CacheInfo(hits=3, misses=3, maxsize=128, currsize=3)CacheInfo(hits=4, misses=3, maxsize=128, currsize=3)\n",
      "\n",
      "\n",
      "\n",
      "CacheInfo(hits=5, misses=3, maxsize=128, currsize=3)\n",
      "CacheInfo(hits=6, misses=3, maxsize=128, currsize=3)\n"
     ]
    },
    {
     "name": "stderr",
     "output_type": "stream",
     "text": [
      "[Parallel(n_jobs=-2)]: Done   2 out of   9 | elapsed:   27.3s remaining:  1.6min\n",
      "[Parallel(n_jobs=-2)]: Done   3 out of   9 | elapsed:   36.5s remaining:  1.2min\n",
      "[Parallel(n_jobs=-2)]: Done   4 out of   9 | elapsed:   50.5s remaining:  1.1min\n",
      "[Parallel(n_jobs=-2)]: Done   5 out of   9 | elapsed:   55.7s remaining:   44.5s\n",
      "[Parallel(n_jobs=-2)]: Done   6 out of   9 | elapsed:  1.0min remaining:   31.0s\n",
      "[Parallel(n_jobs=-2)]: Done   7 out of   9 | elapsed:  1.1min remaining:   19.1s\n",
      "[Parallel(n_jobs=-2)]: Done   9 out of   9 | elapsed:  1.5min remaining:    0.0s\n",
      "[Parallel(n_jobs=-2)]: Done   9 out of   9 | elapsed:  1.5min finished\n",
      "[Parallel(n_jobs=-2)]: Using backend ThreadingBackend with 7 concurrent workers.\n"
     ]
    },
    {
     "name": "stdout",
     "output_type": "stream",
     "text": [
      "CacheInfo(hits=7, misses=3, maxsize=128, currsize=3)CacheInfo(hits=8, misses=3, maxsize=128, currsize=3)CacheInfo(hits=9, misses=3, maxsize=128, currsize=3)CacheInfo(hits=10, misses=3, maxsize=128, currsize=3)CacheInfo(hits=11, misses=3, maxsize=128, currsize=3)CacheInfo(hits=12, misses=3, maxsize=128, currsize=3)CacheInfo(hits=13, misses=3, maxsize=128, currsize=3)\n",
      "\n",
      "\n",
      "\n",
      "\n",
      "\n",
      "\n",
      "CacheInfo(hits=14, misses=3, maxsize=128, currsize=3)\n",
      "CacheInfo(hits=15, misses=3, maxsize=128, currsize=3)\n"
     ]
    },
    {
     "name": "stderr",
     "output_type": "stream",
     "text": [
      "[Parallel(n_jobs=-2)]: Done   2 out of   9 | elapsed:   13.5s remaining:   47.4s\n",
      "[Parallel(n_jobs=-2)]: Done   3 out of   9 | elapsed:   27.8s remaining:   55.7s\n",
      "[Parallel(n_jobs=-2)]: Done   4 out of   9 | elapsed:   33.6s remaining:   42.0s\n",
      "[Parallel(n_jobs=-2)]: Done   5 out of   9 | elapsed:   39.3s remaining:   31.4s\n",
      "[Parallel(n_jobs=-2)]: Done   6 out of   9 | elapsed:   54.5s remaining:   27.2s\n",
      "[Parallel(n_jobs=-2)]: Done   7 out of   9 | elapsed:  1.1min remaining:   18.1s\n",
      "[Parallel(n_jobs=-2)]: Done   9 out of   9 | elapsed:  1.5min remaining:    0.0s\n",
      "[Parallel(n_jobs=-2)]: Done   9 out of   9 | elapsed:  1.5min finished\n",
      "[Parallel(n_jobs=-2)]: Using backend ThreadingBackend with 7 concurrent workers.\n"
     ]
    },
    {
     "name": "stdout",
     "output_type": "stream",
     "text": [
      "CacheInfo(hits=16, misses=3, maxsize=128, currsize=3)CacheInfo(hits=17, misses=3, maxsize=128, currsize=3)CacheInfo(hits=18, misses=3, maxsize=128, currsize=3)CacheInfo(hits=19, misses=3, maxsize=128, currsize=3)CacheInfo(hits=20, misses=3, maxsize=128, currsize=3)CacheInfo(hits=21, misses=3, maxsize=128, currsize=3)CacheInfo(hits=22, misses=3, maxsize=128, currsize=3)\n",
      "\n",
      "\n",
      "\n",
      "\n",
      "\n",
      "\n",
      "CacheInfo(hits=23, misses=3, maxsize=128, currsize=3)\n"
     ]
    },
    {
     "name": "stderr",
     "output_type": "stream",
     "text": [
      "[Parallel(n_jobs=-2)]: Done   2 out of   9 | elapsed:   26.3s remaining:  1.5min\n"
     ]
    },
    {
     "name": "stdout",
     "output_type": "stream",
     "text": [
      "CacheInfo(hits=24, misses=3, maxsize=128, currsize=3)\n"
     ]
    },
    {
     "name": "stderr",
     "output_type": "stream",
     "text": [
      "[Parallel(n_jobs=-2)]: Done   3 out of   9 | elapsed:   33.1s remaining:  1.1min\n",
      "[Parallel(n_jobs=-2)]: Done   4 out of   9 | elapsed:   48.4s remaining:  1.0min\n",
      "[Parallel(n_jobs=-2)]: Done   5 out of   9 | elapsed:   53.8s remaining:   43.0s\n",
      "[Parallel(n_jobs=-2)]: Done   6 out of   9 | elapsed:   59.2s remaining:   29.5s\n",
      "[Parallel(n_jobs=-2)]: Done   7 out of   9 | elapsed:  1.1min remaining:   18.9s\n",
      "[Parallel(n_jobs=-2)]: Done   9 out of   9 | elapsed:  1.5min remaining:    0.0s\n",
      "[Parallel(n_jobs=-2)]: Done   9 out of   9 | elapsed:  1.5min finished\n",
      "[Parallel(n_jobs=-2)]: Using backend ThreadingBackend with 7 concurrent workers.\n"
     ]
    },
    {
     "name": "stdout",
     "output_type": "stream",
     "text": [
      "CacheInfo(hits=25, misses=3, maxsize=128, currsize=3)CacheInfo(hits=26, misses=3, maxsize=128, currsize=3)CacheInfo(hits=27, misses=3, maxsize=128, currsize=3)CacheInfo(hits=28, misses=3, maxsize=128, currsize=3)CacheInfo(hits=29, misses=3, maxsize=128, currsize=3)CacheInfo(hits=30, misses=3, maxsize=128, currsize=3)CacheInfo(hits=31, misses=3, maxsize=128, currsize=3)\n",
      "\n",
      "\n",
      "\n",
      "\n",
      "\n",
      "\n",
      "CacheInfo(hits=32, misses=3, maxsize=128, currsize=3)\n"
     ]
    },
    {
     "name": "stderr",
     "output_type": "stream",
     "text": [
      "[Parallel(n_jobs=-2)]: Done   2 out of   9 | elapsed:   27.3s remaining:  1.6min\n"
     ]
    },
    {
     "name": "stdout",
     "output_type": "stream",
     "text": [
      "CacheInfo(hits=33, misses=3, maxsize=128, currsize=3)\n"
     ]
    },
    {
     "name": "stderr",
     "output_type": "stream",
     "text": [
      "[Parallel(n_jobs=-2)]: Done   3 out of   9 | elapsed:   35.1s remaining:  1.2min\n",
      "[Parallel(n_jobs=-2)]: Done   4 out of   9 | elapsed:   41.1s remaining:   51.4s\n",
      "[Parallel(n_jobs=-2)]: Done   5 out of   9 | elapsed:   57.6s remaining:   46.1s\n",
      "[Parallel(n_jobs=-2)]: Done   6 out of   9 | elapsed:  1.1min remaining:   31.8s\n",
      "[Parallel(n_jobs=-2)]: Done   7 out of   9 | elapsed:  1.2min remaining:   19.7s\n",
      "[Parallel(n_jobs=-2)]: Done   9 out of   9 | elapsed:  1.6min remaining:    0.0s\n",
      "[Parallel(n_jobs=-2)]: Done   9 out of   9 | elapsed:  1.6min finished\n"
     ]
    }
   ],
   "source": [
    "nrs = [8, 16, 32, 64] \n",
    "err_data_nr = convergence_in_space(nrs, opt_set, plot_setup)"
   ]
  },
  {
   "cell_type": "code",
   "execution_count": 8,
   "metadata": {
    "scrolled": false
   },
   "outputs": [
    {
     "data": {
      "application/vnd.jupyter.widget-view+json": {
       "model_id": "a107eaceac344b518a6a8aabf9b8ee61",
       "version_major": 2,
       "version_minor": 0
      },
      "text/plain": [
       "VBox(children=(Output(), HTML(value=\"<a href='../utils/output\\\\tmp_mj92l84.pdf' target='_blank'>../utils/outpu…"
      ]
     },
     "metadata": {},
     "output_type": "display_data"
    },
    {
     "data": {
      "application/vnd.jupyter.widget-view+json": {
       "model_id": "a39414869783410892ef52af790a8a31",
       "version_major": 2,
       "version_minor": 0
      },
      "text/plain": [
       "VBox(children=(Output(), HTML(value=\"<a href='../utils/output\\\\tmpntcog_1r.pdf' target='_blank'>../utils/outpu…"
      ]
     },
     "metadata": {},
     "output_type": "display_data"
    },
    {
     "data": {
      "application/vnd.jupyter.widget-view+json": {
       "model_id": "68de04a2884e43c7ad5da9c5a79d5786",
       "version_major": 2,
       "version_minor": 0
      },
      "text/plain": [
       "VBox(children=(Output(), HTML(value=\"<a href='../utils/output\\\\tmpt03m_3b0.pdf' target='_blank'>../utils/outpu…"
      ]
     },
     "metadata": {},
     "output_type": "display_data"
    }
   ],
   "source": [
    "plot_convergence('x',err_data_nr)"
   ]
  },
  {
   "cell_type": "code",
   "execution_count": 12,
   "metadata": {},
   "outputs": [],
   "source": [
    "def convergence_in_time(dts: list, opt_set, plot_setup, mixing_ratios_g_kg):\n",
    "    err_data = {}\n",
    "    for grid_layout in plot_setup['grid_layouts']:\n",
    "        grid_layout_str = grid_layout.__class__.__name__\n",
    "        err_data[grid_layout_str] = {}\n",
    "        for opts in opt_set:\n",
    "            err_data[grid_layout_str][str(opts)] = {'dt':[], 'error_L2':[]} \n",
    "\n",
    "    for dti, dt in enumerate(dts):\n",
    "        data, setup = compute_figure_data(opt_set = opt_set, **{**plot_setup, **{'dt': dt}}, mixing_ratios_g_kg = mixing_ratios_g_kg)\n",
    "        for grid_layout_str in data.keys():\n",
    "            for opts in data[grid_layout_str][\"error_L2\"].keys():\n",
    "                err_data[grid_layout_str][str(opts)]['dt'].append(data[grid_layout_str][\"grid\"]['dt'])\n",
    "                err_data[grid_layout_str][str(opts)]['error_L2'].append(data[grid_layout_str][\"error_L2\"][opts])\n",
    "    return err_data"
   ]
  },
  {
   "cell_type": "code",
   "execution_count": 14,
   "metadata": {},
   "outputs": [
    {
     "name": "stderr",
     "output_type": "stream",
     "text": [
      "[Parallel(n_jobs=-2)]: Using backend ThreadingBackend with 7 concurrent workers.\n"
     ]
    },
    {
     "name": "stdout",
     "output_type": "stream",
     "text": [
      "CacheInfo(hits=7, misses=3, maxsize=128, currsize=3)CacheInfo(hits=8, misses=3, maxsize=128, currsize=3)\n",
      "\n",
      "CacheInfo(hits=9, misses=3, maxsize=128, currsize=3)CacheInfo(hits=10, misses=3, maxsize=128, currsize=3)CacheInfo(hits=11, misses=3, maxsize=128, currsize=3)CacheInfo(hits=12, misses=3, maxsize=128, currsize=3)\n",
      "\n",
      "CacheInfo(hits=13, misses=3, maxsize=128, currsize=3)\n",
      "\n",
      "\n",
      "step= 343\n",
      "CacheInfo(hits=14, misses=3, maxsize=128, currsize=3)\n",
      "step= 343\n"
     ]
    },
    {
     "name": "stderr",
     "output_type": "stream",
     "text": [
      "[Parallel(n_jobs=-2)]: Done   2 out of   9 | elapsed:   23.3s remaining:  1.4min\n"
     ]
    },
    {
     "name": "stdout",
     "output_type": "stream",
     "text": [
      "CacheInfo(hits=15, misses=3, maxsize=128, currsize=3)\n",
      "step= 343\n"
     ]
    },
    {
     "name": "stderr",
     "output_type": "stream",
     "text": [
      "[Parallel(n_jobs=-2)]: Done   3 out of   9 | elapsed:   28.9s remaining:   58.0s\n"
     ]
    },
    {
     "name": "stdout",
     "output_type": "stream",
     "text": [
      "step= 343\n"
     ]
    },
    {
     "name": "stderr",
     "output_type": "stream",
     "text": [
      "[Parallel(n_jobs=-2)]: Done   4 out of   9 | elapsed:   35.5s remaining:   44.4s\n"
     ]
    },
    {
     "name": "stdout",
     "output_type": "stream",
     "text": [
      "step= 343\n"
     ]
    },
    {
     "name": "stderr",
     "output_type": "stream",
     "text": [
      "[Parallel(n_jobs=-2)]: Done   5 out of   9 | elapsed:   49.3s remaining:   39.4s\n"
     ]
    },
    {
     "name": "stdout",
     "output_type": "stream",
     "text": [
      "step= 343\n"
     ]
    },
    {
     "name": "stderr",
     "output_type": "stream",
     "text": [
      "[Parallel(n_jobs=-2)]: Done   6 out of   9 | elapsed:   56.0s remaining:   28.0s\n"
     ]
    },
    {
     "name": "stdout",
     "output_type": "stream",
     "text": [
      "step= 343\n"
     ]
    },
    {
     "name": "stderr",
     "output_type": "stream",
     "text": [
      "[Parallel(n_jobs=-2)]: Done   7 out of   9 | elapsed:  1.0min remaining:   17.4s\n"
     ]
    },
    {
     "name": "stdout",
     "output_type": "stream",
     "text": [
      "step= 343\n",
      "step= 343\n"
     ]
    },
    {
     "name": "stderr",
     "output_type": "stream",
     "text": [
      "[Parallel(n_jobs=-2)]: Done   9 out of   9 | elapsed:  1.4min remaining:    0.0s\n",
      "[Parallel(n_jobs=-2)]: Done   9 out of   9 | elapsed:  1.4min finished\n",
      "[Parallel(n_jobs=-2)]: Using backend ThreadingBackend with 7 concurrent workers.\n"
     ]
    },
    {
     "name": "stdout",
     "output_type": "stream",
     "text": [
      "CacheInfo(hits=16, misses=3, maxsize=128, currsize=3)CacheInfo(hits=17, misses=3, maxsize=128, currsize=3)\n",
      "\n",
      "CacheInfo(hits=18, misses=3, maxsize=128, currsize=3)CacheInfo(hits=19, misses=3, maxsize=128, currsize=3)CacheInfo(hits=20, misses=3, maxsize=128, currsize=3)CacheInfo(hits=21, misses=3, maxsize=128, currsize=3)CacheInfo(hits=22, misses=3, maxsize=128, currsize=3)\n",
      "\n",
      "\n",
      "\n",
      "\n",
      "step= 171\n",
      "CacheInfo(hits=23, misses=3, maxsize=128, currsize=3)\n",
      "step= 171\n"
     ]
    },
    {
     "name": "stderr",
     "output_type": "stream",
     "text": [
      "[Parallel(n_jobs=-2)]: Done   2 out of   9 | elapsed:   17.0s remaining:   59.8s\n"
     ]
    },
    {
     "name": "stdout",
     "output_type": "stream",
     "text": [
      "CacheInfo(hits=24, misses=3, maxsize=128, currsize=3)\n",
      "step= 171\n"
     ]
    },
    {
     "name": "stderr",
     "output_type": "stream",
     "text": [
      "[Parallel(n_jobs=-2)]: Done   3 out of   9 | elapsed:   31.2s remaining:  1.0min\n"
     ]
    },
    {
     "name": "stdout",
     "output_type": "stream",
     "text": [
      "step= 171\n"
     ]
    },
    {
     "name": "stderr",
     "output_type": "stream",
     "text": [
      "[Parallel(n_jobs=-2)]: Done   4 out of   9 | elapsed:   37.9s remaining:   47.4s\n"
     ]
    },
    {
     "name": "stdout",
     "output_type": "stream",
     "text": [
      "step= 171\n"
     ]
    },
    {
     "name": "stderr",
     "output_type": "stream",
     "text": [
      "[Parallel(n_jobs=-2)]: Done   5 out of   9 | elapsed:   43.8s remaining:   35.0s\n"
     ]
    },
    {
     "name": "stdout",
     "output_type": "stream",
     "text": [
      "step= 171\n"
     ]
    },
    {
     "name": "stderr",
     "output_type": "stream",
     "text": [
      "[Parallel(n_jobs=-2)]: Done   6 out of   9 | elapsed:   58.1s remaining:   29.0s\n"
     ]
    },
    {
     "name": "stdout",
     "output_type": "stream",
     "text": [
      "step= 171\n"
     ]
    },
    {
     "name": "stderr",
     "output_type": "stream",
     "text": [
      "[Parallel(n_jobs=-2)]: Done   7 out of   9 | elapsed:  1.1min remaining:   18.1s\n"
     ]
    },
    {
     "name": "stdout",
     "output_type": "stream",
     "text": [
      "step= 171\n",
      "step= 171\n"
     ]
    },
    {
     "name": "stderr",
     "output_type": "stream",
     "text": [
      "[Parallel(n_jobs=-2)]: Done   9 out of   9 | elapsed:  1.4min remaining:    0.0s\n",
      "[Parallel(n_jobs=-2)]: Done   9 out of   9 | elapsed:  1.4min finished\n"
     ]
    }
   ],
   "source": [
    "dts = [.1, .2]\n",
    "err_data_dt = convergence_in_time(dts, opt_set, plot_setup, mixing_ratios_g_kg = (1.1,))"
   ]
  },
  {
   "cell_type": "code",
   "execution_count": 18,
   "metadata": {
    "scrolled": false
   },
   "outputs": [
    {
     "data": {
      "application/vnd.jupyter.widget-view+json": {
       "model_id": "0e4ccc29b5b74606be3cb0cff0c2921a",
       "version_major": 2,
       "version_minor": 0
      },
      "text/plain": [
       "VBox(children=(Output(), HTML(value=\"<a href='../utils/output\\\\tmpgw9_b4s8.pdf' target='_blank'>../utils/outpu…"
      ]
     },
     "metadata": {},
     "output_type": "display_data"
    },
    {
     "data": {
      "application/vnd.jupyter.widget-view+json": {
       "model_id": "16cc4dc4639746c7a5ac46f3948a28ce",
       "version_major": 2,
       "version_minor": 0
      },
      "text/plain": [
       "VBox(children=(Output(), HTML(value=\"<a href='../utils/output\\\\tmpwaso4p07.pdf' target='_blank'>../utils/outpu…"
      ]
     },
     "metadata": {},
     "output_type": "display_data"
    },
    {
     "data": {
      "application/vnd.jupyter.widget-view+json": {
       "model_id": "c6f8380aa67244b8992d2de8965881d6",
       "version_major": 2,
       "version_minor": 0
      },
      "text/plain": [
       "VBox(children=(Output(), HTML(value=\"<a href='../utils/output\\\\tmpb799sec9.pdf' target='_blank'>../utils/outpu…"
      ]
     },
     "metadata": {},
     "output_type": "display_data"
    }
   ],
   "source": [
    "plot_convergence('t',err_data_dt)"
   ]
  },
  {
   "cell_type": "code",
   "execution_count": null,
   "metadata": {},
   "outputs": [],
   "source": []
  },
  {
   "cell_type": "code",
   "execution_count": null,
   "metadata": {},
   "outputs": [],
   "source": []
  }
 ],
 "metadata": {
  "kernelspec": {
   "display_name": "Python 3",
   "language": "python",
   "name": "python3"
  },
  "language_info": {
   "codemirror_mode": {
    "name": "ipython",
    "version": 3
   },
   "file_extension": ".py",
   "mimetype": "text/x-python",
   "name": "python",
   "nbconvert_exporter": "python",
   "pygments_lexer": "ipython3",
   "version": "3.7.6"
  }
 },
 "nbformat": 4,
 "nbformat_minor": 4
}
