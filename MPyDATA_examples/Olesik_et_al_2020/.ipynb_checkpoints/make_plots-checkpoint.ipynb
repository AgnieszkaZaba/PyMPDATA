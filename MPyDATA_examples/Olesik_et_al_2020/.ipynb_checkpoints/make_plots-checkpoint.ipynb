{
 "cells": [
  {
   "cell_type": "code",
   "execution_count": 1,
   "metadata": {},
   "outputs": [],
   "source": [
    "import sys\n",
    "sys.path.insert(0, \"../..\")\n",
    "\n",
    "from MPyDATA_examples.Olesik_et_al_2020.analysis import compute_figure_data\n",
    "from MPyDATA_examples.Olesik_et_al_2020.physics.equilibrium_drop_growth import PdfEvolver\n",
    "from MPyDATA_examples.Olesik_et_al_2020.plotter import Plotter\n",
    "from MPyDATA_examples.Olesik_et_al_2020.convergence import convergence_in_time, convergence_in_space\n",
    "from MPyDATA_examples.Olesik_et_al_2020.distributions import n_n, n_s\n",
    "from MPyDATA_examples.Olesik_et_al_2020.coordinates import x_id, x_p2\n",
    "from MPyDATA_examples.utils.error_norms import L2\n",
    "from MPyDATA_examples.utils.show_plot import show_plot\n",
    "\n",
    "import matplotlib.pyplot as plt\n",
    "import matplotlib\n",
    "\n",
    "import numpy as np"
   ]
  },
  {
   "cell_type": "code",
   "execution_count": 2,
   "metadata": {},
   "outputs": [],
   "source": [
    "def compute_and_plot(psi_coord, grid_layout, n_bins, dt, opt_set, plots):\n",
    "    results, setup = compute_figure_data(\n",
    "        psi_coord=psi_coord, \n",
    "        grid_layouts=(grid_layout,),\n",
    "        nr=n_bins,\n",
    "        dt=dt,\n",
    "        opt_set=opt_set,\n",
    "    )\n",
    "    \n",
    "    colors = ['red', 'green', 'purple', 'blue', 'orange']\n",
    "    matplotlib.rcParams.update({'font.size': 18})\n",
    "    for coord in results.keys():\n",
    "        plotter = Plotter(setup, plots=plots)\n",
    "        for opt_i, opts in enumerate(results[coord]['numerical'].keys()): \n",
    "            plot_data = results[coord]['numerical'][opts]\n",
    "            for i in range(len(setup.nt)):\n",
    "                mnorm = setup.mixing_ratios[i]\n",
    "                t = setup.nt[i] * setup.dt\n",
    "                if opt_i == 0:\n",
    "                    plotter.pdf_curve(PdfEvolver(setup.pdf, setup.drdt, t), mnorm)\n",
    "                    plotter.pdf_histogram(\n",
    "                        results[coord]['grid']['r'], \n",
    "                        results[coord]['analytical'][i], \n",
    "                        bin_boundaries = results[coord]['grid']['rh'], \n",
    "                        label='analytical', \n",
    "                        mnorm=mnorm,\n",
    "                        color='black',\n",
    "                        linewidth =.7\n",
    "                    )\n",
    "                plotter.pdf_histogram(\n",
    "                    results[coord]['grid']['r'], \n",
    "                    plot_data[i], \n",
    "                    label=opts, \n",
    "                    bin_boundaries=results[coord]['grid']['rh'], \n",
    "                    mnorm=mnorm, color = colors[opt_i]\n",
    "                )\n",
    "        print(f\"grid_layout: {coord}\")\n",
    "        show_plot()"
   ]
  },
  {
   "cell_type": "code",
   "execution_count": 3,
   "metadata": {},
   "outputs": [
    {
     "name": "stdout",
     "output_type": "stream",
     "text": [
      "grid_layout: x_p2\n"
     ]
    },
    {
     "data": {
      "application/vnd.jupyter.widget-view+json": {
       "model_id": "10057f32f286404085523ae17352af7e",
       "version_major": 2,
       "version_minor": 0
      },
      "text/plain": [
       "VBox(children=(Output(), HTML(value=\"<a href='../utils/output\\\\tmp1nuaw1tl.pdf' target='_blank'>../utils/outpu…"
      ]
     },
     "metadata": {},
     "output_type": "display_data"
    }
   ],
   "source": [
    "compute_and_plot(psi_coord=x_p2(), grid_layout=x_p2(), dt=1, n_bins=64, opt_set=({\"n_iters\":1},), plots=['n','m'])"
   ]
  },
  {
   "cell_type": "code",
   "execution_count": 4,
   "metadata": {},
   "outputs": [
    {
     "name": "stdout",
     "output_type": "stream",
     "text": [
      "grid_layout: x_p2\n"
     ]
    },
    {
     "data": {
      "application/vnd.jupyter.widget-view+json": {
       "model_id": "7f8ac49b3c344187b90745377f8d4bd9",
       "version_major": 2,
       "version_minor": 0
      },
      "text/plain": [
       "VBox(children=(Output(), HTML(value=\"<a href='../utils/output\\\\tmpqe6cds7a.pdf' target='_blank'>../utils/outpu…"
      ]
     },
     "metadata": {},
     "output_type": "display_data"
    }
   ],
   "source": [
    "compute_and_plot(psi_coord=x_p2(), grid_layout=x_p2(), dt=1, n_bins=64, opt_set=({'n_iters': 1},{'n_iters':2},{'n_iters':3}), plots=['n'])"
   ]
  },
  {
   "cell_type": "code",
   "execution_count": 5,
   "metadata": {},
   "outputs": [
    {
     "name": "stdout",
     "output_type": "stream",
     "text": [
      "grid_layout: x_p2\n"
     ]
    },
    {
     "data": {
      "application/vnd.jupyter.widget-view+json": {
       "model_id": "5f85565437844b0391ec276c15f89079",
       "version_major": 2,
       "version_minor": 0
      },
      "text/plain": [
       "VBox(children=(Output(), HTML(value=\"<a href='../utils/output\\\\tmpy5530s7z.pdf' target='_blank'>../utils/outpu…"
      ]
     },
     "metadata": {},
     "output_type": "display_data"
    }
   ],
   "source": [
    "compute_and_plot(psi_coord=x_p2(), grid_layout=x_p2(), dt=1, n_bins=64, opt_set=({'n_iters': 1},{'n_iters':2},{'n_iters':2,'iga':True}), plots=['n'])"
   ]
  },
  {
   "cell_type": "code",
   "execution_count": 6,
   "metadata": {},
   "outputs": [
    {
     "name": "stdout",
     "output_type": "stream",
     "text": [
      "grid_layout: x_p2\n"
     ]
    },
    {
     "data": {
      "application/vnd.jupyter.widget-view+json": {
       "model_id": "1f3661b6e158491e8b75869bca7807b7",
       "version_major": 2,
       "version_minor": 0
      },
      "text/plain": [
       "VBox(children=(Output(), HTML(value=\"<a href='../utils/output\\\\tmp67subf4w.pdf' target='_blank'>../utils/outpu…"
      ]
     },
     "metadata": {},
     "output_type": "display_data"
    }
   ],
   "source": [
    "compute_and_plot(psi_coord=x_p2(), grid_layout=x_p2(), dt=1, n_bins=64, opt_set=({'n_iters': 1},{'n_iters':2},{'n_iters':2,'iga':True,'fct':True}), plots=['n'])"
   ]
  },
  {
   "cell_type": "code",
   "execution_count": 7,
   "metadata": {},
   "outputs": [
    {
     "name": "stdout",
     "output_type": "stream",
     "text": [
      "grid_layout: x_p2\n"
     ]
    },
    {
     "data": {
      "application/vnd.jupyter.widget-view+json": {
       "model_id": "58c0d800fdbf439e8393090fa2987eaa",
       "version_major": 2,
       "version_minor": 0
      },
      "text/plain": [
       "VBox(children=(Output(), HTML(value=\"<a href='../utils/output\\\\tmp1pgiupwy.pdf' target='_blank'>../utils/outpu…"
      ]
     },
     "metadata": {},
     "output_type": "display_data"
    }
   ],
   "source": [
    "compute_and_plot(psi_coord=x_p2(), grid_layout=x_p2(), dt=1, n_bins=64, opt_set=({'n_iters': 1},{'n_iters':2},{'n_iters':2,'tot':True}), plots=['n'])"
   ]
  },
  {
   "cell_type": "code",
   "execution_count": 8,
   "metadata": {},
   "outputs": [
    {
     "name": "stdout",
     "output_type": "stream",
     "text": [
      "grid_layout: x_p2\n"
     ]
    },
    {
     "data": {
      "application/vnd.jupyter.widget-view+json": {
       "model_id": "9abe12bfe6af4e8994e8170a477a2957",
       "version_major": 2,
       "version_minor": 0
      },
      "text/plain": [
       "VBox(children=(Output(), HTML(value=\"<a href='../utils/output\\\\tmp6cwen1qb.pdf' target='_blank'>../utils/outpu…"
      ]
     },
     "metadata": {},
     "output_type": "display_data"
    }
   ],
   "source": [
    "compute_and_plot(psi_coord=x_p2(), grid_layout=x_p2(), dt=1, n_bins=64, opt_set=({'n_iters': 1},{'n_iters':2},{'n_iters':2,'iga':True, 'fct':True,'tot':True}), plots=['n'])"
   ]
  }
 ],
 "metadata": {
  "kernelspec": {
   "display_name": "Python 3",
   "language": "python",
   "name": "python3"
  },
  "language_info": {
   "codemirror_mode": {
    "name": "ipython",
    "version": 3
   },
   "file_extension": ".py",
   "mimetype": "text/x-python",
   "name": "python",
   "nbconvert_exporter": "python",
   "pygments_lexer": "ipython3",
   "version": "3.7.1"
  }
 },
 "nbformat": 4,
 "nbformat_minor": 2
}
