{
 "cells": [
  {
   "cell_type": "code",
   "execution_count": 1,
   "metadata": {},
   "outputs": [],
   "source": [
    "import sys\n",
    "sys.path.insert(0, \"../..\")"
   ]
  },
  {
   "cell_type": "code",
   "execution_count": 2,
   "metadata": {},
   "outputs": [],
   "source": [
    "from MPyDATA_tests.smoke_tests.Olesik_et_al_2020.test_wall_time import test_wall_time"
   ]
  },
  {
   "cell_type": "code",
   "execution_count": 4,
   "metadata": {},
   "outputs": [
    {
     "name": "stdout",
     "output_type": "stream",
     "text": [
      "\\begin\n",
      "{table}[]\n",
      "\\begin\n",
      "{tabular}\n",
      "{| l | l |}\n",
      "\\hline Variant  & Elapsed Real Time (wrt upwind) \\\\ \\hline\n",
      "\\hline {'n_iters': 1}(x_log_of_pn) & 1.0 \\\\ \\hline\n",
      "\\hline {'n_iters': 2}(x_log_of_pn) & 2.0 \\\\ \\hline\n",
      "\\hline {'n_iters': 2, 'infinite_gauge': True}(x_log_of_pn) & 2.0 \\\\ \\hline\n",
      "\\hline {'n_iters': 2, 'infinite_gauge': True, 'flux_corrected_transport': True}(x_log_of_pn) & 4.0 \\\\ \\hline\n",
      "\\hline {'n_iters': 2, 'third_order_terms': True}(x_log_of_pn) & 2.0 \\\\ \\hline\n",
      "\\hline {'n_iters': 3}(x_log_of_pn) & 3.0 \\\\ \\hline\n",
      "\\hline {'n_iters': 3, 'third_order_terms': True, 'infinite_gauge': True, 'flux_corrected_transport': True}(x_log_of_pn) & 7.0 \\\\ \\hline\n",
      "\\end \n",
      " {tabular} \n",
      " \\end \n",
      " {table}\n"
     ]
    }
   ],
   "source": [
    "test_wall_time(2, [5,], True, print_tab=True)"
   ]
  },
  {
   "cell_type": "code",
   "execution_count": null,
   "metadata": {},
   "outputs": [],
   "source": []
  }
 ],
 "metadata": {
  "kernelspec": {
   "display_name": "Python 3",
   "language": "python",
   "name": "python3"
  },
  "language_info": {
   "codemirror_mode": {
    "name": "ipython",
    "version": 3
   },
   "file_extension": ".py",
   "mimetype": "text/x-python",
   "name": "python",
   "nbconvert_exporter": "python",
   "pygments_lexer": "ipython3",
   "version": "3.7.6"
  }
 },
 "nbformat": 4,
 "nbformat_minor": 4
}
