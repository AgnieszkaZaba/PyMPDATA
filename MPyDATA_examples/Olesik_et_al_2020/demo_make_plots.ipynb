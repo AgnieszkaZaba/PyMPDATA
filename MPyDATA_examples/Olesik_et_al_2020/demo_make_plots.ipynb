{
 "cells": [
  {
   "cell_type": "code",
   "execution_count": null,
   "metadata": {},
   "outputs": [],
   "source": [
    "import sys, os\n",
    "if 'google.colab' in sys.modules:  # To use GPU on colab set hardware accelerator as 'GPU' before start session\n",
    "    ! git clone --recurse-submodules -j8 --depth 1 https://github.com/atmos-cloud-sim-uj/MPyDATA.git\n",
    "    %cd MPyDATA\n",
    "    ! pip install -U $(cat requirements.txt | cut -d '=' -f 1)\n",
    "else:\n",
    "    sys.path.append(os.path.join(os.getcwd(), '../..'))\n",
    "    \n",
    "from MPyDATA_examples.Olesik_et_al_2020.analysis import compute_figure_data\n",
    "from MPyDATA_examples.Olesik_et_al_2020.physics.equilibrium_drop_growth import PdfEvolver\n",
    "from MPyDATA_examples.Olesik_et_al_2020.plotter import Plotter\n",
    "from MPyDATA_examples.Olesik_et_al_2020.coordinates import x_id, x_p2, x_p3,  x_log_of_pn\n",
    "from MPyDATA_examples.utils.show_plot import show_plot\n",
    "import numpy as np\n",
    "import matplotlib"
   ]
  },
  {
   "cell_type": "code",
   "execution_count": null,
   "metadata": {},
   "outputs": [],
   "source": [
    "def compute_and_plot(psi_coord, grid_layout, n_bins, GC_max, opt_set, plots, filename):\n",
    "    results, setup = compute_figure_data(\n",
    "        psi_coord=psi_coord, \n",
    "        grid_layouts=(grid_layout,),\n",
    "        nr=n_bins,\n",
    "        GC_max = GC_max,\n",
    "        opt_set=opt_set\n",
    "    )\n",
    "    \n",
    "    colors = ['red', 'green', 'purple', 'blue', 'orange']\n",
    "    matplotlib.rcParams.update({'font.size': 16})\n",
    "    for coord in results.keys():\n",
    "        out_steps = results[coord]['grid']['out_steps']\n",
    "        dt = results[coord]['grid']['dt']\n",
    "        plotter = Plotter(setup, plots=plots)\n",
    "        for opt_i, opts in enumerate(results[coord]['numerical'].keys()):\n",
    "            wall_times = results[coord]['wall_time'][opts]\n",
    "            print(\"elapsed real time: \", wall_times)\n",
    "            mean_time = np.nanmean(wall_times)\n",
    "            print(\"mean time:\", mean_time)\n",
    "            plot_data = results[coord]['numerical'][opts]\n",
    "            m_diff, n_diff = [], []\n",
    "            for i in range(len(out_steps)):\n",
    "                mnorm = setup.mixing_ratios[i]\n",
    "                t = out_steps[i] * dt\n",
    "                linewidth = 1+1.5*i/len(out_steps)\n",
    "                if opt_i == 0:\n",
    "                    plotter.pdf_curve(PdfEvolver(setup.pdf, setup.drdt, t), mnorm)\n",
    "                    plotter.pdf_histogram(\n",
    "                        results[coord]['grid']['r'], \n",
    "                        results[coord]['analytical'][i], \n",
    "                        bin_boundaries = results[coord]['grid']['rh'], \n",
    "                        label='analytical', \n",
    "                        mnorm=mnorm,\n",
    "                        color='black',\n",
    "                        linewidth = linewidth\n",
    "                    )\n",
    "                    \n",
    "                    deltami, deltani = plotter.mass_difference(mnorm, plot_data[i], results[coord]['grid']['rh'])\n",
    "                    m_diff.append(deltami)\n",
    "                    n_diff.append(deltani)\n",
    "                    \n",
    "                str_repl = [[\"'n_iters': 1\",\"upwind\"],\n",
    "                            [\"'n_iters': 2\",\"MPDATA 2 iterations\"],\n",
    "                            [\"'n_iters': 3\",\"MPDATA 3 iterations\"],\n",
    "                            [\"'fct': True\",\"+ fct\"],\n",
    "                            [\"'iga': True\",\"+ iga\"],\n",
    "                            [\"'tot': True\",\"+ tot\"],\n",
    "                            [\"{\",\"\"],[\"}\",\"\"],[\",\",\" \"]]                            \n",
    "                for repl in str_repl:\n",
    "                    opts = opts.replace(repl[0], repl[1])\n",
    "                plotter.pdf_histogram(\n",
    "                    results[coord]['grid']['r'], \n",
    "                    plot_data[i], \n",
    "                    label=opts, \n",
    "                    bin_boundaries=results[coord]['grid']['rh'], \n",
    "                    linewidth = linewidth,\n",
    "                    mnorm=mnorm, color = colors[opt_i]\n",
    "                )\n",
    "        print(f\"grid_layout: {coord}\")\n",
    "        show_plot(filename)"
   ]
  },
  {
   "cell_type": "code",
   "execution_count": null,
   "metadata": {},
   "outputs": [],
   "source": [
    "plot_setup = {\"psi_coord\":x_p2(), \"grid_layout\":x_log_of_pn(base=2), \"GC_max\":.26,\"n_bins\":75}\n",
    "plot_setup2 = {\"psi_coord\":x_id(), \"grid_layout\":x_id(), \"GC_max\":.07,\"n_bins\":75}"
   ]
  },
  {
   "cell_type": "code",
   "execution_count": null,
   "metadata": {},
   "outputs": [],
   "source": [
    "compute_and_plot(**plot_setup, opt_set=({\"n_iters\":1},), plots=('n','m'), filename = 'fig_upwinda.pdf')"
   ]
  },
  {
   "cell_type": "code",
   "execution_count": null,
   "metadata": {},
   "outputs": [],
   "source": [
    "compute_and_plot(**plot_setup2, opt_set=({\"n_iters\":1},), plots=['n','m'],  filename = 'fig_upwindb.pdf')"
   ]
  },
  {
   "cell_type": "code",
   "execution_count": null,
   "metadata": {},
   "outputs": [],
   "source": [
    "compute_and_plot(**plot_setup, opt_set=({'n_iters': 1},{'n_iters':2}), plots=['n'], filename = 'fig_mpdata.pdf')"
   ]
  },
  {
   "cell_type": "code",
   "execution_count": null,
   "metadata": {},
   "outputs": [],
   "source": [
    "compute_and_plot(**plot_setup, opt_set=({'n_iters': 1},{'n_iters':2},{'n_iters':3}), plots=['n'], filename = 'fig_mpdatas.pdf')"
   ]
  },
  {
   "cell_type": "code",
   "execution_count": null,
   "metadata": {},
   "outputs": [],
   "source": [
    "compute_and_plot(**plot_setup, opt_set=({'n_iters': 1},{'n_iters':2},{'n_iters':2,'infinite_gauge':True}), plots=['n'], filename = 'fig_iga.pdf')"
   ]
  },
  {
   "cell_type": "code",
   "execution_count": null,
   "metadata": {},
   "outputs": [],
   "source": [
    "compute_and_plot(**plot_setup, opt_set=({'n_iters': 1},{'n_iters':2},{'n_iters':2,'infinite_gauge':True,'flux_corrected_transport':True}), plots=['n'], filename = 'fig_fct.pdf')"
   ]
  },
  {
   "cell_type": "code",
   "execution_count": null,
   "metadata": {},
   "outputs": [],
   "source": [
    "compute_and_plot(**plot_setup, opt_set=({'n_iters': 1},{'n_iters':2},{'n_iters':2,'third_order_terms':True}), plots=['n'], filename = 'fig_tot.pdf')"
   ]
  },
  {
   "cell_type": "code",
   "execution_count": null,
   "metadata": {},
   "outputs": [],
   "source": [
    "compute_and_plot(**plot_setup, opt_set=(\n",
    "    {'n_iters':1},\n",
    "    {'n_iters':2},\n",
    "    {'n_iters':3,'infinite_gauge':True, 'flux_corrected_transport':True,'third_order_terms':True},\n",
    "), plots=['n'], filename='fig_multiopt.pdf')"
   ]
  },
  {
   "cell_type": "code",
   "execution_count": null,
   "metadata": {},
   "outputs": [],
   "source": []
  },
  {
   "cell_type": "code",
   "execution_count": null,
   "metadata": {},
   "outputs": [],
   "source": []
  }
 ],
 "metadata": {
  "kernelspec": {
   "display_name": "Python 3",
   "language": "python",
   "name": "python3"
  },
  "language_info": {
   "codemirror_mode": {
    "name": "ipython",
    "version": 3
   },
   "file_extension": ".py",
   "mimetype": "text/x-python",
   "name": "python",
   "nbconvert_exporter": "python",
   "pygments_lexer": "ipython3",
   "version": "3.7.6"
  }
 },
 "nbformat": 4,
 "nbformat_minor": 2
}
