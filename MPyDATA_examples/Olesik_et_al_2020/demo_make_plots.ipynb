{
 "cells": [
  {
   "cell_type": "code",
   "execution_count": 1,
   "metadata": {},
   "outputs": [],
   "source": [
    "import os\n",
    "os.environ[\"NUMBA_DISABLE_JIT\"] = \"1\""
   ]
  },
  {
   "cell_type": "code",
   "execution_count": 2,
   "metadata": {},
   "outputs": [],
   "source": [
    "import sys, os\n",
    "if 'google.colab' in sys.modules:\n",
    "    %cd\n",
    "    % rm -rf MPyDATA\n",
    "    ! git clone --recurse-submodules -j8 https://github.com/Michaeldz36/MPyDATA.git\n",
    "    %cd MPyDATA\n",
    "    ! git checkout develop\n",
    "    ! pip install -U $(cat requirements.txt | cut -d '=' -f 1)\n",
    "else:\n",
    "    sys.path.append(os.path.join(os.getcwd(), '../..'))\n",
    "    \n",
    "from MPyDATA_examples.Olesik_et_al_2020.analysis import compute_figure_data, rel_disp, third_moment\n",
    "from MPyDATA_examples.Olesik_et_al_2020.physics.equilibrium_drop_growth import PdfEvolver\n",
    "from MPyDATA_examples.Olesik_et_al_2020.plotter import Plotter\n",
    "from MPyDATA_examples.Olesik_et_al_2020.coordinates import x_id, x_p2, x_p3,  x_log_of_pn\n",
    "from MPyDATA_examples.utils.show_plot import show_plot\n",
    "import numpy as np\n",
    "import matplotlib\n",
    "from matplotlib import pyplot"
   ]
  },
  {
   "cell_type": "code",
   "execution_count": 3,
   "metadata": {},
   "outputs": [],
   "source": [
    "from MPyDATA_examples.Olesik_et_al_2020.setup import default_opt_set, colors, default_mixing_ratios_g_kg"
   ]
  },
  {
   "cell_type": "code",
   "execution_count": 10,
   "metadata": {},
   "outputs": [],
   "source": [
    "plot_steps = [0, 2, 5]\n",
    "def compute_and_plot(psi_coord, grid_layout, n_bins, GC_max, variants, plots, filename):\n",
    "    results, setup = compute_figure_data(\n",
    "        psi_coord=psi_coord, \n",
    "        grid_layouts=(grid_layout,),\n",
    "        nr=n_bins,\n",
    "        GC_max = GC_max,\n",
    "        opt_set=tuple(default_opt_set[variant] for variant in variants)\n",
    "    )\n",
    "    return_value = {}\n",
    "    for coord in results.keys():\n",
    "        out_steps = results[coord]['grid']['out_steps']\n",
    "        dt = results[coord]['grid']['dt']\n",
    "        plotter = Plotter(setup, plots=plots)\n",
    "        for opt_i, opts in enumerate(results[coord]['numerical'].keys()):\n",
    "            variant = variants[opt_i]\n",
    "            plot_data = results[coord]['numerical'][opts]\n",
    "            for i in range(len(out_steps)):\n",
    "                mnorm = setup.mixing_ratios[i]\n",
    "                t = out_steps[i] * dt\n",
    "                linewidth = 1+1.5*i/len(out_steps)\n",
    "                if opt_i == 0 and i in plot_steps:\n",
    "                    plotter.pdf_curve(PdfEvolver(setup.pdf, setup.drdt, t), mnorm)\n",
    "                    plotter.pdf_histogram(\n",
    "                        results[coord]['grid']['r'], \n",
    "                        results[coord]['analytical'][i], \n",
    "                        bin_boundaries = results[coord]['grid']['rh'], \n",
    "                        label='discretised analytical solution (actual dotted)', \n",
    "                        mnorm=mnorm,\n",
    "                        color='black',\n",
    "                        linewidth = linewidth\n",
    "                    )\n",
    "                    \n",
    "                str_repl = [[\"'n_iters': 1\",\"upwind\"],\n",
    "                            [\"'n_iters': 2\",\"MPDATA 2 iterations\"],\n",
    "                            [\"'n_iters': 3\",\"MPDATA 3 iterations\"],\n",
    "                            [\"'\",\"\"],\n",
    "                            [\": True\",\"\"],\n",
    "                            [\"_\", \" \"],\n",
    "                            [\"{\",\"\"],[\"}\",\"\"],[\",\",\"\"],[\"flux corrected transport\",\"non-oscillatory\"]]                            \n",
    "                for repl in str_repl:\n",
    "                    opts = opts.replace(repl[0], repl[1])\n",
    "                    \n",
    "                if variant not in return_value:\n",
    "                    return_value[variant] = {'R_d': [], 'R_m': [], 'label': opts}\n",
    "\n",
    "                if i in [0, 2, 5]: \n",
    "                    plotter.pdf_histogram(\n",
    "                        results[coord]['grid']['r'], \n",
    "                        plot_data[i], \n",
    "                        label=opts, \n",
    "                        bin_boundaries=results[coord]['grid']['rh'], \n",
    "                        linewidth = linewidth,\n",
    "                        mnorm=mnorm, color = colors[variant], fill=False\n",
    "                    )\n",
    "                \n",
    "                dp_dr = psi_coord.dx_dr(results[coord]['grid']['r'])\n",
    "                numeric_rel_d = rel_disp(results[coord]['grid']['rh'], plot_data[i]/dp_dr, psi_coord)\n",
    "                analytic_rel_d = rel_disp(results[coord]['grid']['rh'], results[coord]['analytical'][i]/dp_dr, psi_coord)\n",
    "                dispersion_ratio = (numeric_rel_d / analytic_rel_d - 1) * 100\n",
    "#                 print(f\"dispersion ratio excess {opts}: {dispersion_ratio.to(setup.si.dimensionless).magnitude:.2g} %\")\n",
    "                return_value[variant]['R_d'].append(dispersion_ratio)\n",
    "                                \n",
    "                numeric_mass = third_moment(results[coord]['grid']['rh'], plot_data[i]/dp_dr, psi_coord, normalised=False)\n",
    "                analytic_mass = third_moment(results[coord]['grid']['rh'], results[coord]['analytical'][i]/dp_dr, psi_coord, normalised=False)\n",
    "                mass_ratio = (numeric_mass / analytic_mass - 1) * 100\n",
    "#                 print(f\"mass ratio excess: {mass_ratio.to(setup.si.dimensionless).magnitude:.2g} %\")\n",
    "                return_value[variant]['R_m'].append(mass_ratio)\n",
    "\n",
    "        pyplot.legend(bbox_to_anchor=(0.5, -0.25), loc='upper center')\n",
    "        show_plot(filename)\n",
    "    return return_value"
   ]
  },
  {
   "cell_type": "code",
   "execution_count": 11,
   "metadata": {},
   "outputs": [],
   "source": [
    "n_bins = 75\n",
    "plot_setup_radius_square_mass_doubling = {\"psi_coord\":x_p2(), \"grid_layout\":x_log_of_pn(r0=1, base=2), \"GC_max\":.26,\"n_bins\":n_bins}\n",
    "plot_setup_radius_linear = {\"psi_coord\":x_id(), \"grid_layout\":x_id(), \"GC_max\":.07, \"n_bins\":n_bins}\n",
    "plot_setup_default = plot_setup_radius_square_mass_doubling\n",
    "table_data = []"
   ]
  },
  {
   "cell_type": "code",
   "execution_count": 12,
   "metadata": {},
   "outputs": [
    {
     "name": "stderr",
     "output_type": "stream",
     "text": [
      "[Parallel(n_jobs=-2)]: Using backend ThreadingBackend with 7 concurrent workers.\n",
      "[Parallel(n_jobs=-2)]: Done   1 tasks      | elapsed:    4.6s\n",
      "[Parallel(n_jobs=-2)]: Done   1 out of   1 | elapsed:    4.6s finished\n",
      "No handles with labels found to put in legend.\n"
     ]
    },
    {
     "data": {
      "application/vnd.jupyter.widget-view+json": {
       "model_id": "da84365e9edc459295a52c0f63616ccc",
       "version_major": 2,
       "version_minor": 0
      },
      "text/plain": [
       "VBox(children=(Output(), HTML(value=\"<a href='../utils/output\\\\fig_upwindb.pdf' target='_blank'>../utils/outpu…"
      ]
     },
     "metadata": {},
     "output_type": "display_data"
    }
   ],
   "source": [
    "compute_and_plot(**plot_setup_radius_linear, variants=('a',), plots=['n','m'],  filename = 'fig_upwindb.pdf');"
   ]
  },
  {
   "cell_type": "code",
   "execution_count": 13,
   "metadata": {
    "scrolled": false
   },
   "outputs": [
    {
     "name": "stderr",
     "output_type": "stream",
     "text": [
      "[Parallel(n_jobs=-2)]: Using backend ThreadingBackend with 7 concurrent workers.\n",
      "[Parallel(n_jobs=-2)]: Done   1 tasks      | elapsed:    4.4s\n",
      "[Parallel(n_jobs=-2)]: Done   1 out of   1 | elapsed:    4.4s finished\n",
      "No handles with labels found to put in legend.\n"
     ]
    },
    {
     "data": {
      "application/vnd.jupyter.widget-view+json": {
       "model_id": "85903c841cad462abab08a231f9fa0e2",
       "version_major": 2,
       "version_minor": 0
      },
      "text/plain": [
       "VBox(children=(Output(), HTML(value=\"<a href='../utils/output\\\\fig_upwinda.pdf' target='_blank'>../utils/outpu…"
      ]
     },
     "metadata": {},
     "output_type": "display_data"
    }
   ],
   "source": [
    "table_data.append(compute_and_plot(**plot_setup_default, variants=('a',), plots=['n','m'], filename = 'fig_upwinda.pdf'))"
   ]
  },
  {
   "cell_type": "code",
   "execution_count": 14,
   "metadata": {},
   "outputs": [
    {
     "name": "stderr",
     "output_type": "stream",
     "text": [
      "[Parallel(n_jobs=-2)]: Using backend ThreadingBackend with 7 concurrent workers.\n",
      "[Parallel(n_jobs=-2)]: Done   3 out of   3 | elapsed:   32.6s remaining:    0.0s\n",
      "[Parallel(n_jobs=-2)]: Done   3 out of   3 | elapsed:   32.6s finished\n"
     ]
    },
    {
     "data": {
      "application/vnd.jupyter.widget-view+json": {
       "model_id": "bb25a29778544e7b835992b14341c638",
       "version_major": 2,
       "version_minor": 0
      },
      "text/plain": [
       "VBox(children=(Output(), HTML(value=\"<a href='../utils/output\\\\fig_mpdatas.pdf' target='_blank'>../utils/outpu…"
      ]
     },
     "metadata": {},
     "output_type": "display_data"
    }
   ],
   "source": [
    "table_data.append(compute_and_plot(**plot_setup_default, variants=('a','b','g'), plots=['n'], filename = 'fig_mpdatas.pdf'))"
   ]
  },
  {
   "cell_type": "code",
   "execution_count": 15,
   "metadata": {},
   "outputs": [
    {
     "name": "stderr",
     "output_type": "stream",
     "text": [
      "[Parallel(n_jobs=-2)]: Using backend ThreadingBackend with 7 concurrent workers.\n",
      "[Parallel(n_jobs=-2)]: Done   2 out of   2 | elapsed:   22.1s remaining:    0.0s\n",
      "[Parallel(n_jobs=-2)]: Done   2 out of   2 | elapsed:   22.1s finished\n"
     ]
    },
    {
     "data": {
      "application/vnd.jupyter.widget-view+json": {
       "model_id": "aa2bafee6b70432aa170ebe86960af4a",
       "version_major": 2,
       "version_minor": 0
      },
      "text/plain": [
       "VBox(children=(Output(), HTML(value=\"<a href='../utils/output\\\\fig_iga.pdf' target='_blank'>../utils/output\\\\f…"
      ]
     },
     "metadata": {},
     "output_type": "display_data"
    }
   ],
   "source": [
    "table_data.append(compute_and_plot(**plot_setup_default, variants=('b', 'c'), plots=['n'], filename = 'fig_iga.pdf'))"
   ]
  },
  {
   "cell_type": "code",
   "execution_count": 28,
   "metadata": {
    "scrolled": false
   },
   "outputs": [
    {
     "name": "stderr",
     "output_type": "stream",
     "text": [
      "[Parallel(n_jobs=-2)]: Using backend ThreadingBackend with 7 concurrent workers.\n",
      "[Parallel(n_jobs=-2)]: Done   2 out of   2 | elapsed:   26.1s remaining:    0.0s\n",
      "[Parallel(n_jobs=-2)]: Done   2 out of   2 | elapsed:   26.1s finished\n"
     ]
    },
    {
     "data": {
      "application/vnd.jupyter.widget-view+json": {
       "model_id": "7334aaf909b74f2580b3fe521a03b65c",
       "version_major": 2,
       "version_minor": 0
      },
      "text/plain": [
       "VBox(children=(Output(), HTML(value=\"<a href='../utils/output\\\\fig_iga_fct.pdf' target='_blank'>../utils/outpu…"
      ]
     },
     "metadata": {},
     "output_type": "display_data"
    }
   ],
   "source": [
    "table_data.append(compute_and_plot(**plot_setup_default, variants=('c','d'), plots=['n'], filename = 'fig_iga_fct.pdf'))"
   ]
  },
  {
   "cell_type": "code",
   "execution_count": 29,
   "metadata": {},
   "outputs": [
    {
     "name": "stderr",
     "output_type": "stream",
     "text": [
      "[Parallel(n_jobs=-2)]: Using backend ThreadingBackend with 7 concurrent workers.\n",
      "[Parallel(n_jobs=-2)]: Done   2 out of   2 | elapsed:   38.9s remaining:    0.0s\n",
      "[Parallel(n_jobs=-2)]: Done   2 out of   2 | elapsed:   38.9s finished\n"
     ]
    },
    {
     "data": {
      "application/vnd.jupyter.widget-view+json": {
       "model_id": "39ee80423a674e96b97f855f743fdb97",
       "version_major": 2,
       "version_minor": 0
      },
      "text/plain": [
       "VBox(children=(Output(), HTML(value=\"<a href='../utils/output\\\\fig_iga_fct_dpdc.pdf' target='_blank'>../utils/…"
      ]
     },
     "metadata": {},
     "output_type": "display_data"
    }
   ],
   "source": [
    "table_data.append(compute_and_plot(**plot_setup_default, variants=('d','e'), plots=['n'], filename = 'fig_iga_fct_dpdc.pdf'))"
   ]
  },
  {
   "cell_type": "code",
   "execution_count": 30,
   "metadata": {},
   "outputs": [
    {
     "name": "stderr",
     "output_type": "stream",
     "text": [
      "[Parallel(n_jobs=-2)]: Using backend ThreadingBackend with 7 concurrent workers.\n",
      "[Parallel(n_jobs=-2)]: Done   2 out of   2 | elapsed:   42.9s remaining:    0.0s\n",
      "[Parallel(n_jobs=-2)]: Done   2 out of   2 | elapsed:   42.9s finished\n"
     ]
    },
    {
     "data": {
      "application/vnd.jupyter.widget-view+json": {
       "model_id": "0a675898664240bb95dcb29199f82e7e",
       "version_major": 2,
       "version_minor": 0
      },
      "text/plain": [
       "VBox(children=(Output(), HTML(value=\"<a href='../utils/output\\\\fig_tot.pdf' target='_blank'>../utils/output\\\\f…"
      ]
     },
     "metadata": {},
     "output_type": "display_data"
    }
   ],
   "source": [
    "table_data.append(compute_and_plot(**plot_setup_default, variants=('g','f'), plots=['n'], filename = 'fig_tot.pdf'))"
   ]
  },
  {
   "cell_type": "code",
   "execution_count": 31,
   "metadata": {},
   "outputs": [
    {
     "name": "stderr",
     "output_type": "stream",
     "text": [
      "[Parallel(n_jobs=-2)]: Using backend ThreadingBackend with 7 concurrent workers.\n",
      "[Parallel(n_jobs=-2)]: Done   2 out of   2 | elapsed:  1.1min remaining:    0.0s\n",
      "[Parallel(n_jobs=-2)]: Done   2 out of   2 | elapsed:  1.1min finished\n"
     ]
    },
    {
     "data": {
      "application/vnd.jupyter.widget-view+json": {
       "model_id": "c2fa18a20edd452ba5f625ed3747aa73",
       "version_major": 2,
       "version_minor": 0
      },
      "text/plain": [
       "VBox(children=(Output(), HTML(value=\"<a href='../utils/output\\\\fig_multiopt.pdf' target='_blank'>../utils/outp…"
      ]
     },
     "metadata": {},
     "output_type": "display_data"
    }
   ],
   "source": [
    "table_data.append(compute_and_plot(**plot_setup_default, variants=('f','h'), plots=['n'], filename = 'fig_multiopt.pdf'))"
   ]
  },
  {
   "cell_type": "code",
   "execution_count": 16,
   "metadata": {},
   "outputs": [
    {
     "name": "stdout",
     "output_type": "stream",
     "text": [
      "[{'a': {'R_d': [<Quantity(0.0, 'dimensionless')>, <Quantity(7.255371227953278, 'dimensionless')>, <Quantity(24.371303922636823, 'dimensionless')>, <Quantity(40.87059574869934, 'dimensionless')>, <Quantity(56.818596357206005, 'dimensionless')>, <Quantity(70.76346306222592, 'dimensionless')>], 'R_m': [<Quantity(0.0, 'dimensionless')>, <Quantity(3.517270695496788, 'dimensionless')>, <Quantity(5.528419489859826, 'dimensionless')>, <Quantity(5.680578382176993, 'dimensionless')>, <Quantity(4.903454296304632, 'dimensionless')>, <Quantity(4.409061522747049, 'dimensionless')>], 'label': 'upwind'}}, {'a': {'R_d': [<Quantity(0.0, 'dimensionless')>, <Quantity(7.255371227953278, 'dimensionless')>, <Quantity(24.371303922636823, 'dimensionless')>, <Quantity(40.87059574869934, 'dimensionless')>, <Quantity(56.818596357206005, 'dimensionless')>, <Quantity(70.76346306222592, 'dimensionless')>], 'R_m': [<Quantity(0.0, 'dimensionless')>, <Quantity(3.517270695496788, 'dimensionless')>, <Quantity(5.528419489859826, 'dimensionless')>, <Quantity(5.680578382176993, 'dimensionless')>, <Quantity(4.903454296304632, 'dimensionless')>, <Quantity(4.409061522747049, 'dimensionless')>], 'label': 'upwind'}, 'b': {'R_d': [<Quantity(0.0, 'dimensionless')>, <Quantity(3.260346292614158, 'dimensionless')>, <Quantity(12.5789320224168, 'dimensionless')>, <Quantity(22.35414568114502, 'dimensionless')>, <Quantity(32.63299720279906, 'dimensionless')>, <Quantity(42.21756622755058, 'dimensionless')>], 'R_m': [<Quantity(0.0, 'dimensionless')>, <Quantity(1.2664607401196015, 'dimensionless')>, <Quantity(1.9660493754304342, 'dimensionless')>, <Quantity(1.7168674588668775, 'dimensionless')>, <Quantity(0.9321184558255924, 'dimensionless')>, <Quantity(0.8201249193149573, 'dimensionless')>], 'label': 'MPDATA 2 iterations'}, 'g': {'R_d': [<Quantity(0.0, 'dimensionless')>, <Quantity(2.5586993492187293, 'dimensionless')>, <Quantity(10.122003805603462, 'dimensionless')>, <Quantity(18.1482709591408, 'dimensionless')>, <Quantity(26.797530520014522, 'dimensionless')>, <Quantity(34.99814952384759, 'dimensionless')>], 'R_m': [<Quantity(0.0, 'dimensionless')>, <Quantity(1.0121616243411902, 'dimensionless')>, <Quantity(1.4990965038081505, 'dimensionless')>, <Quantity(1.1180277809136552, 'dimensionless')>, <Quantity(0.2630461975760001, 'dimensionless')>, <Quantity(0.15484140232473464, 'dimensionless')>], 'label': 'MPDATA 3 iterations'}}, {'b': {'R_d': [<Quantity(0.0, 'dimensionless')>, <Quantity(3.260346292614158, 'dimensionless')>, <Quantity(12.5789320224168, 'dimensionless')>, <Quantity(22.35414568114502, 'dimensionless')>, <Quantity(32.63299720279906, 'dimensionless')>, <Quantity(42.21756622755058, 'dimensionless')>], 'R_m': [<Quantity(0.0, 'dimensionless')>, <Quantity(1.2664607401196015, 'dimensionless')>, <Quantity(1.9660493754304342, 'dimensionless')>, <Quantity(1.7168674588668775, 'dimensionless')>, <Quantity(0.9321184558255924, 'dimensionless')>, <Quantity(0.8201249193149573, 'dimensionless')>], 'label': 'MPDATA 2 iterations'}, 'c': {'R_d': [<Quantity(0.0, 'dimensionless')>, <Quantity(2.232409069618857, 'dimensionless')>, <Quantity(8.078182554993196, 'dimensionless')>, <Quantity(13.860268903451578, 'dimensionless')>, <Quantity(20.077347836335214, 'dimensionless')>, <Quantity(25.862801084705445, 'dimensionless')>], 'R_m': [<Quantity(0.0, 'dimensionless')>, <Quantity(1.023777075975607, 'dimensionless')>, <Quantity(1.6583500936315332, 'dimensionless')>, <Quantity(1.4285788506511965, 'dimensionless')>, <Quantity(0.7178117332034661, 'dimensionless')>, <Quantity(0.7923260540342758, 'dimensionless')>], 'label': 'MPDATA 2 iterations infinite gauge'}}]\n"
     ]
    }
   ],
   "source": [
    "print(table_data)"
   ]
  },
  {
   "cell_type": "code",
   "execution_count": 57,
   "metadata": {},
   "outputs": [
    {
     "name": "stderr",
     "output_type": "stream",
     "text": [
      "C:\\Users\\Michael\\anaconda3\\lib\\site-packages\\numpy\\core\\_asarray.py:138: UnitStrippedWarning: The unit of the quantity is stripped when downcasting to ndarray.\n",
      "  return array(a, dtype, copy=False, order=order, subok=True)\n",
      "C:\\Users\\Michael\\anaconda3\\lib\\site-packages\\numpy\\core\\_asarray.py:138: UnitStrippedWarning: The unit of the quantity is stripped when downcasting to ndarray.\n",
      "  return array(a, dtype, copy=False, order=order, subok=True)\n",
      "C:\\Users\\Michael\\anaconda3\\lib\\site-packages\\numpy\\core\\_asarray.py:138: UnitStrippedWarning: The unit of the quantity is stripped when downcasting to ndarray.\n",
      "  return array(a, dtype, copy=False, order=order, subok=True)\n",
      "C:\\Users\\Michael\\anaconda3\\lib\\site-packages\\numpy\\core\\_asarray.py:138: UnitStrippedWarning: The unit of the quantity is stripped when downcasting to ndarray.\n",
      "  return array(a, dtype, copy=False, order=order, subok=True)\n",
      "C:\\Users\\Michael\\anaconda3\\lib\\site-packages\\numpy\\core\\_asarray.py:138: UnitStrippedWarning: The unit of the quantity is stripped when downcasting to ndarray.\n",
      "  return array(a, dtype, copy=False, order=order, subok=True)\n",
      "C:\\Users\\Michael\\anaconda3\\lib\\site-packages\\numpy\\core\\_asarray.py:138: UnitStrippedWarning: The unit of the quantity is stripped when downcasting to ndarray.\n",
      "  return array(a, dtype, copy=False, order=order, subok=True)\n",
      "C:\\Users\\Michael\\anaconda3\\lib\\site-packages\\numpy\\core\\_asarray.py:138: UnitStrippedWarning: The unit of the quantity is stripped when downcasting to ndarray.\n",
      "  return array(a, dtype, copy=False, order=order, subok=True)\n",
      "C:\\Users\\Michael\\anaconda3\\lib\\site-packages\\numpy\\core\\_asarray.py:138: UnitStrippedWarning: The unit of the quantity is stripped when downcasting to ndarray.\n",
      "  return array(a, dtype, copy=False, order=order, subok=True)\n",
      "C:\\Users\\Michael\\anaconda3\\lib\\site-packages\\numpy\\core\\_asarray.py:138: UnitStrippedWarning: The unit of the quantity is stripped when downcasting to ndarray.\n",
      "  return array(a, dtype, copy=False, order=order, subok=True)\n",
      "C:\\Users\\Michael\\anaconda3\\lib\\site-packages\\numpy\\core\\_asarray.py:138: UnitStrippedWarning: The unit of the quantity is stripped when downcasting to ndarray.\n",
      "  return array(a, dtype, copy=False, order=order, subok=True)\n",
      "C:\\Users\\Michael\\anaconda3\\lib\\site-packages\\numpy\\core\\_asarray.py:138: UnitStrippedWarning: The unit of the quantity is stripped when downcasting to ndarray.\n",
      "  return array(a, dtype, copy=False, order=order, subok=True)\n",
      "C:\\Users\\Michael\\anaconda3\\lib\\site-packages\\numpy\\core\\_asarray.py:138: UnitStrippedWarning: The unit of the quantity is stripped when downcasting to ndarray.\n",
      "  return array(a, dtype, copy=False, order=order, subok=True)\n",
      "C:\\Users\\Michael\\anaconda3\\lib\\site-packages\\numpy\\core\\_asarray.py:138: UnitStrippedWarning: The unit of the quantity is stripped when downcasting to ndarray.\n",
      "  return array(a, dtype, copy=False, order=order, subok=True)\n",
      "C:\\Users\\Michael\\anaconda3\\lib\\site-packages\\numpy\\core\\_asarray.py:138: UnitStrippedWarning: The unit of the quantity is stripped when downcasting to ndarray.\n",
      "  return array(a, dtype, copy=False, order=order, subok=True)\n",
      "C:\\Users\\Michael\\anaconda3\\lib\\site-packages\\numpy\\core\\_asarray.py:138: UnitStrippedWarning: The unit of the quantity is stripped when downcasting to ndarray.\n",
      "  return array(a, dtype, copy=False, order=order, subok=True)\n",
      "C:\\Users\\Michael\\anaconda3\\lib\\site-packages\\numpy\\core\\_asarray.py:138: UnitStrippedWarning: The unit of the quantity is stripped when downcasting to ndarray.\n",
      "  return array(a, dtype, copy=False, order=order, subok=True)\n"
     ]
    },
    {
     "data": {
      "application/vnd.jupyter.widget-view+json": {
       "model_id": "9e537bc6be7a46e9a1012a8fbd12166d",
       "version_major": 2,
       "version_minor": 0
      },
      "text/plain": [
       "VBox(children=(Output(), HTML(value=\"<a href='../utils/output\\\\measures.pdf' target='_blank'>../utils/output\\\\…"
      ]
     },
     "metadata": {},
     "output_type": "display_data"
    }
   ],
   "source": [
    "plot_data = {}\n",
    "for datum in table_data:\n",
    "    for key, value in datum.items():\n",
    "        plot_data[key] = value\n",
    "        \n",
    "def plot_measures(measure, ax, legend=False): \n",
    "    for variant, values in plot_data.items():\n",
    "        ax.scatter(default_mixing_ratios_g_kg, values[measure], label=values['label'], color=colors[variant])\n",
    "        ax.plot(default_mixing_ratios_g_kg, values[measure], color='gray', linestyle='dotted')\n",
    "    ax.grid()\n",
    "    ax.set_ylabel(f'${measure}$ [%]')\n",
    "    ax.set_xlabel('mixing ratio [g kg$^{-1}$]')\n",
    "    if legend:\n",
    "        pyplot.legend(bbox_to_anchor=(-0.1, -0.15), loc='upper center')\n",
    "fig, axs = pyplot.subplots(1,2, figsize=(15,9))\n",
    "\n",
    "plot_measures('R_d', axs[0])\n",
    "plot_measures('R_m', axs[1], legend=True)\n",
    "\n",
    "show_plot('measures.pdf')"
   ]
  },
  {
   "cell_type": "code",
   "execution_count": null,
   "metadata": {},
   "outputs": [],
   "source": []
  },
  {
   "cell_type": "code",
   "execution_count": null,
   "metadata": {},
   "outputs": [],
   "source": []
  }
 ],
 "metadata": {
  "kernelspec": {
   "display_name": "Python 3",
   "language": "python",
   "name": "python3"
  },
  "language_info": {
   "codemirror_mode": {
    "name": "ipython",
    "version": 3
   },
   "file_extension": ".py",
   "mimetype": "text/x-python",
   "name": "python",
   "nbconvert_exporter": "python",
   "pygments_lexer": "ipython3",
   "version": "3.7.6"
  }
 },
 "nbformat": 4,
 "nbformat_minor": 2
}
