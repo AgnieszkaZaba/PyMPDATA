{
 "cells": [
  {
   "cell_type": "code",
   "execution_count": 1,
   "metadata": {},
   "outputs": [],
   "source": [
    "import os\n",
    "os.environ[\"NUMBA_DISABLE_JIT\"] = \"1\""
   ]
  },
  {
   "cell_type": "code",
   "execution_count": 2,
   "metadata": {},
   "outputs": [],
   "source": [
    "import sys, os\n",
    "if 'google.colab' in sys.modules:\n",
    "    %cd\n",
    "    % rm -rf MPyDATA\n",
    "    ! git clone --recurse-submodules -j8 https://github.com/Michaeldz36/MPyDATA.git\n",
    "    %cd MPyDATA\n",
    "    ! git checkout develop\n",
    "    ! pip install -U $(cat requirements.txt | cut -d '=' -f 1)\n",
    "else:\n",
    "    sys.path.append(os.path.join(os.getcwd(), '../..'))\n",
    "    \n",
    "from MPyDATA_examples.Olesik_et_al_2020.analysis import compute_figure_data, rel_disp, third_moment\n",
    "from MPyDATA_examples.Olesik_et_al_2020.physics.equilibrium_drop_growth import PdfEvolver\n",
    "from MPyDATA_examples.Olesik_et_al_2020.plotter import Plotter\n",
    "from MPyDATA_examples.Olesik_et_al_2020.coordinates import x_id, x_p2, x_p3,  x_log_of_pn\n",
    "from MPyDATA_examples.utils.show_plot import show_plot\n",
    "import numpy as np\n",
    "import matplotlib\n",
    "from matplotlib import pyplot"
   ]
  },
  {
   "cell_type": "code",
   "execution_count": 3,
   "metadata": {},
   "outputs": [],
   "source": [
    "def compute_and_plot(psi_coord, grid_layout, n_bins, GC_max, opt_set, plots, filename):\n",
    "    results, setup = compute_figure_data(\n",
    "        psi_coord=psi_coord, \n",
    "        grid_layouts=(grid_layout,),\n",
    "        nr=n_bins,\n",
    "        GC_max = GC_max,\n",
    "        opt_set=opt_set\n",
    "    )\n",
    "    \n",
    "    colors = ['red', 'green', 'purple', 'blue', 'orange']\n",
    "    for coord in results.keys():\n",
    "        out_steps = results[coord]['grid']['out_steps']\n",
    "        dt = results[coord]['grid']['dt']\n",
    "        plotter = Plotter(setup, plots=plots)\n",
    "        for opt_i, opts in enumerate(results[coord]['numerical'].keys()):\n",
    "            plot_data = results[coord]['numerical'][opts]\n",
    "            m_diff, n_diff = [], []\n",
    "            for i in range(len(out_steps)):\n",
    "                mnorm = setup.mixing_ratios[i]\n",
    "                t = out_steps[i] * dt\n",
    "                linewidth = 1+1.5*i/len(out_steps)\n",
    "                if opt_i == 0:\n",
    "                    plotter.pdf_curve(PdfEvolver(setup.pdf, setup.drdt, t), mnorm)\n",
    "                    plotter.pdf_histogram(\n",
    "                        results[coord]['grid']['r'], \n",
    "                        results[coord]['analytical'][i], \n",
    "                        bin_boundaries = results[coord]['grid']['rh'], \n",
    "                        label='analytical (actual dotted, discretised solid)', \n",
    "                        mnorm=mnorm,\n",
    "                        color='black',\n",
    "                        linewidth = linewidth\n",
    "                    )\n",
    "                    \n",
    "                    \n",
    "                str_repl = [[\"'n_iters': 1\",\"upwind\"],\n",
    "                            [\"'n_iters': 2\",\"MPDATA 2 iterations\"],\n",
    "                            [\"'n_iters': 3\",\"MPDATA 3 iterations\"],\n",
    "                            [\"'\",\"\"],\n",
    "                            [\": True\",\"\"],\n",
    "                            [\"_\", \" \"],\n",
    "                            [\"{\",\"\"],[\"}\",\"\"],[\",\",\" \"],[\"flux corrected transport\",\"non-oscillatory\"]]                            \n",
    "                for repl in str_repl:\n",
    "                    opts = opts.replace(repl[0], repl[1])\n",
    "                plotter.pdf_histogram(\n",
    "                    results[coord]['grid']['r'], \n",
    "                    plot_data[i], \n",
    "                    label=opts, \n",
    "                    bin_boundaries=results[coord]['grid']['rh'], \n",
    "                    linewidth = linewidth,\n",
    "                    mnorm=mnorm, color = colors[opt_i]\n",
    "                )\n",
    "                \n",
    "                dp_dr = psi_coord.dx_dr(results[coord]['grid']['r'])\n",
    "                numeric_rel_d = rel_disp(results[coord]['grid']['rh'], plot_data[i]/dp_dr, psi_coord)\n",
    "                analytic_rel_d = rel_disp(results[coord]['grid']['rh'], results[coord]['analytical'][i]/dp_dr, psi_coord)\n",
    "#                 print(\"analytic rd\", analytic_rel_d)\n",
    "#                 print(\"numeric rd\", numeric_rel_d)\n",
    "                dispersion_ratio = (numeric_rel_d / analytic_rel_d - 1)*100\n",
    "                print(f\"dispersion ratio excess {opts}: {dispersion_ratio.to(setup.si.dimensionless).magnitude:.2g} %\")\n",
    "                print(\"\\n\")\n",
    "                                \n",
    "                numeric_mass = third_moment(results[coord]['grid']['rh'], plot_data[i]/dp_dr, psi_coord, normalised=False)\n",
    "                analytic_mass = third_moment(results[coord]['grid']['rh'], results[coord]['analytical'][i]/dp_dr, psi_coord, normalised=False)\n",
    "#                 print(\"analytic mass\", analytic_mass * 4/3 * np.pi * setup.rho_w/setup.rho_a)\n",
    "#                 print(\"numeric mass\", numeric_mass * 4/3 * np.pi * setup.rho_w/setup.rho_a)\n",
    "                mass_ratio = (numeric_mass / analytic_mass - 1) * 100\n",
    "                print(f\"mass ratio excess: {mass_ratio.to(setup.si.dimensionless).magnitude:.2g} %\")\n",
    "                print(\"\\n\")\n",
    "        print(f\"grid_layout: {coord}\")\n",
    "        pyplot.legend(bbox_to_anchor=(0.5, -0.25), loc='upper center')\n",
    "        show_plot(filename)"
   ]
  },
  {
   "cell_type": "code",
   "execution_count": 23,
   "metadata": {},
   "outputs": [],
   "source": [
    "plot_setup = {\"psi_coord\":x_p2(), \"grid_layout\":x_log_of_pn(r0=1, base=2), \"GC_max\":.26,\"n_bins\":75}\n",
    "plot_setup2 = {\"psi_coord\":x_id(), \"grid_layout\":x_id(), \"GC_max\":.07,\"n_bins\":75}\n",
    "plot_setup3 = {\"psi_coord\":x_id(), \"grid_layout\":x_id(), \"GC_max\":.07,\"n_bins\":15}"
   ]
  },
  {
   "cell_type": "code",
   "execution_count": 5,
   "metadata": {
    "scrolled": false
   },
   "outputs": [
    {
     "name": "stderr",
     "output_type": "stream",
     "text": [
      "[Parallel(n_jobs=-2)]: Using backend ThreadingBackend with 7 concurrent workers.\n",
      "[Parallel(n_jobs=-2)]: Done   1 tasks      | elapsed:    3.8s\n",
      "[Parallel(n_jobs=-2)]: Done   1 out of   1 | elapsed:    3.8s finished\n"
     ]
    },
    {
     "name": "stdout",
     "output_type": "stream",
     "text": [
      "dispersion ratio excess upwind: 0 %\n",
      "\n",
      "\n",
      "mass ratio excess: 0 %\n",
      "\n",
      "\n",
      "dispersion ratio excess upwind: 24 %\n",
      "\n",
      "\n",
      "mass ratio excess: 5.5 %\n",
      "\n",
      "\n",
      "dispersion ratio excess upwind: 71 %\n",
      "\n",
      "\n",
      "mass ratio excess: 4.4 %\n",
      "\n",
      "\n",
      "grid_layout: x_log_of_pn\n"
     ]
    },
    {
     "data": {
      "application/vnd.jupyter.widget-view+json": {
       "model_id": "1e742de0ffc2404c81e0b2c654b39c82",
       "version_major": 2,
       "version_minor": 0
      },
      "text/plain": [
       "VBox(children=(Output(), HTML(value=\"<a href='../utils/output\\\\fig_upwinda.pdf' target='_blank'>../utils/outpu…"
      ]
     },
     "metadata": {},
     "output_type": "display_data"
    }
   ],
   "source": [
    "compute_and_plot(**plot_setup, opt_set=({\"n_iters\":1},), plots=['n','m'], filename = 'fig_upwinda.pdf')"
   ]
  },
  {
   "cell_type": "code",
   "execution_count": 6,
   "metadata": {
    "scrolled": false
   },
   "outputs": [
    {
     "name": "stderr",
     "output_type": "stream",
     "text": [
      "[Parallel(n_jobs=-2)]: Using backend ThreadingBackend with 7 concurrent workers.\n",
      "[Parallel(n_jobs=-2)]: Done   1 tasks      | elapsed:    4.0s\n",
      "[Parallel(n_jobs=-2)]: Done   1 out of   1 | elapsed:    4.0s finished\n"
     ]
    },
    {
     "name": "stdout",
     "output_type": "stream",
     "text": [
      "dispersion ratio excess upwind: 0 %\n",
      "\n",
      "\n",
      "mass ratio excess: 0 %\n",
      "\n",
      "\n",
      "dispersion ratio excess upwind: 19 %\n",
      "\n",
      "\n",
      "mass ratio excess: 0.89 %\n",
      "\n",
      "\n",
      "dispersion ratio excess upwind: 48 %\n",
      "\n",
      "\n",
      "mass ratio excess: 0.41 %\n",
      "\n",
      "\n",
      "grid_layout: x_id\n"
     ]
    },
    {
     "data": {
      "application/vnd.jupyter.widget-view+json": {
       "model_id": "705969d2cc004bf7aa63869f800fece1",
       "version_major": 2,
       "version_minor": 0
      },
      "text/plain": [
       "VBox(children=(Output(), HTML(value=\"<a href='../utils/output\\\\fig_upwindb.pdf' target='_blank'>../utils/outpu…"
      ]
     },
     "metadata": {},
     "output_type": "display_data"
    }
   ],
   "source": [
    "compute_and_plot(**plot_setup2, opt_set=({\"n_iters\":1},), plots=['n','m'],  filename = 'fig_upwindb.pdf')"
   ]
  },
  {
   "cell_type": "code",
   "execution_count": 7,
   "metadata": {
    "scrolled": false
   },
   "outputs": [
    {
     "name": "stderr",
     "output_type": "stream",
     "text": [
      "[Parallel(n_jobs=-2)]: Using backend ThreadingBackend with 7 concurrent workers.\n",
      "[Parallel(n_jobs=-2)]: Done   2 out of   2 | elapsed:   46.7s remaining:    0.0s\n",
      "[Parallel(n_jobs=-2)]: Done   2 out of   2 | elapsed:   46.7s finished\n"
     ]
    },
    {
     "name": "stdout",
     "output_type": "stream",
     "text": [
      "dispersion ratio excess MPDATA 2 iterations  infinite gauge  non-oscillatory  DPDC: 0 %\n",
      "\n",
      "\n",
      "mass ratio excess: 0 %\n",
      "\n",
      "\n",
      "dispersion ratio excess MPDATA 2 iterations  infinite gauge  non-oscillatory  DPDC: 6.3 %\n",
      "\n",
      "\n",
      "mass ratio excess: -0.084 %\n",
      "\n",
      "\n",
      "dispersion ratio excess MPDATA 2 iterations  infinite gauge  non-oscillatory  DPDC: 25 %\n",
      "\n",
      "\n",
      "mass ratio excess: -3.5 %\n",
      "\n",
      "\n",
      "dispersion ratio excess MPDATA 2 iterations  infinite gauge  non-oscillatory  DPDC  third order terms: 0 %\n",
      "\n",
      "\n",
      "mass ratio excess: 0 %\n",
      "\n",
      "\n",
      "dispersion ratio excess MPDATA 2 iterations  infinite gauge  non-oscillatory  DPDC  third order terms: 4.2 %\n",
      "\n",
      "\n",
      "mass ratio excess: -0.26 %\n",
      "\n",
      "\n",
      "dispersion ratio excess MPDATA 2 iterations  infinite gauge  non-oscillatory  DPDC  third order terms: 15 %\n",
      "\n",
      "\n",
      "mass ratio excess: -3.5 %\n",
      "\n",
      "\n",
      "grid_layout: x_log_of_pn\n"
     ]
    },
    {
     "data": {
      "application/vnd.jupyter.widget-view+json": {
       "model_id": "da77ccef9c3a46aca0501d5144729d55",
       "version_major": 2,
       "version_minor": 0
      },
      "text/plain": [
       "VBox(children=(Output(), HTML(value=\"<a href='../utils/output\\\\fig_DPDC.pdf' target='_blank'>../utils/output\\\\…"
      ]
     },
     "metadata": {},
     "output_type": "display_data"
    }
   ],
   "source": [
    "compute_and_plot(**plot_setup, opt_set=({'n_iters':2, 'infinite_gauge':True, 'flux_corrected_transport':True, 'DPDC':True}, {'n_iters':2, 'infinite_gauge':True, 'flux_corrected_transport':True, 'DPDC':True, 'third_order_terms': True}), plots=['n'], filename = 'fig_DPDC_with_tot.pdf')"
   ]
  },
  {
   "cell_type": "code",
   "execution_count": 8,
   "metadata": {},
   "outputs": [
    {
     "name": "stderr",
     "output_type": "stream",
     "text": [
      "[Parallel(n_jobs=-2)]: Using backend ThreadingBackend with 7 concurrent workers.\n",
      "[Parallel(n_jobs=-2)]: Done   2 out of   2 | elapsed:  1.0min remaining:    0.0s\n",
      "[Parallel(n_jobs=-2)]: Done   2 out of   2 | elapsed:  1.0min finished\n"
     ]
    },
    {
     "name": "stdout",
     "output_type": "stream",
     "text": [
      "dispersion ratio excess MPDATA 3 iterations  infinite gauge  non-oscillatory  third order terms: 0 %\n",
      "\n",
      "\n",
      "mass ratio excess: 0 %\n",
      "\n",
      "\n",
      "dispersion ratio excess MPDATA 3 iterations  infinite gauge  non-oscillatory  third order terms: 2.4 %\n",
      "\n",
      "\n",
      "mass ratio excess: 0.64 %\n",
      "\n",
      "\n",
      "dispersion ratio excess MPDATA 3 iterations  infinite gauge  non-oscillatory  third order terms: 6.6 %\n",
      "\n",
      "\n",
      "mass ratio excess: -0.88 %\n",
      "\n",
      "\n",
      "dispersion ratio excess MPDATA 2 iterations  infinite gauge  non-oscillatory  DPDC: 0 %\n",
      "\n",
      "\n",
      "mass ratio excess: 0 %\n",
      "\n",
      "\n",
      "dispersion ratio excess MPDATA 2 iterations  infinite gauge  non-oscillatory  DPDC: 6.3 %\n",
      "\n",
      "\n",
      "mass ratio excess: -0.084 %\n",
      "\n",
      "\n",
      "dispersion ratio excess MPDATA 2 iterations  infinite gauge  non-oscillatory  DPDC: 25 %\n",
      "\n",
      "\n",
      "mass ratio excess: -3.5 %\n",
      "\n",
      "\n",
      "grid_layout: x_log_of_pn\n"
     ]
    },
    {
     "data": {
      "application/vnd.jupyter.widget-view+json": {
       "model_id": "be236572ca424d4793a8aa4990cf7607",
       "version_major": 2,
       "version_minor": 0
      },
      "text/plain": [
       "VBox(children=(Output(), HTML(value=\"<a href='../utils/output\\\\fig_DPDC.pdf' target='_blank'>../utils/output\\\\…"
      ]
     },
     "metadata": {},
     "output_type": "display_data"
    }
   ],
   "source": [
    "compute_and_plot(**plot_setup, opt_set=({'n_iters':3, 'infinite_gauge':True, 'flux_corrected_transport':True, 'third_order_terms':True}, {'n_iters':2, 'infinite_gauge':True, 'flux_corrected_transport':True, 'DPDC':True}), plots=['n'], filename = 'fig_DPDC_vs_best.pdf')"
   ]
  },
  {
   "cell_type": "code",
   "execution_count": 9,
   "metadata": {},
   "outputs": [
    {
     "name": "stderr",
     "output_type": "stream",
     "text": [
      "[Parallel(n_jobs=-2)]: Using backend ThreadingBackend with 7 concurrent workers.\n"
     ]
    },
    {
     "ename": "ValueError",
     "evalue": "",
     "output_type": "error",
     "traceback": [
      "\u001b[1;31m---------------------------------------------------------------------------\u001b[0m",
      "\u001b[1;31mValueError\u001b[0m                                Traceback (most recent call last)",
      "\u001b[1;32m<ipython-input-9-c9b7c646ab76>\u001b[0m in \u001b[0;36m<module>\u001b[1;34m\u001b[0m\n\u001b[1;32m----> 1\u001b[1;33m \u001b[0mcompute_and_plot\u001b[0m\u001b[1;33m(\u001b[0m\u001b[1;33m**\u001b[0m\u001b[0mplot_setup\u001b[0m\u001b[1;33m,\u001b[0m \u001b[0mopt_set\u001b[0m\u001b[1;33m=\u001b[0m\u001b[1;33m(\u001b[0m\u001b[1;33m{\u001b[0m\u001b[1;34m'n_iters'\u001b[0m\u001b[1;33m:\u001b[0m\u001b[1;36m3\u001b[0m\u001b[1;33m,\u001b[0m \u001b[1;34m'infinite_gauge'\u001b[0m\u001b[1;33m:\u001b[0m\u001b[1;32mTrue\u001b[0m\u001b[1;33m,\u001b[0m \u001b[1;34m'flux_corrected_transport'\u001b[0m\u001b[1;33m:\u001b[0m\u001b[1;32mTrue\u001b[0m\u001b[1;33m,\u001b[0m \u001b[1;34m'third_order_terms'\u001b[0m\u001b[1;33m:\u001b[0m\u001b[1;32mTrue\u001b[0m\u001b[1;33m}\u001b[0m\u001b[1;33m,\u001b[0m \u001b[1;33m{\u001b[0m\u001b[1;34m'n_iters'\u001b[0m\u001b[1;33m:\u001b[0m\u001b[1;36m3\u001b[0m\u001b[1;33m,\u001b[0m \u001b[1;34m'infinite_gauge'\u001b[0m\u001b[1;33m:\u001b[0m\u001b[1;32mTrue\u001b[0m\u001b[1;33m,\u001b[0m \u001b[1;34m'flux_corrected_transport'\u001b[0m\u001b[1;33m:\u001b[0m\u001b[1;32mTrue\u001b[0m\u001b[1;33m,\u001b[0m \u001b[1;34m'DPDC'\u001b[0m\u001b[1;33m:\u001b[0m\u001b[1;32mTrue\u001b[0m\u001b[1;33m}\u001b[0m\u001b[1;33m)\u001b[0m\u001b[1;33m,\u001b[0m \u001b[0mplots\u001b[0m\u001b[1;33m=\u001b[0m\u001b[1;33m[\u001b[0m\u001b[1;34m'n'\u001b[0m\u001b[1;33m]\u001b[0m\u001b[1;33m,\u001b[0m \u001b[0mfilename\u001b[0m \u001b[1;33m=\u001b[0m \u001b[1;34m'fig_DPDC.pdf'\u001b[0m\u001b[1;33m)\u001b[0m\u001b[1;33m\u001b[0m\u001b[1;33m\u001b[0m\u001b[0m\n\u001b[0m",
      "\u001b[1;32m<ipython-input-3-252ef6844795>\u001b[0m in \u001b[0;36mcompute_and_plot\u001b[1;34m(psi_coord, grid_layout, n_bins, GC_max, opt_set, plots, filename)\u001b[0m\n\u001b[0;32m      5\u001b[0m         \u001b[0mnr\u001b[0m\u001b[1;33m=\u001b[0m\u001b[0mn_bins\u001b[0m\u001b[1;33m,\u001b[0m\u001b[1;33m\u001b[0m\u001b[1;33m\u001b[0m\u001b[0m\n\u001b[0;32m      6\u001b[0m         \u001b[0mGC_max\u001b[0m \u001b[1;33m=\u001b[0m \u001b[0mGC_max\u001b[0m\u001b[1;33m,\u001b[0m\u001b[1;33m\u001b[0m\u001b[1;33m\u001b[0m\u001b[0m\n\u001b[1;32m----> 7\u001b[1;33m         \u001b[0mopt_set\u001b[0m\u001b[1;33m=\u001b[0m\u001b[0mopt_set\u001b[0m\u001b[1;33m\u001b[0m\u001b[1;33m\u001b[0m\u001b[0m\n\u001b[0m\u001b[0;32m      8\u001b[0m     )\n\u001b[0;32m      9\u001b[0m \u001b[1;33m\u001b[0m\u001b[0m\n",
      "\u001b[1;32m~\\PycharmProjects\\MPyDATA\\MPyDATA_examples\\Olesik_et_al_2020\\../..\\MPyDATA_examples\\Olesik_et_al_2020\\analysis.py\u001b[0m in \u001b[0;36mcompute_figure_data\u001b[1;34m(nr, GC_max, psi_coord, grid_layouts, opt_set, mixing_ratios_g_kg)\u001b[0m\n\u001b[0;32m     44\u001b[0m         results = Parallel(verbose=10)(\n\u001b[0;32m     45\u001b[0m             \u001b[0mdelayed\u001b[0m\u001b[1;33m(\u001b[0m\u001b[0manalysis\u001b[0m\u001b[1;33m)\u001b[0m\u001b[1;33m(\u001b[0m\u001b[0msetup\u001b[0m\u001b[1;33m,\u001b[0m \u001b[0mgrid_layout\u001b[0m\u001b[1;33m,\u001b[0m \u001b[0mpsi_coord\u001b[0m\u001b[1;33m,\u001b[0m \u001b[0moptions\u001b[0m\u001b[1;33m,\u001b[0m \u001b[0mGC_max\u001b[0m\u001b[1;33m)\u001b[0m\u001b[1;33m\u001b[0m\u001b[1;33m\u001b[0m\u001b[0m\n\u001b[1;32m---> 46\u001b[1;33m             \u001b[1;32mfor\u001b[0m \u001b[0mgrid_layout\u001b[0m \u001b[1;32min\u001b[0m \u001b[0mgrid_layouts\u001b[0m\u001b[1;33m\u001b[0m\u001b[1;33m\u001b[0m\u001b[0m\n\u001b[0m\u001b[0;32m     47\u001b[0m             \u001b[1;32mfor\u001b[0m \u001b[0moptions\u001b[0m \u001b[1;32min\u001b[0m \u001b[0mdeepcopy\u001b[0m\u001b[1;33m(\u001b[0m\u001b[0mopt_set\u001b[0m\u001b[1;33m)\u001b[0m\u001b[1;33m\u001b[0m\u001b[1;33m\u001b[0m\u001b[0m\n\u001b[0;32m     48\u001b[0m         )\n",
      "\u001b[1;32m~\\anaconda3\\lib\\site-packages\\joblib\\parallel.py\u001b[0m in \u001b[0;36m__call__\u001b[1;34m(self, iterable)\u001b[0m\n\u001b[0;32m   1015\u001b[0m \u001b[1;33m\u001b[0m\u001b[0m\n\u001b[0;32m   1016\u001b[0m             \u001b[1;32mwith\u001b[0m \u001b[0mself\u001b[0m\u001b[1;33m.\u001b[0m\u001b[0m_backend\u001b[0m\u001b[1;33m.\u001b[0m\u001b[0mretrieval_context\u001b[0m\u001b[1;33m(\u001b[0m\u001b[1;33m)\u001b[0m\u001b[1;33m:\u001b[0m\u001b[1;33m\u001b[0m\u001b[1;33m\u001b[0m\u001b[0m\n\u001b[1;32m-> 1017\u001b[1;33m                 \u001b[0mself\u001b[0m\u001b[1;33m.\u001b[0m\u001b[0mretrieve\u001b[0m\u001b[1;33m(\u001b[0m\u001b[1;33m)\u001b[0m\u001b[1;33m\u001b[0m\u001b[1;33m\u001b[0m\u001b[0m\n\u001b[0m\u001b[0;32m   1018\u001b[0m             \u001b[1;31m# Make sure that we get a last message telling us we are done\u001b[0m\u001b[1;33m\u001b[0m\u001b[1;33m\u001b[0m\u001b[1;33m\u001b[0m\u001b[0m\n\u001b[0;32m   1019\u001b[0m             \u001b[0melapsed_time\u001b[0m \u001b[1;33m=\u001b[0m \u001b[0mtime\u001b[0m\u001b[1;33m.\u001b[0m\u001b[0mtime\u001b[0m\u001b[1;33m(\u001b[0m\u001b[1;33m)\u001b[0m \u001b[1;33m-\u001b[0m \u001b[0mself\u001b[0m\u001b[1;33m.\u001b[0m\u001b[0m_start_time\u001b[0m\u001b[1;33m\u001b[0m\u001b[1;33m\u001b[0m\u001b[0m\n",
      "\u001b[1;32m~\\anaconda3\\lib\\site-packages\\joblib\\parallel.py\u001b[0m in \u001b[0;36mretrieve\u001b[1;34m(self)\u001b[0m\n\u001b[0;32m    907\u001b[0m             \u001b[1;32mtry\u001b[0m\u001b[1;33m:\u001b[0m\u001b[1;33m\u001b[0m\u001b[1;33m\u001b[0m\u001b[0m\n\u001b[0;32m    908\u001b[0m                 \u001b[1;32mif\u001b[0m \u001b[0mgetattr\u001b[0m\u001b[1;33m(\u001b[0m\u001b[0mself\u001b[0m\u001b[1;33m.\u001b[0m\u001b[0m_backend\u001b[0m\u001b[1;33m,\u001b[0m \u001b[1;34m'supports_timeout'\u001b[0m\u001b[1;33m,\u001b[0m \u001b[1;32mFalse\u001b[0m\u001b[1;33m)\u001b[0m\u001b[1;33m:\u001b[0m\u001b[1;33m\u001b[0m\u001b[1;33m\u001b[0m\u001b[0m\n\u001b[1;32m--> 909\u001b[1;33m                     \u001b[0mself\u001b[0m\u001b[1;33m.\u001b[0m\u001b[0m_output\u001b[0m\u001b[1;33m.\u001b[0m\u001b[0mextend\u001b[0m\u001b[1;33m(\u001b[0m\u001b[0mjob\u001b[0m\u001b[1;33m.\u001b[0m\u001b[0mget\u001b[0m\u001b[1;33m(\u001b[0m\u001b[0mtimeout\u001b[0m\u001b[1;33m=\u001b[0m\u001b[0mself\u001b[0m\u001b[1;33m.\u001b[0m\u001b[0mtimeout\u001b[0m\u001b[1;33m)\u001b[0m\u001b[1;33m)\u001b[0m\u001b[1;33m\u001b[0m\u001b[1;33m\u001b[0m\u001b[0m\n\u001b[0m\u001b[0;32m    910\u001b[0m                 \u001b[1;32melse\u001b[0m\u001b[1;33m:\u001b[0m\u001b[1;33m\u001b[0m\u001b[1;33m\u001b[0m\u001b[0m\n\u001b[0;32m    911\u001b[0m                     \u001b[0mself\u001b[0m\u001b[1;33m.\u001b[0m\u001b[0m_output\u001b[0m\u001b[1;33m.\u001b[0m\u001b[0mextend\u001b[0m\u001b[1;33m(\u001b[0m\u001b[0mjob\u001b[0m\u001b[1;33m.\u001b[0m\u001b[0mget\u001b[0m\u001b[1;33m(\u001b[0m\u001b[1;33m)\u001b[0m\u001b[1;33m)\u001b[0m\u001b[1;33m\u001b[0m\u001b[1;33m\u001b[0m\u001b[0m\n",
      "\u001b[1;32m~\\anaconda3\\lib\\multiprocessing\\pool.py\u001b[0m in \u001b[0;36mget\u001b[1;34m(self, timeout)\u001b[0m\n\u001b[0;32m    655\u001b[0m             \u001b[1;32mreturn\u001b[0m \u001b[0mself\u001b[0m\u001b[1;33m.\u001b[0m\u001b[0m_value\u001b[0m\u001b[1;33m\u001b[0m\u001b[1;33m\u001b[0m\u001b[0m\n\u001b[0;32m    656\u001b[0m         \u001b[1;32melse\u001b[0m\u001b[1;33m:\u001b[0m\u001b[1;33m\u001b[0m\u001b[1;33m\u001b[0m\u001b[0m\n\u001b[1;32m--> 657\u001b[1;33m             \u001b[1;32mraise\u001b[0m \u001b[0mself\u001b[0m\u001b[1;33m.\u001b[0m\u001b[0m_value\u001b[0m\u001b[1;33m\u001b[0m\u001b[1;33m\u001b[0m\u001b[0m\n\u001b[0m\u001b[0;32m    658\u001b[0m \u001b[1;33m\u001b[0m\u001b[0m\n\u001b[0;32m    659\u001b[0m     \u001b[1;32mdef\u001b[0m \u001b[0m_set\u001b[0m\u001b[1;33m(\u001b[0m\u001b[0mself\u001b[0m\u001b[1;33m,\u001b[0m \u001b[0mi\u001b[0m\u001b[1;33m,\u001b[0m \u001b[0mobj\u001b[0m\u001b[1;33m)\u001b[0m\u001b[1;33m:\u001b[0m\u001b[1;33m\u001b[0m\u001b[1;33m\u001b[0m\u001b[0m\n",
      "\u001b[1;32m~\\anaconda3\\lib\\multiprocessing\\pool.py\u001b[0m in \u001b[0;36mworker\u001b[1;34m(inqueue, outqueue, initializer, initargs, maxtasks, wrap_exception)\u001b[0m\n\u001b[0;32m    119\u001b[0m         \u001b[0mjob\u001b[0m\u001b[1;33m,\u001b[0m \u001b[0mi\u001b[0m\u001b[1;33m,\u001b[0m \u001b[0mfunc\u001b[0m\u001b[1;33m,\u001b[0m \u001b[0margs\u001b[0m\u001b[1;33m,\u001b[0m \u001b[0mkwds\u001b[0m \u001b[1;33m=\u001b[0m \u001b[0mtask\u001b[0m\u001b[1;33m\u001b[0m\u001b[1;33m\u001b[0m\u001b[0m\n\u001b[0;32m    120\u001b[0m         \u001b[1;32mtry\u001b[0m\u001b[1;33m:\u001b[0m\u001b[1;33m\u001b[0m\u001b[1;33m\u001b[0m\u001b[0m\n\u001b[1;32m--> 121\u001b[1;33m             \u001b[0mresult\u001b[0m \u001b[1;33m=\u001b[0m \u001b[1;33m(\u001b[0m\u001b[1;32mTrue\u001b[0m\u001b[1;33m,\u001b[0m \u001b[0mfunc\u001b[0m\u001b[1;33m(\u001b[0m\u001b[1;33m*\u001b[0m\u001b[0margs\u001b[0m\u001b[1;33m,\u001b[0m \u001b[1;33m**\u001b[0m\u001b[0mkwds\u001b[0m\u001b[1;33m)\u001b[0m\u001b[1;33m)\u001b[0m\u001b[1;33m\u001b[0m\u001b[1;33m\u001b[0m\u001b[0m\n\u001b[0m\u001b[0;32m    122\u001b[0m         \u001b[1;32mexcept\u001b[0m \u001b[0mException\u001b[0m \u001b[1;32mas\u001b[0m \u001b[0me\u001b[0m\u001b[1;33m:\u001b[0m\u001b[1;33m\u001b[0m\u001b[1;33m\u001b[0m\u001b[0m\n\u001b[0;32m    123\u001b[0m             \u001b[1;32mif\u001b[0m \u001b[0mwrap_exception\u001b[0m \u001b[1;32mand\u001b[0m \u001b[0mfunc\u001b[0m \u001b[1;32mis\u001b[0m \u001b[1;32mnot\u001b[0m \u001b[0m_helper_reraises_exception\u001b[0m\u001b[1;33m:\u001b[0m\u001b[1;33m\u001b[0m\u001b[1;33m\u001b[0m\u001b[0m\n",
      "\u001b[1;32m~\\anaconda3\\lib\\site-packages\\joblib\\_parallel_backends.py\u001b[0m in \u001b[0;36m__call__\u001b[1;34m(self, *args, **kwargs)\u001b[0m\n\u001b[0;32m    606\u001b[0m     \u001b[1;32mdef\u001b[0m \u001b[0m__call__\u001b[0m\u001b[1;33m(\u001b[0m\u001b[0mself\u001b[0m\u001b[1;33m,\u001b[0m \u001b[1;33m*\u001b[0m\u001b[0margs\u001b[0m\u001b[1;33m,\u001b[0m \u001b[1;33m**\u001b[0m\u001b[0mkwargs\u001b[0m\u001b[1;33m)\u001b[0m\u001b[1;33m:\u001b[0m\u001b[1;33m\u001b[0m\u001b[1;33m\u001b[0m\u001b[0m\n\u001b[0;32m    607\u001b[0m         \u001b[1;32mtry\u001b[0m\u001b[1;33m:\u001b[0m\u001b[1;33m\u001b[0m\u001b[1;33m\u001b[0m\u001b[0m\n\u001b[1;32m--> 608\u001b[1;33m             \u001b[1;32mreturn\u001b[0m \u001b[0mself\u001b[0m\u001b[1;33m.\u001b[0m\u001b[0mfunc\u001b[0m\u001b[1;33m(\u001b[0m\u001b[1;33m*\u001b[0m\u001b[0margs\u001b[0m\u001b[1;33m,\u001b[0m \u001b[1;33m**\u001b[0m\u001b[0mkwargs\u001b[0m\u001b[1;33m)\u001b[0m\u001b[1;33m\u001b[0m\u001b[1;33m\u001b[0m\u001b[0m\n\u001b[0m\u001b[0;32m    609\u001b[0m         \u001b[1;32mexcept\u001b[0m \u001b[0mKeyboardInterrupt\u001b[0m\u001b[1;33m:\u001b[0m\u001b[1;33m\u001b[0m\u001b[1;33m\u001b[0m\u001b[0m\n\u001b[0;32m    610\u001b[0m             \u001b[1;31m# We capture the KeyboardInterrupt and reraise it as\u001b[0m\u001b[1;33m\u001b[0m\u001b[1;33m\u001b[0m\u001b[1;33m\u001b[0m\u001b[0m\n",
      "\u001b[1;32m~\\anaconda3\\lib\\site-packages\\joblib\\parallel.py\u001b[0m in \u001b[0;36m__call__\u001b[1;34m(self)\u001b[0m\n\u001b[0;32m    254\u001b[0m         \u001b[1;32mwith\u001b[0m \u001b[0mparallel_backend\u001b[0m\u001b[1;33m(\u001b[0m\u001b[0mself\u001b[0m\u001b[1;33m.\u001b[0m\u001b[0m_backend\u001b[0m\u001b[1;33m,\u001b[0m \u001b[0mn_jobs\u001b[0m\u001b[1;33m=\u001b[0m\u001b[0mself\u001b[0m\u001b[1;33m.\u001b[0m\u001b[0m_n_jobs\u001b[0m\u001b[1;33m)\u001b[0m\u001b[1;33m:\u001b[0m\u001b[1;33m\u001b[0m\u001b[1;33m\u001b[0m\u001b[0m\n\u001b[0;32m    255\u001b[0m             return [func(*args, **kwargs)\n\u001b[1;32m--> 256\u001b[1;33m                     for func, args, kwargs in self.items]\n\u001b[0m\u001b[0;32m    257\u001b[0m \u001b[1;33m\u001b[0m\u001b[0m\n\u001b[0;32m    258\u001b[0m     \u001b[1;32mdef\u001b[0m \u001b[0m__len__\u001b[0m\u001b[1;33m(\u001b[0m\u001b[0mself\u001b[0m\u001b[1;33m)\u001b[0m\u001b[1;33m:\u001b[0m\u001b[1;33m\u001b[0m\u001b[1;33m\u001b[0m\u001b[0m\n",
      "\u001b[1;32m~\\anaconda3\\lib\\site-packages\\joblib\\parallel.py\u001b[0m in \u001b[0;36m<listcomp>\u001b[1;34m(.0)\u001b[0m\n\u001b[0;32m    254\u001b[0m         \u001b[1;32mwith\u001b[0m \u001b[0mparallel_backend\u001b[0m\u001b[1;33m(\u001b[0m\u001b[0mself\u001b[0m\u001b[1;33m.\u001b[0m\u001b[0m_backend\u001b[0m\u001b[1;33m,\u001b[0m \u001b[0mn_jobs\u001b[0m\u001b[1;33m=\u001b[0m\u001b[0mself\u001b[0m\u001b[1;33m.\u001b[0m\u001b[0m_n_jobs\u001b[0m\u001b[1;33m)\u001b[0m\u001b[1;33m:\u001b[0m\u001b[1;33m\u001b[0m\u001b[1;33m\u001b[0m\u001b[0m\n\u001b[0;32m    255\u001b[0m             return [func(*args, **kwargs)\n\u001b[1;32m--> 256\u001b[1;33m                     for func, args, kwargs in self.items]\n\u001b[0m\u001b[0;32m    257\u001b[0m \u001b[1;33m\u001b[0m\u001b[0m\n\u001b[0;32m    258\u001b[0m     \u001b[1;32mdef\u001b[0m \u001b[0m__len__\u001b[0m\u001b[1;33m(\u001b[0m\u001b[0mself\u001b[0m\u001b[1;33m)\u001b[0m\u001b[1;33m:\u001b[0m\u001b[1;33m\u001b[0m\u001b[1;33m\u001b[0m\u001b[0m\n",
      "\u001b[1;32m~\\PycharmProjects\\MPyDATA\\MPyDATA_examples\\Olesik_et_al_2020\\../..\\MPyDATA_examples\\Olesik_et_al_2020\\analysis.py\u001b[0m in \u001b[0;36manalysis\u001b[1;34m(setup, grid_layout, psi_coord, options_dict, GC_max)\u001b[0m\n\u001b[0;32m     13\u001b[0m \u001b[1;32mdef\u001b[0m \u001b[0manalysis\u001b[0m\u001b[1;33m(\u001b[0m\u001b[0msetup\u001b[0m\u001b[1;33m,\u001b[0m \u001b[0mgrid_layout\u001b[0m\u001b[1;33m,\u001b[0m \u001b[0mpsi_coord\u001b[0m\u001b[1;33m,\u001b[0m \u001b[0moptions_dict\u001b[0m\u001b[1;33m,\u001b[0m \u001b[0mGC_max\u001b[0m\u001b[1;33m)\u001b[0m\u001b[1;33m:\u001b[0m\u001b[1;33m\u001b[0m\u001b[1;33m\u001b[0m\u001b[0m\n\u001b[0;32m     14\u001b[0m     \u001b[0moptions_str\u001b[0m \u001b[1;33m=\u001b[0m \u001b[0mstr\u001b[0m\u001b[1;33m(\u001b[0m\u001b[0moptions_dict\u001b[0m\u001b[1;33m)\u001b[0m\u001b[1;33m\u001b[0m\u001b[1;33m\u001b[0m\u001b[0m\n\u001b[1;32m---> 15\u001b[1;33m     \u001b[0moptions\u001b[0m \u001b[1;33m=\u001b[0m \u001b[0mOptions\u001b[0m\u001b[1;33m(\u001b[0m\u001b[1;33m**\u001b[0m\u001b[0moptions_dict\u001b[0m\u001b[1;33m)\u001b[0m\u001b[1;33m\u001b[0m\u001b[1;33m\u001b[0m\u001b[0m\n\u001b[0m\u001b[0;32m     16\u001b[0m     \u001b[0msimulation\u001b[0m \u001b[1;33m=\u001b[0m \u001b[0mSimulation\u001b[0m\u001b[1;33m(\u001b[0m\u001b[0msetup\u001b[0m\u001b[1;33m,\u001b[0m \u001b[0mgrid_layout\u001b[0m\u001b[1;33m,\u001b[0m  \u001b[0mpsi_coord\u001b[0m\u001b[1;33m,\u001b[0m \u001b[0moptions\u001b[0m\u001b[1;33m,\u001b[0m \u001b[0mGC_max\u001b[0m\u001b[1;33m)\u001b[0m\u001b[1;33m\u001b[0m\u001b[1;33m\u001b[0m\u001b[0m\n\u001b[0;32m     17\u001b[0m     \u001b[0mresult\u001b[0m \u001b[1;33m=\u001b[0m \u001b[1;33m{\u001b[0m\u001b[1;34m\"n\"\u001b[0m\u001b[1;33m:\u001b[0m \u001b[1;33m[\u001b[0m\u001b[1;33m]\u001b[0m\u001b[1;33m,\u001b[0m \u001b[1;34m\"n_analytical\"\u001b[0m\u001b[1;33m:\u001b[0m \u001b[1;33m[\u001b[0m\u001b[1;33m]\u001b[0m\u001b[1;33m,\u001b[0m \u001b[1;34m\"error_norm_L2\"\u001b[0m\u001b[1;33m:\u001b[0m \u001b[1;33m[\u001b[0m\u001b[1;33m]\u001b[0m\u001b[1;33m,\u001b[0m \u001b[1;34m\"wall_time\"\u001b[0m\u001b[1;33m:\u001b[0m\u001b[1;33m[\u001b[0m\u001b[1;33m]\u001b[0m\u001b[1;33m}\u001b[0m\u001b[1;33m\u001b[0m\u001b[1;33m\u001b[0m\u001b[0m\n",
      "\u001b[1;32m~\\PycharmProjects\\MPyDATA\\MPyDATA_examples\\Olesik_et_al_2020\\../..\\MPyDATA\\options.py\u001b[0m in \u001b[0;36m__init__\u001b[1;34m(self, n_iters, infinite_gauge, divergent_flow, flux_corrected_transport, third_order_terms, DPDC, epsilon, non_zero_mu_coeff, dtype)\u001b[0m\n\u001b[0;32m     27\u001b[0m             \u001b[1;32mraise\u001b[0m \u001b[0mValueError\u001b[0m\u001b[1;33m(\u001b[0m\u001b[1;33m)\u001b[0m\u001b[1;33m\u001b[0m\u001b[1;33m\u001b[0m\u001b[0m\n\u001b[0;32m     28\u001b[0m         \u001b[1;32mif\u001b[0m \u001b[0mn_iters\u001b[0m \u001b[1;33m>\u001b[0m \u001b[1;36m2\u001b[0m \u001b[1;32mand\u001b[0m \u001b[0mDPDC\u001b[0m\u001b[1;33m:\u001b[0m\u001b[1;33m\u001b[0m\u001b[1;33m\u001b[0m\u001b[0m\n\u001b[1;32m---> 29\u001b[1;33m             \u001b[1;32mraise\u001b[0m \u001b[0mValueError\u001b[0m\u001b[1;33m(\u001b[0m\u001b[1;33m)\u001b[0m\u001b[1;33m\u001b[0m\u001b[1;33m\u001b[0m\u001b[0m\n\u001b[0m\u001b[0;32m     30\u001b[0m \u001b[1;33m\u001b[0m\u001b[0m\n\u001b[0;32m     31\u001b[0m     \u001b[1;33m@\u001b[0m\u001b[0mproperty\u001b[0m\u001b[1;33m\u001b[0m\u001b[1;33m\u001b[0m\u001b[0m\n",
      "\u001b[1;31mValueError\u001b[0m: "
     ]
    }
   ],
   "source": [
    "# compute_and_plot(**plot_setup, opt_set=({'n_iters':3, 'infinite_gauge':True, 'flux_corrected_transport':True, 'third_order_terms':True}, {'n_iters':3, 'infinite_gauge':True, 'flux_corrected_transport':True, 'DPDC':True}), plots=['n'], filename = 'fig_DPDC.pdf')"
   ]
  },
  {
   "cell_type": "code",
   "execution_count": null,
   "metadata": {},
   "outputs": [],
   "source": [
    "# compute_and_plot(**plot_setup, opt_set=({'n_iters':3, 'infinite_gauge':True, 'flux_corrected_transport':True, 'third_order_terms':True}, {'n_iters':3, 'infinite_gauge':True, 'flux_corrected_transport':True, 'third_order_terms':True,'DPDC':True}), plots=['n'], filename = 'fig_DPDC.pdf')"
   ]
  },
  {
   "cell_type": "code",
   "execution_count": 10,
   "metadata": {
    "scrolled": false
   },
   "outputs": [
    {
     "name": "stderr",
     "output_type": "stream",
     "text": [
      "[Parallel(n_jobs=-2)]: Using backend ThreadingBackend with 7 concurrent workers.\n",
      "[Parallel(n_jobs=-2)]: Done   3 out of   3 | elapsed:   30.7s remaining:    0.0s\n",
      "[Parallel(n_jobs=-2)]: Done   3 out of   3 | elapsed:   30.7s finished\n"
     ]
    },
    {
     "name": "stdout",
     "output_type": "stream",
     "text": [
      "dispersion ratio excess upwind: 0 %\n",
      "\n",
      "\n",
      "mass ratio excess: 0 %\n",
      "\n",
      "\n",
      "dispersion ratio excess upwind: 24 %\n",
      "\n",
      "\n",
      "mass ratio excess: 5.5 %\n",
      "\n",
      "\n",
      "dispersion ratio excess upwind: 71 %\n",
      "\n",
      "\n",
      "mass ratio excess: 4.4 %\n",
      "\n",
      "\n",
      "dispersion ratio excess MPDATA 2 iterations: 0 %\n",
      "\n",
      "\n",
      "mass ratio excess: 0 %\n",
      "\n",
      "\n",
      "dispersion ratio excess MPDATA 2 iterations: 13 %\n",
      "\n",
      "\n",
      "mass ratio excess: 2 %\n",
      "\n",
      "\n",
      "dispersion ratio excess MPDATA 2 iterations: 42 %\n",
      "\n",
      "\n",
      "mass ratio excess: 0.82 %\n",
      "\n",
      "\n",
      "dispersion ratio excess MPDATA 3 iterations: 0 %\n",
      "\n",
      "\n",
      "mass ratio excess: 0 %\n",
      "\n",
      "\n",
      "dispersion ratio excess MPDATA 3 iterations: 10 %\n",
      "\n",
      "\n",
      "mass ratio excess: 1.5 %\n",
      "\n",
      "\n",
      "dispersion ratio excess MPDATA 3 iterations: 35 %\n",
      "\n",
      "\n",
      "mass ratio excess: 0.15 %\n",
      "\n",
      "\n",
      "grid_layout: x_log_of_pn\n"
     ]
    },
    {
     "data": {
      "application/vnd.jupyter.widget-view+json": {
       "model_id": "ed870e60b8da4b51a9818d60e6c28fd3",
       "version_major": 2,
       "version_minor": 0
      },
      "text/plain": [
       "VBox(children=(Output(), HTML(value=\"<a href='../utils/output\\\\fig_mpdatas.pdf' target='_blank'>../utils/outpu…"
      ]
     },
     "metadata": {},
     "output_type": "display_data"
    }
   ],
   "source": [
    "compute_and_plot(**plot_setup, opt_set=({'n_iters': 1},{'n_iters':2},{'n_iters':3}), plots=['n'], filename = 'fig_mpdatas.pdf')"
   ]
  },
  {
   "cell_type": "code",
   "execution_count": 11,
   "metadata": {
    "scrolled": false
   },
   "outputs": [
    {
     "name": "stderr",
     "output_type": "stream",
     "text": [
      "[Parallel(n_jobs=-2)]: Using backend ThreadingBackend with 7 concurrent workers.\n",
      "[Parallel(n_jobs=-2)]: Done   3 out of   3 | elapsed:   23.3s remaining:    0.0s\n",
      "[Parallel(n_jobs=-2)]: Done   3 out of   3 | elapsed:   23.3s finished\n"
     ]
    },
    {
     "name": "stdout",
     "output_type": "stream",
     "text": [
      "dispersion ratio excess upwind: 0 %\n",
      "\n",
      "\n",
      "mass ratio excess: 0 %\n",
      "\n",
      "\n",
      "dispersion ratio excess upwind: 24 %\n",
      "\n",
      "\n",
      "mass ratio excess: 5.5 %\n",
      "\n",
      "\n",
      "dispersion ratio excess upwind: 71 %\n",
      "\n",
      "\n",
      "mass ratio excess: 4.4 %\n",
      "\n",
      "\n",
      "dispersion ratio excess MPDATA 2 iterations: 0 %\n",
      "\n",
      "\n",
      "mass ratio excess: 0 %\n",
      "\n",
      "\n",
      "dispersion ratio excess MPDATA 2 iterations: 13 %\n",
      "\n",
      "\n",
      "mass ratio excess: 2 %\n",
      "\n",
      "\n",
      "dispersion ratio excess MPDATA 2 iterations: 42 %\n",
      "\n",
      "\n",
      "mass ratio excess: 0.82 %\n",
      "\n",
      "\n",
      "dispersion ratio excess MPDATA 2 iterations  infinite gauge: 0 %\n",
      "\n",
      "\n",
      "mass ratio excess: 0 %\n",
      "\n",
      "\n",
      "dispersion ratio excess MPDATA 2 iterations  infinite gauge: 8.1 %\n",
      "\n",
      "\n",
      "mass ratio excess: 1.7 %\n",
      "\n",
      "\n",
      "dispersion ratio excess MPDATA 2 iterations  infinite gauge: 26 %\n",
      "\n",
      "\n",
      "mass ratio excess: 0.79 %\n",
      "\n",
      "\n",
      "grid_layout: x_log_of_pn\n"
     ]
    },
    {
     "data": {
      "application/vnd.jupyter.widget-view+json": {
       "model_id": "83c2ad866cf54362b3d3342b9ffcecfd",
       "version_major": 2,
       "version_minor": 0
      },
      "text/plain": [
       "VBox(children=(Output(), HTML(value=\"<a href='../utils/output\\\\fig_iga.pdf' target='_blank'>../utils/output\\\\f…"
      ]
     },
     "metadata": {},
     "output_type": "display_data"
    }
   ],
   "source": [
    "compute_and_plot(**plot_setup, opt_set=({'n_iters': 1},{'n_iters':2},{'n_iters':2,'infinite_gauge':True}), plots=['n'], filename = 'fig_iga.pdf')"
   ]
  },
  {
   "cell_type": "code",
   "execution_count": 12,
   "metadata": {
    "scrolled": false
   },
   "outputs": [
    {
     "name": "stderr",
     "output_type": "stream",
     "text": [
      "[Parallel(n_jobs=-2)]: Using backend ThreadingBackend with 7 concurrent workers.\n",
      "[Parallel(n_jobs=-2)]: Done   3 out of   3 | elapsed:   33.8s remaining:    0.0s\n",
      "[Parallel(n_jobs=-2)]: Done   3 out of   3 | elapsed:   33.8s finished\n"
     ]
    },
    {
     "name": "stdout",
     "output_type": "stream",
     "text": [
      "dispersion ratio excess upwind: 0 %\n",
      "\n",
      "\n",
      "mass ratio excess: 0 %\n",
      "\n",
      "\n",
      "dispersion ratio excess upwind: 24 %\n",
      "\n",
      "\n",
      "mass ratio excess: 5.5 %\n",
      "\n",
      "\n",
      "dispersion ratio excess upwind: 71 %\n",
      "\n",
      "\n",
      "mass ratio excess: 4.4 %\n",
      "\n",
      "\n",
      "dispersion ratio excess MPDATA 2 iterations: 0 %\n",
      "\n",
      "\n",
      "mass ratio excess: 0 %\n",
      "\n",
      "\n",
      "dispersion ratio excess MPDATA 2 iterations: 13 %\n",
      "\n",
      "\n",
      "mass ratio excess: 2 %\n",
      "\n",
      "\n",
      "dispersion ratio excess MPDATA 2 iterations: 42 %\n",
      "\n",
      "\n",
      "mass ratio excess: 0.82 %\n",
      "\n",
      "\n",
      "dispersion ratio excess MPDATA 2 iterations  infinite gauge  non-oscillatory: 0 %\n",
      "\n",
      "\n",
      "mass ratio excess: 0 %\n",
      "\n",
      "\n",
      "dispersion ratio excess MPDATA 2 iterations  infinite gauge  non-oscillatory: 8.8 %\n",
      "\n",
      "\n",
      "mass ratio excess: 1.5 %\n",
      "\n",
      "\n",
      "dispersion ratio excess MPDATA 2 iterations  infinite gauge  non-oscillatory: 30 %\n",
      "\n",
      "\n",
      "mass ratio excess: 0.3 %\n",
      "\n",
      "\n",
      "grid_layout: x_log_of_pn\n"
     ]
    },
    {
     "data": {
      "application/vnd.jupyter.widget-view+json": {
       "model_id": "9071b1ab026044e4ad9164005d5ccd51",
       "version_major": 2,
       "version_minor": 0
      },
      "text/plain": [
       "VBox(children=(Output(), HTML(value=\"<a href='../utils/output\\\\fig_fct.pdf' target='_blank'>../utils/output\\\\f…"
      ]
     },
     "metadata": {},
     "output_type": "display_data"
    }
   ],
   "source": [
    "compute_and_plot(**plot_setup, opt_set=({'n_iters': 1},{'n_iters':2},{'n_iters':2,'infinite_gauge':True,'flux_corrected_transport':True}), plots=['n'], filename = 'fig_fct.pdf')"
   ]
  },
  {
   "cell_type": "code",
   "execution_count": 13,
   "metadata": {
    "scrolled": false
   },
   "outputs": [
    {
     "name": "stderr",
     "output_type": "stream",
     "text": [
      "[Parallel(n_jobs=-2)]: Using backend ThreadingBackend with 7 concurrent workers.\n",
      "[Parallel(n_jobs=-2)]: Done   3 out of   3 | elapsed:   47.9s remaining:    0.0s\n",
      "[Parallel(n_jobs=-2)]: Done   3 out of   3 | elapsed:   47.9s finished\n"
     ]
    },
    {
     "name": "stdout",
     "output_type": "stream",
     "text": [
      "dispersion ratio excess upwind: 0 %\n",
      "\n",
      "\n",
      "mass ratio excess: 0 %\n",
      "\n",
      "\n",
      "dispersion ratio excess upwind: 24 %\n",
      "\n",
      "\n",
      "mass ratio excess: 5.5 %\n",
      "\n",
      "\n",
      "dispersion ratio excess upwind: 71 %\n",
      "\n",
      "\n",
      "mass ratio excess: 4.4 %\n",
      "\n",
      "\n",
      "dispersion ratio excess MPDATA 3 iterations: 0 %\n",
      "\n",
      "\n",
      "mass ratio excess: 0 %\n",
      "\n",
      "\n",
      "dispersion ratio excess MPDATA 3 iterations: 10 %\n",
      "\n",
      "\n",
      "mass ratio excess: 1.5 %\n",
      "\n",
      "\n",
      "dispersion ratio excess MPDATA 3 iterations: 35 %\n",
      "\n",
      "\n",
      "mass ratio excess: 0.15 %\n",
      "\n",
      "\n",
      "dispersion ratio excess MPDATA 3 iterations  third order terms: 0 %\n",
      "\n",
      "\n",
      "mass ratio excess: 0 %\n",
      "\n",
      "\n",
      "dispersion ratio excess MPDATA 3 iterations  third order terms: 8 %\n",
      "\n",
      "\n",
      "mass ratio excess: 1.6 %\n",
      "\n",
      "\n",
      "dispersion ratio excess MPDATA 3 iterations  third order terms: 28 %\n",
      "\n",
      "\n",
      "mass ratio excess: 1.2 %\n",
      "\n",
      "\n",
      "grid_layout: x_log_of_pn\n"
     ]
    },
    {
     "data": {
      "application/vnd.jupyter.widget-view+json": {
       "model_id": "43133c81f1c9431ba98b4d3b3e973058",
       "version_major": 2,
       "version_minor": 0
      },
      "text/plain": [
       "VBox(children=(Output(), HTML(value=\"<a href='../utils/output\\\\fig_tot.pdf' target='_blank'>../utils/output\\\\f…"
      ]
     },
     "metadata": {},
     "output_type": "display_data"
    }
   ],
   "source": [
    "compute_and_plot(**plot_setup, opt_set=({'n_iters': 1},{'n_iters':3},{'n_iters':3,'third_order_terms':True}), plots=['n'], filename = 'fig_tot.pdf')"
   ]
  },
  {
   "cell_type": "code",
   "execution_count": 14,
   "metadata": {
    "scrolled": false
   },
   "outputs": [
    {
     "name": "stderr",
     "output_type": "stream",
     "text": [
      "[Parallel(n_jobs=-2)]: Using backend ThreadingBackend with 7 concurrent workers.\n",
      "[Parallel(n_jobs=-2)]: Done   3 out of   3 | elapsed:   57.0s remaining:    0.0s\n",
      "[Parallel(n_jobs=-2)]: Done   3 out of   3 | elapsed:   57.0s finished\n"
     ]
    },
    {
     "name": "stdout",
     "output_type": "stream",
     "text": [
      "dispersion ratio excess upwind: 0 %\n",
      "\n",
      "\n",
      "mass ratio excess: 0 %\n",
      "\n",
      "\n",
      "dispersion ratio excess upwind: 24 %\n",
      "\n",
      "\n",
      "mass ratio excess: 5.5 %\n",
      "\n",
      "\n",
      "dispersion ratio excess upwind: 71 %\n",
      "\n",
      "\n",
      "mass ratio excess: 4.4 %\n",
      "\n",
      "\n",
      "dispersion ratio excess MPDATA 2 iterations: 0 %\n",
      "\n",
      "\n",
      "mass ratio excess: 0 %\n",
      "\n",
      "\n",
      "dispersion ratio excess MPDATA 2 iterations: 13 %\n",
      "\n",
      "\n",
      "mass ratio excess: 2 %\n",
      "\n",
      "\n",
      "dispersion ratio excess MPDATA 2 iterations: 42 %\n",
      "\n",
      "\n",
      "mass ratio excess: 0.82 %\n",
      "\n",
      "\n",
      "dispersion ratio excess MPDATA 3 iterations  infinite gauge  non-oscillatory  third order terms: 0 %\n",
      "\n",
      "\n",
      "mass ratio excess: 0 %\n",
      "\n",
      "\n",
      "dispersion ratio excess MPDATA 3 iterations  infinite gauge  non-oscillatory  third order terms: 2.4 %\n",
      "\n",
      "\n",
      "mass ratio excess: 0.64 %\n",
      "\n",
      "\n",
      "dispersion ratio excess MPDATA 3 iterations  infinite gauge  non-oscillatory  third order terms: 6.6 %\n",
      "\n",
      "\n",
      "mass ratio excess: -0.88 %\n",
      "\n",
      "\n",
      "grid_layout: x_log_of_pn\n"
     ]
    },
    {
     "data": {
      "application/vnd.jupyter.widget-view+json": {
       "model_id": "2ce6568c372a45909f4c9d89ddea6600",
       "version_major": 2,
       "version_minor": 0
      },
      "text/plain": [
       "VBox(children=(Output(), HTML(value=\"<a href='../utils/output\\\\fig_multiopt.pdf' target='_blank'>../utils/outp…"
      ]
     },
     "metadata": {},
     "output_type": "display_data"
    }
   ],
   "source": [
    "compute_and_plot(**plot_setup, opt_set=(\n",
    "    {'n_iters':1},\n",
    "    {'n_iters':2},\n",
    "    {'n_iters':3,'infinite_gauge':True, 'flux_corrected_transport':True,'third_order_terms':True},\n",
    "), plots=['n'], filename='fig_multiopt.pdf')"
   ]
  },
  {
   "cell_type": "code",
   "execution_count": 15,
   "metadata": {},
   "outputs": [
    {
     "name": "stderr",
     "output_type": "stream",
     "text": [
      "[Parallel(n_jobs=-2)]: Using backend ThreadingBackend with 7 concurrent workers.\n",
      "[Parallel(n_jobs=-2)]: Done   3 out of   3 | elapsed:   43.9s remaining:    0.0s\n",
      "[Parallel(n_jobs=-2)]: Done   3 out of   3 | elapsed:   43.9s finished\n"
     ]
    },
    {
     "name": "stdout",
     "output_type": "stream",
     "text": [
      "dispersion ratio excess upwind: 0 %\n",
      "\n",
      "\n",
      "mass ratio excess: 0 %\n",
      "\n",
      "\n",
      "dispersion ratio excess upwind: 24 %\n",
      "\n",
      "\n",
      "mass ratio excess: 5.5 %\n",
      "\n",
      "\n",
      "dispersion ratio excess upwind: 71 %\n",
      "\n",
      "\n",
      "mass ratio excess: 4.4 %\n",
      "\n",
      "\n",
      "dispersion ratio excess MPDATA 2 iterations  infinite gauge  non-oscillatory: 0 %\n",
      "\n",
      "\n",
      "mass ratio excess: 0 %\n",
      "\n",
      "\n",
      "dispersion ratio excess MPDATA 2 iterations  infinite gauge  non-oscillatory: 8.8 %\n",
      "\n",
      "\n",
      "mass ratio excess: 1.5 %\n",
      "\n",
      "\n",
      "dispersion ratio excess MPDATA 2 iterations  infinite gauge  non-oscillatory: 30 %\n",
      "\n",
      "\n",
      "mass ratio excess: 0.3 %\n",
      "\n",
      "\n",
      "dispersion ratio excess MPDATA 2 iterations  infinite gauge  non-oscillatory  DPDC: 0 %\n",
      "\n",
      "\n",
      "mass ratio excess: 0 %\n",
      "\n",
      "\n",
      "dispersion ratio excess MPDATA 2 iterations  infinite gauge  non-oscillatory  DPDC: 6.3 %\n",
      "\n",
      "\n",
      "mass ratio excess: -0.084 %\n",
      "\n",
      "\n",
      "dispersion ratio excess MPDATA 2 iterations  infinite gauge  non-oscillatory  DPDC: 25 %\n",
      "\n",
      "\n",
      "mass ratio excess: -3.5 %\n",
      "\n",
      "\n",
      "grid_layout: x_log_of_pn\n"
     ]
    },
    {
     "data": {
      "application/vnd.jupyter.widget-view+json": {
       "model_id": "42ccf002cf294c0e97edbd9887fe56ec",
       "version_major": 2,
       "version_minor": 0
      },
      "text/plain": [
       "VBox(children=(Output(), HTML(value=\"<a href='../utils/output\\\\fig_dpdc.pdf' target='_blank'>../utils/output\\\\…"
      ]
     },
     "metadata": {},
     "output_type": "display_data"
    }
   ],
   "source": [
    "compute_and_plot(**plot_setup, opt_set=({'n_iters': 1},{'n_iters':2,'infinite_gauge':True,'flux_corrected_transport':True}, {'n_iters':2,'infinite_gauge':True,'flux_corrected_transport':True,'DPDC': True}), plots=['n'], filename = 'fig_dpdc.pdf')"
   ]
  },
  {
   "cell_type": "code",
   "execution_count": null,
   "metadata": {},
   "outputs": [],
   "source": []
  },
  {
   "cell_type": "code",
   "execution_count": 19,
   "metadata": {},
   "outputs": [
    {
     "name": "stderr",
     "output_type": "stream",
     "text": [
      "[Parallel(n_jobs=-2)]: Using backend ThreadingBackend with 7 concurrent workers.\n",
      "[Parallel(n_jobs=-2)]: Done   3 out of   3 | elapsed:   55.8s remaining:    0.0s\n",
      "[Parallel(n_jobs=-2)]: Done   3 out of   3 | elapsed:   55.8s finished\n"
     ]
    },
    {
     "name": "stdout",
     "output_type": "stream",
     "text": [
      "dispersion ratio excess upwind: 0 %\n",
      "\n",
      "\n",
      "mass ratio excess: 0 %\n",
      "\n",
      "\n",
      "dispersion ratio excess upwind: 24 %\n",
      "\n",
      "\n",
      "mass ratio excess: 5.5 %\n",
      "\n",
      "\n",
      "dispersion ratio excess upwind: 71 %\n",
      "\n",
      "\n",
      "mass ratio excess: 4.4 %\n",
      "\n",
      "\n",
      "dispersion ratio excess MPDATA 2 iterations  DPDC  non-oscillatory: 0 %\n",
      "\n",
      "\n",
      "mass ratio excess: 0 %\n",
      "\n",
      "\n",
      "dispersion ratio excess MPDATA 2 iterations  DPDC  non-oscillatory: 9.1 %\n",
      "\n",
      "\n",
      "mass ratio excess: 1.5 %\n",
      "\n",
      "\n",
      "dispersion ratio excess MPDATA 2 iterations  DPDC  non-oscillatory: 31 %\n",
      "\n",
      "\n",
      "mass ratio excess: 0.2 %\n",
      "\n",
      "\n",
      "dispersion ratio excess MPDATA 2 iterations  DPDC  non-oscillatory  divergent flow: 0 %\n",
      "\n",
      "\n",
      "mass ratio excess: 0 %\n",
      "\n",
      "\n",
      "dispersion ratio excess MPDATA 2 iterations  DPDC  non-oscillatory  divergent flow: 9.1 %\n",
      "\n",
      "\n",
      "mass ratio excess: 1.5 %\n",
      "\n",
      "\n",
      "dispersion ratio excess MPDATA 2 iterations  DPDC  non-oscillatory  divergent flow: 31 %\n",
      "\n",
      "\n",
      "mass ratio excess: 0.2 %\n",
      "\n",
      "\n",
      "grid_layout: x_log_of_pn\n"
     ]
    },
    {
     "data": {
      "application/vnd.jupyter.widget-view+json": {
       "model_id": "cb8537e5926a49ed93a6a2e28591e1f7",
       "version_major": 2,
       "version_minor": 0
      },
      "text/plain": [
       "VBox(children=(Output(), HTML(value=\"<a href='../utils/output\\\\fig_dfl2.pdf' target='_blank'>../utils/output\\\\…"
      ]
     },
     "metadata": {},
     "output_type": "display_data"
    }
   ],
   "source": [
    "compute_and_plot(**plot_setup, opt_set=(\n",
    "    {'n_iters':1},\n",
    "    {'n_iters':2, 'DPDC':True, 'flux_corrected_transport':True},\n",
    "    {'n_iters':2, 'DPDC':True, 'flux_corrected_transport':True, 'divergent_flow':True},\n",
    "), plots=['n'], filename='fig_dfl2.pdf')"
   ]
  },
  {
   "cell_type": "code",
   "execution_count": 20,
   "metadata": {},
   "outputs": [
    {
     "name": "stderr",
     "output_type": "stream",
     "text": [
      "[Parallel(n_jobs=-2)]: Using backend ThreadingBackend with 7 concurrent workers.\n",
      "[Parallel(n_jobs=-2)]: Done   3 out of   3 | elapsed:   59.5s remaining:    0.0s\n",
      "[Parallel(n_jobs=-2)]: Done   3 out of   3 | elapsed:   59.5s finished\n"
     ]
    },
    {
     "name": "stdout",
     "output_type": "stream",
     "text": [
      "dispersion ratio excess upwind: 0 %\n",
      "\n",
      "\n",
      "mass ratio excess: 0 %\n",
      "\n",
      "\n",
      "dispersion ratio excess upwind: 24 %\n",
      "\n",
      "\n",
      "mass ratio excess: 5.5 %\n",
      "\n",
      "\n",
      "dispersion ratio excess upwind: 71 %\n",
      "\n",
      "\n",
      "mass ratio excess: 4.4 %\n",
      "\n",
      "\n",
      "dispersion ratio excess MPDATA 3 iterations  third order terms: 0 %\n",
      "\n",
      "\n",
      "mass ratio excess: 0 %\n",
      "\n",
      "\n",
      "dispersion ratio excess MPDATA 3 iterations  third order terms: 8 %\n",
      "\n",
      "\n",
      "mass ratio excess: 1.6 %\n",
      "\n",
      "\n",
      "dispersion ratio excess MPDATA 3 iterations  third order terms: 28 %\n",
      "\n",
      "\n",
      "mass ratio excess: 1.2 %\n",
      "\n",
      "\n",
      "dispersion ratio excess MPDATA 3 iterations  third order terms  divergent flow: 0 %\n",
      "\n",
      "\n",
      "mass ratio excess: 0 %\n",
      "\n",
      "\n",
      "dispersion ratio excess MPDATA 3 iterations  third order terms  divergent flow: 8 %\n",
      "\n",
      "\n",
      "mass ratio excess: 1.6 %\n",
      "\n",
      "\n",
      "dispersion ratio excess MPDATA 3 iterations  third order terms  divergent flow: 28 %\n",
      "\n",
      "\n",
      "mass ratio excess: 1.2 %\n",
      "\n",
      "\n",
      "grid_layout: x_log_of_pn\n"
     ]
    },
    {
     "data": {
      "application/vnd.jupyter.widget-view+json": {
       "model_id": "f880d603684641499c033b2242ca9062",
       "version_major": 2,
       "version_minor": 0
      },
      "text/plain": [
       "VBox(children=(Output(), HTML(value=\"<a href='../utils/output\\\\fig_dfl3_tot.pdf' target='_blank'>../utils/outp…"
      ]
     },
     "metadata": {},
     "output_type": "display_data"
    }
   ],
   "source": [
    "compute_and_plot(**plot_setup, opt_set=(\n",
    "    {'n_iters':1},\n",
    "    {'n_iters':3, 'third_order_terms':True},\n",
    "    {'n_iters':3, 'third_order_terms':True, 'divergent_flow':True},\n",
    "), plots=['n'], filename='fig_dfl3_tot.pdf')"
   ]
  },
  {
   "cell_type": "code",
   "execution_count": 21,
   "metadata": {},
   "outputs": [
    {
     "name": "stderr",
     "output_type": "stream",
     "text": [
      "[Parallel(n_jobs=-2)]: Using backend ThreadingBackend with 7 concurrent workers.\n",
      "[Parallel(n_jobs=-2)]: Done   3 out of   3 | elapsed:   28.4s remaining:    0.0s\n",
      "[Parallel(n_jobs=-2)]: Done   3 out of   3 | elapsed:   28.4s finished\n"
     ]
    },
    {
     "name": "stdout",
     "output_type": "stream",
     "text": [
      "dispersion ratio excess upwind: 0 %\n",
      "\n",
      "\n",
      "mass ratio excess: 0 %\n",
      "\n",
      "\n",
      "dispersion ratio excess upwind: 19 %\n",
      "\n",
      "\n",
      "mass ratio excess: 0.89 %\n",
      "\n",
      "\n",
      "dispersion ratio excess upwind: 48 %\n",
      "\n",
      "\n",
      "mass ratio excess: 0.41 %\n",
      "\n",
      "\n",
      "dispersion ratio excess MPDATA 2 iterations: 0 %\n",
      "\n",
      "\n",
      "mass ratio excess: 0 %\n",
      "\n",
      "\n",
      "dispersion ratio excess MPDATA 2 iterations: 4.9 %\n",
      "\n",
      "\n",
      "mass ratio excess: -0.5 %\n",
      "\n",
      "\n",
      "dispersion ratio excess MPDATA 2 iterations: 14 %\n",
      "\n",
      "\n",
      "mass ratio excess: -1.1 %\n",
      "\n",
      "\n",
      "dispersion ratio excess MPDATA 2 iterations  divergent flow: 0 %\n",
      "\n",
      "\n",
      "mass ratio excess: 0 %\n",
      "\n",
      "\n",
      "dispersion ratio excess MPDATA 2 iterations  divergent flow: 4.9 %\n",
      "\n",
      "\n",
      "mass ratio excess: -0.49 %\n",
      "\n",
      "\n",
      "dispersion ratio excess MPDATA 2 iterations  divergent flow: 13 %\n",
      "\n",
      "\n",
      "mass ratio excess: -1 %\n",
      "\n",
      "\n",
      "grid_layout: x_id\n"
     ]
    },
    {
     "data": {
      "application/vnd.jupyter.widget-view+json": {
       "model_id": "7be4a40582ff4800a7613a6de32d3942",
       "version_major": 2,
       "version_minor": 0
      },
      "text/plain": [
       "VBox(children=(Output(), HTML(value=\"<a href='../utils/output\\\\fig_id_id_dfl.pdf' target='_blank'>../utils/out…"
      ]
     },
     "metadata": {},
     "output_type": "display_data"
    }
   ],
   "source": [
    "compute_and_plot(**plot_setup2, opt_set=(\n",
    "    {'n_iters':1},\n",
    "    {'n_iters':2},\n",
    "    {'n_iters':2, 'divergent_flow':True},\n",
    "), plots=['n'], filename='fig_id_id_dfl.pdf')"
   ]
  },
  {
   "cell_type": "code",
   "execution_count": 24,
   "metadata": {},
   "outputs": [
    {
     "name": "stderr",
     "output_type": "stream",
     "text": [
      "[Parallel(n_jobs=-2)]: Using backend ThreadingBackend with 7 concurrent workers.\n",
      "[Parallel(n_jobs=-2)]: Done   3 out of   3 | elapsed:    1.3s remaining:    0.0s\n",
      "[Parallel(n_jobs=-2)]: Done   3 out of   3 | elapsed:    1.3s finished\n"
     ]
    },
    {
     "name": "stdout",
     "output_type": "stream",
     "text": [
      "dispersion ratio excess upwind: 0 %\n",
      "\n",
      "\n",
      "mass ratio excess: 0 %\n",
      "\n",
      "\n",
      "dispersion ratio excess upwind: 66 %\n",
      "\n",
      "\n",
      "mass ratio excess: 1.6 %\n",
      "\n",
      "\n",
      "dispersion ratio excess upwind: 1.7e+02 %\n",
      "\n",
      "\n",
      "mass ratio excess: 16 %\n",
      "\n",
      "\n",
      "dispersion ratio excess MPDATA 2 iterations: 0 %\n",
      "\n",
      "\n",
      "mass ratio excess: 0 %\n",
      "\n",
      "\n",
      "dispersion ratio excess MPDATA 2 iterations: 40 %\n",
      "\n",
      "\n",
      "mass ratio excess: -4 %\n",
      "\n",
      "\n",
      "dispersion ratio excess MPDATA 2 iterations: 1.1e+02 %\n",
      "\n",
      "\n",
      "mass ratio excess: 13 %\n",
      "\n",
      "\n",
      "dispersion ratio excess MPDATA 2 iterations  divergent flow: 0 %\n",
      "\n",
      "\n",
      "mass ratio excess: 0 %\n",
      "\n",
      "\n",
      "dispersion ratio excess MPDATA 2 iterations  divergent flow: 40 %\n",
      "\n",
      "\n",
      "mass ratio excess: -4 %\n",
      "\n",
      "\n",
      "dispersion ratio excess MPDATA 2 iterations  divergent flow: 1.1e+02 %\n",
      "\n",
      "\n",
      "mass ratio excess: 13 %\n",
      "\n",
      "\n",
      "grid_layout: x_id\n"
     ]
    },
    {
     "data": {
      "application/vnd.jupyter.widget-view+json": {
       "model_id": "49571e99043d452996ee87c2bd485774",
       "version_major": 2,
       "version_minor": 0
      },
      "text/plain": [
       "VBox(children=(Output(), HTML(value=\"<a href='../utils/output\\\\fig_id_id_dfl_lowres.pdf' target='_blank'>../ut…"
      ]
     },
     "metadata": {},
     "output_type": "display_data"
    }
   ],
   "source": [
    "compute_and_plot(**plot_setup1, opt_set=(\n",
    "    {'n_iters':1},\n",
    "    {'n_iters':2, 'infinite_gauge':True},\n",
    "    {'n_iters':2, 'divergent_flow':True, 'infinite_gauge':True},\n",
    "), plots=['n'], filename='fig_id_id_dfl_lowres.pdf')"
   ]
  },
  {
   "cell_type": "code",
   "execution_count": null,
   "metadata": {},
   "outputs": [],
   "source": []
  }
 ],
 "metadata": {
  "kernelspec": {
   "display_name": "Python 3",
   "language": "python",
   "name": "python3"
  },
  "language_info": {
   "codemirror_mode": {
    "name": "ipython",
    "version": 3
   },
   "file_extension": ".py",
   "mimetype": "text/x-python",
   "name": "python",
   "nbconvert_exporter": "python",
   "pygments_lexer": "ipython3",
   "version": "3.7.6"
  }
 },
 "nbformat": 4,
 "nbformat_minor": 2
}
