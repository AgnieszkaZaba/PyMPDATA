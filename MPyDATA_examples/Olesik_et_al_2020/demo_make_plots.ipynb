{
 "cells": [
  {
   "cell_type": "code",
   "execution_count": 1,
   "metadata": {},
   "outputs": [],
   "source": [
    "import os\n",
    "os.environ[\"NUMBA_DISABLE_JIT\"] = \"1\""
   ]
  },
  {
   "cell_type": "code",
   "execution_count": 2,
   "metadata": {},
   "outputs": [],
   "source": [
    "import sys, os\n",
    "if 'google.colab' in sys.modules:\n",
    "    %cd\n",
    "    % rm -rf MPyDATA\n",
    "    ! git clone --recurse-submodules -j8 https://github.com/Michaeldz36/MPyDATA.git\n",
    "    %cd MPyDATA\n",
    "    ! git checkout develop\n",
    "    ! pip install -U $(cat requirements.txt | cut -d '=' -f 1)\n",
    "else:\n",
    "    sys.path.append(os.path.join(os.getcwd(), '../..'))\n",
    "    \n",
    "from MPyDATA_examples.Olesik_et_al_2020.analysis import compute_figure_data, rel_disp, third_moment\n",
    "from MPyDATA_examples.Olesik_et_al_2020.physics.equilibrium_drop_growth import PdfEvolver\n",
    "from MPyDATA_examples.Olesik_et_al_2020.plotter import Plotter\n",
    "from MPyDATA_examples.Olesik_et_al_2020.coordinates import x_id, x_p2, x_p3,  x_log_of_pn\n",
    "from MPyDATA_examples.utils.show_plot import show_plot\n",
    "import numpy as np\n",
    "import matplotlib\n",
    "from matplotlib import pyplot"
   ]
  },
  {
   "cell_type": "code",
   "execution_count": 3,
   "metadata": {},
   "outputs": [],
   "source": [
    "from MPyDATA_examples.Olesik_et_al_2020.setup import default_opt_set, colors, default_mixing_ratios_g_kg"
   ]
  },
  {
   "cell_type": "code",
   "execution_count": 4,
   "metadata": {},
   "outputs": [],
   "source": [
    "plot_steps = [0, 2, 5]\n",
    "def compute_and_plot(psi_coord, grid_layout, n_bins, GC_max, variants, plots, filename):\n",
    "    results, setup = compute_figure_data(\n",
    "        psi_coord=psi_coord, \n",
    "        grid_layouts=(grid_layout,),\n",
    "        nr=n_bins,\n",
    "        GC_max = GC_max,\n",
    "        opt_set=tuple(default_opt_set[variant] for variant in variants)\n",
    "    )\n",
    "    return_value = {}\n",
    "    for coord in results.keys():\n",
    "        out_steps = results[coord]['grid']['out_steps']\n",
    "        dt = results[coord]['grid']['dt']\n",
    "        plotter = Plotter(setup, plots=plots)\n",
    "        for opt_i, opts in enumerate(results[coord]['numerical'].keys()):\n",
    "            variant = variants[opt_i]\n",
    "            plot_data = results[coord]['numerical'][opts]\n",
    "            for i in range(len(out_steps)):\n",
    "                mnorm = setup.mixing_ratios[i]\n",
    "                t = out_steps[i] * dt\n",
    "                linewidth = 1+1.5*i/len(out_steps)\n",
    "                if opt_i == 0 and i in plot_steps:\n",
    "                    plotter.pdf_curve(PdfEvolver(setup.pdf, setup.drdt, t), mnorm)\n",
    "                    plotter.pdf_histogram(\n",
    "                        results[coord]['grid']['r'], \n",
    "                        results[coord]['analytical'][i], \n",
    "                        bin_boundaries = results[coord]['grid']['rh'], \n",
    "                        label='discretised analytical solution (actual dotted)', \n",
    "                        mnorm=mnorm,\n",
    "                        color='black',\n",
    "                        linewidth = linewidth\n",
    "                    )\n",
    "                    \n",
    "                str_repl = [[\"'n_iters': 1\",\"upwind\"],\n",
    "                            [\"'n_iters': 2\",\"MPDATA 2 iterations\"],\n",
    "                            [\"'n_iters': 3\",\"MPDATA 3 iterations\"],\n",
    "                            [\"'\",\"\"],\n",
    "                            [\": True\",\"\"],\n",
    "                            [\"_\", \" \"],\n",
    "                            [\"{\",\"\"],[\"}\",\"\"],[\",\",\"\"],[\"flux corrected transport\",\"non-oscillatory\"]]                            \n",
    "                for repl in str_repl:\n",
    "                    opts = opts.replace(repl[0], repl[1])\n",
    "                    \n",
    "                if variant not in return_value:\n",
    "                    return_value[variant] = {'R_d': [], 'R_m': [], 'label': opts}\n",
    "\n",
    "                if i in [0, 2, 5]: \n",
    "                    plotter.pdf_histogram(\n",
    "                        results[coord]['grid']['r'], \n",
    "                        plot_data[i], \n",
    "                        label=opts, \n",
    "                        bin_boundaries=results[coord]['grid']['rh'], \n",
    "                        linewidth = linewidth,\n",
    "                        mnorm=mnorm, color = colors[variant], fill=False\n",
    "                    )\n",
    "                \n",
    "                dp_dr = psi_coord.dx_dr(results[coord]['grid']['r'])\n",
    "                numeric_rel_d = rel_disp(results[coord]['grid']['rh'], plot_data[i]/dp_dr, psi_coord)\n",
    "                analytic_rel_d = rel_disp(results[coord]['grid']['rh'], results[coord]['analytical'][i]/dp_dr, psi_coord)\n",
    "                dispersion_ratio = (numeric_rel_d / analytic_rel_d - 1) * 100\n",
    "#                 print(f\"dispersion ratio excess {opts}: {dispersion_ratio.to(setup.si.dimensionless).magnitude:.2g} %\")\n",
    "                return_value[variant]['R_d'].append(dispersion_ratio)\n",
    "                                \n",
    "                numeric_mass = third_moment(results[coord]['grid']['rh'], plot_data[i]/dp_dr, psi_coord, normalised=False)\n",
    "                analytic_mass = third_moment(results[coord]['grid']['rh'], results[coord]['analytical'][i]/dp_dr, psi_coord, normalised=False)\n",
    "                mass_ratio = (numeric_mass / analytic_mass - 1) * 100\n",
    "#                 print(f\"mass ratio excess: {mass_ratio.to(setup.si.dimensionless).magnitude:.2g} %\")\n",
    "                return_value[variant]['R_m'].append(mass_ratio)\n",
    "\n",
    "        pyplot.legend(bbox_to_anchor=(0.5, -0.25), loc='upper center')\n",
    "        show_plot(filename)\n",
    "    return return_value"
   ]
  },
  {
   "cell_type": "code",
   "execution_count": 5,
   "metadata": {},
   "outputs": [],
   "source": [
    "n_bins = 75\n",
    "plot_setup_radius_square_mass_doubling = {\"psi_coord\":x_p2(), \"grid_layout\":x_log_of_pn(r0=1, base=2), \"GC_max\":.26,\"n_bins\":n_bins}\n",
    "plot_setup_radius_linear = {\"psi_coord\":x_id(), \"grid_layout\":x_id(), \"GC_max\":.07, \"n_bins\":n_bins}\n",
    "plot_setup_default = plot_setup_radius_square_mass_doubling\n",
    "table_data = []"
   ]
  },
  {
   "cell_type": "code",
   "execution_count": 6,
   "metadata": {},
   "outputs": [
    {
     "name": "stderr",
     "output_type": "stream",
     "text": [
      "[Parallel(n_jobs=-2)]: Using backend ThreadingBackend with 7 concurrent workers.\n",
      "[Parallel(n_jobs=-2)]: Done   1 tasks      | elapsed:    4.1s\n",
      "[Parallel(n_jobs=-2)]: Done   1 out of   1 | elapsed:    4.1s finished\n",
      "No handles with labels found to put in legend.\n"
     ]
    },
    {
     "data": {
      "application/vnd.jupyter.widget-view+json": {
       "model_id": "138d0cf9dfee4840899b5bde910a7236",
       "version_major": 2,
       "version_minor": 0
      },
      "text/plain": [
       "VBox(children=(Output(), HTML(value=\"<a href='../utils/output\\\\fig_upwindb.pdf' target='_blank'>../utils/outpu…"
      ]
     },
     "metadata": {},
     "output_type": "display_data"
    }
   ],
   "source": [
    "compute_and_plot(**plot_setup_radius_linear, variants=('a',), plots=['n','m'],  filename = 'fig_upwindb.pdf');"
   ]
  },
  {
   "cell_type": "code",
   "execution_count": 7,
   "metadata": {
    "scrolled": false
   },
   "outputs": [
    {
     "name": "stderr",
     "output_type": "stream",
     "text": [
      "[Parallel(n_jobs=-2)]: Using backend ThreadingBackend with 7 concurrent workers.\n",
      "[Parallel(n_jobs=-2)]: Done   1 tasks      | elapsed:    3.6s\n",
      "[Parallel(n_jobs=-2)]: Done   1 out of   1 | elapsed:    3.6s finished\n",
      "No handles with labels found to put in legend.\n"
     ]
    },
    {
     "data": {
      "application/vnd.jupyter.widget-view+json": {
       "model_id": "eef1130803b443faabb8b1d09b9f6d8d",
       "version_major": 2,
       "version_minor": 0
      },
      "text/plain": [
       "VBox(children=(Output(), HTML(value=\"<a href='../utils/output\\\\fig_upwinda.pdf' target='_blank'>../utils/outpu…"
      ]
     },
     "metadata": {},
     "output_type": "display_data"
    }
   ],
   "source": [
    "table_data.append(compute_and_plot(**plot_setup_default, variants=('a',), plots=['n','m'], filename = 'fig_upwinda.pdf'))"
   ]
  },
  {
   "cell_type": "code",
   "execution_count": 8,
   "metadata": {},
   "outputs": [
    {
     "name": "stderr",
     "output_type": "stream",
     "text": [
      "[Parallel(n_jobs=-2)]: Using backend ThreadingBackend with 7 concurrent workers.\n",
      "[Parallel(n_jobs=-2)]: Done   3 out of   3 | elapsed:   30.8s remaining:    0.0s\n",
      "[Parallel(n_jobs=-2)]: Done   3 out of   3 | elapsed:   30.8s finished\n"
     ]
    },
    {
     "data": {
      "application/vnd.jupyter.widget-view+json": {
       "model_id": "7b7eb878248e464287ff6b7817cf1c6e",
       "version_major": 2,
       "version_minor": 0
      },
      "text/plain": [
       "VBox(children=(Output(), HTML(value=\"<a href='../utils/output\\\\fig_mpdatas.pdf' target='_blank'>../utils/outpu…"
      ]
     },
     "metadata": {},
     "output_type": "display_data"
    }
   ],
   "source": [
    "table_data.append(compute_and_plot(**plot_setup_default, variants=('a','b','g'), plots=['n'], filename = 'fig_mpdatas.pdf'))"
   ]
  },
  {
   "cell_type": "code",
   "execution_count": 9,
   "metadata": {},
   "outputs": [
    {
     "name": "stderr",
     "output_type": "stream",
     "text": [
      "[Parallel(n_jobs=-2)]: Using backend ThreadingBackend with 7 concurrent workers.\n",
      "[Parallel(n_jobs=-2)]: Done   2 out of   2 | elapsed:   17.9s remaining:    0.0s\n",
      "[Parallel(n_jobs=-2)]: Done   2 out of   2 | elapsed:   17.9s finished\n"
     ]
    },
    {
     "data": {
      "application/vnd.jupyter.widget-view+json": {
       "model_id": "e0dc10df765d43fe8d8244d047f52bad",
       "version_major": 2,
       "version_minor": 0
      },
      "text/plain": [
       "VBox(children=(Output(), HTML(value=\"<a href='../utils/output\\\\fig_iga.pdf' target='_blank'>../utils/output\\\\f…"
      ]
     },
     "metadata": {},
     "output_type": "display_data"
    }
   ],
   "source": [
    "table_data.append(compute_and_plot(**plot_setup_default, variants=('b', 'c'), plots=['n'], filename = 'fig_iga.pdf'))"
   ]
  },
  {
   "cell_type": "code",
   "execution_count": 10,
   "metadata": {
    "scrolled": false
   },
   "outputs": [
    {
     "name": "stderr",
     "output_type": "stream",
     "text": [
      "[Parallel(n_jobs=-2)]: Using backend ThreadingBackend with 7 concurrent workers.\n",
      "[Parallel(n_jobs=-2)]: Done   2 out of   2 | elapsed:   26.2s remaining:    0.0s\n",
      "[Parallel(n_jobs=-2)]: Done   2 out of   2 | elapsed:   26.2s finished\n"
     ]
    },
    {
     "data": {
      "application/vnd.jupyter.widget-view+json": {
       "model_id": "3dcb0b9f58134e678959345c27801297",
       "version_major": 2,
       "version_minor": 0
      },
      "text/plain": [
       "VBox(children=(Output(), HTML(value=\"<a href='../utils/output\\\\fig_iga_fct.pdf' target='_blank'>../utils/outpu…"
      ]
     },
     "metadata": {},
     "output_type": "display_data"
    }
   ],
   "source": [
    "table_data.append(compute_and_plot(**plot_setup_default, variants=('c','d'), plots=['n'], filename = 'fig_iga_fct.pdf'))"
   ]
  },
  {
   "cell_type": "code",
   "execution_count": 11,
   "metadata": {},
   "outputs": [
    {
     "name": "stderr",
     "output_type": "stream",
     "text": [
      "[Parallel(n_jobs=-2)]: Using backend ThreadingBackend with 7 concurrent workers.\n",
      "[Parallel(n_jobs=-2)]: Done   2 out of   2 | elapsed:   39.7s remaining:    0.0s\n",
      "[Parallel(n_jobs=-2)]: Done   2 out of   2 | elapsed:   39.7s finished\n"
     ]
    },
    {
     "data": {
      "application/vnd.jupyter.widget-view+json": {
       "model_id": "3b13a6986d16401db863eba2d754bcb9",
       "version_major": 2,
       "version_minor": 0
      },
      "text/plain": [
       "VBox(children=(Output(), HTML(value=\"<a href='../utils/output\\\\fig_iga_fct_dpdc.pdf' target='_blank'>../utils/…"
      ]
     },
     "metadata": {},
     "output_type": "display_data"
    }
   ],
   "source": [
    "table_data.append(compute_and_plot(**plot_setup_default, variants=('d','e'), plots=['n'], filename = 'fig_iga_fct_dpdc.pdf'))"
   ]
  },
  {
   "cell_type": "code",
   "execution_count": 12,
   "metadata": {},
   "outputs": [
    {
     "name": "stderr",
     "output_type": "stream",
     "text": [
      "[Parallel(n_jobs=-2)]: Using backend ThreadingBackend with 7 concurrent workers.\n",
      "[Parallel(n_jobs=-2)]: Done   2 out of   2 | elapsed:   43.2s remaining:    0.0s\n",
      "[Parallel(n_jobs=-2)]: Done   2 out of   2 | elapsed:   43.2s finished\n"
     ]
    },
    {
     "data": {
      "application/vnd.jupyter.widget-view+json": {
       "model_id": "08d890c386db459f8995253d31689e2e",
       "version_major": 2,
       "version_minor": 0
      },
      "text/plain": [
       "VBox(children=(Output(), HTML(value=\"<a href='../utils/output\\\\fig_tot.pdf' target='_blank'>../utils/output\\\\f…"
      ]
     },
     "metadata": {},
     "output_type": "display_data"
    }
   ],
   "source": [
    "table_data.append(compute_and_plot(**plot_setup_default, variants=('g','f'), plots=['n'], filename = 'fig_tot.pdf'))"
   ]
  },
  {
   "cell_type": "code",
   "execution_count": 13,
   "metadata": {},
   "outputs": [
    {
     "name": "stderr",
     "output_type": "stream",
     "text": [
      "[Parallel(n_jobs=-2)]: Using backend ThreadingBackend with 7 concurrent workers.\n",
      "[Parallel(n_jobs=-2)]: Done   2 out of   2 | elapsed:  1.1min remaining:    0.0s\n",
      "[Parallel(n_jobs=-2)]: Done   2 out of   2 | elapsed:  1.1min finished\n"
     ]
    },
    {
     "data": {
      "application/vnd.jupyter.widget-view+json": {
       "model_id": "425b9c5c9a13421ba001b5c00255ee1c",
       "version_major": 2,
       "version_minor": 0
      },
      "text/plain": [
       "VBox(children=(Output(), HTML(value=\"<a href='../utils/output\\\\fig_multiopt.pdf' target='_blank'>../utils/outp…"
      ]
     },
     "metadata": {},
     "output_type": "display_data"
    }
   ],
   "source": [
    "table_data.append(compute_and_plot(**plot_setup_default, variants=('f','h'), plots=['n'], filename = 'fig_multiopt.pdf'))"
   ]
  },
  {
   "cell_type": "code",
   "execution_count": null,
   "metadata": {},
   "outputs": [],
   "source": []
  },
  {
   "cell_type": "code",
   "execution_count": 71,
   "metadata": {
    "scrolled": false
   },
   "outputs": [
    {
     "data": {
      "application/vnd.jupyter.widget-view+json": {
       "model_id": "15db976b1b7445399b2f8f0be3081755",
       "version_major": 2,
       "version_minor": 0
      },
      "text/plain": [
       "VBox(children=(Output(), HTML(value=\"<a href='../utils/output\\\\measures.pdf' target='_blank'>../utils/output\\\\…"
      ]
     },
     "metadata": {},
     "output_type": "display_data"
    }
   ],
   "source": [
    "plot_data = {}\n",
    "for datum in table_data:\n",
    "    for key, value in datum.items():\n",
    "        plot_data[key] = value\n",
    "        \n",
    "pyplot.rcParams['xtick.bottom'] = pyplot.rcParams['xtick.labelbottom'] = False\n",
    "pyplot.rcParams['xtick.top'] = pyplot.rcParams['xtick.labeltop'] = True\n",
    "        \n",
    "def plot_measures(measure, ax, legend=False): \n",
    "    for variant, values in plot_data.items():\n",
    "        Y = default_mixing_ratios_g_kg\n",
    "        X = values[measure]\n",
    "        ax.scatter(X, Y, label=values['label'], color=colors[variant])\n",
    "        ax.plot(tuple(x.magnitude for x in X), Y, color='gray', linestyle='dotted')\n",
    "    ax.grid()\n",
    "    ax.invert_yaxis()\n",
    "    ax.set_xlabel(f'${measure}$ [%]', labelpad=-370)\n",
    "    ax.set_ylabel('mixing ratio [g kg$^{-1}$]', rotation=270, labelpad=30)\n",
    "    \n",
    "    for tl in ax.get_xticklabels():\n",
    "        tl.set_rotation(-90)\n",
    "    for tl in ax.get_yticklabels():\n",
    "        tl.set_rotation(-90)\n",
    "\n",
    "    if legend:\n",
    "        pyplot.legend(bbox_to_anchor=(+0.5, -0.15), loc='upper center')\n",
    "fig, axs = pyplot.subplots(2,1, figsize=(11,13))\n",
    "\n",
    "plot_measures('R_d', axs[0])\n",
    "plot_measures('R_m', axs[1], legend=True)\n",
    "\n",
    "show_plot('measures.pdf')"
   ]
  },
  {
   "cell_type": "code",
   "execution_count": null,
   "metadata": {},
   "outputs": [],
   "source": []
  },
  {
   "cell_type": "code",
   "execution_count": null,
   "metadata": {},
   "outputs": [],
   "source": []
  }
 ],
 "metadata": {
  "kernelspec": {
   "display_name": "Python 3",
   "language": "python",
   "name": "python3"
  },
  "language_info": {
   "codemirror_mode": {
    "name": "ipython",
    "version": 3
   },
   "file_extension": ".py",
   "mimetype": "text/x-python",
   "name": "python",
   "nbconvert_exporter": "python",
   "pygments_lexer": "ipython3",
   "version": "3.7.6"
  }
 },
 "nbformat": 4,
 "nbformat_minor": 2
}
