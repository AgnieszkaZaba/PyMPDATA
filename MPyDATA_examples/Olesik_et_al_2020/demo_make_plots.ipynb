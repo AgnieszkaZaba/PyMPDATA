{
 "cells": [
  {
   "cell_type": "code",
   "execution_count": 1,
   "metadata": {},
   "outputs": [],
   "source": [
    "import sys\n",
    "sys.path.insert(0, \"../..\")\n",
    "\n",
    "from MPyDATA_examples.Olesik_et_al_2020.analysis import compute_figure_data\n",
    "from MPyDATA_examples.Olesik_et_al_2020.physics.equilibrium_drop_growth import PdfEvolver\n",
    "from MPyDATA_examples.Olesik_et_al_2020.plotter import Plotter\n",
    "from MPyDATA_examples.Olesik_et_al_2020.coordinates import x_id, x_p2, x_p3,  x_log_of_pn\n",
    "from MPyDATA_examples.utils.show_plot import show_plot\n",
    "import numpy as np\n",
    "import matplotlib"
   ]
  },
  {
   "cell_type": "code",
   "execution_count": 2,
   "metadata": {},
   "outputs": [],
   "source": [
    "def compute_and_plot(psi_coord, grid_layout, n_bins, GC_max, opt_set, plots, filename):\n",
    "    results, setup = compute_figure_data(\n",
    "        psi_coord=psi_coord, \n",
    "        grid_layouts=(grid_layout,),\n",
    "        nr=n_bins,\n",
    "        GC_max = GC_max,\n",
    "        opt_set=opt_set\n",
    "    )\n",
    "    \n",
    "    colors = ['red', 'green', 'purple', 'blue', 'orange']\n",
    "    matplotlib.rcParams.update({'font.size': 16})\n",
    "    for coord in results.keys():\n",
    "        out_steps = results[coord]['grid']['out_steps']\n",
    "        dt = results[coord]['grid']['dt']\n",
    "        plotter = Plotter(setup, plots=plots)\n",
    "        for opt_i, opts in enumerate(results[coord]['numerical'].keys()):\n",
    "            wall_times = results[coord]['wall_time'][opts]\n",
    "            print(\"elapsed real time: \", wall_times)\n",
    "            mean_time = np.nanmean(wall_times)\n",
    "            print(\"mean time:\", mean_time)\n",
    "            plot_data = results[coord]['numerical'][opts]\n",
    "            m_diff, n_diff = [], []\n",
    "            for i in range(len(out_steps)):\n",
    "                mnorm = setup.mixing_ratios[i]\n",
    "                t = out_steps[i] * dt\n",
    "                linewidth = 1+1.5*i/len(out_steps)\n",
    "                if opt_i == 0:\n",
    "                    plotter.pdf_curve(PdfEvolver(setup.pdf, setup.drdt, t), mnorm)\n",
    "                    plotter.pdf_histogram(\n",
    "                        results[coord]['grid']['r'], \n",
    "                        results[coord]['analytical'][i], \n",
    "                        bin_boundaries = results[coord]['grid']['rh'], \n",
    "                        label='analytical', \n",
    "                        mnorm=mnorm,\n",
    "                        color='black',\n",
    "                        linewidth = linewidth\n",
    "                    )\n",
    "                    \n",
    "                    deltami, deltani = plotter.mass_difference(mnorm, plot_data[i], results[coord]['grid']['rh'])\n",
    "                    m_diff.append(deltami)\n",
    "                    n_diff.append(deltani)\n",
    "                    \n",
    "                str_repl = [[\"'n_iters': 1\",\"upwind\"],\n",
    "                            [\"'n_iters': 2\",\"MPDATA 2 iterations\"],\n",
    "                            [\"'n_iters': 3\",\"MPDATA 3 iterations\"],\n",
    "                            [\"'fct': True\",\"+ fct\"],\n",
    "                            [\"'iga': True\",\"+ iga\"],\n",
    "                            [\"'tot': True\",\"+ tot\"],\n",
    "                            [\"{\",\"\"],[\"}\",\"\"],[\",\",\" \"]]                            \n",
    "                for repl in str_repl:\n",
    "                    opts = opts.replace(repl[0], repl[1])\n",
    "                plotter.pdf_histogram(\n",
    "                    results[coord]['grid']['r'], \n",
    "                    plot_data[i], \n",
    "                    label=opts, \n",
    "                    bin_boundaries=results[coord]['grid']['rh'], \n",
    "                    linewidth = linewidth,\n",
    "                    mnorm=mnorm, color = colors[opt_i]\n",
    "                )\n",
    "        print(f\"grid_layout: {coord}\")\n",
    "        show_plot(filename)"
   ]
  },
  {
   "cell_type": "code",
   "execution_count": 3,
   "metadata": {},
   "outputs": [],
   "source": [
    "plot_setup = {\"psi_coord\":x_p2(), \"grid_layout\":x_log_of_pn(base=2), \"GC_max\":.26,\"n_bins\":75}\n",
    "plot_setup2 = {\"psi_coord\":x_id(), \"grid_layout\":x_id(), \"GC_max\":.07,\"n_bins\":75}"
   ]
  },
  {
   "cell_type": "code",
   "execution_count": 4,
   "metadata": {},
   "outputs": [
    {
     "name": "stderr",
     "output_type": "stream",
     "text": [
      "[Parallel(n_jobs=-2)]: Using backend ThreadingBackend with 7 concurrent workers.\n",
      "[Parallel(n_jobs=-2)]: Done   1 tasks      | elapsed:   12.2s\n",
      "[Parallel(n_jobs=-2)]: Done   1 out of   1 | elapsed:   12.2s finished\n"
     ]
    },
    {
     "name": "stdout",
     "output_type": "stream",
     "text": [
      "elapsed real time:  [nan, 0.026143790849673203, 0.025806451612903226, 0.026611093299134338]\n",
      "mean time: 0.026187111920570254\n",
      "Mass difference: 0.19741720488728465 dimensionless %\n",
      "Number difference: 0.007653969789974127 dimensionless %\n",
      "Mass difference: 3.338078295687996 dimensionless %\n",
      "Number difference: 0.00124047169558801 dimensionless %\n",
      "Mass difference: 5.267960166644459 dimensionless %\n",
      "Number difference: 0.032798895490924435 dimensionless %\n",
      "Mass difference: 4.813214671733768 dimensionless %\n",
      "Number difference: 0.6975093679763827 dimensionless %\n",
      "grid_layout: x_log_of_pn\n"
     ]
    },
    {
     "data": {
      "application/vnd.jupyter.widget-view+json": {
       "model_id": "fe0fbd0ae1aa4f2b8297c127d91e74a5",
       "version_major": 2,
       "version_minor": 0
      },
      "text/plain": [
       "VBox(children=(Output(), HTML(value=\"<a href='../utils/output\\\\fig_upwinda.pdf' target='_blank'>../utils/outpu…"
      ]
     },
     "metadata": {},
     "output_type": "display_data"
    }
   ],
   "source": [
    "compute_and_plot(**plot_setup, opt_set=({\"n_iters\":1},), plots=('n','m'), filename = 'fig_upwinda.pdf')"
   ]
  },
  {
   "cell_type": "code",
   "execution_count": 5,
   "metadata": {},
   "outputs": [
    {
     "name": "stderr",
     "output_type": "stream",
     "text": [
      "[Parallel(n_jobs=-2)]: Using backend ThreadingBackend with 7 concurrent workers.\n",
      "[Parallel(n_jobs=-2)]: Done   1 tasks      | elapsed:   10.7s\n",
      "[Parallel(n_jobs=-2)]: Done   1 out of   1 | elapsed:   10.7s finished\n"
     ]
    },
    {
     "name": "stdout",
     "output_type": "stream",
     "text": [
      "elapsed real time:  [nan, 0.02727272727272727, 0.027925531914893616, 0.027662105889351578]\n",
      "mean time: 0.027620121692324157\n",
      "Mass difference: 0.36793541750237413 dimensionless %\n",
      "Number difference: 2.8095569687690517e-14 dimensionless %\n",
      "Mass difference: 0.4738031524986308 dimensionless %\n",
      "Number difference: 0.006836362361410145 dimensionless %\n",
      "Mass difference: 0.5923321831645456 dimensionless %\n",
      "Number difference: 0.027240110707723638 dimensionless %\n",
      "Mass difference: 0.10668574082613347 dimensionless %\n",
      "Number difference: 0.26764450429797615 dimensionless %\n",
      "grid_layout: x_id\n"
     ]
    },
    {
     "data": {
      "application/vnd.jupyter.widget-view+json": {
       "model_id": "cb1a4b6557fa4b6daee00cb8cdb4af7e",
       "version_major": 2,
       "version_minor": 0
      },
      "text/plain": [
       "VBox(children=(Output(), HTML(value=\"<a href='../utils/output\\\\fig_upwindb.pdf' target='_blank'>../utils/outpu…"
      ]
     },
     "metadata": {},
     "output_type": "display_data"
    }
   ],
   "source": [
    "compute_and_plot(**plot_setup2, opt_set=({\"n_iters\":1},), plots=['n','m'],  filename = 'fig_upwindb.pdf')"
   ]
  },
  {
   "cell_type": "code",
   "execution_count": 6,
   "metadata": {},
   "outputs": [
    {
     "name": "stderr",
     "output_type": "stream",
     "text": [
      "[Parallel(n_jobs=-2)]: Using backend ThreadingBackend with 7 concurrent workers.\n",
      "[Parallel(n_jobs=-2)]: Done   2 out of   2 | elapsed:   26.3s remaining:    0.0s\n",
      "[Parallel(n_jobs=-2)]: Done   2 out of   2 | elapsed:   26.3s finished\n"
     ]
    },
    {
     "name": "stdout",
     "output_type": "stream",
     "text": [
      "elapsed real time:  [nan, 0.06427015250544663, 0.06379928315412187, 0.07213850593138826]\n",
      "mean time: 0.06673598053031891\n",
      "Mass difference: 0.19741720488728465 dimensionless %\n",
      "Number difference: 0.007653969789974127 dimensionless %\n",
      "Mass difference: 3.338078295687996 dimensionless %\n",
      "Number difference: 0.00124047169558801 dimensionless %\n",
      "Mass difference: 5.267960166644459 dimensionless %\n",
      "Number difference: 0.032798895490924435 dimensionless %\n",
      "Mass difference: 4.813214671733768 dimensionless %\n",
      "Number difference: 0.6975093679763827 dimensionless %\n",
      "elapsed real time:  [nan, 0.06427015250544663, 0.06379928315412187, 0.07213850593138826]\n",
      "mean time: 0.06673598053031891\n",
      "grid_layout: x_log_of_pn\n"
     ]
    },
    {
     "data": {
      "application/vnd.jupyter.widget-view+json": {
       "model_id": "d24f4cfc826947e1a678570f7368ab1e",
       "version_major": 2,
       "version_minor": 0
      },
      "text/plain": [
       "VBox(children=(Output(), HTML(value=\"<a href='../utils/output\\\\fig_mpdata.pdf' target='_blank'>../utils/output…"
      ]
     },
     "metadata": {},
     "output_type": "display_data"
    }
   ],
   "source": [
    "compute_and_plot(**plot_setup, opt_set=({'n_iters': 1},{'n_iters':2}), plots=['n'], filename = 'fig_mpdata.pdf')"
   ]
  },
  {
   "cell_type": "code",
   "execution_count": 7,
   "metadata": {},
   "outputs": [
    {
     "name": "stderr",
     "output_type": "stream",
     "text": [
      "[Parallel(n_jobs=-2)]: Using backend ThreadingBackend with 7 concurrent workers.\n",
      "[Parallel(n_jobs=-2)]: Done   3 out of   3 | elapsed:   48.8s remaining:    0.0s\n",
      "[Parallel(n_jobs=-2)]: Done   3 out of   3 | elapsed:   48.8s finished\n"
     ]
    },
    {
     "name": "stdout",
     "output_type": "stream",
     "text": [
      "elapsed real time:  [nan, 0.10239651416122005, 0.1032258064516129, 0.1038794485411991]\n",
      "mean time: 0.10316725638467734\n",
      "Mass difference: 0.19741720488728465 dimensionless %\n",
      "Number difference: 0.007653969789974127 dimensionless %\n",
      "Mass difference: 3.338078295687996 dimensionless %\n",
      "Number difference: 0.00124047169558801 dimensionless %\n",
      "Mass difference: 5.267960166644459 dimensionless %\n",
      "Number difference: 0.032798895490924435 dimensionless %\n",
      "Mass difference: 4.813214671733768 dimensionless %\n",
      "Number difference: 0.6975093679763827 dimensionless %\n",
      "elapsed real time:  [nan, 0.10239651416122005, 0.1032258064516129, 0.1038794485411991]\n",
      "mean time: 0.10316725638467734\n",
      "elapsed real time:  [nan, 0.10239651416122005, 0.1032258064516129, 0.1038794485411991]\n",
      "mean time: 0.10316725638467734\n",
      "grid_layout: x_log_of_pn\n"
     ]
    },
    {
     "data": {
      "application/vnd.jupyter.widget-view+json": {
       "model_id": "48357bf6c20c42e9b71b3ef943b24371",
       "version_major": 2,
       "version_minor": 0
      },
      "text/plain": [
       "VBox(children=(Output(), HTML(value=\"<a href='../utils/output\\\\fig_mpdatas.pdf' target='_blank'>../utils/outpu…"
      ]
     },
     "metadata": {},
     "output_type": "display_data"
    }
   ],
   "source": [
    "compute_and_plot(**plot_setup, opt_set=({'n_iters': 1},{'n_iters':2},{'n_iters':3}), plots=['n'], filename = 'fig_mpdatas.pdf')"
   ]
  },
  {
   "cell_type": "code",
   "execution_count": 8,
   "metadata": {},
   "outputs": [
    {
     "name": "stderr",
     "output_type": "stream",
     "text": [
      "[Parallel(n_jobs=-2)]: Using backend ThreadingBackend with 7 concurrent workers.\n",
      "[Parallel(n_jobs=-2)]: Done   3 out of   3 | elapsed:   39.4s remaining:    0.0s\n",
      "[Parallel(n_jobs=-2)]: Done   3 out of   3 | elapsed:   39.4s finished\n"
     ]
    },
    {
     "name": "stdout",
     "output_type": "stream",
     "text": [
      "elapsed real time:  [nan, 0.06318082788671024, 0.06451612903225806, 0.0647643475472908]\n",
      "mean time: 0.0641537681554197\n",
      "Mass difference: 0.19741720488728465 dimensionless %\n",
      "Number difference: 0.007653969789974127 dimensionless %\n",
      "Mass difference: 3.338078295687996 dimensionless %\n",
      "Number difference: 0.00124047169558801 dimensionless %\n",
      "Mass difference: 5.267960166644459 dimensionless %\n",
      "Number difference: 0.032798895490924435 dimensionless %\n",
      "Mass difference: 4.813214671733768 dimensionless %\n",
      "Number difference: 0.6975093679763827 dimensionless %\n",
      "elapsed real time:  [nan, 0.06318082788671024, 0.06451612903225806, 0.0647643475472908]\n",
      "mean time: 0.0641537681554197\n",
      "elapsed real time:  [nan, 0.06318082788671024, 0.06451612903225806, 0.0647643475472908]\n",
      "mean time: 0.0641537681554197\n",
      "grid_layout: x_log_of_pn\n"
     ]
    },
    {
     "data": {
      "application/vnd.jupyter.widget-view+json": {
       "model_id": "df361e2c1bc14183af0b157cb3828ac3",
       "version_major": 2,
       "version_minor": 0
      },
      "text/plain": [
       "VBox(children=(Output(), HTML(value=\"<a href='../utils/output\\\\fig_iga.pdf' target='_blank'>../utils/output\\\\f…"
      ]
     },
     "metadata": {},
     "output_type": "display_data"
    }
   ],
   "source": [
    "compute_and_plot(**plot_setup, opt_set=({'n_iters': 1},{'n_iters':2},{'n_iters':2,'infinite_gauge':True}), plots=['n'], filename = 'fig_iga.pdf')"
   ]
  },
  {
   "cell_type": "code",
   "execution_count": 9,
   "metadata": {},
   "outputs": [
    {
     "name": "stderr",
     "output_type": "stream",
     "text": [
      "[Parallel(n_jobs=-2)]: Using backend ThreadingBackend with 7 concurrent workers.\n",
      "[Parallel(n_jobs=-2)]: Done   3 out of   3 | elapsed:   50.4s remaining:    0.0s\n",
      "[Parallel(n_jobs=-2)]: Done   3 out of   3 | elapsed:   50.4s finished\n"
     ]
    },
    {
     "name": "stdout",
     "output_type": "stream",
     "text": [
      "elapsed real time:  [nan, 0.14596949891067537, 0.14695340501792115, 0.15870471304905417]\n",
      "mean time: 0.15054253899255024\n",
      "Mass difference: 0.19741720488728465 dimensionless %\n",
      "Number difference: 0.007653969789974127 dimensionless %\n",
      "Mass difference: 3.338078295687996 dimensionless %\n",
      "Number difference: 0.00124047169558801 dimensionless %\n",
      "Mass difference: 5.267960166644459 dimensionless %\n",
      "Number difference: 0.032798895490924435 dimensionless %\n",
      "Mass difference: 4.813214671733768 dimensionless %\n",
      "Number difference: 0.6975093679763827 dimensionless %\n",
      "elapsed real time:  [nan, 0.14596949891067537, 0.14695340501792115, 0.15870471304905417]\n",
      "mean time: 0.15054253899255024\n",
      "elapsed real time:  [nan, 0.14596949891067537, 0.14695340501792115, 0.15870471304905417]\n",
      "mean time: 0.15054253899255024\n",
      "grid_layout: x_log_of_pn\n"
     ]
    },
    {
     "data": {
      "application/vnd.jupyter.widget-view+json": {
       "model_id": "243b674837774222b864997c0f4a696c",
       "version_major": 2,
       "version_minor": 0
      },
      "text/plain": [
       "VBox(children=(Output(), HTML(value=\"<a href='../utils/output\\\\fig_fct.pdf' target='_blank'>../utils/output\\\\f…"
      ]
     },
     "metadata": {},
     "output_type": "display_data"
    }
   ],
   "source": [
    "compute_and_plot(**plot_setup, opt_set=({'n_iters': 1},{'n_iters':2},{'n_iters':2,'infinite_gauge':True,'flux_corrected_transport':True}), plots=['n'], filename = 'fig_fct.pdf')"
   ]
  },
  {
   "cell_type": "code",
   "execution_count": 10,
   "metadata": {},
   "outputs": [
    {
     "name": "stderr",
     "output_type": "stream",
     "text": [
      "[Parallel(n_jobs=-2)]: Using backend ThreadingBackend with 7 concurrent workers.\n",
      "[Parallel(n_jobs=-2)]: Done   3 out of   3 | elapsed:   41.5s remaining:    0.0s\n",
      "[Parallel(n_jobs=-2)]: Done   3 out of   3 | elapsed:   41.5s finished\n"
     ]
    },
    {
     "name": "stdout",
     "output_type": "stream",
     "text": [
      "elapsed real time:  [nan, 0.0664488017429194, 0.06810035842293907, 0.06797050336646361]\n",
      "mean time: 0.06750655451077403\n",
      "Mass difference: 0.19741720488728465 dimensionless %\n",
      "Number difference: 0.007653969789974127 dimensionless %\n",
      "Mass difference: 3.338078295687996 dimensionless %\n",
      "Number difference: 0.00124047169558801 dimensionless %\n",
      "Mass difference: 5.267960166644459 dimensionless %\n",
      "Number difference: 0.032798895490924435 dimensionless %\n",
      "Mass difference: 4.813214671733768 dimensionless %\n",
      "Number difference: 0.6975093679763827 dimensionless %\n",
      "elapsed real time:  [nan, 0.0664488017429194, 0.06810035842293907, 0.06797050336646361]\n",
      "mean time: 0.06750655451077403\n",
      "elapsed real time:  [nan, 0.0664488017429194, 0.06810035842293907, 0.06797050336646361]\n",
      "mean time: 0.06750655451077403\n",
      "grid_layout: x_log_of_pn\n"
     ]
    },
    {
     "data": {
      "application/vnd.jupyter.widget-view+json": {
       "model_id": "693bec5e1e164dc8b060eec3d178c44e",
       "version_major": 2,
       "version_minor": 0
      },
      "text/plain": [
       "VBox(children=(Output(), HTML(value=\"<a href='../utils/output\\\\fig_tot.pdf' target='_blank'>../utils/output\\\\f…"
      ]
     },
     "metadata": {},
     "output_type": "display_data"
    }
   ],
   "source": [
    "compute_and_plot(**plot_setup, opt_set=({'n_iters': 1},{'n_iters':2},{'n_iters':2,'third_order_terms':True}), plots=['n'], filename = 'fig_tot.pdf')"
   ]
  },
  {
   "cell_type": "code",
   "execution_count": 11,
   "metadata": {},
   "outputs": [
    {
     "name": "stderr",
     "output_type": "stream",
     "text": [
      "[Parallel(n_jobs=-2)]: Using backend ThreadingBackend with 7 concurrent workers.\n",
      "[Parallel(n_jobs=-2)]: Done   3 out of   3 | elapsed:   51.4s remaining:    0.0s\n",
      "[Parallel(n_jobs=-2)]: Done   3 out of   3 | elapsed:   51.4s finished\n"
     ]
    },
    {
     "name": "stdout",
     "output_type": "stream",
     "text": [
      "elapsed real time:  [nan, 0.2374727668845316, 0.24301075268817204, 0.24110291760179545]\n",
      "mean time: 0.2405288123914997\n",
      "Mass difference: 0.19741720488728465 dimensionless %\n",
      "Number difference: 0.007653969789974127 dimensionless %\n",
      "Mass difference: 3.338078295687996 dimensionless %\n",
      "Number difference: 0.00124047169558801 dimensionless %\n",
      "Mass difference: 5.267960166644459 dimensionless %\n",
      "Number difference: 0.032798895490924435 dimensionless %\n",
      "Mass difference: 4.813214671733768 dimensionless %\n",
      "Number difference: 0.6975093679763827 dimensionless %\n",
      "elapsed real time:  [nan, 0.2374727668845316, 0.24301075268817204, 0.24110291760179545]\n",
      "mean time: 0.2405288123914997\n",
      "elapsed real time:  [nan, 0.2374727668845316, 0.24301075268817204, 0.24110291760179545]\n",
      "mean time: 0.2405288123914997\n",
      "grid_layout: x_log_of_pn\n"
     ]
    },
    {
     "data": {
      "application/vnd.jupyter.widget-view+json": {
       "model_id": "ab09d08599a442f1876eac9de6410935",
       "version_major": 2,
       "version_minor": 0
      },
      "text/plain": [
       "VBox(children=(Output(), HTML(value=\"<a href='../utils/output\\\\fig_multiopt.pdf' target='_blank'>../utils/outp…"
      ]
     },
     "metadata": {},
     "output_type": "display_data"
    }
   ],
   "source": [
    "compute_and_plot(**plot_setup, opt_set=(\n",
    "    {'n_iters':1},\n",
    "    {'n_iters':2},\n",
    "    {'n_iters':3,'infinite_gauge':True, 'flux_corrected_transport':True,'third_order_terms':True},\n",
    "), plots=['n'], filename='fig_multiopt.pdf')"
   ]
  },
  {
   "cell_type": "code",
   "execution_count": null,
   "metadata": {},
   "outputs": [],
   "source": []
  },
  {
   "cell_type": "code",
   "execution_count": null,
   "metadata": {},
   "outputs": [],
   "source": []
  }
 ],
 "metadata": {
  "kernelspec": {
   "display_name": "Python 3",
   "language": "python",
   "name": "python3"
  },
  "language_info": {
   "codemirror_mode": {
    "name": "ipython",
    "version": 3
   },
   "file_extension": ".py",
   "mimetype": "text/x-python",
   "name": "python",
   "nbconvert_exporter": "python",
   "pygments_lexer": "ipython3",
   "version": "3.7.6"
  }
 },
 "nbformat": 4,
 "nbformat_minor": 2
}
