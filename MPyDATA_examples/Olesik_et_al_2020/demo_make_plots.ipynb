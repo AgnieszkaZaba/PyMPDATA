{
 "cells": [
  {
   "cell_type": "code",
   "execution_count": 1,
   "metadata": {},
   "outputs": [],
   "source": [
    "import os\n",
    "os.environ[\"NUMBA_DISABLE_JIT\"] = \"1\""
   ]
  },
  {
   "cell_type": "code",
   "execution_count": 2,
   "metadata": {},
   "outputs": [],
   "source": [
    "import sys, os\n",
    "if 'google.colab' in sys.modules:\n",
    "    %cd\n",
    "    % rm -rf MPyDATA\n",
    "    ! git clone --recurse-submodules -j8 https://github.com/Michaeldz36/MPyDATA.git\n",
    "    %cd MPyDATA\n",
    "    ! git checkout develop\n",
    "    ! pip install -U $(cat requirements.txt | cut -d '=' -f 1)\n",
    "else:\n",
    "    sys.path.append(os.path.join(os.getcwd(), '../..'))\n",
    "    \n",
    "from MPyDATA_examples.Olesik_et_al_2020.analysis import compute_figure_data, rel_disp\n",
    "from MPyDATA_examples.Olesik_et_al_2020.physics.equilibrium_drop_growth import PdfEvolver\n",
    "from MPyDATA_examples.Olesik_et_al_2020.plotter import Plotter\n",
    "from MPyDATA_examples.Olesik_et_al_2020.coordinates import x_id, x_p2, x_p3,  x_log_of_pn\n",
    "from MPyDATA_examples.utils.show_plot import show_plot\n",
    "import numpy as np\n",
    "import matplotlib"
   ]
  },
  {
   "cell_type": "code",
   "execution_count": 3,
   "metadata": {},
   "outputs": [],
   "source": [
    "def compute_and_plot(psi_coord, grid_layout, n_bins, GC_max, opt_set, plots, filename):\n",
    "    results, setup = compute_figure_data(\n",
    "        psi_coord=psi_coord, \n",
    "        grid_layouts=(grid_layout,),\n",
    "        nr=n_bins,\n",
    "        GC_max = GC_max,\n",
    "        opt_set=opt_set\n",
    "    )\n",
    "    \n",
    "    colors = ['red', 'green', 'purple', 'blue', 'orange']\n",
    "    matplotlib.rcParams.update({'font.size': 16})\n",
    "    for coord in results.keys():\n",
    "        out_steps = results[coord]['grid']['out_steps']\n",
    "        dt = results[coord]['grid']['dt']\n",
    "        plotter = Plotter(setup, plots=plots)\n",
    "        for opt_i, opts in enumerate(results[coord]['numerical'].keys()):\n",
    "            plot_data = results[coord]['numerical'][opts]\n",
    "            m_diff, n_diff = [], []\n",
    "            for i in range(len(out_steps)):\n",
    "                mnorm = setup.mixing_ratios[i]\n",
    "                t = out_steps[i] * dt\n",
    "                linewidth = 1+1.5*i/len(out_steps)\n",
    "                if opt_i == 0:\n",
    "                    plotter.pdf_curve(PdfEvolver(setup.pdf, setup.drdt, t), mnorm)\n",
    "                    plotter.pdf_histogram(\n",
    "                        results[coord]['grid']['r'], \n",
    "                        results[coord]['analytical'][i], \n",
    "                        bin_boundaries = results[coord]['grid']['rh'], \n",
    "                        label='analytical', \n",
    "                        mnorm=mnorm,\n",
    "                        color='black',\n",
    "                        linewidth = linewidth\n",
    "                    )\n",
    "                    \n",
    "#                     deltami, deltani = plotter.mass_difference(mnorm, plot_data[i], results[coord]['grid']['rh'])\n",
    "#                     m_diff.append(deltami)\n",
    "#                     n_diff.append(deltani)\n",
    "                    \n",
    "                str_repl = [[\"'n_iters': 1\",\"upwind\"],\n",
    "                            [\"'n_iters': 2\",\"MPDATA 2 iterations\"],\n",
    "                            [\"'n_iters': 3\",\"MPDATA 3 iterations\"],\n",
    "                            [\"'\",\"\"],\n",
    "                            [\": True\",\"\"],\n",
    "                            [\"_\", \" \"],\n",
    "                            [\"{\",\"\"],[\"}\",\"\"],[\",\",\" \"]]                            \n",
    "                for repl in str_repl:\n",
    "                    opts = opts.replace(repl[0], repl[1])\n",
    "                plotter.pdf_histogram(\n",
    "                    results[coord]['grid']['r'], \n",
    "                    plot_data[i], \n",
    "                    label=opts, \n",
    "                    bin_boundaries=results[coord]['grid']['rh'], \n",
    "                    linewidth = linewidth,\n",
    "                    mnorm=mnorm, color = colors[opt_i]\n",
    "                )\n",
    "                \n",
    "                dp_dr = 1\n",
    "                numeric_rel_d = rel_disp(results[coord]['grid']['rh'], plot_data[i]/dp_dr, psi_coord)\n",
    "                analytic_rel_d = rel_disp(results[coord]['grid']['rh'], results[coord]['analytical'][i]/dp_dr, psi_coord)\n",
    "                print(\"analytic rd\", analytic_rel_d)\n",
    "                print(\"numeric rd\", numeric_rel_d)\n",
    "                dispersion_ratio = numeric_rel_d / analytic_rel_d\n",
    "                print(f\"dispersion ratio of {opts}\", dispersion_ratio)\n",
    "                print(\"\\n\")\n",
    "        print(f\"grid_layout: {coord}\")\n",
    "        show_plot(filename)"
   ]
  },
  {
   "cell_type": "code",
   "execution_count": 4,
   "metadata": {},
   "outputs": [],
   "source": [
    "plot_setup = {\"psi_coord\":x_p2(), \"grid_layout\":x_log_of_pn(r0=1, base=2), \"GC_max\":.26,\"n_bins\":75}\n",
    "plot_setup2 = {\"psi_coord\":x_id(), \"grid_layout\":x_id(), \"GC_max\":.07,\"n_bins\":75}"
   ]
  },
  {
   "cell_type": "code",
   "execution_count": 5,
   "metadata": {},
   "outputs": [
    {
     "name": "stderr",
     "output_type": "stream",
     "text": [
      "[Parallel(n_jobs=-2)]: Using backend ThreadingBackend with 7 concurrent workers.\n",
      "[Parallel(n_jobs=-2)]: Done   1 tasks      | elapsed:    3.7s\n",
      "[Parallel(n_jobs=-2)]: Done   1 out of   1 | elapsed:    3.7s finished\n"
     ]
    },
    {
     "name": "stdout",
     "output_type": "stream",
     "text": [
      "analytic rd 0.35543054923817785 dimensionless\n",
      "numeric rd 0.3552171080509709 dimensionless\n",
      "dispersion ratio of upwind 0.999399485531943 dimensionless\n",
      "\n",
      "\n",
      "analytic rd 0.13639748310979524 dimensionless\n",
      "numeric rd 0.1624758666472522 dimensionless\n",
      "dispersion ratio of upwind 1.1911940231071916 dimensionless\n",
      "\n",
      "\n",
      "analytic rd 0.07249777375675796 dimensionless\n",
      "numeric rd 0.11811558709803255 dimensionless\n",
      "dispersion ratio of upwind 1.6292305401587903 dimensionless\n",
      "\n",
      "\n",
      "grid_layout: x_log_of_pn\n"
     ]
    },
    {
     "data": {
      "application/vnd.jupyter.widget-view+json": {
       "model_id": "c787ba31df954ea7a24b469256aa3d3f",
       "version_major": 2,
       "version_minor": 0
      },
      "text/plain": [
       "VBox(children=(Output(), HTML(value=\"<a href='../utils/output\\\\fig_upwinda.pdf' target='_blank'>../utils/outpu…"
      ]
     },
     "metadata": {},
     "output_type": "display_data"
    }
   ],
   "source": [
    "compute_and_plot(**plot_setup, opt_set=({\"n_iters\":1},), plots=('n','m'), filename = 'fig_upwinda.pdf')"
   ]
  },
  {
   "cell_type": "code",
   "execution_count": 6,
   "metadata": {},
   "outputs": [
    {
     "name": "stderr",
     "output_type": "stream",
     "text": [
      "[Parallel(n_jobs=-2)]: Using backend ThreadingBackend with 7 concurrent workers.\n",
      "[Parallel(n_jobs=-2)]: Done   1 tasks      | elapsed:    4.0s\n",
      "[Parallel(n_jobs=-2)]: Done   1 out of   1 | elapsed:    4.0s finished\n"
     ]
    },
    {
     "name": "stdout",
     "output_type": "stream",
     "text": [
      "analytic rd 0.35718223582650943 dimensionless\n",
      "numeric rd 0.3569668694267919 dimensionless\n",
      "dispersion ratio of upwind 0.9993970405632878 dimensionless\n",
      "\n",
      "\n",
      "analytic rd 0.12575571366996477 dimensionless\n",
      "numeric rd 0.14969083028424135 dimensionless\n",
      "dispersion ratio of upwind 1.1903302515310936 dimensionless\n",
      "\n",
      "\n",
      "analytic rd 0.0673024545137727 dimensionless\n",
      "numeric rd 0.09911854639733908 dimensionless\n",
      "dispersion ratio of upwind 1.4727330097159468 dimensionless\n",
      "\n",
      "\n",
      "grid_layout: x_id\n"
     ]
    },
    {
     "data": {
      "application/vnd.jupyter.widget-view+json": {
       "model_id": "7bbc282010144ba9a2cbb49e9d94926e",
       "version_major": 2,
       "version_minor": 0
      },
      "text/plain": [
       "VBox(children=(Output(), HTML(value=\"<a href='../utils/output\\\\fig_upwindb.pdf' target='_blank'>../utils/outpu…"
      ]
     },
     "metadata": {},
     "output_type": "display_data"
    }
   ],
   "source": [
    "compute_and_plot(**plot_setup2, opt_set=({\"n_iters\":1},), plots=['n','m'],  filename = 'fig_upwindb.pdf')"
   ]
  },
  {
   "cell_type": "code",
   "execution_count": 7,
   "metadata": {
    "scrolled": false
   },
   "outputs": [
    {
     "name": "stderr",
     "output_type": "stream",
     "text": [
      "[Parallel(n_jobs=-2)]: Using backend ThreadingBackend with 7 concurrent workers.\n",
      "[Parallel(n_jobs=-2)]: Done   3 out of   3 | elapsed:   30.4s remaining:    0.0s\n",
      "[Parallel(n_jobs=-2)]: Done   3 out of   3 | elapsed:   30.4s finished\n"
     ]
    },
    {
     "name": "stdout",
     "output_type": "stream",
     "text": [
      "analytic rd 0.35543054923817785 dimensionless\n",
      "numeric rd 0.3552171080509709 dimensionless\n",
      "dispersion ratio of upwind 0.999399485531943 dimensionless\n",
      "\n",
      "\n",
      "analytic rd 0.13639748310979524 dimensionless\n",
      "numeric rd 0.1624758666472522 dimensionless\n",
      "dispersion ratio of upwind 1.1911940231071916 dimensionless\n",
      "\n",
      "\n",
      "analytic rd 0.07249777375675796 dimensionless\n",
      "numeric rd 0.11811558709803255 dimensionless\n",
      "dispersion ratio of upwind 1.6292305401587903 dimensionless\n",
      "\n",
      "\n",
      "analytic rd 0.35543054923817785 dimensionless\n",
      "numeric rd 0.3552171080509709 dimensionless\n",
      "dispersion ratio of MPDATA 2 iterations 0.999399485531943 dimensionless\n",
      "\n",
      "\n",
      "analytic rd 0.13639748310979524 dimensionless\n",
      "numeric rd 0.14998377531234405 dimensionless\n",
      "dispersion ratio of MPDATA 2 iterations 1.0996080858149877 dimensionless\n",
      "\n",
      "\n",
      "analytic rd 0.07249777375675796 dimensionless\n",
      "numeric rd 0.10024458785065236 dimensionless\n",
      "dispersion ratio of MPDATA 2 iterations 1.382726429462366 dimensionless\n",
      "\n",
      "\n",
      "analytic rd 0.35543054923817785 dimensionless\n",
      "numeric rd 0.3552171080509709 dimensionless\n",
      "dispersion ratio of MPDATA 3 iterations 0.999399485531943 dimensionless\n",
      "\n",
      "\n",
      "analytic rd 0.13639748310979524 dimensionless\n",
      "numeric rd 0.1472305772422778 dimensionless\n",
      "dispersion ratio of MPDATA 3 iterations 1.0794229767697567 dimensionless\n",
      "\n",
      "\n",
      "analytic rd 0.07249777375675796 dimensionless\n",
      "numeric rd 0.09555085889408232 dimensionless\n",
      "dispersion ratio of MPDATA 3 iterations 1.3179833523532913 dimensionless\n",
      "\n",
      "\n",
      "grid_layout: x_log_of_pn\n"
     ]
    },
    {
     "data": {
      "application/vnd.jupyter.widget-view+json": {
       "model_id": "43a7709dba7541a1861bf302afacf03d",
       "version_major": 2,
       "version_minor": 0
      },
      "text/plain": [
       "VBox(children=(Output(), HTML(value=\"<a href='../utils/output\\\\fig_mpdatas.pdf' target='_blank'>../utils/outpu…"
      ]
     },
     "metadata": {},
     "output_type": "display_data"
    }
   ],
   "source": [
    "compute_and_plot(**plot_setup, opt_set=({'n_iters': 1},{'n_iters':2},{'n_iters':3}), plots=['n'], filename = 'fig_mpdatas.pdf')"
   ]
  },
  {
   "cell_type": "code",
   "execution_count": 8,
   "metadata": {},
   "outputs": [
    {
     "name": "stderr",
     "output_type": "stream",
     "text": [
      "[Parallel(n_jobs=-2)]: Using backend ThreadingBackend with 7 concurrent workers.\n",
      "[Parallel(n_jobs=-2)]: Done   3 out of   3 | elapsed:   21.8s remaining:    0.0s\n",
      "[Parallel(n_jobs=-2)]: Done   3 out of   3 | elapsed:   21.8s finished\n"
     ]
    },
    {
     "name": "stdout",
     "output_type": "stream",
     "text": [
      "analytic rd 0.35543054923817785 dimensionless\n",
      "numeric rd 0.3552171080509709 dimensionless\n",
      "dispersion ratio of upwind 0.999399485531943 dimensionless\n",
      "\n",
      "\n",
      "analytic rd 0.13639748310979524 dimensionless\n",
      "numeric rd 0.1624758666472522 dimensionless\n",
      "dispersion ratio of upwind 1.1911940231071916 dimensionless\n",
      "\n",
      "\n",
      "analytic rd 0.07249777375675796 dimensionless\n",
      "numeric rd 0.11811558709803255 dimensionless\n",
      "dispersion ratio of upwind 1.6292305401587903 dimensionless\n",
      "\n",
      "\n",
      "analytic rd 0.35543054923817785 dimensionless\n",
      "numeric rd 0.3552171080509709 dimensionless\n",
      "dispersion ratio of MPDATA 2 iterations 0.999399485531943 dimensionless\n",
      "\n",
      "\n",
      "analytic rd 0.13639748310979524 dimensionless\n",
      "numeric rd 0.14998377531234405 dimensionless\n",
      "dispersion ratio of MPDATA 2 iterations 1.0996080858149877 dimensionless\n",
      "\n",
      "\n",
      "analytic rd 0.07249777375675796 dimensionless\n",
      "numeric rd 0.10024458785065236 dimensionless\n",
      "dispersion ratio of MPDATA 2 iterations 1.382726429462366 dimensionless\n",
      "\n",
      "\n",
      "analytic rd 0.35543054923817785 dimensionless\n",
      "numeric rd 0.3552171080509709 dimensionless\n",
      "dispersion ratio of MPDATA 2 iterations  infinite gauge 0.999399485531943 dimensionless\n",
      "\n",
      "\n",
      "analytic rd 0.13639748310979524 dimensionless\n",
      "numeric rd 0.14531031106819706 dimensionless\n",
      "dispersion ratio of MPDATA 2 iterations  infinite gauge 1.0653445192330073 dimensionless\n",
      "\n",
      "\n",
      "analytic rd 0.07249777375675796 dimensionless\n",
      "numeric rd 0.09019535245632296 dimensionless\n",
      "dispersion ratio of MPDATA 2 iterations  infinite gauge 1.2441120296871915 dimensionless\n",
      "\n",
      "\n",
      "grid_layout: x_log_of_pn\n"
     ]
    },
    {
     "data": {
      "application/vnd.jupyter.widget-view+json": {
       "model_id": "fae499b8213b41aaa6bd6821ed748db8",
       "version_major": 2,
       "version_minor": 0
      },
      "text/plain": [
       "VBox(children=(Output(), HTML(value=\"<a href='../utils/output\\\\fig_iga.pdf' target='_blank'>../utils/output\\\\f…"
      ]
     },
     "metadata": {},
     "output_type": "display_data"
    }
   ],
   "source": [
    "compute_and_plot(**plot_setup, opt_set=({'n_iters': 1},{'n_iters':2},{'n_iters':2,'infinite_gauge':True}), plots=['n'], filename = 'fig_iga.pdf')"
   ]
  },
  {
   "cell_type": "code",
   "execution_count": 9,
   "metadata": {},
   "outputs": [
    {
     "name": "stderr",
     "output_type": "stream",
     "text": [
      "[Parallel(n_jobs=-2)]: Using backend ThreadingBackend with 7 concurrent workers.\n",
      "[Parallel(n_jobs=-2)]: Done   3 out of   3 | elapsed:   32.9s remaining:    0.0s\n",
      "[Parallel(n_jobs=-2)]: Done   3 out of   3 | elapsed:   32.9s finished\n"
     ]
    },
    {
     "name": "stdout",
     "output_type": "stream",
     "text": [
      "analytic rd 0.35543054923817785 dimensionless\n",
      "numeric rd 0.3552171080509709 dimensionless\n",
      "dispersion ratio of upwind 0.999399485531943 dimensionless\n",
      "\n",
      "\n",
      "analytic rd 0.13639748310979524 dimensionless\n",
      "numeric rd 0.1624758666472522 dimensionless\n",
      "dispersion ratio of upwind 1.1911940231071916 dimensionless\n",
      "\n",
      "\n",
      "analytic rd 0.07249777375675796 dimensionless\n",
      "numeric rd 0.11811558709803255 dimensionless\n",
      "dispersion ratio of upwind 1.6292305401587903 dimensionless\n",
      "\n",
      "\n",
      "analytic rd 0.35543054923817785 dimensionless\n",
      "numeric rd 0.3552171080509709 dimensionless\n",
      "dispersion ratio of MPDATA 2 iterations 0.999399485531943 dimensionless\n",
      "\n",
      "\n",
      "analytic rd 0.13639748310979524 dimensionless\n",
      "numeric rd 0.14998377531234405 dimensionless\n",
      "dispersion ratio of MPDATA 2 iterations 1.0996080858149877 dimensionless\n",
      "\n",
      "\n",
      "analytic rd 0.07249777375675796 dimensionless\n",
      "numeric rd 0.10024458785065236 dimensionless\n",
      "dispersion ratio of MPDATA 2 iterations 1.382726429462366 dimensionless\n",
      "\n",
      "\n",
      "analytic rd 0.35543054923817785 dimensionless\n",
      "numeric rd 0.3552171080509709 dimensionless\n",
      "dispersion ratio of MPDATA 2 iterations  infinite gauge  flux corrected transport 0.999399485531943 dimensionless\n",
      "\n",
      "\n",
      "analytic rd 0.13639748310979524 dimensionless\n",
      "numeric rd 0.1457826602790238 dimensionless\n",
      "dispersion ratio of MPDATA 2 iterations  infinite gauge  flux corrected transport 1.0688075538877344 dimensionless\n",
      "\n",
      "\n",
      "analytic rd 0.07249777375675796 dimensionless\n",
      "numeric rd 0.09239390423285822 dimensionless\n",
      "dispersion ratio of MPDATA 2 iterations  infinite gauge  flux corrected transport 1.2744378129851968 dimensionless\n",
      "\n",
      "\n",
      "grid_layout: x_log_of_pn\n"
     ]
    },
    {
     "data": {
      "application/vnd.jupyter.widget-view+json": {
       "model_id": "aa95031a0dd84138b0124c8de8a582ec",
       "version_major": 2,
       "version_minor": 0
      },
      "text/plain": [
       "VBox(children=(Output(), HTML(value=\"<a href='../utils/output\\\\fig_fct.pdf' target='_blank'>../utils/output\\\\f…"
      ]
     },
     "metadata": {},
     "output_type": "display_data"
    }
   ],
   "source": [
    "compute_and_plot(**plot_setup, opt_set=({'n_iters': 1},{'n_iters':2},{'n_iters':2,'infinite_gauge':True,'flux_corrected_transport':True}), plots=['n'], filename = 'fig_fct.pdf')"
   ]
  },
  {
   "cell_type": "code",
   "execution_count": 10,
   "metadata": {
    "scrolled": false
   },
   "outputs": [
    {
     "name": "stderr",
     "output_type": "stream",
     "text": [
      "[Parallel(n_jobs=-2)]: Using backend ThreadingBackend with 7 concurrent workers.\n",
      "[Parallel(n_jobs=-2)]: Done   3 out of   3 | elapsed:   47.2s remaining:    0.0s\n",
      "[Parallel(n_jobs=-2)]: Done   3 out of   3 | elapsed:   47.2s finished\n"
     ]
    },
    {
     "name": "stdout",
     "output_type": "stream",
     "text": [
      "analytic rd 0.35543054923817785 dimensionless\n",
      "numeric rd 0.3552171080509709 dimensionless\n",
      "dispersion ratio of upwind 0.999399485531943 dimensionless\n",
      "\n",
      "\n",
      "analytic rd 0.13639748310979524 dimensionless\n",
      "numeric rd 0.1624758666472522 dimensionless\n",
      "dispersion ratio of upwind 1.1911940231071916 dimensionless\n",
      "\n",
      "\n",
      "analytic rd 0.07249777375675796 dimensionless\n",
      "numeric rd 0.11811558709803255 dimensionless\n",
      "dispersion ratio of upwind 1.6292305401587903 dimensionless\n",
      "\n",
      "\n",
      "analytic rd 0.35543054923817785 dimensionless\n",
      "numeric rd 0.3552171080509709 dimensionless\n",
      "dispersion ratio of MPDATA 3 iterations 0.999399485531943 dimensionless\n",
      "\n",
      "\n",
      "analytic rd 0.13639748310979524 dimensionless\n",
      "numeric rd 0.1472305772422778 dimensionless\n",
      "dispersion ratio of MPDATA 3 iterations 1.0794229767697567 dimensionless\n",
      "\n",
      "\n",
      "analytic rd 0.07249777375675796 dimensionless\n",
      "numeric rd 0.09555085889408232 dimensionless\n",
      "dispersion ratio of MPDATA 3 iterations 1.3179833523532913 dimensionless\n",
      "\n",
      "\n",
      "analytic rd 0.35543054923817785 dimensionless\n",
      "numeric rd 0.3552171080509709 dimensionless\n",
      "dispersion ratio of MPDATA 3 iterations  third order terms 0.999399485531943 dimensionless\n",
      "\n",
      "\n",
      "analytic rd 0.13639748310979524 dimensionless\n",
      "numeric rd 0.1443143873081929 dimensionless\n",
      "dispersion ratio of MPDATA 3 iterations  third order terms 1.058042890659682 dimensionless\n",
      "\n",
      "\n",
      "analytic rd 0.07249777375675796 dimensionless\n",
      "numeric rd 0.09032195292369007 dimensionless\n",
      "dispersion ratio of MPDATA 3 iterations  third order terms 1.2458582966524625 dimensionless\n",
      "\n",
      "\n",
      "grid_layout: x_log_of_pn\n"
     ]
    },
    {
     "data": {
      "application/vnd.jupyter.widget-view+json": {
       "model_id": "7e86ae65909b4161b1325470bfdad0d7",
       "version_major": 2,
       "version_minor": 0
      },
      "text/plain": [
       "VBox(children=(Output(), HTML(value=\"<a href='../utils/output\\\\fig_tot.pdf' target='_blank'>../utils/output\\\\f…"
      ]
     },
     "metadata": {},
     "output_type": "display_data"
    }
   ],
   "source": [
    "compute_and_plot(**plot_setup, opt_set=({'n_iters': 1},{'n_iters':3},{'n_iters':3,'third_order_terms':True}), plots=['n'], filename = 'fig_tot.pdf')"
   ]
  },
  {
   "cell_type": "code",
   "execution_count": 11,
   "metadata": {},
   "outputs": [
    {
     "name": "stderr",
     "output_type": "stream",
     "text": [
      "[Parallel(n_jobs=-2)]: Using backend ThreadingBackend with 7 concurrent workers.\n",
      "[Parallel(n_jobs=-2)]: Done   3 out of   3 | elapsed:   54.2s remaining:    0.0s\n",
      "[Parallel(n_jobs=-2)]: Done   3 out of   3 | elapsed:   54.2s finished\n"
     ]
    },
    {
     "name": "stdout",
     "output_type": "stream",
     "text": [
      "analytic rd 0.35543054923817785 dimensionless\n",
      "numeric rd 0.3552171080509709 dimensionless\n",
      "dispersion ratio of upwind 0.999399485531943 dimensionless\n",
      "\n",
      "\n",
      "analytic rd 0.13639748310979524 dimensionless\n",
      "numeric rd 0.1624758666472522 dimensionless\n",
      "dispersion ratio of upwind 1.1911940231071916 dimensionless\n",
      "\n",
      "\n",
      "analytic rd 0.07249777375675796 dimensionless\n",
      "numeric rd 0.11811558709803255 dimensionless\n",
      "dispersion ratio of upwind 1.6292305401587903 dimensionless\n",
      "\n",
      "\n",
      "analytic rd 0.35543054923817785 dimensionless\n",
      "numeric rd 0.3552171080509709 dimensionless\n",
      "dispersion ratio of MPDATA 2 iterations 0.999399485531943 dimensionless\n",
      "\n",
      "\n",
      "analytic rd 0.13639748310979524 dimensionless\n",
      "numeric rd 0.14998377531234405 dimensionless\n",
      "dispersion ratio of MPDATA 2 iterations 1.0996080858149877 dimensionless\n",
      "\n",
      "\n",
      "analytic rd 0.07249777375675796 dimensionless\n",
      "numeric rd 0.10024458785065236 dimensionless\n",
      "dispersion ratio of MPDATA 2 iterations 1.382726429462366 dimensionless\n",
      "\n",
      "\n",
      "analytic rd 0.35543054923817785 dimensionless\n",
      "numeric rd 0.3552171080509709 dimensionless\n",
      "dispersion ratio of MPDATA 3 iterations  infinite gauge  flux corrected transport  third order terms 0.999399485531943 dimensionless\n",
      "\n",
      "\n",
      "analytic rd 0.13639748310979524 dimensionless\n",
      "numeric rd 0.1389557301787368 dimensionless\n",
      "dispersion ratio of MPDATA 3 iterations  infinite gauge  flux corrected transport  third order terms 1.018755823132618 dimensionless\n",
      "\n",
      "\n",
      "analytic rd 0.07249777375675796 dimensionless\n",
      "numeric rd 0.07679670097554848 dimensionless\n",
      "dispersion ratio of MPDATA 3 iterations  infinite gauge  flux corrected transport  third order terms 1.059297368678025 dimensionless\n",
      "\n",
      "\n",
      "grid_layout: x_log_of_pn\n"
     ]
    },
    {
     "data": {
      "application/vnd.jupyter.widget-view+json": {
       "model_id": "2c5abdddd1c648ef8072569b0bbcaf88",
       "version_major": 2,
       "version_minor": 0
      },
      "text/plain": [
       "VBox(children=(Output(), HTML(value=\"<a href='../utils/output\\\\fig_multiopt.pdf' target='_blank'>../utils/outp…"
      ]
     },
     "metadata": {},
     "output_type": "display_data"
    }
   ],
   "source": [
    "compute_and_plot(**plot_setup, opt_set=(\n",
    "    {'n_iters':1},\n",
    "    {'n_iters':2},\n",
    "    {'n_iters':3,'infinite_gauge':True, 'flux_corrected_transport':True,'third_order_terms':True},\n",
    "), plots=['n'], filename='fig_multiopt.pdf')"
   ]
  },
  {
   "cell_type": "code",
   "execution_count": null,
   "metadata": {},
   "outputs": [],
   "source": []
  },
  {
   "cell_type": "code",
   "execution_count": null,
   "metadata": {},
   "outputs": [],
   "source": []
  }
 ],
 "metadata": {
  "kernelspec": {
   "display_name": "Python 3",
   "language": "python",
   "name": "python3"
  },
  "language_info": {
   "codemirror_mode": {
    "name": "ipython",
    "version": 3
   },
   "file_extension": ".py",
   "mimetype": "text/x-python",
   "name": "python",
   "nbconvert_exporter": "python",
   "pygments_lexer": "ipython3",
   "version": "3.7.6"
  }
 },
 "nbformat": 4,
 "nbformat_minor": 2
}
