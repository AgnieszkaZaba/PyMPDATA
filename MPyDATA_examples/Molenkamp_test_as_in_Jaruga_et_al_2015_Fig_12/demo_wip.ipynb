{
 "cells": [
  {
   "cell_type": "code",
   "execution_count": 1,
   "metadata": {},
   "outputs": [],
   "source": [
    "# references:\n",
    "# - Molenkamp 1968: http://dx.doi.org/10.1175/1520-0450(1968)007%3C0160:AOFDMA%3E2.0.CO;2\n",
    "# - Anderson & Fattahi 1974: http://dx.doi.org/10.1175/1520-0469(1974)031%3C1500:ACONSO%3E2.0.CO;2\n",
    "# - Smolarkiewicz & Margolin 1998: http://dx.doi.org/10.1006/jcph.1998.5901\n",
    "# - Jaruga et al. 2015 https://doi.org/10.5194/gmd-8-1005-2015"
   ]
  },
  {
   "cell_type": "code",
   "execution_count": 2,
   "metadata": {},
   "outputs": [],
   "source": [
    "import sys\n",
    "sys.path.insert(0, \"../..\")\n",
    "\n",
    "from MPyDATA_examples.Molenkamp_test_as_in_Jaruga_et_al_2015_Fig_12.analysis import fig_12_data\n",
    "from MPyDATA_examples.Molenkamp_test_as_in_Jaruga_et_al_2015_Fig_12.setup import h0,h\n",
    "import matplotlib.pyplot as plt\n",
    "import numpy as np"
   ]
  },
  {
   "cell_type": "code",
   "execution_count": null,
   "metadata": {},
   "outputs": [],
   "source": [
    "data = fig_12_data()"
   ]
  },
  {
   "cell_type": "code",
   "execution_count": null,
   "metadata": {},
   "outputs": [],
   "source": []
  },
  {
   "cell_type": "code",
   "execution_count": null,
   "metadata": {},
   "outputs": [],
   "source": [
    "fig, axs = plt.subplots(1,4,figsize=(15,4))\n",
    "\n",
    "def plot(data, ax):\n",
    "    a1 = ax.imshow(data.T, origin='lower', cmap=plt.cm.Reds)\n",
    "    cset = ax.contour(data.T, cmap=plt.cm.Set2)\n",
    "    ax.clabel(cset, inline=True, fmt='%1.1f', fontsize=10)\n",
    "    fig.colorbar(a1, ax=ax)\n",
    "    a1.set_clim(vmin=h0-1, vmax=h0+h+1)\n",
    "    ax.set_xlim(25,75)\n",
    "    ax.set_ylim(50,100)\n",
    "    ax.set_title(f\"min:{np.amin(data):.4g}    max:{np.amax(data):.4g}\")\n",
    "\n",
    "for i in range(4):\n",
    "    plot(data[i], axs[i])"
   ]
  },
  {
   "cell_type": "code",
   "execution_count": null,
   "metadata": {},
   "outputs": [],
   "source": []
  },
  {
   "cell_type": "code",
   "execution_count": null,
   "metadata": {},
   "outputs": [],
   "source": []
  }
 ],
 "metadata": {
  "kernelspec": {
   "display_name": "Python 3",
   "language": "python",
   "name": "python3"
  },
  "language_info": {
   "codemirror_mode": {
    "name": "ipython",
    "version": 3
   },
   "file_extension": ".py",
   "mimetype": "text/x-python",
   "name": "python",
   "nbconvert_exporter": "python",
   "pygments_lexer": "ipython3",
   "version": "3.7.1"
  }
 },
 "nbformat": 4,
 "nbformat_minor": 1
}
