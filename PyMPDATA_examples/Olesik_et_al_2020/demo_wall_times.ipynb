{
 "cells": [
  {
   "cell_type": "markdown",
   "metadata": {},
   "source": [
    "[![Binder](https://mybinder.org/badge_logo.svg)](https://mybinder.org/v2/gh/atmos-cloud-sim-uj/PyMPDATA.git/master?filepath=PyMPDATA_examples/Olesik_et_al_2020/demo_wall_times.ipynb)    \n",
    "[![Open In Colab](https://colab.research.google.com/assets/colab-badge.svg)](https://colab.research.google.com/github/atmos-cloud-sim-uj/PyMPDATA/blob/master/PyMPDATA_examples/Olesik_et_al_2020/demo_wall_times.ipynb)"
   ]
  },
  {
   "cell_type": "code",
   "execution_count": 2,
   "metadata": {},
   "outputs": [],
   "source": [
    "import os, sys\n",
    "if 'google.colab' in sys.modules:\n",
    "    %cd /content\n",
    "    if not os.path.isdir('PyMPDATA'):\n",
    "        !git clone --depth 1 https://github.com/atmos-cloud-sim-uj/PyMPDATA.git\n",
    "    %cd PyMPDATA\n",
    "    !pip install -r requirements.txt"
   ]
  },
  {
   "cell_type": "code",
   "execution_count": 3,
   "metadata": {},
   "outputs": [],
   "source": [
    "import os, sys\n",
    "if 'google.colab' in sys.modules:\n",
    "    %cd /content/PyMPDATA\n",
    "else:\n",
    "    sys.path.insert(0, os.path.join(os.getcwd(), '../..'))"
   ]
  },
  {
   "cell_type": "code",
   "execution_count": 2,
   "metadata": {},
   "outputs": [],
   "source": [
    "from PyMPDATA_tests.smoke_tests.Olesik_et_al_2020.test_wall_time import test_wall_time"
   ]
  },
  {
   "cell_type": "code",
   "execution_count": 3,
   "metadata": {},
   "outputs": [
    {
     "name": "stdout",
     "output_type": "stream",
     "text": [
      "[0.0]\n"
     ]
    },
    {
     "name": "stderr",
     "output_type": "stream",
     "text": [
      "\n"
     ]
    },
    {
     "name": "stdout",
     "output_type": "stream",
     "text": [
      "[0.0]\n"
     ]
    },
    {
     "name": "stderr",
     "output_type": "stream",
     "text": [
      "\n"
     ]
    },
    {
     "name": "stdout",
     "output_type": "stream",
     "text": [
      "[0.009174311926605505]\n"
     ]
    },
    {
     "name": "stderr",
     "output_type": "stream",
     "text": [
      "\n"
     ]
    },
    {
     "name": "stdout",
     "output_type": "stream",
     "text": [
      "[0.009174311926605505]\n"
     ]
    },
    {
     "name": "stderr",
     "output_type": "stream",
     "text": [
      "\n"
     ]
    },
    {
     "name": "stdout",
     "output_type": "stream",
     "text": [
      "[0.0]\n"
     ]
    },
    {
     "name": "stderr",
     "output_type": "stream",
     "text": [
      "\n"
     ]
    },
    {
     "name": "stdout",
     "output_type": "stream",
     "text": [
      "[0.009174311926605505]\n"
     ]
    },
    {
     "name": "stderr",
     "output_type": "stream",
     "text": [
      "\n"
     ]
    },
    {
     "name": "stdout",
     "output_type": "stream",
     "text": [
      "[0.01834862385321101]\n",
      "\\begin\n",
      "{table}[]\n",
      "\\begin\n",
      "{tabular}\n",
      "{| l | l |}\n",
      "\\hline Variant  & Elapsed Real Time (wrt upwind) \\\\ \\hline\n",
      "\\hline {'n_iters': 1}(x_log_of_pn) & nan \\\\ \\hline\n",
      "\\hline {'n_iters': 2}(x_log_of_pn) & nan \\\\ \\hline\n",
      "\\hline {'n_iters': 2, 'infinite_gauge': True}(x_log_of_pn) & inf \\\\ \\hline\n",
      "\\hline {'n_iters': 2, 'infinite_gauge': True, 'flux_corrected_transport': True}(x_log_of_pn) & inf \\\\ \\hline\n",
      "\\hline {'n_iters': 2, 'third_order_terms': True}(x_log_of_pn) & nan \\\\ \\hline\n",
      "\\hline {'n_iters': 3}(x_log_of_pn) & inf \\\\ \\hline\n",
      "\\hline {'n_iters': 3, 'third_order_terms': True, 'infinite_gauge': True, 'flux_corrected_transport': True}(x_log_of_pn) & inf \\\\ \\hline\n",
      "\\end \n",
      " {tabular} \n",
      " \\end \n",
      " {table}\n"
     ]
    },
    {
     "name": "stderr",
     "output_type": "stream",
     "text": [
      "\n"
     ]
    }
   ],
   "source": [
    "test_wall_time(n_runs=2, mrats=[5,], generate=True, print_tab=True, rtol=.9)"
   ]
  },
  {
   "cell_type": "code",
   "execution_count": null,
   "metadata": {},
   "outputs": [],
   "source": []
  }
 ],
 "metadata": {
  "kernelspec": {
   "display_name": "Python 3",
   "language": "python",
   "name": "python3"
  },
  "language_info": {
   "codemirror_mode": {
    "name": "ipython",
    "version": 3
   },
   "file_extension": ".py",
   "mimetype": "text/x-python",
   "name": "python",
   "nbconvert_exporter": "python",
   "pygments_lexer": "ipython3",
   "version": "3.7.6"
  }
 },
 "nbformat": 4,
 "nbformat_minor": 4
}
