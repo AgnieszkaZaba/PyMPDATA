{
 "cells": [
  {
   "cell_type": "markdown",
   "metadata": {},
   "source": [
    "[![Binder](https://mybinder.org/badge_logo.svg)](https://mybinder.org/v2/gh/atmos-cloud-sim-uj/PyMPDATA.git/master?filepath=PyMPDATA_examples/Olesik_et_al_2020/demo_make_plots.ipynb)    \n",
    "[![Open In Colab](https://colab.research.google.com/assets/colab-badge.svg)](https://colab.research.google.com/github/atmos-cloud-sim-uj/PyMPDATA/blob/master/PyMPDATA_examples/Olesik_et_al_2020/demo_make_plots.ipynb)"
   ]
  },
  {
   "cell_type": "code",
   "execution_count": 1,
   "metadata": {},
   "outputs": [],
   "source": [
    "import os\n",
    "os.environ[\"NUMBA_DISABLE_JIT\"] = \"1\""
   ]
  },
  {
   "cell_type": "code",
   "execution_count": 2,
   "metadata": {},
   "outputs": [],
   "source": [
    "import os, sys\n",
    "if 'google.colab' in sys.modules:\n",
    "    %cd /content\n",
    "    if not os.path.isdir('PyMPDATA'):\n",
    "        !git clone --depth 1 https://github.com/atmos-cloud-sim-uj/PyMPDATA.git\n",
    "    %cd PyMPDATA\n",
    "    !pip install -r requirements.txt"
   ]
  },
  {
   "cell_type": "code",
   "execution_count": 3,
   "metadata": {},
   "outputs": [],
   "source": [
    "import os, sys\n",
    "if 'google.colab' in sys.modules:\n",
    "    %cd /content/PyMPDATA\n",
    "else:\n",
    "    sys.path.insert(0, os.path.join(os.getcwd(), '../..'))"
   ]
  },
  {
   "cell_type": "code",
   "execution_count": 4,
   "metadata": {},
   "outputs": [],
   "source": [
    "from PyMPDATA_examples.Olesik_et_al_2020.analysis import compute_figure_data, rel_disp, third_moment\n",
    "from PyMPDATA_examples.Olesik_et_al_2020.physics.equilibrium_drop_growth import PdfEvolver\n",
    "from PyMPDATA_examples.Olesik_et_al_2020.plotter import Plotter\n",
    "from PyMPDATA_examples.Olesik_et_al_2020.coordinates import x_id, x_p2, x_p3,  x_log_of_pn\n",
    "from PyMPDATA_examples.Olesik_et_al_2020.setup import default_opt_set, colors, default_mixing_ratios_g_kg, option_string\n",
    "from PyMPDATA_examples.utils.show_plot import show_plot\n",
    "\n",
    "import numpy as np\n",
    "import matplotlib\n",
    "from matplotlib import pyplot"
   ]
  },
  {
   "cell_type": "code",
   "execution_count": 5,
   "metadata": {},
   "outputs": [],
   "source": [
    "plot_steps = [0, 2, 5]\n",
    "def compute_and_plot(psi_coord, grid_layout, n_bins, GC_max, variants, plots, filename):\n",
    "    results, setup = compute_figure_data(\n",
    "        psi_coord=psi_coord, \n",
    "        grid_layouts=(grid_layout,),\n",
    "        nr=n_bins,\n",
    "        GC_max = GC_max,\n",
    "        opt_set=tuple(default_opt_set[variant] for variant in variants)\n",
    "    )\n",
    "    return_value = {}\n",
    "    for coord in results.keys():\n",
    "        out_steps = results[coord]['grid']['out_steps']\n",
    "        dt = results[coord]['grid']['dt']\n",
    "        plotter = Plotter(setup, plots=plots)\n",
    "        for opt_i, opts in enumerate(results[coord]['numerical'].keys()):\n",
    "            variant = variants[opt_i]\n",
    "            plot_data = results[coord]['numerical'][opts]\n",
    "            for i in range(len(out_steps)):\n",
    "                mnorm = setup.mixing_ratios[i]\n",
    "                t = out_steps[i] * dt\n",
    "                linewidth = 1.5\n",
    "                if opt_i == 0 and i in plot_steps:\n",
    "                    plotter.pdf_curve(PdfEvolver(setup.pdf, setup.drdt, t), mnorm)\n",
    "                    plotter.pdf_histogram(\n",
    "                        results[coord]['grid']['r'], \n",
    "                        results[coord]['analytical'][i], \n",
    "                        bin_boundaries = results[coord]['grid']['rh'], \n",
    "                        label='discretised analytical solution (actual dotted)', \n",
    "                        mnorm=mnorm,\n",
    "                        color='black',\n",
    "                        linewidth = linewidth\n",
    "                    )\n",
    "                    \n",
    "                opts = option_string(opts)\n",
    "\n",
    "                    \n",
    "                if variant not in return_value:\n",
    "                    return_value[variant] = {'R_d': [], 'R_m': [], 'label': opts}\n",
    "\n",
    "                if i in [0, 2, 5]: \n",
    "                    plotter.pdf_histogram(\n",
    "                        results[coord]['grid']['r'], \n",
    "                        plot_data[i], \n",
    "                        label=opts, \n",
    "                        bin_boundaries=results[coord]['grid']['rh'], \n",
    "                        linewidth = linewidth,\n",
    "                        mnorm=mnorm, color = colors[variant], fill=False\n",
    "                    )\n",
    "                \n",
    "                dp_dr = psi_coord.dx_dr(results[coord]['grid']['r'])\n",
    "                numeric_rel_d = rel_disp(results[coord]['grid']['rh'], plot_data[i]/dp_dr, psi_coord)\n",
    "                analytic_rel_d = rel_disp(results[coord]['grid']['rh'], results[coord]['analytical'][i]/dp_dr, psi_coord)\n",
    "                dispersion_ratio = (numeric_rel_d / analytic_rel_d - 1) * 100\n",
    "                return_value[variant]['R_d'].append(dispersion_ratio)\n",
    "                                \n",
    "                numeric_mass = third_moment(results[coord]['grid']['rh'], plot_data[i]/dp_dr, psi_coord, normalised=False)\n",
    "                analytic_mass = third_moment(results[coord]['grid']['rh'], results[coord]['analytical'][i]/dp_dr, psi_coord, normalised=False)\n",
    "                mass_ratio = (numeric_mass / analytic_mass - 1) * 100\n",
    "                return_value[variant]['R_m'].append(mass_ratio)\n",
    "\n",
    "        pyplot.legend(bbox_to_anchor=(0.5, -0.25), loc='upper center')\n",
    "        show_plot(filename)\n",
    "    return return_value"
   ]
  },
  {
   "cell_type": "code",
   "execution_count": 6,
   "metadata": {},
   "outputs": [],
   "source": [
    "n_bins = 75\n",
    "plot_setup_radius_square_mass_doubling = {\"psi_coord\":x_p2(), \"grid_layout\":x_log_of_pn(r0=1, base=2), \"GC_max\":.26,\"n_bins\":n_bins}\n",
    "plot_setup_radius_linear = {\"psi_coord\":x_id(), \"grid_layout\":x_id(), \"GC_max\":.07, \"n_bins\":n_bins}\n",
    "plot_setup_default = plot_setup_radius_square_mass_doubling\n",
    "table_data = []"
   ]
  },
  {
   "cell_type": "code",
   "execution_count": 7,
   "metadata": {},
   "outputs": [
    {
     "name": "stderr",
     "output_type": "stream",
     "text": [
      "[Parallel(n_jobs=-2)]: Using backend ThreadingBackend with 7 concurrent workers.\n",
      "[Parallel(n_jobs=-2)]: Done   1 tasks      | elapsed:    5.1s\n",
      "[Parallel(n_jobs=-2)]: Done   1 out of   1 | elapsed:    5.1s finished\n"
     ]
    },
    {
     "data": {
      "application/vnd.jupyter.widget-view+json": {
       "model_id": "b8ddf5f84c3343fbafbe68527f9b724c",
       "version_major": 2,
       "version_minor": 0
      },
      "text/plain": [
       "VBox(children=(Output(), HTML(value=\"<a href='../utils/output\\\\fig_upwindb.pdf' target='_blank'>../utils/outpu…"
      ]
     },
     "metadata": {},
     "output_type": "display_data"
    }
   ],
   "source": [
    "compute_and_plot(**plot_setup_radius_linear, variants=('a',), plots=['n','m'],  filename = 'fig_upwindb.pdf');"
   ]
  },
  {
   "cell_type": "code",
   "execution_count": 8,
   "metadata": {
    "scrolled": false
   },
   "outputs": [
    {
     "name": "stderr",
     "output_type": "stream",
     "text": [
      "[Parallel(n_jobs=-2)]: Using backend ThreadingBackend with 7 concurrent workers.\n",
      "[Parallel(n_jobs=-2)]: Done   1 tasks      | elapsed:    4.6s\n",
      "[Parallel(n_jobs=-2)]: Done   1 out of   1 | elapsed:    4.6s finished\n"
     ]
    },
    {
     "data": {
      "application/vnd.jupyter.widget-view+json": {
       "model_id": "ef01ce7b0e8f4b5296fec024b83d6463",
       "version_major": 2,
       "version_minor": 0
      },
      "text/plain": [
       "VBox(children=(Output(), HTML(value=\"<a href='../utils/output\\\\fig_upwinda.pdf' target='_blank'>../utils/outpu…"
      ]
     },
     "metadata": {},
     "output_type": "display_data"
    }
   ],
   "source": [
    "table_data.append(compute_and_plot(**plot_setup_default, variants=('a',), plots=['n','m'], filename = 'fig_upwinda.pdf'))"
   ]
  },
  {
   "cell_type": "code",
   "execution_count": 9,
   "metadata": {},
   "outputs": [
    {
     "name": "stderr",
     "output_type": "stream",
     "text": [
      "[Parallel(n_jobs=-2)]: Using backend ThreadingBackend with 7 concurrent workers.\n",
      "[Parallel(n_jobs=-2)]: Done   3 out of   3 | elapsed:   42.9s remaining:    0.0s\n",
      "[Parallel(n_jobs=-2)]: Done   3 out of   3 | elapsed:   42.9s finished\n"
     ]
    },
    {
     "data": {
      "application/vnd.jupyter.widget-view+json": {
       "model_id": "47d4dcad22b34737a813b0890cd52d5b",
       "version_major": 2,
       "version_minor": 0
      },
      "text/plain": [
       "VBox(children=(Output(), HTML(value=\"<a href='../utils/output\\\\fig_mpdatas.pdf' target='_blank'>../utils/outpu…"
      ]
     },
     "metadata": {},
     "output_type": "display_data"
    }
   ],
   "source": [
    "table_data.append(compute_and_plot(**plot_setup_default, variants=('a','b','g'), plots=['n'], filename = 'fig_mpdatas.pdf'))"
   ]
  },
  {
   "cell_type": "code",
   "execution_count": 10,
   "metadata": {},
   "outputs": [
    {
     "name": "stderr",
     "output_type": "stream",
     "text": [
      "[Parallel(n_jobs=-2)]: Using backend ThreadingBackend with 7 concurrent workers.\n",
      "[Parallel(n_jobs=-2)]: Done   2 out of   2 | elapsed:   23.7s remaining:    0.0s\n",
      "[Parallel(n_jobs=-2)]: Done   2 out of   2 | elapsed:   23.7s finished\n"
     ]
    },
    {
     "data": {
      "application/vnd.jupyter.widget-view+json": {
       "model_id": "f953d2eed62442e68a2c5c4b379d8255",
       "version_major": 2,
       "version_minor": 0
      },
      "text/plain": [
       "VBox(children=(Output(), HTML(value=\"<a href='../utils/output\\\\fig_iga.pdf' target='_blank'>../utils/output\\\\f…"
      ]
     },
     "metadata": {},
     "output_type": "display_data"
    }
   ],
   "source": [
    "table_data.append(compute_and_plot(**plot_setup_default, variants=('b', 'c'), plots=['n'], filename = 'fig_iga.pdf'))"
   ]
  },
  {
   "cell_type": "code",
   "execution_count": 11,
   "metadata": {
    "scrolled": false
   },
   "outputs": [
    {
     "name": "stderr",
     "output_type": "stream",
     "text": [
      "[Parallel(n_jobs=-2)]: Using backend ThreadingBackend with 7 concurrent workers.\n",
      "[Parallel(n_jobs=-2)]: Done   2 out of   2 | elapsed:   36.8s remaining:    0.0s\n",
      "[Parallel(n_jobs=-2)]: Done   2 out of   2 | elapsed:   36.8s finished\n"
     ]
    },
    {
     "data": {
      "application/vnd.jupyter.widget-view+json": {
       "model_id": "d9c24b3621c2438bb3b621c1bb620563",
       "version_major": 2,
       "version_minor": 0
      },
      "text/plain": [
       "VBox(children=(Output(), HTML(value=\"<a href='../utils/output\\\\fig_iga_fct.pdf' target='_blank'>../utils/outpu…"
      ]
     },
     "metadata": {},
     "output_type": "display_data"
    }
   ],
   "source": [
    "table_data.append(compute_and_plot(**plot_setup_default, variants=('c','d'), plots=['n'], filename = 'fig_iga_fct.pdf'))"
   ]
  },
  {
   "cell_type": "code",
   "execution_count": 12,
   "metadata": {},
   "outputs": [
    {
     "name": "stderr",
     "output_type": "stream",
     "text": [
      "[Parallel(n_jobs=-2)]: Using backend ThreadingBackend with 7 concurrent workers.\n",
      "[Parallel(n_jobs=-2)]: Done   2 out of   2 | elapsed:   55.4s remaining:    0.0s\n",
      "[Parallel(n_jobs=-2)]: Done   2 out of   2 | elapsed:   55.4s finished\n"
     ]
    },
    {
     "data": {
      "application/vnd.jupyter.widget-view+json": {
       "model_id": "392407ef89c349a9aeb848dc9591d785",
       "version_major": 2,
       "version_minor": 0
      },
      "text/plain": [
       "VBox(children=(Output(), HTML(value=\"<a href='../utils/output\\\\fig_iga_fct_dpdc.pdf' target='_blank'>../utils/…"
      ]
     },
     "metadata": {},
     "output_type": "display_data"
    }
   ],
   "source": [
    "table_data.append(compute_and_plot(**plot_setup_default, variants=('d','e'), plots=['n'], filename = 'fig_iga_fct_dpdc.pdf'))"
   ]
  },
  {
   "cell_type": "code",
   "execution_count": 13,
   "metadata": {},
   "outputs": [
    {
     "name": "stderr",
     "output_type": "stream",
     "text": [
      "[Parallel(n_jobs=-2)]: Using backend ThreadingBackend with 7 concurrent workers.\n",
      "[Parallel(n_jobs=-2)]: Done   2 out of   2 | elapsed:   57.5s remaining:    0.0s\n",
      "[Parallel(n_jobs=-2)]: Done   2 out of   2 | elapsed:   57.5s finished\n"
     ]
    },
    {
     "data": {
      "application/vnd.jupyter.widget-view+json": {
       "model_id": "c704154344b54f9782347250375d0188",
       "version_major": 2,
       "version_minor": 0
      },
      "text/plain": [
       "VBox(children=(Output(), HTML(value=\"<a href='../utils/output\\\\fig_tot.pdf' target='_blank'>../utils/output\\\\f…"
      ]
     },
     "metadata": {},
     "output_type": "display_data"
    }
   ],
   "source": [
    "table_data.append(compute_and_plot(**plot_setup_default, variants=('g','f'), plots=['n'], filename = 'fig_tot.pdf'))"
   ]
  },
  {
   "cell_type": "code",
   "execution_count": null,
   "metadata": {},
   "outputs": [
    {
     "name": "stderr",
     "output_type": "stream",
     "text": [
      "[Parallel(n_jobs=-2)]: Using backend ThreadingBackend with 7 concurrent workers.\n"
     ]
    }
   ],
   "source": [
    "table_data.append(compute_and_plot(**plot_setup_default, variants=('f','h'), plots=['n'], filename = 'fig_multiopt.pdf'))"
   ]
  },
  {
   "cell_type": "code",
   "execution_count": null,
   "metadata": {
    "scrolled": false
   },
   "outputs": [],
   "source": [
    "plot_data = {}\n",
    "for datum in table_data:\n",
    "    for key, value in datum.items():\n",
    "        plot_data[key] = value\n",
    "        \n",
    "pyplot.rcParams['xtick.bottom'] = pyplot.rcParams['xtick.labelbottom'] = False\n",
    "pyplot.rcParams['xtick.top'] = pyplot.rcParams['xtick.labeltop'] = True\n",
    "        \n",
    "def plot_measures(measure, ax, legend=False): \n",
    "    for variant, values in plot_data.items():\n",
    "        Y = default_mixing_ratios_g_kg\n",
    "        X = tuple(x.magnitude for x in values[measure])\n",
    "        ax.scatter(X, Y, label=values['label'], color=colors[variant])\n",
    "        ax.plot(X, Y, color='gray', linestyle='dotted')\n",
    "    ax.grid()\n",
    "    ax.invert_yaxis()\n",
    "    ax.set_xlabel(f'${measure}$ [%]', labelpad=-370)\n",
    "    ax.set_ylabel('mixing ratio [g kg$^{-1}$]', rotation=270, labelpad=30)\n",
    "    \n",
    "    for tl in ax.get_xticklabels():\n",
    "        tl.set_rotation(-90)\n",
    "    for tl in ax.get_yticklabels():\n",
    "        tl.set_rotation(-90)\n",
    "\n",
    "    if legend:\n",
    "        pyplot.legend(bbox_to_anchor=(+0.5, -0.15), loc='upper center')\n",
    "fig, axs = pyplot.subplots(2,1, figsize=(11,13))\n",
    "\n",
    "plot_measures('R_d', axs[0])\n",
    "plot_measures('R_m', axs[1], legend=True)\n",
    "\n",
    "show_plot('measures.pdf')"
   ]
  },
  {
   "cell_type": "code",
   "execution_count": null,
   "metadata": {},
   "outputs": [],
   "source": []
  },
  {
   "cell_type": "code",
   "execution_count": null,
   "metadata": {},
   "outputs": [],
   "source": []
  }
 ],
 "metadata": {
  "kernelspec": {
   "display_name": "Python 3",
   "language": "python",
   "name": "python3"
  },
  "language_info": {
   "codemirror_mode": {
    "name": "ipython",
    "version": 3
   },
   "file_extension": ".py",
   "mimetype": "text/x-python",
   "name": "python",
   "nbconvert_exporter": "python",
   "pygments_lexer": "ipython3",
   "version": "3.7.6"
  }
 },
 "nbformat": 4,
 "nbformat_minor": 2
}
